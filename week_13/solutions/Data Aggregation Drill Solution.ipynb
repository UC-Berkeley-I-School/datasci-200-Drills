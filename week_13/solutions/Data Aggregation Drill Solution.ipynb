{
 "cells": [
  {
   "cell_type": "markdown",
   "metadata": {},
   "source": [
    "The following cells will load the Vegas dataset."
   ]
  },
  {
   "cell_type": "code",
   "execution_count": 1,
   "metadata": {},
   "outputs": [],
   "source": [
    "import numpy as np\n",
    "import pandas as pd\n",
    "pd.options.display.float_format = '{:,.2f}'.format\n",
    "import matplotlib.pyplot as plt\n",
    "%matplotlib inline"
   ]
  },
  {
   "cell_type": "code",
   "execution_count": 2,
   "metadata": {},
   "outputs": [],
   "source": [
    "Vegas = pd.read_csv('vegas.csv')\n",
    "Vegas.columns = Vegas.columns.str.replace('\\.*\\s+', '_').str.lower()"
   ]
  },
  {
   "cell_type": "markdown",
   "metadata": {},
   "source": [
    "Group the `DataFrame` by hotel.  For each hotel, compute the net promoter score, defined here as the fraction of scores that equal 5, minus the fraction of scores that equal 1, 2, or 3."
   ]
  },
  {
   "cell_type": "code",
   "execution_count": 4,
   "metadata": {},
   "outputs": [
    {
     "data": {
      "text/plain": [
       "hotel_name\n",
       "Bellagio Las Vegas                                     0.33\n",
       "Caesars Palace                                         0.29\n",
       "Circus Circus Hotel & Casino Las Vegas                -0.46\n",
       "Encore at wynn Las Vegas                               0.62\n",
       "Excalibur Hotel & Casino                              -0.25\n",
       "Hilton Grand Vacations at the Flamingo                 0.04\n",
       "Hilton Grand Vacations on the Boulevard                0.33\n",
       "Marriott's Grand Chateau                               0.54\n",
       "Monte Carlo Resort&Casino                             -0.42\n",
       "Paris Las Vegas                                        0.17\n",
       "The Cosmopolitan Las Vegas                             0.46\n",
       "The Cromwell                                           0.25\n",
       "The Palazzo Resort Hotel Casino                        0.38\n",
       "The Venetian Las Vegas Hotel                           0.58\n",
       "The Westin las Vegas Hotel Casino & Spa               -0.04\n",
       "Treasure Island- TI Hotel & Casino                    -0.04\n",
       "Tropicana Las Vegas - A Double Tree by Hilton Hotel    0.17\n",
       "Trump International Hotel Las Vegas                    0.50\n",
       "Tuscany Las Vegas Suites & Casino                      0.25\n",
       "Wyndham Grand Desert                                   0.38\n",
       "Wynn Las Vegas                                         0.67\n",
       "Name: score, dtype: float64"
      ]
     },
     "execution_count": 4,
     "metadata": {},
     "output_type": "execute_result"
    }
   ],
   "source": [
    "Vegas.groupby(Vegas.hotel_name)['score'].agg(lambda x: (x == 5).mean() - (x<4).mean())"
   ]
  },
  {
   "cell_type": "code",
   "execution_count": null,
   "metadata": {},
   "outputs": [],
   "source": []
  }
 ],
 "metadata": {
  "kernelspec": {
   "display_name": "Python 3",
   "language": "python",
   "name": "python3"
  },
  "language_info": {
   "codemirror_mode": {
    "name": "ipython",
    "version": 3
   },
   "file_extension": ".py",
   "mimetype": "text/x-python",
   "name": "python",
   "nbconvert_exporter": "python",
   "pygments_lexer": "ipython3",
   "version": "3.6.1"
  }
 },
 "nbformat": 4,
 "nbformat_minor": 2
}
