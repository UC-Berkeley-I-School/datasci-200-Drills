{
 "cells": [
  {
   "cell_type": "markdown",
   "metadata": {},
   "source": [
    "### Basic Functions Drill\n",
    "\n",
    "For this exercise please make single functions that return the required information."
   ]
  },
  {
   "cell_type": "markdown",
   "metadata": {},
   "source": [
    "1) Make a function that takes a word, makes it lower case and strips out any characters that arent letters.\n",
    "\n",
    "Example: `Don't` \n",
    "\n",
    "Returns: `dont`"
   ]
  },
  {
   "cell_type": "code",
   "execution_count": null,
   "metadata": {},
   "outputs": [],
   "source": [
    "# your code here"
   ]
  },
  {
   "cell_type": "markdown",
   "metadata": {},
   "source": [
    "2) Code a function that counts the number of vowels (aeiou) and consonants (rest of the letters) in a word and returns those in a dictionary with keys: vowel_num, cons_num\n",
    "\n",
    "Example: \n",
    "`'elephant'`\n",
    "\n",
    "Returns:\n",
    "`{'vowel_num': 3, 'cons_num': 5}`"
   ]
  },
  {
   "cell_type": "code",
   "execution_count": null,
   "metadata": {},
   "outputs": [],
   "source": [
    "# your code here"
   ]
  },
  {
   "cell_type": "markdown",
   "metadata": {},
   "source": [
    "3) Design a function that finds the max score of the items in score_dict and returns that item and its max score in a tuple.\n",
    "\n",
    "In the example dict below the function would return `('type_4', 10)`"
   ]
  },
  {
   "cell_type": "code",
   "execution_count": null,
   "metadata": {},
   "outputs": [],
   "source": [
    "score_dict = {'type_1': [1,2,3,4,5], 'type_2': [1,2,3,4,7], 'type_3': [2,3,4,6,7], 'type_4': [10,2,3,4,5]}\n",
    "\n",
    "# your code here"
   ]
  }
 ],
 "metadata": {
  "kernelspec": {
   "display_name": "Python 3",
   "language": "python",
   "name": "python3"
  },
  "language_info": {
   "codemirror_mode": {
    "name": "ipython",
    "version": 3
   },
   "file_extension": ".py",
   "mimetype": "text/x-python",
   "name": "python",
   "nbconvert_exporter": "python",
   "pygments_lexer": "ipython3",
   "version": "3.8.11"
  }
 },
 "nbformat": 4,
 "nbformat_minor": 4
}
