{
 "cells": [
  {
   "cell_type": "markdown",
   "metadata": {},
   "source": [
    "## Exceptions\n",
    "\n",
    "This drill has multiple parts to help you practice exceptions.  Sample answers are in a separate folder with an explanation (there might be multiple ways to solve a problem though!) "
   ]
  },
  {
   "cell_type": "markdown",
   "metadata": {},
   "source": [
    "1) Use a \"try\" / \"except\" block to prvent the code below from breaking. Do not modify \"my_list\"."
   ]
  },
  {
   "cell_type": "code",
   "execution_count": 1,
   "metadata": {},
   "outputs": [
    {
     "name": "stdout",
     "output_type": "stream",
     "text": [
      "2\n",
      "4\n",
      "6\n",
      "8\n",
      "appleapple\n",
      "['sub', 'list', 'sub', 'list']\n"
     ]
    },
    {
     "ename": "TypeError",
     "evalue": "unsupported operand type(s) for *: 'dict' and 'int'",
     "output_type": "error",
     "traceback": [
      "\u001b[1;31m---------------------------------------------------------------------------\u001b[0m",
      "\u001b[1;31mTypeError\u001b[0m                                 Traceback (most recent call last)",
      "\u001b[1;32m<ipython-input-1-c326c02f1dfa>\u001b[0m in \u001b[0;36m<module>\u001b[1;34m\u001b[0m\n\u001b[0;32m      2\u001b[0m \u001b[1;33m\u001b[0m\u001b[0m\n\u001b[0;32m      3\u001b[0m \u001b[1;32mfor\u001b[0m \u001b[0mitem\u001b[0m \u001b[1;32min\u001b[0m \u001b[0mmy_list\u001b[0m\u001b[1;33m:\u001b[0m\u001b[1;33m\u001b[0m\u001b[1;33m\u001b[0m\u001b[0m\n\u001b[1;32m----> 4\u001b[1;33m     \u001b[0mitem\u001b[0m \u001b[1;33m=\u001b[0m \u001b[0mitem\u001b[0m \u001b[1;33m*\u001b[0m \u001b[1;36m2\u001b[0m\u001b[1;33m\u001b[0m\u001b[1;33m\u001b[0m\u001b[0m\n\u001b[0m\u001b[0;32m      5\u001b[0m     \u001b[0mprint\u001b[0m\u001b[1;33m(\u001b[0m\u001b[0mitem\u001b[0m\u001b[1;33m)\u001b[0m\u001b[1;33m\u001b[0m\u001b[1;33m\u001b[0m\u001b[0m\n",
      "\u001b[1;31mTypeError\u001b[0m: unsupported operand type(s) for *: 'dict' and 'int'"
     ]
    }
   ],
   "source": [
    "my_list = [1, 2, 3, 4, \"apple\", ['sub','list'], {'dictionary':'too', 'why':'whynot?'}, 3, 4]\n",
    "\n",
    "for item in my_list:\n",
    "    item = item * 2\n",
    "    print(item)"
   ]
  },
  {
   "cell_type": "code",
   "execution_count": 2,
   "metadata": {},
   "outputs": [
    {
     "name": "stdout",
     "output_type": "stream",
     "text": [
      "2\n",
      "4\n",
      "6\n",
      "8\n",
      "appleapple\n",
      "['sub', 'list', 'sub', 'list']\n",
      "6\n",
      "8\n"
     ]
    }
   ],
   "source": [
    "my_list = [1, 2, 3, 4, \"apple\", ['sub','list'], {'dictionary':'too', 'why':'whynot?'}, 3, 4]\n",
    "\n",
    "for item in my_list:\n",
    "    try:\n",
    "        item = item * 2\n",
    "        print(item)\n",
    "    except:\n",
    "        continue"
   ]
  },
  {
   "cell_type": "markdown",
   "metadata": {},
   "source": [
    "2) Update your solution to add a message to tell the user what kind of error happened. Use the \"except Exception as e:\" framework."
   ]
  },
  {
   "cell_type": "code",
   "execution_count": 3,
   "metadata": {},
   "outputs": [
    {
     "name": "stdout",
     "output_type": "stream",
     "text": [
      "2\n",
      "4\n",
      "6\n",
      "8\n",
      "appleapple\n",
      "['sub', 'list', 'sub', 'list']\n",
      "Error occured.  Description: unsupported operand type(s) for *: 'dict' and 'int'\n",
      "6\n",
      "8\n"
     ]
    }
   ],
   "source": [
    "my_list = [1, 2, 3, 4, \"apple\", ['sub','list'], {'dictionary':'too', 'why':'whynot?'}, 3, 4]\n",
    "\n",
    "for item in my_list:\n",
    "    try:\n",
    "        item = item * 2\n",
    "        print(item)\n",
    "    except Exception as e:\n",
    "        print(\"Error occured.  Description: {}\".format(str(e)))"
   ]
  },
  {
   "cell_type": "markdown",
   "metadata": {},
   "source": [
    "3) Let's try an example more similar to the real-world! Pretend that below we have a list that contains the output from some code that scrapes websites. The code returns a valid HTML string, an invalid pull, or a text string with a 404 error code.  \n",
    "\n",
    "Write code that loops through each site and uses the \"replace\" function to clean up  tags '\\<html\\>' and '\\</html\\>'.  When your code encounters a \"404\" error, instead print \"WARNING: Encountered 404 Error\".  Use try/except to protect against invalid data when running your \".replace\" function.  Have this exception print \"ERROR: Invalid data returned\"."
   ]
  },
  {
   "cell_type": "code",
   "execution_count": 4,
   "metadata": {},
   "outputs": [],
   "source": [
    "websites = [\"<html> Stuff! </html>\",\"<html> Other Stuff! </html>\",\n",
    "            \"404 Error - Page Not Found\",\"<html> Valid Stuff! </html>\",1231,\n",
    "            \"<html> Stuff! </html>\",\"<html> Valid Stuff! </html>\"]"
   ]
  },
  {
   "cell_type": "code",
   "execution_count": 5,
   "metadata": {},
   "outputs": [
    {
     "name": "stdout",
     "output_type": "stream",
     "text": [
      "Stuff!\n",
      "Other Stuff!\n",
      "WARNING: Encountered 404 Error\n",
      "Valid Stuff!\n",
      "ERROR: Invalid data returned\n",
      "Stuff!\n",
      "Valid Stuff!\n"
     ]
    }
   ],
   "source": [
    "for site in websites:\n",
    "    try:\n",
    "        site = site.replace(\"<html>\",'').replace(\"</html>\",'').strip()\n",
    "        if site[:3] == \"404\":\n",
    "            print(\"WARNING: Encountered 404 Error\")\n",
    "        else:\n",
    "            print(site)\n",
    "    except:\n",
    "        print(\"ERROR: Invalid data returned\")"
   ]
  }
 ],
 "metadata": {
  "kernelspec": {
   "display_name": "Python 3",
   "language": "python",
   "name": "python3"
  },
  "language_info": {
   "codemirror_mode": {
    "name": "ipython",
    "version": 3
   },
   "file_extension": ".py",
   "mimetype": "text/x-python",
   "name": "python",
   "nbconvert_exporter": "python",
   "pygments_lexer": "ipython3",
   "version": "3.8.11"
  }
 },
 "nbformat": 4,
 "nbformat_minor": 2
}
