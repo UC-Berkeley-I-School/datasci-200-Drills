{
 "cells": [
  {
   "cell_type": "markdown",
   "metadata": {},
   "source": [
    "### Basic Functions Drill\n",
    "\n",
    "For this exercise please make single functions that return the required information."
   ]
  },
  {
   "cell_type": "markdown",
   "metadata": {},
   "source": [
    "1) Make a function that takes a word, makes it lower case and strips out any characters that arent letters.\n",
    "\n",
    "Example: `Don't` \n",
    "\n",
    "Returns: `dont`"
   ]
  },
  {
   "cell_type": "code",
   "execution_count": 1,
   "metadata": {},
   "outputs": [
    {
     "data": {
      "text/plain": [
       "'dont'"
      ]
     },
     "execution_count": 1,
     "metadata": {},
     "output_type": "execute_result"
    }
   ],
   "source": [
    "def word_parse(word):\n",
    "    \"\"\"\n",
    "    This function takes a word and returns a new word that is lowercase and \n",
    "    strips out any characters that aren't letters\n",
    "    Args:\n",
    "      word: str. A word to parse\n",
    "    Returns:\n",
    "      str. The parsed word\n",
    "    \"\"\"\n",
    "    \n",
    "    word = word.lower()\n",
    "    new_word = ''\n",
    "    for ltr in word:\n",
    "        if ltr in 'abcdefghijklmnopqrstuvwxyz':\n",
    "            new_word += ltr\n",
    "    return new_word\n",
    "\n",
    "\n",
    "word_parse(\"Don't\")"
   ]
  },
  {
   "cell_type": "markdown",
   "metadata": {},
   "source": [
    "2) Code a function that counts the number of vowels (aeiou) and consonants (rest of the letters) in a word and returns those in a dictionary with keys: vowel_num, cons_num\n",
    "\n",
    "Example: \n",
    "`'elephant'`\n",
    "\n",
    "Returns:\n",
    "`{'vowel_num': 3, 'cons_num': 5}`"
   ]
  },
  {
   "cell_type": "code",
   "execution_count": 2,
   "metadata": {},
   "outputs": [
    {
     "data": {
      "text/plain": [
       "{'vowel_num': 3, 'cons_num': 5}"
      ]
     },
     "execution_count": 2,
     "metadata": {},
     "output_type": "execute_result"
    }
   ],
   "source": [
    "def char_count(word):\n",
    "    \"\"\"\n",
    "    This function takes a word and counts the number of vowels and consonants in that word\n",
    "    Args:\n",
    "      word: str. A word to count vowels/consonants\n",
    "    Returns:\n",
    "      dict. A dictionary with counts for the number of vowels and consonants\n",
    "    \"\"\"\n",
    "    \n",
    "    word = word.lower()\n",
    "    count_dict={'vowel_num':0, 'cons_num':0}\n",
    "    for ltr in word:\n",
    "        if ltr in 'bcdfghjklmnpqrstvwxyz':\n",
    "            count_dict['cons_num'] += 1\n",
    "        elif ltr in 'aeiou':\n",
    "            count_dict['vowel_num'] += 1\n",
    "            \n",
    "    return count_dict\n",
    "\n",
    "char_count('elephant')"
   ]
  },
  {
   "cell_type": "markdown",
   "metadata": {},
   "source": [
    "3) Design a function that finds the max score of the items in score_dict and returns that item and its max score in a tuple.\n",
    "\n",
    "In the example dict below the function would return `('type_4', 10)`"
   ]
  },
  {
   "cell_type": "code",
   "execution_count": 3,
   "metadata": {},
   "outputs": [
    {
     "data": {
      "text/plain": [
       "('type_4', 10)"
      ]
     },
     "execution_count": 3,
     "metadata": {},
     "output_type": "execute_result"
    }
   ],
   "source": [
    "score_dict = {'type_1': [1,2,3,4,5], 'type_2': [1,2,3,4,7], 'type_3': [2,3,4,6,7], 'type_4': [10,2,3,4,5]}\n",
    "\n",
    "def max_score(s_dict):\n",
    "    \"\"\"\n",
    "    This function takes a dictionary and returns the item with the max score in a tuple \n",
    "    Args:\n",
    "      s_dict: dict: A dictionary of the keys as the items and the values a list of scores for that item\n",
    "    Returns:\n",
    "      tuple. A tuple of the item with the max score like: (item, max_score)\n",
    "    \"\"\"\n",
    "    \n",
    "    max_tuple = ('', 0)\n",
    "    for key in s_dict:\n",
    "        max_num = max(s_dict[key])\n",
    "        if max_num > max_tuple[1]:\n",
    "            max_tuple = (key, max_num)\n",
    "    return max_tuple        \n",
    "        \n",
    "max_score(score_dict)"
   ]
  }
 ],
 "metadata": {
  "kernelspec": {
   "display_name": "Python 3",
   "language": "python",
   "name": "python3"
  },
  "language_info": {
   "codemirror_mode": {
    "name": "ipython",
    "version": 3
   },
   "file_extension": ".py",
   "mimetype": "text/x-python",
   "name": "python",
   "nbconvert_exporter": "python",
   "pygments_lexer": "ipython3",
   "version": "3.8.11"
  }
 },
 "nbformat": 4,
 "nbformat_minor": 4
}
