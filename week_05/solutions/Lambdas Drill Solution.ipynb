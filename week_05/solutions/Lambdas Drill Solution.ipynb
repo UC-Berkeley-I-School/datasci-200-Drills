{
 "cells": [
  {
   "cell_type": "markdown",
   "metadata": {},
   "source": [
    "## Lambda functions\n",
    "\n",
    "This drill has multiple parts to help you practice lambda functions. Sample answers are in a separate folder with an explanation (there might be multiple ways to solve a problem though!) "
   ]
  },
  {
   "cell_type": "markdown",
   "metadata": {},
   "source": [
    "Lambda (or anonymous) functions in python are special short-hand functions which are defined using the *lambda* keyword. Their compact notation helps us write compact and readable code. <br>\n",
    "The basic lambda notation looks like *lambda* &lt;arguments&gt; : &lt;expression&gt;. <br>\n",
    "Below we show two equivalent functions declared using *def* and *lambda*"
   ]
  },
  {
   "cell_type": "code",
   "execution_count": 1,
   "metadata": {},
   "outputs": [
    {
     "name": "stdout",
     "output_type": "stream",
     "text": [
      "1000\n",
      "1000\n"
     ]
    }
   ],
   "source": [
    "#A quick comparison in notation between normal and lambda functions\n",
    "def cube(x):\n",
    "    \"\"\"returns the cube of a number\"\"\"\n",
    "    return x**3\n",
    "\n",
    "lambda_cube = lambda x: x**3\n",
    "\n",
    "print(cube(10))\n",
    "print(lambda_cube(10))"
   ]
  },
  {
   "cell_type": "markdown",
   "metadata": {},
   "source": [
    "### Basic Notation\n",
    "\n",
    "Convert the functions below to lambda expressions"
   ]
  },
  {
   "cell_type": "code",
   "execution_count": 2,
   "metadata": {},
   "outputs": [],
   "source": [
    "# single argument single expression\n",
    "def is_even(x):\n",
    "    \"\"\"returns true if number is eveb\"\"\"\n",
    "    return x%2 == 0\n",
    "\n",
    "#your code here\n",
    "is_even_2 = lambda x: x%2 ==0"
   ]
  },
  {
   "cell_type": "code",
   "execution_count": 3,
   "metadata": {},
   "outputs": [],
   "source": [
    "# reducing compound expressions\n",
    "def is_odd(x):\n",
    "    \"\"\"retruns true if number is odd\"\"\"\n",
    "    if x != 0:\n",
    "        if x % 2 != 0:\n",
    "            return True\n",
    "    return False\n",
    "\n",
    "# Is there a more efficient/compact way of writing the function above? Remember, lambda accepts only a single expression\n",
    "# your code here\n",
    "is_odd_2 = lambda x: x !=0 and x%2 !=0"
   ]
  },
  {
   "cell_type": "code",
   "execution_count": 4,
   "metadata": {},
   "outputs": [],
   "source": [
    "# lambda accepts more than one argumnet\n",
    "def mult(x,y):\n",
    "    return x*y\n",
    "\n",
    "# your code here\n",
    "mult_2 = lambda x,y: x*y"
   ]
  },
  {
   "cell_type": "code",
   "execution_count": 5,
   "metadata": {},
   "outputs": [],
   "source": [
    "# operations on lists\n",
    "\n",
    "def square_list(list_):\n",
    "    \"\"\"returns a list with squares of original list\"\"\"\n",
    "    new_list = []\n",
    "    for num in list_:\n",
    "        new_list.append(num**2)\n",
    "    return new_list\n",
    "\n",
    "# what compact syntax have we learned which can iterate and return lists in one line?\n",
    "# your code here\n",
    "square_list_2 = lambda list_: [num**2 for num in list_]"
   ]
  },
  {
   "cell_type": "code",
   "execution_count": 6,
   "metadata": {},
   "outputs": [],
   "source": [
    "# operations on lists\n",
    "\n",
    "def avg(list_):\n",
    "    \"\"\"returns the average of a list\"\"\"\n",
    "    total = 0\n",
    "    for num in list_:\n",
    "        total += num\n",
    "    return total/len(list_)\n",
    "\n",
    "# hint: you can call functions inside of lambda (don't call avg though!)\n",
    "# your code here\n",
    "avg_2 = lambda list_: sum(list_)/len(list_)"
   ]
  },
  {
   "cell_type": "markdown",
   "metadata": {},
   "source": [
    "In some cases, we would need to use and if/else statement inside of a lambda, this can be acheived with the ternary operator"
   ]
  },
  {
   "cell_type": "code",
   "execution_count": 7,
   "metadata": {},
   "outputs": [
    {
     "name": "stdout",
     "output_type": "stream",
     "text": [
      "You're eligible for a discount\n"
     ]
    }
   ],
   "source": [
    "# Ternary operator example, the below shows compact notation for evaluating an if / else statement\n",
    "age = 16\n",
    "msg = \"You're eligible for a discount\" if age <=18 else \"You're not eligible for a discount\"\n",
    "print(msg)"
   ]
  },
  {
   "cell_type": "code",
   "execution_count": 8,
   "metadata": {},
   "outputs": [],
   "source": [
    "# Ternary operators\n",
    "def parity_sym(x):\n",
    "    \"\"\"returns '*' if x is even, '-' otherwise\"\"\"\n",
    "    if x%2 ==0:\n",
    "        return \"*\"\n",
    "    else:\n",
    "        return \"-\"\n",
    "\n",
    "# your code here\n",
    "parity_sym_2 = lambda x: \"*\" if x%2 == 0 else \"-\""
   ]
  }
 ],
 "metadata": {
  "interpreter": {
   "hash": "3c4e55527cbca156f54dd732e09cf104899da0853f179778e68ed2f1f5349c9d"
  },
  "kernelspec": {
   "display_name": "Python 3",
   "language": "python",
   "name": "python3"
  },
  "language_info": {
   "codemirror_mode": {
    "name": "ipython",
    "version": 3
   },
   "file_extension": ".py",
   "mimetype": "text/x-python",
   "name": "python",
   "nbconvert_exporter": "python",
   "pygments_lexer": "ipython3",
   "version": "3.8.11"
  }
 },
 "nbformat": 4,
 "nbformat_minor": 4
}
