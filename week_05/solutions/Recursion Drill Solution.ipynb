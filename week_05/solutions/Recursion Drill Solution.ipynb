{
 "cells": [
  {
   "cell_type": "markdown",
   "metadata": {},
   "source": [
    "## Recursion\n",
    "\n",
    "This drill has multiple parts, to help you build recursive code.  Sample answers are in a separate folder with an explanation (there might be multiple ways to solve a problem though!) \n"
   ]
  },
  {
   "cell_type": "markdown",
   "metadata": {},
   "source": [
    "1) We are going to build recursive code to find the prime factors of any number!  First, let's identify our base case.  When is a number prime?\n",
    "\n",
    "Write a function called \"checkPrime\" that takes an argument \"num\" and checks to see if \"num\" is prime.  Using a while loop, set x = 2 and increase x by 1 until you find a value that num is divisible by.  \n",
    "\n",
    "If num is prime, return \"Prime!\"  If num is not prime, return \"Not Prime!\"."
   ]
  },
  {
   "cell_type": "code",
   "execution_count": 1,
   "metadata": {},
   "outputs": [],
   "source": [
    "def checkPrime(num):\n",
    "    \n",
    "    x = 2\n",
    "    while x < num and num % x != 0:\n",
    "        x += 1\n",
    "    \n",
    "    if x == num:\n",
    "        return \"Prime!\"\n",
    "    else:\n",
    "        return \"Not Prime!\"\n"
   ]
  },
  {
   "cell_type": "code",
   "execution_count": 2,
   "metadata": {},
   "outputs": [],
   "source": [
    "print(checkPrime(7))\n",
    "print(checkPrime(10))"
   ]
  },
  {
   "cell_type": "markdown",
   "metadata": {},
   "source": [
    "2) Now, let's update our function to make our base case return the prime number itself.  As we will ultimately want to output a list of all prime factors, let's return the prime number in a list.  Continue to return \"Not Prime!\" for non-prime numbers."
   ]
  },
  {
   "cell_type": "code",
   "execution_count": 3,
   "metadata": {},
   "outputs": [],
   "source": [
    "def checkPrime(num):\n",
    "    \n",
    "    x = 2\n",
    "    while x < num and num % x != 0:\n",
    "        x += 1\n",
    "    \n",
    "    if x == num:\n",
    "        return [num]\n",
    "    else: \n",
    "        return \"Not Prime!\""
   ]
  },
  {
   "cell_type": "code",
   "execution_count": 4,
   "metadata": {},
   "outputs": [
    {
     "name": "stdout",
     "output_type": "stream",
     "text": [
      "[7]\n",
      "Not Prime!\n"
     ]
    }
   ],
   "source": [
    "print(checkPrime(7))\n",
    "print(checkPrime(10))"
   ]
  },
  {
   "cell_type": "markdown",
   "metadata": {},
   "source": [
    "3) Finally, let's add recursion!  Instead of returning \"Not Prime!\", let's call our checkPrime function.  You will need to call it twice, and concatenate together the resulting lists using the \"+\" symbol.  Think: what arguments should you use in your function calls?\n",
    "\n",
    "Hint: You may need to use the \"int\" function to convert the result of division from a float that ends in \"x.0\" to an integer."
   ]
  },
  {
   "cell_type": "code",
   "execution_count": 5,
   "metadata": {},
   "outputs": [],
   "source": [
    "def checkPrime(num):\n",
    "    \n",
    "    x = 2\n",
    "    while x < num and num % x != 0:\n",
    "        x += 1\n",
    "    \n",
    "    if x == num:\n",
    "        return [num]\n",
    "    else: \n",
    "        return checkPrime(x) + checkPrime(int(num / x))"
   ]
  },
  {
   "cell_type": "code",
   "execution_count": 6,
   "metadata": {},
   "outputs": [
    {
     "name": "stdout",
     "output_type": "stream",
     "text": [
      "[7]\n",
      "[2, 5]\n",
      "[5, 5]\n",
      "[2, 7, 7]\n"
     ]
    }
   ],
   "source": [
    "print(checkPrime(7))\n",
    "print(checkPrime(10))\n",
    "print(checkPrime(25))\n",
    "print(checkPrime(98))"
   ]
  }
 ],
 "metadata": {
  "kernelspec": {
   "display_name": "Python 3",
   "language": "python",
   "name": "python3"
  },
  "language_info": {
   "codemirror_mode": {
    "name": "ipython",
    "version": 3
   },
   "file_extension": ".py",
   "mimetype": "text/x-python",
   "name": "python",
   "nbconvert_exporter": "python",
   "pygments_lexer": "ipython3",
   "version": "3.8.11"
  }
 },
 "nbformat": 4,
 "nbformat_minor": 2
}
