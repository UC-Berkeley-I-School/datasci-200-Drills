{
 "cells": [
  {
   "cell_type": "markdown",
   "metadata": {},
   "source": [
    "## Nesting Functions\n",
    "\n",
    "Sample answers are in a separate folder with an explanation (there might be multiple ways to solve a problem though!) \n"
   ]
  },
  {
   "cell_type": "markdown",
   "metadata": {},
   "source": [
    "1) Write a function named \"hello\" that prints \"Hello World!\" whenever it is run. Run the function."
   ]
  },
  {
   "cell_type": "code",
   "execution_count": 1,
   "metadata": {},
   "outputs": [],
   "source": [
    "def hello():\n",
    "    print(\"Hello World!\")\n",
    "    \n",
    "hello()"
   ]
  },
  {
   "cell_type": "markdown",
   "metadata": {},
   "source": [
    "2) Change your function named \"hello\" to take a single argument, called \"person\", then prints \"Hello [person]!\" whenever it is called. Run the function."
   ]
  },
  {
   "cell_type": "code",
   "execution_count": 2,
   "metadata": {},
   "outputs": [],
   "source": [
    "def hello(person):\n",
    "    print(f\"Hello {person}\")\n",
    "    \n",
    "hello(\"MIDS Students\")"
   ]
  },
  {
   "cell_type": "markdown",
   "metadata": {},
   "source": [
    "3) Write a function called \"greetings\".  Have it take two arguments, called \"person1\" and \"person2\".  This function should call your function from Part 2 above twice, using each person as an argument. Call your function."
   ]
  },
  {
   "cell_type": "code",
   "execution_count": 3,
   "metadata": {},
   "outputs": [],
   "source": [
    "def greetings(person1, person2):\n",
    "    hello(person1)\n",
    "    hello(person2)\n",
    "    \n",
    "greetings(\"teacher\", \"students\")"
   ]
  },
  {
   "cell_type": "markdown",
   "metadata": {},
   "source": [
    "4a) Write a function that multiplies every element of a list by itself, then returns the new list.  \n",
    "4b) Then, write a version that uses a comprehension inside of the function."
   ]
  },
  {
   "cell_type": "code",
   "execution_count": 4,
   "metadata": {},
   "outputs": [
    {
     "name": "stdout",
     "output_type": "stream",
     "text": [
      "[1, 4, 9, 16]\n"
     ]
    }
   ],
   "source": [
    "def list_squarer(my_list):\n",
    "    new_list = []\n",
    "    for item in my_list:\n",
    "        new_list.append(item**2)\n",
    "        \n",
    "    return(new_list)\n",
    "\n",
    "this_list = [1,2,3,4]\n",
    "next_list = list_squarer(this_list)\n",
    "print(next_list)"
   ]
  },
  {
   "cell_type": "code",
   "execution_count": 5,
   "metadata": {},
   "outputs": [
    {
     "name": "stdout",
     "output_type": "stream",
     "text": [
      "[1, 4, 9, 16]\n"
     ]
    }
   ],
   "source": [
    "def list_squarer_comp(my_list):\n",
    "    return [x**2 for x in my_list]\n",
    "\n",
    "print(list_squarer_comp([1,2,3,4]))"
   ]
  }
 ],
 "metadata": {
  "kernelspec": {
   "display_name": "Python 3",
   "language": "python",
   "name": "python3"
  },
  "language_info": {
   "codemirror_mode": {
    "name": "ipython",
    "version": 3
   },
   "file_extension": ".py",
   "mimetype": "text/x-python",
   "name": "python",
   "nbconvert_exporter": "python",
   "pygments_lexer": "ipython3",
   "version": "3.8.11"
  }
 },
 "nbformat": 4,
 "nbformat_minor": 2
}
