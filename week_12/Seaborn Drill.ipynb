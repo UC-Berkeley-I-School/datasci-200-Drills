{
 "cells": [
  {
   "cell_type": "markdown",
   "metadata": {},
   "source": [
    "# Seaborn - Plotting with Python\n",
    "\n",
    "### Python and Plotting\n",
    "Plotting data is facilitated using a number of tools - python's own drawing tools and a many libraries & plug-ins. In this drill, we explore a number of plot actions for a basis and then integrate data that you manipulate with numpy and pandas.\n",
    "\n",
    "### Helpful Tools\n",
    "There are lots of helpful tools and demos in GitHub, some of which have been used in this drill set.  Some most common plotting examples: bar plot, scatter, line plots, histograms, and (others).\n",
    "\n",
    "### Why visualize?\n",
    "The main points of visualizing data is to communicate to the viewer (a) trends in the data, group membership (and when a member of one group intersects with another), unusual \"events\" or \"interesting events\" that warrant futher investigation, and an understanding of both the big picture of the data and the subsets (or clusters, classifications) that collectively tell a compelling story.  Adding interactivity either programmatically moving the data over a timeline or letting the user select details-on-demand really underscores the communicative goal of your cool programming."
   ]
  },
  {
   "cell_type": "markdown",
   "metadata": {},
   "source": [
    "## Data prep\n",
    "\n",
    "1) Import numpy, pandas, matplotlib and seaborn\n",
    "2) Load the file \"travelData.csv\" - this is a file of world travel data from the The World Bank https://data.worldbank.org/indicator/ST.INT.ARVL.\n",
    "\n",
    "3) Do some quick exploration of the data like what are the columns and rows?\n"
   ]
  },
  {
   "cell_type": "code",
   "execution_count": null,
   "metadata": {},
   "outputs": [],
   "source": []
  },
  {
   "cell_type": "markdown",
   "metadata": {},
   "source": [
    "### Bar Chart\n",
    "\n",
    "Use Seaborn to make a bar chart showing the top 10 countries with the most travelers for the year 2016."
   ]
  },
  {
   "cell_type": "code",
   "execution_count": null,
   "metadata": {},
   "outputs": [],
   "source": []
  },
  {
   "cell_type": "markdown",
   "metadata": {},
   "source": [
    "### Scatterplot\n",
    "\n",
    "Let's add some more data to our analysis - load the file named 'ruralPop.csv'. \n",
    "\n",
    "Using both files, plot a scatterplot with the x-axis being the rural pop of the nation and the y-axis being the # of travelers from that nation for the year 2016. \n",
    "\n",
    "- Hint: merge the datasets on the 'Code' / 'Country Code' field"
   ]
  },
  {
   "cell_type": "code",
   "execution_count": null,
   "metadata": {},
   "outputs": [],
   "source": []
  },
  {
   "cell_type": "markdown",
   "metadata": {},
   "source": [
    "### Heatmap\n",
    "\n",
    "Finally, make a heat map with the top 10 countries (found above in the bar chart) on the y-axis and the years 2000-2016 on the x-axis."
   ]
  },
  {
   "cell_type": "code",
   "execution_count": null,
   "metadata": {},
   "outputs": [],
   "source": []
  }
 ],
 "metadata": {
  "kernelspec": {
   "display_name": "Python 3",
   "language": "python",
   "name": "python3"
  },
  "language_info": {
   "codemirror_mode": {
    "name": "ipython",
    "version": 3
   },
   "file_extension": ".py",
   "mimetype": "text/x-python",
   "name": "python",
   "nbconvert_exporter": "python",
   "pygments_lexer": "ipython3",
   "version": "3.6.8"
  }
 },
 "nbformat": 4,
 "nbformat_minor": 2
}
