{
 "cells": [
  {
   "cell_type": "markdown",
   "metadata": {},
   "source": [
    "### Colors Lines and Legends Drill\n",
    "\n",
    "For this drill, let's look at the average rainfall in Singapore over the last 5 years (2016-2020). The dataset is in this folder named: `Singapore_Monthly_Rainfall.csv`\n",
    "\n",
    "Requirements for the chart:\n",
    "\n",
    "- One line chart with 5 lines - 1 line for each year\n",
    "  - Each line has its own color\n",
    "- Y-axis is mm per month\n",
    "- X-axis is each month\n",
    "- Legend that links color to year\n",
    "\n",
    "Note: You will have to do some data wrangling as currently the dataset comes with month/year combined in the same column!\n",
    "\n",
    "Use as many cells as needed below for your chart!"
   ]
  },
  {
   "cell_type": "code",
   "execution_count": null,
   "metadata": {},
   "outputs": [],
   "source": []
  }
 ],
 "metadata": {
  "kernelspec": {
   "display_name": "Python 3",
   "language": "python",
   "name": "python3"
  },
  "language_info": {
   "codemirror_mode": {
    "name": "ipython",
    "version": 3
   },
   "file_extension": ".py",
   "mimetype": "text/x-python",
   "name": "python",
   "nbconvert_exporter": "python",
   "pygments_lexer": "ipython3",
   "version": "3.8.11"
  }
 },
 "nbformat": 4,
 "nbformat_minor": 4
}
