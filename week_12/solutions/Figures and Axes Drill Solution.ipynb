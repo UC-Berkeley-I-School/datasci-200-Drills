{
 "cells": [
  {
   "cell_type": "markdown",
   "metadata": {},
   "source": [
    "## Figures and Axes Drill\n",
    "\n",
    "\n",
    "The dataset is looking at the size of a building's solar array (in kw) vs the size of the building (in sqft).\n",
    "The data was obtained (and heavily modified) from: https://catalog.data.gov/dataset/solar-on-city-facilities\n",
    "\n",
    "For this drill, make 2 charts one on top of the other. \n",
    "\n",
    "The top chart will be a histogram of the size of the solar array with requirements:\n",
    "- Bins small enough to see the different size \n",
    "- Add a vertical line to show the mean of the size\n",
    "\n",
    "The bottom chart will be a scatter plot of:\n",
    "- Building size on the x-axis\n",
    "- Solar array size on the y-axis\n"
   ]
  },
  {
   "cell_type": "code",
   "execution_count": 1,
   "metadata": {},
   "outputs": [
    {
     "data": {
      "text/html": [
       "<div>\n",
       "<style scoped>\n",
       "    .dataframe tbody tr th:only-of-type {\n",
       "        vertical-align: middle;\n",
       "    }\n",
       "\n",
       "    .dataframe tbody tr th {\n",
       "        vertical-align: top;\n",
       "    }\n",
       "\n",
       "    .dataframe thead th {\n",
       "        text-align: right;\n",
       "    }\n",
       "</style>\n",
       "<table border=\"1\" class=\"dataframe\">\n",
       "  <thead>\n",
       "    <tr style=\"text-align: right;\">\n",
       "      <th></th>\n",
       "      <th>Solar_kW</th>\n",
       "      <th>Bldg_sqft</th>\n",
       "    </tr>\n",
       "  </thead>\n",
       "  <tbody>\n",
       "    <tr>\n",
       "      <th>0</th>\n",
       "      <td>3.08</td>\n",
       "      <td>5803</td>\n",
       "    </tr>\n",
       "    <tr>\n",
       "      <th>1</th>\n",
       "      <td>4.62</td>\n",
       "      <td>928</td>\n",
       "    </tr>\n",
       "    <tr>\n",
       "      <th>2</th>\n",
       "      <td>6.47</td>\n",
       "      <td>2011</td>\n",
       "    </tr>\n",
       "    <tr>\n",
       "      <th>3</th>\n",
       "      <td>77.00</td>\n",
       "      <td>2716</td>\n",
       "    </tr>\n",
       "    <tr>\n",
       "      <th>4</th>\n",
       "      <td>3.08</td>\n",
       "      <td>5801</td>\n",
       "    </tr>\n",
       "  </tbody>\n",
       "</table>\n",
       "</div>"
      ],
      "text/plain": [
       "   Solar_kW  Bldg_sqft\n",
       "0      3.08       5803\n",
       "1      4.62        928\n",
       "2      6.47       2011\n",
       "3     77.00       2716\n",
       "4      3.08       5801"
      ]
     },
     "execution_count": 1,
     "metadata": {},
     "output_type": "execute_result"
    }
   ],
   "source": [
    "import pandas as pd \n",
    "import numpy as np\n",
    "import matplotlib.pyplot as plt\n",
    "%matplotlib inline\n",
    "\n",
    "solar_df = pd.read_csv('Solar_on_city_facilities.csv')\n",
    "solar_df.head()"
   ]
  },
  {
   "cell_type": "code",
   "execution_count": 2,
   "metadata": {},
   "outputs": [
    {
     "data": {
      "image/png": "[encoded data removed]",
      "text/plain": [
       "<Figure size 720x720 with 2 Axes>"
      ]
     },
     "metadata": {
      "needs_background": "light"
     },
     "output_type": "display_data"
    }
   ],
   "source": [
    "fig, ax = plt.subplots(nrows=2, figsize=(10, 10))\n",
    "fig.align_labels()\n",
    "\n",
    "solar_df['Solar_kW'].hist(ax=ax[0], bins= 400)\n",
    "solar_df.plot.scatter(ax=ax[1], x='Bldg_sqft', y='Solar_kW')\n",
    "\n",
    "ax[0].set_title(\"Histogram of Solar Array Size (kW)\")\n",
    "ax[0].set_xlabel(\"Size of Array in kW\")\n",
    "ax[0].set_ylabel(\"Number of Arrays\")\n",
    "ax[0].axvline(x=solar_df['Solar_kW'].mean(), color='orange')\n",
    "\n",
    "ax[1].set_title(\"Building Square Footage (sqft) vs Solar Array Size (kW)\")\n",
    "ax[1].set_xlabel(\"Building Square Footage (sqft)\")\n",
    "ax[1].set_ylabel(\"Solar Array Size (kW)\")\n",
    "\n",
    "plt.tight_layout(pad=1)\n",
    "plt.show()"
   ]
  },
  {
   "cell_type": "markdown",
   "metadata": {},
   "source": [
    "Choices I made for these charts and why:\n",
    "\n",
    "Histogram:\n",
    "- Bins size: \n",
    "  - I started with the default but there are too many small number to differentiate that well in the 0-50 range. \n",
    "  - Since the highest number is around 400 I choose to look at 400 bins - this seems to work ok as the chart shows each grouping and the insights are more clear\n",
    "  - I would probably make a zoomed in version of this chart from 0-50 and then make 50 bins to show that range more clearly.\n",
    "- Font for the verticle line:\n",
    "  - This was originally black but obscured the values behind it so I went with a lighter color so that you can still see the histogram as well as the line.\n",
    "  - I would add a label / the actual number to this (or write it in a note)\n",
    "\n",
    "Scatterplot:\n",
    "- I left the default settings here and I think the chart shows up well enough\n",
    "- If the dots were stacked up on one another too much, I could change the color / transparency or the symbols"
   ]
  },
  {
   "cell_type": "markdown",
   "metadata": {},
   "source": [
    "### Insights:\n",
    "    \n",
    "Again let's look for insights that can be gained from the charts:\n",
    "- Histogram:\n",
    "  - The two big outliers would be good to look at (~400 kW, ~230 kW arrays)\n",
    "  - Most arrays are < 10 kW\n",
    "  - The mean is skewed by the outliers\n",
    "  \n",
    "- Scatterplot\n",
    "  - I thought there would be more of a linear relationship between building size and array size\n",
    "  - Interesting to me that some very large buildings still have small arrays (wonder if it could be related to roof exposure?)\n",
    "  - Again the outlier of the ~400kw array being on a smaller building makes me want to check into it more (could it be a data quality issue or is that the actual array size? how/why did that building have an oversized array?)"
   ]
  }
 ],
 "metadata": {
  "kernelspec": {
   "display_name": "Python 3",
   "language": "python",
   "name": "python3"
  },
  "language_info": {
   "codemirror_mode": {
    "name": "ipython",
    "version": 3
   },
   "file_extension": ".py",
   "mimetype": "text/x-python",
   "name": "python",
   "nbconvert_exporter": "python",
   "pygments_lexer": "ipython3",
   "version": "3.8.11"
  }
 },
 "nbformat": 4,
 "nbformat_minor": 4
}
