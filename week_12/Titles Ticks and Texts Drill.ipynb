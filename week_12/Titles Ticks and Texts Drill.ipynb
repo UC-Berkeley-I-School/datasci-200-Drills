{
 "cells": [
  {
   "cell_type": "markdown",
   "metadata": {},
   "source": [
    "### Title, Ticks and Texts Drill\n",
    "\n",
    "For this drill, let's continue adding to our chart from the last drill - looking at the average rainfall in Singapore over the last 5 years (2016-2020). The dataset is in this folder named: `Singapore_Monthly_Rainfall.csv`. \n",
    "\n",
    "Requirements to be added to the chart:\n",
    "- Title\n",
    "- X-axis Label\n",
    "- Y-axis Label\n",
    "\n",
    "All charts that you make should usually have these three elements tied to them. \n",
    "\n",
    "Use as many cells as needed below for your chart!"
   ]
  },
  {
   "cell_type": "code",
   "execution_count": null,
   "metadata": {},
   "outputs": [],
   "source": []
  }
 ],
 "metadata": {
  "kernelspec": {
   "display_name": "Python 3",
   "language": "python",
   "name": "python3"
  },
  "language_info": {
   "codemirror_mode": {
    "name": "ipython",
    "version": 3
   },
   "file_extension": ".py",
   "mimetype": "text/x-python",
   "name": "python",
   "nbconvert_exporter": "python",
   "pygments_lexer": "ipython3",
   "version": "3.8.11"
  }
 },
 "nbformat": 4,
 "nbformat_minor": 4
}
