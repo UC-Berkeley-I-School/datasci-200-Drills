{
 "cells": [
  {
   "cell_type": "markdown",
   "metadata": {},
   "source": [
    "### Drill: Query, Slicing, Combining arrays"
   ]
  },
  {
   "cell_type": "markdown",
   "metadata": {},
   "source": [
    "Run the first two cells to create two 5x3 integer arrays"
   ]
  },
  {
   "cell_type": "code",
   "execution_count": 1,
   "metadata": {},
   "outputs": [],
   "source": [
    "import numpy as np\n",
    "\n",
    "np.random.seed(15)\n",
    "\n",
    "ar1 = np.random.randint(15, size=(5, 3))\n",
    "ar2 = np.random.randint(7, size=(5, 3))"
   ]
  },
  {
   "cell_type": "code",
   "execution_count": 2,
   "metadata": {},
   "outputs": [
    {
     "name": "stdout",
     "output_type": "stream",
     "text": [
      "[[ 8  5 12]\n",
      " [ 5  7  0]\n",
      " [12 11  7]\n",
      " [11  5  6]\n",
      " [13  1 13]]\n",
      "------------------------------------------------------------\n",
      "[[0 6 2]\n",
      " [4 1 5]\n",
      " [3 4 5]\n",
      " [4 5 6]\n",
      " [0 2 1]]\n"
     ]
    }
   ],
   "source": [
    "# printout of the two arrays made above\n",
    "print(ar1)\n",
    "print(\"-\" * 60)\n",
    "print(ar2)"
   ]
  },
  {
   "cell_type": "markdown",
   "metadata": {},
   "source": [
    "<h3>Slicing NumPy arrays</h3>\n",
    "\n",
    "We can select a <font color='red'>subset</font> of rows and columns in the [ ]. The left-most operator operates on the rows (just a colon selects all rows). The range after the comma operates on the columns (e.g.[, 1:3] select columns 1 & 2). \n",
    "```\n",
    "ar[:,1:3]\n",
    "```"
   ]
  },
  {
   "cell_type": "markdown",
   "metadata": {},
   "source": [
    "From the arrays created above:\n",
    "\n",
    "- Use [] slicing to print out the last 2 rows of ```ar1```\n",
    "- Use [] slicing to print out the first column of `ar2`"
   ]
  },
  {
   "cell_type": "code",
   "execution_count": 3,
   "metadata": {},
   "outputs": [],
   "source": [
    "# [Answer]"
   ]
  },
  {
   "cell_type": "code",
   "execution_count": null,
   "metadata": {},
   "outputs": [],
   "source": [
    "# [Answer]"
   ]
  },
  {
   "cell_type": "markdown",
   "metadata": {},
   "source": [
    "- Use [] slicing to print out the row 2 and columns 2 & 3 from `ar1`\n",
    "- Use [] slicing to print out the last 2 rows and last column of `ar2`"
   ]
  },
  {
   "cell_type": "code",
   "execution_count": 4,
   "metadata": {},
   "outputs": [],
   "source": [
    "# [Answer] "
   ]
  },
  {
   "cell_type": "code",
   "execution_count": null,
   "metadata": {},
   "outputs": [],
   "source": [
    "# [Answer]"
   ]
  },
  {
   "cell_type": "markdown",
   "metadata": {},
   "source": [
    "- Use [] slicing to print out the first element of `ar1`\n",
    "- Use [] slicing to print out the last element of `ar2`"
   ]
  },
  {
   "cell_type": "code",
   "execution_count": 5,
   "metadata": {},
   "outputs": [],
   "source": [
    "# [Answer]"
   ]
  },
  {
   "cell_type": "code",
   "execution_count": null,
   "metadata": {},
   "outputs": [],
   "source": [
    "# [Answer]"
   ]
  },
  {
   "cell_type": "markdown",
   "metadata": {},
   "source": [
    "#### Stacking array\n",
    "- Use vstack and hstack on the two arrays ar1 and ar2\n",
    "- What's the result?"
   ]
  },
  {
   "cell_type": "code",
   "execution_count": 6,
   "metadata": {},
   "outputs": [],
   "source": [
    "# [Answer] vstack"
   ]
  },
  {
   "cell_type": "code",
   "execution_count": 7,
   "metadata": {},
   "outputs": [],
   "source": [
    "# [Answer] hstack"
   ]
  },
  {
   "cell_type": "markdown",
   "metadata": {},
   "source": [
    "#### Concatenation... \n",
    "Using our <code>ar1</code> and <code>ar2</code>, let&rsquo;s concatenate them, experimenting on the axis (1 or 0).   First, let's try on axis = 1.  What do you see?  Next try axis = 0 and compare."
   ]
  },
  {
   "cell_type": "markdown",
   "metadata": {},
   "source": [
    "&#x1f601; Pretty cool, no? &#x1f638;\n",
    "- Whats the difference between concatenate and v/hstack?"
   ]
  },
  {
   "cell_type": "code",
   "execution_count": 8,
   "metadata": {},
   "outputs": [],
   "source": [
    "# [Answer] on axis = 1:"
   ]
  },
  {
   "cell_type": "code",
   "execution_count": 9,
   "metadata": {},
   "outputs": [],
   "source": [
    "# [Answer] on axis = 0:"
   ]
  },
  {
   "cell_type": "markdown",
   "metadata": {},
   "source": [
    "##### Splitting Arrays\n",
    "To split an array into multiple smaller sub-arrays - use np.split()\n",
    "- Split array ```ar1``` into 5 arrays "
   ]
  },
  {
   "cell_type": "code",
   "execution_count": 10,
   "metadata": {},
   "outputs": [],
   "source": [
    "# [Answer]"
   ]
  }
 ],
 "metadata": {
  "kernelspec": {
   "display_name": "Python 3",
   "language": "python",
   "name": "python3"
  },
  "language_info": {
   "codemirror_mode": {
    "name": "ipython",
    "version": 3
   },
   "file_extension": ".py",
   "mimetype": "text/x-python",
   "name": "python",
   "nbconvert_exporter": "python",
   "pygments_lexer": "ipython3",
   "version": "3.8.11"
  }
 },
 "nbformat": 4,
 "nbformat_minor": 2
}
