{
 "cells": [
  {
   "cell_type": "markdown",
   "metadata": {},
   "source": [
    "### Drill: Query, Slicing, Combining arrays"
   ]
  },
  {
   "cell_type": "markdown",
   "metadata": {},
   "source": [
    "- Run the first cell to create two 5x3 integer arrays"
   ]
  },
  {
   "cell_type": "code",
   "execution_count": 1,
   "metadata": {},
   "outputs": [],
   "source": [
    "import numpy as np\n",
    "\n",
    "np.random.seed(15)\n",
    "\n",
    "ar1 = np.random.randint(15, size=(5, 3))\n",
    "ar2 = np.random.randint(7, size=(5, 3))"
   ]
  },
  {
   "cell_type": "code",
   "execution_count": 2,
   "metadata": {},
   "outputs": [
    {
     "name": "stdout",
     "output_type": "stream",
     "text": [
      "[[ 8  5 12]\n",
      " [ 5  7  0]\n",
      " [12 11  7]\n",
      " [11  5  6]\n",
      " [13  1 13]]\n",
      "------------------------------------------------------------\n",
      "[[0 6 2]\n",
      " [4 1 5]\n",
      " [3 4 5]\n",
      " [4 5 6]\n",
      " [0 2 1]]\n"
     ]
    }
   ],
   "source": [
    "# printout of the two arrays made above\n",
    "print(ar1)\n",
    "print(\"-\" * 60)\n",
    "print(ar2)"
   ]
  },
  {
   "cell_type": "markdown",
   "metadata": {},
   "source": [
    "<h3>Slicing NumPy arrays</h3>\n",
    "\n",
    "We can select a <font color='red'>subset</font> of rows and columns in the [ ]. The left-most operator operates on the rows (just a colon selects all rows). The range after the comma operates on the columns (e.g.[, 1:3] select columns 1 & 2). \n",
    "```\n",
    "ar[:,1:3]\n",
    "```"
   ]
  },
  {
   "cell_type": "markdown",
   "metadata": {},
   "source": [
    "From the arrays created above:\n",
    "\n",
    "- Use [] slicing to print out the last 2 rows of ```ar1```\n",
    "- Use [] slicing to print out the first column of `ar2`"
   ]
  },
  {
   "cell_type": "code",
   "execution_count": 3,
   "metadata": {},
   "outputs": [
    {
     "data": {
      "text/plain": [
       "array([[11,  5,  6],\n",
       "       [13,  1, 13]])"
      ]
     },
     "execution_count": 3,
     "metadata": {},
     "output_type": "execute_result"
    }
   ],
   "source": [
    "ar1[-2:,:]"
   ]
  },
  {
   "cell_type": "code",
   "execution_count": 4,
   "metadata": {},
   "outputs": [
    {
     "data": {
      "text/plain": [
       "array([[0],\n",
       "       [4],\n",
       "       [3],\n",
       "       [4],\n",
       "       [0]])"
      ]
     },
     "execution_count": 4,
     "metadata": {},
     "output_type": "execute_result"
    }
   ],
   "source": [
    "ar2[:,0:1]"
   ]
  },
  {
   "cell_type": "markdown",
   "metadata": {},
   "source": [
    "- Use [] slicing to print out the row 2 and columns 2 & 3 from `ar1`\n",
    "- Use [] slicing to print out the last 2 rows and last column of `ar2`"
   ]
  },
  {
   "cell_type": "code",
   "execution_count": 5,
   "metadata": {},
   "outputs": [
    {
     "data": {
      "text/plain": [
       "array([[7, 0]])"
      ]
     },
     "execution_count": 5,
     "metadata": {},
     "output_type": "execute_result"
    }
   ],
   "source": [
    "ar1[1:2,1:4]"
   ]
  },
  {
   "cell_type": "code",
   "execution_count": 6,
   "metadata": {},
   "outputs": [
    {
     "data": {
      "text/plain": [
       "array([[6],\n",
       "       [1]])"
      ]
     },
     "execution_count": 6,
     "metadata": {},
     "output_type": "execute_result"
    }
   ],
   "source": [
    "ar2[-2:,-1:]"
   ]
  },
  {
   "cell_type": "markdown",
   "metadata": {},
   "source": [
    "- Use [] slicing to print out the first element of `ar1`\n",
    "- Use [] slicing to print out the last element of `ar2`"
   ]
  },
  {
   "cell_type": "code",
   "execution_count": 7,
   "metadata": {},
   "outputs": [
    {
     "data": {
      "text/plain": [
       "8"
      ]
     },
     "execution_count": 7,
     "metadata": {},
     "output_type": "execute_result"
    }
   ],
   "source": [
    "ar1[0,0]"
   ]
  },
  {
   "cell_type": "code",
   "execution_count": 8,
   "metadata": {},
   "outputs": [
    {
     "data": {
      "text/plain": [
       "1"
      ]
     },
     "execution_count": 8,
     "metadata": {},
     "output_type": "execute_result"
    }
   ],
   "source": [
    "ar2[-1,-1]"
   ]
  },
  {
   "cell_type": "markdown",
   "metadata": {},
   "source": [
    "#### Stacking array\n",
    "- Use vstack and hstack on the two arrays ar1 and ar2\n",
    "- What's the result?"
   ]
  },
  {
   "cell_type": "code",
   "execution_count": 9,
   "metadata": {},
   "outputs": [
    {
     "data": {
      "text/plain": [
       "array([[ 8,  5, 12],\n",
       "       [ 5,  7,  0],\n",
       "       [12, 11,  7],\n",
       "       [11,  5,  6],\n",
       "       [13,  1, 13],\n",
       "       [ 0,  6,  2],\n",
       "       [ 4,  1,  5],\n",
       "       [ 3,  4,  5],\n",
       "       [ 4,  5,  6],\n",
       "       [ 0,  2,  1]])"
      ]
     },
     "execution_count": 9,
     "metadata": {},
     "output_type": "execute_result"
    }
   ],
   "source": [
    "np.vstack([ar1, ar2])"
   ]
  },
  {
   "cell_type": "code",
   "execution_count": 10,
   "metadata": {},
   "outputs": [
    {
     "data": {
      "text/plain": [
       "array([[ 8,  5, 12,  0,  6,  2],\n",
       "       [ 5,  7,  0,  4,  1,  5],\n",
       "       [12, 11,  7,  3,  4,  5],\n",
       "       [11,  5,  6,  4,  5,  6],\n",
       "       [13,  1, 13,  0,  2,  1]])"
      ]
     },
     "execution_count": 10,
     "metadata": {},
     "output_type": "execute_result"
    }
   ],
   "source": [
    "np.hstack([ar1, ar2])"
   ]
  },
  {
   "cell_type": "markdown",
   "metadata": {},
   "source": [
    "#### Concatenation... \n",
    "Using our <code>ar1</code> and <code>ar2</code>, let&rsquo;s concatenate them, experimenting on the axis (1 or 0).   First, let's try on axis = 1.  What do you see?  Next try axis = 0 and compare."
   ]
  },
  {
   "cell_type": "markdown",
   "metadata": {},
   "source": [
    "&#x1f601; Pretty cool, no? &#x1f638;\n",
    "- Whats the difference between concatenate aand v/hstack?"
   ]
  },
  {
   "cell_type": "code",
   "execution_count": 11,
   "metadata": {},
   "outputs": [
    {
     "data": {
      "text/plain": [
       "array([[ 8,  5, 12,  0,  6,  2],\n",
       "       [ 5,  7,  0,  4,  1,  5],\n",
       "       [12, 11,  7,  3,  4,  5],\n",
       "       [11,  5,  6,  4,  5,  6],\n",
       "       [13,  1, 13,  0,  2,  1]])"
      ]
     },
     "execution_count": 11,
     "metadata": {},
     "output_type": "execute_result"
    }
   ],
   "source": [
    "np.concatenate((ar1, ar2), axis=1)"
   ]
  },
  {
   "cell_type": "code",
   "execution_count": 12,
   "metadata": {},
   "outputs": [
    {
     "data": {
      "text/plain": [
       "array([[ 8,  5, 12],\n",
       "       [ 5,  7,  0],\n",
       "       [12, 11,  7],\n",
       "       [11,  5,  6],\n",
       "       [13,  1, 13],\n",
       "       [ 0,  6,  2],\n",
       "       [ 4,  1,  5],\n",
       "       [ 3,  4,  5],\n",
       "       [ 4,  5,  6],\n",
       "       [ 0,  2,  1]])"
      ]
     },
     "execution_count": 12,
     "metadata": {},
     "output_type": "execute_result"
    }
   ],
   "source": [
    "np.concatenate((ar1, ar2), axis=0)"
   ]
  },
  {
   "cell_type": "markdown",
   "metadata": {},
   "source": [
    "##### Splitting Arrays\n",
    "To split an array into multiple smaller sub-arrays - use np.split()\n",
    "- Split array ```ar1``` into 5 arrays "
   ]
  },
  {
   "cell_type": "code",
   "execution_count": 13,
   "metadata": {},
   "outputs": [
    {
     "data": {
      "text/plain": [
       "[array([[ 8,  5, 12]]),\n",
       " array([[5, 7, 0]]),\n",
       " array([[12, 11,  7]]),\n",
       " array([[11,  5,  6]]),\n",
       " array([[13,  1, 13]])]"
      ]
     },
     "execution_count": 13,
     "metadata": {},
     "output_type": "execute_result"
    }
   ],
   "source": [
    "np.split(ar1, 5)"
   ]
  }
 ],
 "metadata": {
  "kernelspec": {
   "display_name": "Python 3",
   "language": "python",
   "name": "python3"
  },
  "language_info": {
   "codemirror_mode": {
    "name": "ipython",
    "version": 3
   },
   "file_extension": ".py",
   "mimetype": "text/x-python",
   "name": "python",
   "nbconvert_exporter": "python",
   "pygments_lexer": "ipython3",
   "version": "3.6.8"
  }
 },
 "nbformat": 4,
 "nbformat_minor": 2
}
