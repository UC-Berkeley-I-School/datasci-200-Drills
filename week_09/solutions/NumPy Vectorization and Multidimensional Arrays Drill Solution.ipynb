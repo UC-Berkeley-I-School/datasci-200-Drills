{
 "cells": [
  {
   "cell_type": "markdown",
   "metadata": {},
   "source": [
    "### Drill: NumPy Vectorization and Multidimensional Arrays"
   ]
  },
  {
   "cell_type": "markdown",
   "metadata": {},
   "source": [
    "Vectorization helps us process lots of data quickly\n",
    "\n",
    "- Make a random array of integers in the range of 1-10 with a size of 5 rows by 3 columns; name this array `ar`\n",
    "- Next double all values in the array `ar`"
   ]
  },
  {
   "cell_type": "code",
   "execution_count": 1,
   "metadata": {},
   "outputs": [
    {
     "data": {
      "text/plain": [
       "array([[ 5,  8,  3],\n",
       "       [ 5,  4,  6],\n",
       "       [ 3,  7,  4],\n",
       "       [ 1,  6,  4],\n",
       "       [ 7, 10,  4]])"
      ]
     },
     "execution_count": 1,
     "metadata": {},
     "output_type": "execute_result"
    }
   ],
   "source": [
    "import numpy as np\n",
    "\n",
    "np.random.seed(5678)\n",
    "\n",
    "ar = np.random.randint(1, 11, size=(5, 3))\n",
    "ar"
   ]
  },
  {
   "cell_type": "code",
   "execution_count": 2,
   "metadata": {},
   "outputs": [
    {
     "data": {
      "text/plain": [
       "array([[10, 16,  6],\n",
       "       [10,  8, 12],\n",
       "       [ 6, 14,  8],\n",
       "       [ 2, 12,  8],\n",
       "       [14, 20,  8]])"
      ]
     },
     "execution_count": 2,
     "metadata": {},
     "output_type": "execute_result"
    }
   ],
   "source": [
    "ar * 2"
   ]
  },
  {
   "cell_type": "markdown",
   "metadata": {},
   "source": [
    "Notice we can chain behaviors. Instead of using a <code>for loop</code> or some other technique, using NumPy allows us to write concise, fast-operating code.\n",
    "\n",
    "- Try this by squaring the `ar` array and then dividing it by 0.05!"
   ]
  },
  {
   "cell_type": "code",
   "execution_count": 3,
   "metadata": {},
   "outputs": [
    {
     "data": {
      "text/plain": [
       "array([[ 500., 1280.,  180.],\n",
       "       [ 500.,  320.,  720.],\n",
       "       [ 180.,  980.,  320.],\n",
       "       [  20.,  720.,  320.],\n",
       "       [ 980., 2000.,  320.]])"
      ]
     },
     "execution_count": 3,
     "metadata": {},
     "output_type": "execute_result"
    }
   ],
   "source": [
    "(ar ** 2) / 0.05"
   ]
  },
  {
   "cell_type": "markdown",
   "metadata": {},
   "source": [
    "In practice we might need to transform a bunch of data.  For instance, when data values between objects or phenomenon of interest are really close or small, we could do a log transformation on the data.  This is a common technique in data visualization.  \n",
    "\n",
    "- Using the array (`ar`), transform the values by a base<sub>2</sub> log (natural log) to all the values"
   ]
  },
  {
   "cell_type": "code",
   "execution_count": 4,
   "metadata": {},
   "outputs": [
    {
     "data": {
      "text/plain": [
       "array([[1.60943791, 2.07944154, 1.09861229],\n",
       "       [1.60943791, 1.38629436, 1.79175947],\n",
       "       [1.09861229, 1.94591015, 1.38629436],\n",
       "       [0.        , 1.79175947, 1.38629436],\n",
       "       [1.94591015, 2.30258509, 1.38629436]])"
      ]
     },
     "execution_count": 4,
     "metadata": {},
     "output_type": "execute_result"
    }
   ],
   "source": [
    "np.log(ar)"
   ]
  },
  {
   "cell_type": "markdown",
   "metadata": {},
   "source": [
    "<h3> Practise with Multidimensional arrays</h3>"
   ]
  },
  {
   "cell_type": "markdown",
   "metadata": {},
   "source": [
    "- Let's make a new 4 x 5 array named `newArray` of randomized integer values (10-15)"
   ]
  },
  {
   "cell_type": "code",
   "execution_count": 5,
   "metadata": {},
   "outputs": [
    {
     "data": {
      "text/plain": [
       "array([[13, 11, 10, 13, 13],\n",
       "       [11, 11, 12, 11, 10],\n",
       "       [14, 10, 12, 12, 14],\n",
       "       [11, 12, 14, 12, 10]])"
      ]
     },
     "execution_count": 5,
     "metadata": {},
     "output_type": "execute_result"
    }
   ],
   "source": [
    "newArray = np.random.randint(10, 15, size=(4, 5))\n",
    "newArray"
   ]
  },
  {
   "cell_type": "markdown",
   "metadata": {},
   "source": [
    "- What is the shape of the array `newArray`? \n",
    "- How would you reshape the array to be a 2 x 10 array?"
   ]
  },
  {
   "cell_type": "code",
   "execution_count": 6,
   "metadata": {},
   "outputs": [
    {
     "data": {
      "text/plain": [
       "(4, 5)"
      ]
     },
     "execution_count": 6,
     "metadata": {},
     "output_type": "execute_result"
    }
   ],
   "source": [
    "newArray.shape"
   ]
  },
  {
   "cell_type": "code",
   "execution_count": 7,
   "metadata": {},
   "outputs": [
    {
     "data": {
      "text/plain": [
       "array([[13, 11, 10, 13, 13, 11, 11, 12, 11, 10],\n",
       "       [14, 10, 12, 12, 14, 11, 12, 14, 12, 10]])"
      ]
     },
     "execution_count": 7,
     "metadata": {},
     "output_type": "execute_result"
    }
   ],
   "source": [
    "newArray.reshape((2,10))"
   ]
  },
  {
   "cell_type": "markdown",
   "metadata": {},
   "source": [
    "When determining what data to select for further processing, you might want to look for some criteria.  In this example, say we want to find the minimum value of a data set. (e.g., we're integrating lots of data files and we're checking to see if the data fits in the range of expected values and makes sense)\n",
    "\n",
    "- For the array `newArray`, find the min, max, variance and mean."
   ]
  },
  {
   "cell_type": "code",
   "execution_count": 8,
   "metadata": {},
   "outputs": [
    {
     "name": "stdout",
     "output_type": "stream",
     "text": [
      "Min : 10\n",
      "Max : 14\n",
      "Var : 1.7600000000000002\n",
      "Mean: 11.8\n"
     ]
    }
   ],
   "source": [
    "print('Min :', newArray.min())\n",
    "print('Max :', newArray.max())\n",
    "print('Var :', newArray.var())\n",
    "print('Mean:', newArray.mean())"
   ]
  },
  {
   "cell_type": "markdown",
   "metadata": {},
   "source": [
    "- What happens when we add both of the arrays (`ar` and `newArray`) together?"
   ]
  },
  {
   "cell_type": "code",
   "execution_count": 9,
   "metadata": {},
   "outputs": [
    {
     "ename": "ValueError",
     "evalue": "operands could not be broadcast together with shapes (5,3) (4,5) ",
     "output_type": "error",
     "traceback": [
      "\u001b[1;31m---------------------------------------------------------------------------\u001b[0m",
      "\u001b[1;31mValueError\u001b[0m                                Traceback (most recent call last)",
      "\u001b[1;32m<ipython-input-9-0176f3ba1fea>\u001b[0m in \u001b[0;36m<module>\u001b[1;34m\u001b[0m\n\u001b[1;32m----> 1\u001b[1;33m \u001b[0mar\u001b[0m \u001b[1;33m+\u001b[0m \u001b[0mnewArray\u001b[0m\u001b[1;33m\u001b[0m\u001b[1;33m\u001b[0m\u001b[0m\n\u001b[0m",
      "\u001b[1;31mValueError\u001b[0m: operands could not be broadcast together with shapes (5,3) (4,5) "
     ]
    }
   ],
   "source": [
    "ar + newArray"
   ]
  },
  {
   "cell_type": "code",
   "execution_count": 10,
   "metadata": {},
   "outputs": [
    {
     "ename": "ValueError",
     "evalue": "operands could not be broadcast together with shapes (5,3) (4,5) ",
     "output_type": "error",
     "traceback": [
      "\u001b[1;31m---------------------------------------------------------------------------\u001b[0m",
      "\u001b[1;31mValueError\u001b[0m                                Traceback (most recent call last)",
      "\u001b[1;32m<ipython-input-10-723be359dc6b>\u001b[0m in \u001b[0;36m<module>\u001b[1;34m\u001b[0m\n\u001b[1;32m----> 1\u001b[1;33m \u001b[0mnp\u001b[0m\u001b[1;33m.\u001b[0m\u001b[0madd\u001b[0m\u001b[1;33m(\u001b[0m\u001b[0mar\u001b[0m\u001b[1;33m,\u001b[0m \u001b[0mnewArray\u001b[0m\u001b[1;33m)\u001b[0m\u001b[1;33m\u001b[0m\u001b[1;33m\u001b[0m\u001b[0m\n\u001b[0m",
      "\u001b[1;31mValueError\u001b[0m: operands could not be broadcast together with shapes (5,3) (4,5) "
     ]
    }
   ],
   "source": [
    "np.add(ar, newArray)"
   ]
  },
  {
   "cell_type": "markdown",
   "metadata": {},
   "source": [
    "- How would you make the 4 x 5 array `newArray` into a one dimensional array (a 1 x 20 array)?"
   ]
  },
  {
   "cell_type": "code",
   "execution_count": 11,
   "metadata": {},
   "outputs": [
    {
     "data": {
      "text/plain": [
       "array([13, 11, 10, 13, 13, 11, 11, 12, 11, 10, 14, 10, 12, 12, 14, 11, 12,\n",
       "       14, 12, 10])"
      ]
     },
     "execution_count": 11,
     "metadata": {},
     "output_type": "execute_result"
    }
   ],
   "source": [
    "newArray.flatten()"
   ]
  }
 ],
 "metadata": {
  "kernelspec": {
   "display_name": "Python 3",
   "language": "python",
   "name": "python3"
  },
  "language_info": {
   "codemirror_mode": {
    "name": "ipython",
    "version": 3
   },
   "file_extension": ".py",
   "mimetype": "text/x-python",
   "name": "python",
   "nbconvert_exporter": "python",
   "pygments_lexer": "ipython3",
   "version": "3.6.8"
  }
 },
 "nbformat": 4,
 "nbformat_minor": 2
}
