{
 "cells": [
  {
   "cell_type": "markdown",
   "metadata": {},
   "source": [
    "### Drill: NumPy Basics of Boolean Selection and Types"
   ]
  },
  {
   "cell_type": "markdown",
   "metadata": {},
   "source": [
    "#### Getting to know our system and NumPy versions\n",
    "- First let's import numpy and check its version.\n",
    "- If you are doing this through ISVC, this is displaying the numpy version of the server \n",
    "- If you want to check your system version download this notebook (from the File menu) and run it locally"
   ]
  },
  {
   "cell_type": "code",
   "execution_count": 1,
   "metadata": {},
   "outputs": [
    {
     "name": "stdout",
     "output_type": "stream",
     "text": [
      "1.16.3\n"
     ]
    }
   ],
   "source": [
    "import numpy as np\n",
    "print(np.__version__)"
   ]
  },
  {
   "cell_type": "markdown",
   "metadata": {},
   "source": [
    "- Create an array of numbers 0-9 using NumPy. Assign the output to a variable named `ar` and print the array"
   ]
  },
  {
   "cell_type": "code",
   "execution_count": 2,
   "metadata": {},
   "outputs": [
    {
     "data": {
      "text/plain": [
       "array([0, 1, 2, 3, 4, 5, 6, 7, 8, 9])"
      ]
     },
     "execution_count": 2,
     "metadata": {},
     "output_type": "execute_result"
    }
   ],
   "source": [
    "# [Answer]\n",
    "ar = np.arange(10)\n",
    "ar"
   ]
  },
  {
   "cell_type": "markdown",
   "metadata": {},
   "source": [
    "Array properties: Using the array `ar` from above: \n",
    "- What are the # of elements in the array?\n",
    "- What is the shape of the array?"
   ]
  },
  {
   "cell_type": "code",
   "execution_count": 3,
   "metadata": {},
   "outputs": [
    {
     "name": "stdout",
     "output_type": "stream",
     "text": [
      "Elements: 10\n",
      "Shape: (10,)\n"
     ]
    }
   ],
   "source": [
    "print(\"Elements:\", ar.size)  # could also do a len(ar)\n",
    "print(\"Shape:\", ar.shape)"
   ]
  },
  {
   "cell_type": "markdown",
   "metadata": {},
   "source": [
    "- Looking at the descriptive statistics like: <code>mean</code>, <code>min</code>, <code>max</code>, <code>std</code>, <code>var</code> is one of the first steps in exploring data. Let's do this using NumPy and the array created above. "
   ]
  },
  {
   "cell_type": "code",
   "execution_count": 4,
   "metadata": {},
   "outputs": [
    {
     "name": "stdout",
     "output_type": "stream",
     "text": [
      "mean: 4.5\n",
      "min : 0\n",
      "max : 9\n",
      "std : 2.8722813232690143\n",
      "var : 8.25\n"
     ]
    }
   ],
   "source": [
    "print(\"mean:\", ar.mean())\n",
    "print(\"min :\", ar.min())\n",
    "print(\"max :\", ar.max())\n",
    "print(\"std :\", ar.std())\n",
    "print(\"var :\", ar.var())"
   ]
  },
  {
   "cell_type": "markdown",
   "metadata": {},
   "source": [
    "- Let's check whether an array contains desired values. Write a statement using boolean expression to see if any values in the numpy array `ar` are above 7. Assign this boolean expression to the array `over7`"
   ]
  },
  {
   "cell_type": "code",
   "execution_count": 5,
   "metadata": {},
   "outputs": [
    {
     "data": {
      "text/plain": [
       "array([False, False, False, False, False, False, False, False,  True,\n",
       "        True])"
      ]
     },
     "execution_count": 5,
     "metadata": {},
     "output_type": "execute_result"
    }
   ],
   "source": [
    "# [Answer]\n",
    "over7 = ar > 7\n",
    "over7 # should be an array of T/F statement showing where the original array ar is above 7"
   ]
  },
  {
   "cell_type": "markdown",
   "metadata": {},
   "source": [
    "- Use the `over7` array to filter out value in the `ar` array using bracketing indexing"
   ]
  },
  {
   "cell_type": "code",
   "execution_count": 6,
   "metadata": {},
   "outputs": [
    {
     "data": {
      "text/plain": [
       "array([8, 9])"
      ]
     },
     "execution_count": 6,
     "metadata": {},
     "output_type": "execute_result"
    }
   ],
   "source": [
    "ar[over7]\n",
    "# As you can see the over7 array filters the ar values to make a new array where over7 has the value True"
   ]
  },
  {
   "cell_type": "markdown",
   "metadata": {},
   "source": [
    "##### Changing types of a NumPy Array\n",
    "\n",
    "- Convert the array `demo` below to an int type; print the array"
   ]
  },
  {
   "cell_type": "code",
   "execution_count": 7,
   "metadata": {},
   "outputs": [
    {
     "data": {
      "text/plain": [
       "array([0.        , 0.04285714, 0.08571429, 0.12857143, 0.17142857,\n",
       "       0.21428571, 0.25714286, 0.3       , 0.34285714, 0.38571429,\n",
       "       0.42857143, 0.47142857, 0.51428571, 0.55714286, 0.6       ,\n",
       "       0.64285714, 0.68571429, 0.72857143, 0.77142857, 0.81428571,\n",
       "       0.85714286, 0.9       , 0.94285714, 0.98571429, 1.02857143,\n",
       "       1.07142857, 1.11428571, 1.15714286, 1.2       , 1.24285714,\n",
       "       1.28571429, 1.32857143, 1.37142857, 1.41428571])"
      ]
     },
     "execution_count": 7,
     "metadata": {},
     "output_type": "execute_result"
    }
   ],
   "source": [
    "demo = np.array(range(0,100,3)) / 70\n",
    "demo"
   ]
  },
  {
   "cell_type": "code",
   "execution_count": 8,
   "metadata": {},
   "outputs": [
    {
     "data": {
      "text/plain": [
       "array([0, 0, 0, 0, 0, 0, 0, 0, 0, 0, 0, 0, 0, 0, 0, 0, 0, 0, 0, 0, 0, 0,\n",
       "       0, 0, 1, 1, 1, 1, 1, 1, 1, 1, 1, 1])"
      ]
     },
     "execution_count": 8,
     "metadata": {},
     "output_type": "execute_result"
    }
   ],
   "source": [
    "demo.astype(int) "
   ]
  },
  {
   "cell_type": "markdown",
   "metadata": {},
   "source": [
    "- Now convert the array to float32 and float 64\n",
    "- What's the difference between float32 and float64?"
   ]
  },
  {
   "cell_type": "code",
   "execution_count": 9,
   "metadata": {},
   "outputs": [
    {
     "data": {
      "text/plain": [
       "array([0.        , 0.04285714, 0.08571429, 0.12857144, 0.17142858,\n",
       "       0.21428572, 0.25714287, 0.3       , 0.34285715, 0.3857143 ,\n",
       "       0.42857143, 0.47142857, 0.51428574, 0.55714285, 0.6       ,\n",
       "       0.64285713, 0.6857143 , 0.7285714 , 0.7714286 , 0.8142857 ,\n",
       "       0.85714287, 0.9       , 0.94285715, 0.98571426, 1.0285715 ,\n",
       "       1.0714285 , 1.1142857 , 1.1571429 , 1.2       , 1.2428571 ,\n",
       "       1.2857143 , 1.3285714 , 1.3714286 , 1.4142857 ], dtype=float32)"
      ]
     },
     "execution_count": 9,
     "metadata": {},
     "output_type": "execute_result"
    }
   ],
   "source": [
    "demo.astype('float32')"
   ]
  },
  {
   "cell_type": "code",
   "execution_count": 10,
   "metadata": {},
   "outputs": [
    {
     "data": {
      "text/plain": [
       "array([0.        , 0.04285714, 0.08571429, 0.12857143, 0.17142857,\n",
       "       0.21428571, 0.25714286, 0.3       , 0.34285714, 0.38571429,\n",
       "       0.42857143, 0.47142857, 0.51428571, 0.55714286, 0.6       ,\n",
       "       0.64285714, 0.68571429, 0.72857143, 0.77142857, 0.81428571,\n",
       "       0.85714286, 0.9       , 0.94285714, 0.98571429, 1.02857143,\n",
       "       1.07142857, 1.11428571, 1.15714286, 1.2       , 1.24285714,\n",
       "       1.28571429, 1.32857143, 1.37142857, 1.41428571])"
      ]
     },
     "execution_count": 10,
     "metadata": {},
     "output_type": "execute_result"
    }
   ],
   "source": [
    "demo.astype('float64')\n",
    "# the difference is the precision (like the last number in the array is more precise with float64)"
   ]
  },
  {
   "cell_type": "markdown",
   "metadata": {},
   "source": [
    " - Can we mix types? what's the type of the `test` array below?"
   ]
  },
  {
   "cell_type": "code",
   "execution_count": 11,
   "metadata": {},
   "outputs": [
    {
     "name": "stdout",
     "output_type": "stream",
     "text": [
      "Type: float64\n",
      "[1.  1.  0.1 1.  2.5 7. ]\n"
     ]
    }
   ],
   "source": [
    "test = np.array([True, True, 0.1, 1, 2.5, 7])\n",
    "print(\"Type:\", test.dtype)\n",
    "print(test)"
   ]
  },
  {
   "cell_type": "markdown",
   "metadata": {},
   "source": [
    "Let's explore linspace to make an array:\n",
    "- Reference: https://docs.scipy.org/doc/numpy/reference/generated/numpy.linspace.html#numpy-linspace\n",
    "- numpy.linspace(start, stop, num=50, endpoint=True, retstep=False, dtype=None, axis=0)\n",
    "  - Return evenly spaced numbers over a specified interval.\n",
    "  - Returns `num` evenly spaced samples, calculated over the interval [start, stop]\n",
    "- One use of linspace: Evenly space ticks on an a chart axis\n",
    "\n",
    "- Make an array named `ln1` below from 0 to 100 spaced in 11 pieces"
   ]
  },
  {
   "cell_type": "code",
   "execution_count": 12,
   "metadata": {},
   "outputs": [
    {
     "data": {
      "text/plain": [
       "array([  0.,  10.,  20.,  30.,  40.,  50.,  60.,  70.,  80.,  90., 100.])"
      ]
     },
     "execution_count": 12,
     "metadata": {},
     "output_type": "execute_result"
    }
   ],
   "source": [
    "ln1 = np.linspace(0,100,11)\n",
    "ln1"
   ]
  },
  {
   "cell_type": "markdown",
   "metadata": {},
   "source": [
    "- Now make a linspace array named `ln2` from 0 up to 100 spaced in 11 pieces without the end point (so not including 100)\n",
    "- What's the difference between `ln1` and `ln2`?"
   ]
  },
  {
   "cell_type": "code",
   "execution_count": 13,
   "metadata": {},
   "outputs": [
    {
     "data": {
      "text/plain": [
       "array([ 0.        ,  9.09090909, 18.18181818, 27.27272727, 36.36363636,\n",
       "       45.45454545, 54.54545455, 63.63636364, 72.72727273, 81.81818182,\n",
       "       90.90909091])"
      ]
     },
     "execution_count": 13,
     "metadata": {},
     "output_type": "execute_result"
    }
   ],
   "source": [
    "ln2 = np.linspace(0,100,11, endpoint=False)\n",
    "ln2"
   ]
  },
  {
   "cell_type": "markdown",
   "metadata": {},
   "source": [
    "<h4>Exploratory analysis of array data</h4> \n",
    "Let's look at an array that contains <font color='red'>not-a-number</font> or <b>nan</b> values. \n",
    "\n",
    "- Find the min, max, mean and median of the array below named `nanvals`. What happened?"
   ]
  },
  {
   "cell_type": "code",
   "execution_count": 14,
   "metadata": {},
   "outputs": [
    {
     "name": "stdout",
     "output_type": "stream",
     "text": [
      "min : nan\n",
      "max : nan\n",
      "mean: nan\n",
      "Median: nan\n"
     ]
    },
    {
     "name": "stderr",
     "output_type": "stream",
     "text": [
      "C:\\Users\\cla\\AppData\\Local\\conda\\conda\\envs\\py3\\lib\\site-packages\\numpy\\lib\\function_base.py:3405: RuntimeWarning: Invalid value encountered in median\n",
      "  r = func(a, **kwargs)\n"
     ]
    }
   ],
   "source": [
    "nanvals = np.array([np.nan, 123, 4, 5, 10, 50, 535])\n",
    "print(\"min :\", nanvals.min())\n",
    "print(\"max :\", nanvals.max())\n",
    "print(\"mean:\", nanvals.mean())\n",
    "print(\"Median:\", np.median(nanvals))"
   ]
  },
  {
   "cell_type": "markdown",
   "metadata": {},
   "source": [
    "<h4>Additional exercises: NumPy runs a lot faster</h4>  <blockquote>A little optional fyi:  NumPy is based on Atlas, a library for linear algebra operations (see http://math-atlas.sourceforge.net/). NumPy arrays are densely packed arrays of homogeneous type. Python lists, by contrast, are arrays of pointers to objects, even when all of them are of the same type. So, you get the benefits of <font color='red'>locality of reference</font>. If we're summing integers, there's a specialized CPU vector operation (https://superuser.com/questions/1170062/whats-the-difference-between-a-superscalar-and-a-vector-processor).\n",
    "\n",
    "Also, many NumPy operations are implemented in C, avoiding the general cost of loops in Python, pointer indirection and per-element dynamic type checking. The speed boost depends on which operations you are performing, but a few orders of magnitude isn't uncommon in number crunching programs.</blockquote>"
   ]
  },
  {
   "cell_type": "markdown",
   "metadata": {},
   "source": [
    "- Using the magic commands to time a code block in Jupyter: first create a list of range of numbers 0, 25000 and then filter the list by only values that are even"
   ]
  },
  {
   "cell_type": "code",
   "execution_count": 15,
   "metadata": {},
   "outputs": [
    {
     "name": "stdout",
     "output_type": "stream",
     "text": [
      "1.76 ms ± 54.3 µs per loop (mean ± std. dev. of 7 runs, 1000 loops each)\n"
     ]
    }
   ],
   "source": [
    "%%timeit\n",
    "\n",
    "demo_list = range(25000)\n",
    "[x for x in demo_list if x % 2 == 0]"
   ]
  },
  {
   "cell_type": "markdown",
   "metadata": {},
   "source": [
    "- Now time the same creating an NumPy array of values 0 to 25000 and filtering out only the even values"
   ]
  },
  {
   "cell_type": "code",
   "execution_count": 16,
   "metadata": {},
   "outputs": [
    {
     "name": "stdout",
     "output_type": "stream",
     "text": [
      "254 µs ± 885 ns per loop (mean ± std. dev. of 7 runs, 1000 loops each)\n"
     ]
    }
   ],
   "source": [
    "%%timeit\n",
    "\n",
    "demoNp = np.arange(25000)\n",
    "demoNp[demoNp % 2 == 0]"
   ]
  }
 ],
 "metadata": {
  "kernelspec": {
   "display_name": "Python 3",
   "language": "python",
   "name": "python3"
  },
  "language_info": {
   "codemirror_mode": {
    "name": "ipython",
    "version": 3
   },
   "file_extension": ".py",
   "mimetype": "text/x-python",
   "name": "python",
   "nbconvert_exporter": "python",
   "pygments_lexer": "ipython3",
   "version": "3.6.8"
  }
 },
 "nbformat": 4,
 "nbformat_minor": 2
}
