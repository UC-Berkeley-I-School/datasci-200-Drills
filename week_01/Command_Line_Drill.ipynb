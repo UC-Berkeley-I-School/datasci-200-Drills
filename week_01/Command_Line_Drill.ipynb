{
 "cells": [
  {
   "cell_type": "markdown",
   "metadata": {},
   "source": [
    "## The Anaconda Installation "
   ]
  },
  {
   "cell_type": "markdown",
   "metadata": {},
   "source": [
    "### Drills Note:\n",
    "- These drills/exercises are designed to give you more practice with Python and to help bridge the difficulty between the async and the homework assignments. They are optional but highly encouraged as a lot of programming skill comes from a certain familiarity and repetition with the code!\n",
    "- The drills are run on datahub (a berkeley server). Since the server is running a Linux environment, use the Linux commands below. Also, all of the commands are run on the server so the output might not look like the information below. You can download a notebook to your computer and run it locally if you prefer. Also all of the notebooks and solutions are in the course materials repository:  https://github.com/UC-Berkeley-I-School/datasci-200-Course-Materials (if you don't have access to that repo please email the course coordiantor!)\n",
    "\n",
    "\n",
    "### This exercise notes:\n",
    "- To better understand what you have installed with the Anaconda distribution that you installed lets do some exploring. In order to run command line processes through this notebook we will preface the commands with \"!\". The \"!\" uses the IPython shortcut to launch command line processes. Because Jupyter notebooks use the IPython interpreters, we are able to do this, but it will not work with all python interpreters.\n",
    "- The following is the exploration and output on my machine. Run the same commands on your machine and modify them if necessary. \n",
    "- Since command line commands are different on Mac/Linux vs Windows, both commands are given (in separate blocks).\n",
    "  - If you are running this notebook from the link, it is hosted on the datahub servers. Use the Linux blocks to run code there!\n",
    "  - You can also download the notebook and run it from your local computer. If you do that, please use the cell with the commands of your computer's operating system.\n",
    "- In code cells comments are prefaced by \"#\""
   ]
  },
  {
   "cell_type": "markdown",
   "metadata": {},
   "source": [
    "### Getting the current working directory to see where you are"
   ]
  },
  {
   "cell_type": "code",
   "execution_count": 1,
   "metadata": {},
   "outputs": [
    {
     "ename": "NameError",
     "evalue": "name 'pwd' is not defined",
     "output_type": "error",
     "traceback": [
      "\u001b[1;31m---------------------------------------------------------------------------\u001b[0m",
      "\u001b[1;31mNameError\u001b[0m                                 Traceback (most recent call last)",
      "\u001b[1;32m<ipython-input-1-7717a04ba464>\u001b[0m in \u001b[0;36m<module>\u001b[1;34m\u001b[0m\n\u001b[0;32m      1\u001b[0m \u001b[1;31m# whats wrong with this?\u001b[0m\u001b[1;33m\u001b[0m\u001b[1;33m\u001b[0m\u001b[1;33m\u001b[0m\u001b[0m\n\u001b[1;32m----> 2\u001b[1;33m \u001b[0mpwd\u001b[0m\u001b[1;33m\u001b[0m\u001b[1;33m\u001b[0m\u001b[0m\n\u001b[0m",
      "\u001b[1;31mNameError\u001b[0m: name 'pwd' is not defined"
     ]
    }
   ],
   "source": [
    "# whats wrong with this?\n",
    "pwd"
   ]
  },
  {
   "cell_type": "code",
   "execution_count": null,
   "metadata": {},
   "outputs": [],
   "source": [
    "# get the current working directory to see where you are, use !  to get to the command line\n",
    "\n",
    "# Mac/Linux\n",
    "!pwd"
   ]
  },
  {
   "cell_type": "code",
   "execution_count": null,
   "metadata": {},
   "outputs": [],
   "source": [
    "# Windows\n",
    "!echo %cd%"
   ]
  },
  {
   "cell_type": "markdown",
   "metadata": {},
   "source": [
    "### Find out which python version\n",
    "- Note what python version is running on the server\n",
    "- To look at your version, download the notebook and run from your local machine"
   ]
  },
  {
   "cell_type": "code",
   "execution_count": null,
   "metadata": {},
   "outputs": [],
   "source": [
    "# Will work for everything: Mac/Linux & Windows\n",
    "\n",
    "!python --version"
   ]
  },
  {
   "cell_type": "markdown",
   "metadata": {},
   "source": [
    "### Find where the current python is"
   ]
  },
  {
   "cell_type": "code",
   "execution_count": null,
   "metadata": {},
   "outputs": [],
   "source": [
    "# Mac/Linux\n",
    "!which python"
   ]
  },
  {
   "cell_type": "code",
   "execution_count": null,
   "metadata": {},
   "outputs": [],
   "source": [
    "# Windows\n",
    "!where python"
   ]
  },
  {
   "cell_type": "code",
   "execution_count": null,
   "metadata": {},
   "outputs": [],
   "source": [
    "# Mac/Linux\n",
    "\n",
    "# binaries (/bin) are the packages and modules that are installed for the \n",
    "# current binaries, look into your binaries folder\n",
    "\n",
    "# Use the extension found above!\n",
    "!ls -al \"/Users/GunnarK/miniconda/bin/\"\n",
    "\n",
    "# Look at some of these folders also note in my folder, some packages have \n",
    "# \"symbolic links\" noted by \"->\" to the actual package that will be used.\n"
   ]
  },
  {
   "cell_type": "code",
   "execution_count": null,
   "metadata": {},
   "outputs": [],
   "source": [
    "# Windows\n",
    "!dir \"/Users/GunnarK/miniconda/bin/\""
   ]
  },
  {
   "cell_type": "markdown",
   "metadata": {
    "collapsed": true
   },
   "source": [
    "### The interpreter finds the packages by traversing the system path file\n",
    "\n",
    "This is why you had to append the path of the Anaconda code to the search path when you installed Anaconda\n",
    "\n",
    "Can you find the anaconda specific paths below? \n",
    "\n",
    "Can you find them in your workspace?"
   ]
  },
  {
   "cell_type": "code",
   "execution_count": null,
   "metadata": {},
   "outputs": [],
   "source": [
    "# Mac/linux:\n",
    "!echo $PATH"
   ]
  },
  {
   "cell_type": "code",
   "execution_count": null,
   "metadata": {},
   "outputs": [],
   "source": [
    "# Windows\n",
    "!echo %Path%"
   ]
  },
  {
   "cell_type": "markdown",
   "metadata": {
    "collapsed": true
   },
   "source": [
    "### Finally, my system has separate conda environments built to have better control over dependencies.\n",
    "- Note the path to each environment. The ```*``` denotes the current environment\n",
    "\n",
    "Look at this on your system. Do you have any environments other then 'base'? \n",
    "\n",
    "If you want to try to make one: \n",
    "https://conda.io/docs/user-guide/tasks/manage-environments.html"
   ]
  },
  {
   "cell_type": "code",
   "execution_count": null,
   "metadata": {},
   "outputs": [],
   "source": [
    "# Will work for everything: Mac/Linux & Windows\n",
    "\n",
    "!conda info --envs"
   ]
  }
 ],
 "metadata": {
  "kernelspec": {
   "display_name": "Python 3",
   "language": "python",
   "name": "python3"
  },
  "language_info": {
   "codemirror_mode": {
    "name": "ipython",
    "version": 3
   },
   "file_extension": ".py",
   "mimetype": "text/x-python",
   "name": "python",
   "nbconvert_exporter": "python",
   "pygments_lexer": "ipython3",
   "version": "3.8.11"
  }
 },
 "nbformat": 4,
 "nbformat_minor": 2
}
