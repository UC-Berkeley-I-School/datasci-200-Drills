{
 "cells": [
  {
   "cell_type": "markdown",
   "metadata": {},
   "source": [
    "## Introduction to the Command Line"
   ]
  },
  {
   "cell_type": "markdown",
   "metadata": {},
   "source": [
    "### Drills Note:\n",
    "- This drill/exercise is designed to give you more practice with the Linux command line and to help bridge the difficulty between the async and the homework assignments. They are optional but highly encouraged as a lot of programming skill comes from a certain familiarity and repetition with the code!\n",
    "- The drills are run on datahub (a berkeley server). Since the server is running a Linux environment, use the Linux commands!\n",
    "  - You can download a notebook to your computer and run it locally if you prefer. Also all of the notebooks and solutions are in the course materials repository:  https://github.com/UC-Berkeley-I-School/datasci-200-Course-Materials (if you don't have access to that repo please email the instructors!)\n",
    "\n",
    "### This exercise notes:\n",
    "\n",
    "1) To open the terminal window - click on the blue plus sign in the upper left:\n",
    "\n",
    "\n",
    "2) "
   ]
  },
  {
   "cell_type": "markdown",
   "metadata": {},
   "source": [
    "#### First let's see what the current folder we are located in:\n",
    "\n",
    "- The command to do this is `pwd`\n",
    "- Type that into the terminal!\n",
    "\n",
    "#### From this folder - do the following commands:\n",
    "\n",
    "1) Make a new directory called **first_drill**\n",
    "2) Make a new file called **notes.txt**\n",
    "3) Using the editor VIM, add the first line to notes.txt - \"Testing out the VIM editor!\"\n",
    "   - You can start VIM by the command `vim notes.txt`\n",
    "   - Make sure you are inserting into the file (Hit the INSERT key until it says -- INSERT -- in the bottom left corner)\n",
    "   - Remember to close VIM by hitting ESC then typing: ':wq' and hitting enter\n",
    "4) Now from the command line, add this new line to **notes.txt** - \"Adding text from the command line.\"\n",
    "5) From the command line, look at the contents of **notes.txt**\n",
    "6) Using relative paths, move **notes.txt** to the folder **first_drill**\n",
    "7) Without using `cd`, make a new folder in the **first_drill** folder called **extra_notes**\n",
    "8) Using relative paths, copy **notes.txt** to the new folder **extra_notes** made in 7 above\n",
    "9) Rename the **notes.txt** in the **first_drill/extra_notes** folder to **copy_of_notes.txt**"
   ]
  }
 ],
 "metadata": {
  "kernelspec": {
   "display_name": "Python 3",
   "language": "python",
   "name": "python3"
  },
  "language_info": {
   "codemirror_mode": {
    "name": "ipython",
    "version": 3
   },
   "file_extension": ".py",
   "mimetype": "text/x-python",
   "name": "python",
   "nbconvert_exporter": "python",
   "pygments_lexer": "ipython3",
   "version": "3.8.11"
  }
 },
 "nbformat": 4,
 "nbformat_minor": 2
}
