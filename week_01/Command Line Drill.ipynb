{
 "cells": [
  {
   "cell_type": "markdown",
   "metadata": {},
   "source": [
    "## The Anaconda Installation "
   ]
  },
  {
   "cell_type": "markdown",
   "metadata": {},
   "source": [
    "### Drills Note:\n",
    "- This drill/exercise is designed to give you more practice with the Linux command line and to help bridge the difficulty between the async and the homework assignments. They are optional but highly encouraged as a lot of programming skill comes from a certain familiarity and repetition with the code!\n",
    "- The drills are run on datahub (a berkeley server). Since the server is running a Linux environment, use the Linux commands!\n",
    "  - You can download a notebook to your computer and run it locally if you prefer. Also all of the notebooks and solutions are in the course materials repository:  https://github.com/UC-Berkeley-I-School/datasci-200-Course-Materials (if you don't have access to that repo please email the instructors!)\n",
    "\n",
    "### This exercise notes:\n"
   ]
  },
  {
   "cell_type": "markdown",
   "metadata": {},
   "source": [
    "### Getting the current working directory to see where you are"
   ]
  }
 ],
 "metadata": {
  "kernelspec": {
   "display_name": "Python 3",
   "language": "python",
   "name": "python3"
  },
  "language_info": {
   "codemirror_mode": {
    "name": "ipython",
    "version": 3
   },
   "file_extension": ".py",
   "mimetype": "text/x-python",
   "name": "python",
   "nbconvert_exporter": "python",
   "pygments_lexer": "ipython3",
   "version": "3.8.11"
  }
 },
 "nbformat": 4,
 "nbformat_minor": 2
}
