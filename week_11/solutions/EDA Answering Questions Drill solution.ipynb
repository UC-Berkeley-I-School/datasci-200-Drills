{
 "cells": [
  {
   "cell_type": "markdown",
   "metadata": {},
   "source": [
    "## EDA: Answering Questions from the Dataset\n",
    "\n",
    "For this drill, we will using a modified dataset from the CO Animal Shelter info (named PACFA and can be found here: https://ag.colorado.gov/ics/pet-animal-care-facilities-act-pacfa/animal-shelter-and-rescue-individual-statistics )\n",
    "\n",
    "The data consists of two separate files - one for the 2019 statistics and one for the 2020 statistics.  \n",
    "\n",
    "Your boss wants you to answer a few of questions from the dataset:\n",
    "- Overall numbers for 2019 and 2020 in these categories:\n",
    "  - Intake for cats & dogs\n",
    "  - Outake for cats & dogs\n",
    "  - Comparison of 2020 vs 2019 both in numbers and a percent\n",
    "  - Make this a table so you can present it to your boss & other stakeholders\n",
    "- Did data quality improve from 2019 to 2020?\n",
    "- Anecdotally, during 2020 it seemed like everyone was adopting new pets - does this show in the data?\n",
    "\n",
    "\n",
    "Some considerations about the dataset:\n",
    "- In 2020, the collection requirements and process changed in an attempt to improve data quality. This also caused the column names to be slightly different between years. \n",
    "- You can combine the files into one but this isn't necessary; both approaches have different problems to solve!"
   ]
  },
  {
   "cell_type": "markdown",
   "metadata": {},
   "source": [
    "### Answering Questions\n",
    "\n",
    "Use as many cells below as you'd like to answer the questions from your boss!"
   ]
  },
  {
   "cell_type": "markdown",
   "metadata": {},
   "source": [
    "First thing is to make a summary table with this information. You could find the information and cut/paste into a spreadsheet or make a new dataframe and save it (which we will do below).\n",
    "\n",
    "- Overall numbers for 2019 and 2020 in these categories:\n",
    "  - Intake for cats & dogs\n",
    "  - Outake for cats & dogs\n",
    "  - Comparison of 2020 vs 2019 both in numbers and a percent\n",
    "  - Make this a table so you can present it to your boss & other stakeholders\n",
    "\n",
    "\n",
    "The vision here is to have 4 rows:\n",
    "- Intake dogs\n",
    "- Outake dogs\n",
    "- Intake cats\n",
    "- Outake cats\n",
    "\n",
    "With 4 columns:\n",
    "- 2019\n",
    "- 2020\n",
    "- Diff in number 2019-2020\n",
    "- Diff in % 2019-2020"
   ]
  },
  {
   "cell_type": "code",
   "execution_count": 1,
   "metadata": {},
   "outputs": [],
   "source": [
    "import pandas as pd\n",
    "import numpy as np\n",
    "pd.set_option('display.max_columns', None)"
   ]
  },
  {
   "cell_type": "code",
   "execution_count": 2,
   "metadata": {},
   "outputs": [],
   "source": [
    "as19 = pd.read_csv('2019_shelter_report_analysis.csv')\n",
    "as20 = pd.read_csv('2020_shelter_report_analysis.csv')"
   ]
  },
  {
   "cell_type": "code",
   "execution_count": 3,
   "metadata": {},
   "outputs": [
    {
     "data": {
      "text/plain": [
       "170345.0"
      ]
     },
     "execution_count": 3,
     "metadata": {},
     "output_type": "execute_result"
    }
   ],
   "source": [
    "sum(sum(as19[col]) for col in as19.columns if '_in_' in col)"
   ]
  },
  {
   "cell_type": "code",
   "execution_count": 4,
   "metadata": {},
   "outputs": [],
   "source": [
    "intake_dogs_2019 = sum(sum(as19[col]) for col in as19.columns if '_in_D' in col)\n",
    "outake_dogs_2019 = sum(sum(as19[col]) for col in as19.columns if '_out_D' in col)\n",
    "intake_cats_2019 = sum(sum(as19[col]) for col in as19.columns if '_in_C' in col)\n",
    "outake_cats_2019 = sum(sum(as19[col]) for col in as19.columns if '_out_C' in col)"
   ]
  },
  {
   "cell_type": "code",
   "execution_count": 5,
   "metadata": {},
   "outputs": [],
   "source": [
    "intake_dogs_2020 = sum(sum(as20[col]) for col in as20.columns if '_in_D' in col)\n",
    "outake_dogs_2020 = sum(sum(as20[col]) for col in as20.columns if '_out_D' in col)\n",
    "intake_cats_2020 = sum(sum(as20[col]) for col in as20.columns if '_in_C' in col)\n",
    "outake_cats_2020 = sum(sum(as20[col]) for col in as20.columns if '_out_C' in col)"
   ]
  },
  {
   "cell_type": "code",
   "execution_count": 6,
   "metadata": {},
   "outputs": [],
   "source": [
    "final = pd.DataFrame([\n",
    "        [intake_dogs_2019, intake_dogs_2020],\n",
    "        [outake_dogs_2019, outake_dogs_2020],\n",
    "        [intake_cats_2019, intake_cats_2020],\n",
    "        [outake_cats_2019, outake_cats_2020]\n",
    "    ],\n",
    "    columns=['2019', '2020'],\n",
    "    index=['intake_dogs', 'outake_dogs', 'intake_cats', 'outake_cats']\n",
    "    )"
   ]
  },
  {
   "cell_type": "code",
   "execution_count": 7,
   "metadata": {},
   "outputs": [
    {
     "data": {
      "text/html": [
       "<div>\n",
       "<style scoped>\n",
       "    .dataframe tbody tr th:only-of-type {\n",
       "        vertical-align: middle;\n",
       "    }\n",
       "\n",
       "    .dataframe tbody tr th {\n",
       "        vertical-align: top;\n",
       "    }\n",
       "\n",
       "    .dataframe thead th {\n",
       "        text-align: right;\n",
       "    }\n",
       "</style>\n",
       "<table border=\"1\" class=\"dataframe\">\n",
       "  <thead>\n",
       "    <tr style=\"text-align: right;\">\n",
       "      <th></th>\n",
       "      <th>2019</th>\n",
       "      <th>2020</th>\n",
       "    </tr>\n",
       "  </thead>\n",
       "  <tbody>\n",
       "    <tr>\n",
       "      <th>intake_dogs</th>\n",
       "      <td>103790.0</td>\n",
       "      <td>94498.0</td>\n",
       "    </tr>\n",
       "    <tr>\n",
       "      <th>outake_dogs</th>\n",
       "      <td>97934.0</td>\n",
       "      <td>90294.0</td>\n",
       "    </tr>\n",
       "    <tr>\n",
       "      <th>intake_cats</th>\n",
       "      <td>66555.0</td>\n",
       "      <td>62588.0</td>\n",
       "    </tr>\n",
       "    <tr>\n",
       "      <th>outake_cats</th>\n",
       "      <td>59022.0</td>\n",
       "      <td>58303.0</td>\n",
       "    </tr>\n",
       "  </tbody>\n",
       "</table>\n",
       "</div>"
      ],
      "text/plain": [
       "                 2019     2020\n",
       "intake_dogs  103790.0  94498.0\n",
       "outake_dogs   97934.0  90294.0\n",
       "intake_cats   66555.0  62588.0\n",
       "outake_cats   59022.0  58303.0"
      ]
     },
     "execution_count": 7,
     "metadata": {},
     "output_type": "execute_result"
    }
   ],
   "source": [
    "final"
   ]
  },
  {
   "cell_type": "code",
   "execution_count": 8,
   "metadata": {},
   "outputs": [
    {
     "data": {
      "text/html": [
       "<div>\n",
       "<style scoped>\n",
       "    .dataframe tbody tr th:only-of-type {\n",
       "        vertical-align: middle;\n",
       "    }\n",
       "\n",
       "    .dataframe tbody tr th {\n",
       "        vertical-align: top;\n",
       "    }\n",
       "\n",
       "    .dataframe thead th {\n",
       "        text-align: right;\n",
       "    }\n",
       "</style>\n",
       "<table border=\"1\" class=\"dataframe\">\n",
       "  <thead>\n",
       "    <tr style=\"text-align: right;\">\n",
       "      <th></th>\n",
       "      <th>2019</th>\n",
       "      <th>2020</th>\n",
       "      <th>Total_diff</th>\n",
       "      <th>Percent_diff</th>\n",
       "    </tr>\n",
       "  </thead>\n",
       "  <tbody>\n",
       "    <tr>\n",
       "      <th>intake_dogs</th>\n",
       "      <td>103790.0</td>\n",
       "      <td>94498.0</td>\n",
       "      <td>-9292.0</td>\n",
       "      <td>-0.089527</td>\n",
       "    </tr>\n",
       "    <tr>\n",
       "      <th>outake_dogs</th>\n",
       "      <td>97934.0</td>\n",
       "      <td>90294.0</td>\n",
       "      <td>-7640.0</td>\n",
       "      <td>-0.078012</td>\n",
       "    </tr>\n",
       "    <tr>\n",
       "      <th>intake_cats</th>\n",
       "      <td>66555.0</td>\n",
       "      <td>62588.0</td>\n",
       "      <td>-3967.0</td>\n",
       "      <td>-0.059605</td>\n",
       "    </tr>\n",
       "    <tr>\n",
       "      <th>outake_cats</th>\n",
       "      <td>59022.0</td>\n",
       "      <td>58303.0</td>\n",
       "      <td>-719.0</td>\n",
       "      <td>-0.012182</td>\n",
       "    </tr>\n",
       "  </tbody>\n",
       "</table>\n",
       "</div>"
      ],
      "text/plain": [
       "                 2019     2020  Total_diff  Percent_diff\n",
       "intake_dogs  103790.0  94498.0     -9292.0     -0.089527\n",
       "outake_dogs   97934.0  90294.0     -7640.0     -0.078012\n",
       "intake_cats   66555.0  62588.0     -3967.0     -0.059605\n",
       "outake_cats   59022.0  58303.0      -719.0     -0.012182"
      ]
     },
     "execution_count": 8,
     "metadata": {},
     "output_type": "execute_result"
    }
   ],
   "source": [
    "final['Total_diff'] = final['2020'] - final['2019']\n",
    "final['Percent_diff'] = final['Total_diff'] / final['2019']\n",
    "final"
   ]
  },
  {
   "cell_type": "markdown",
   "metadata": {},
   "source": [
    "- Did data quality improve from 2019 to 2020?\n",
    "\n",
    "There isn't any noticeable data quality changes between 2019, 2020. There are some empty rows in each and there were more columns in the 2019 data (the 12/31/2019 summary data) that were dropped in 2020. "
   ]
  },
  {
   "cell_type": "markdown",
   "metadata": {},
   "source": [
    "- Anecdotally, during 2020 it seemed like everyone was adopting new pets - does this show in the data?\n",
    "\n",
    "From the data the numers of both intake and outage went down but the %s show a greater percent of animals were adopted based on intake."
   ]
  },
  {
   "cell_type": "code",
   "execution_count": 9,
   "metadata": {},
   "outputs": [
    {
     "name": "stdout",
     "output_type": "stream",
     "text": [
      "2019: 0.9435783794199827\n",
      "2020: 0.9555122859743064\n"
     ]
    }
   ],
   "source": [
    "print('2019:', final.loc['outake_dogs', '2019'] / final.loc['intake_dogs', '2019'])\n",
    "print('2020:', final.loc['outake_dogs', '2020'] / final.loc['intake_dogs', '2020'])"
   ]
  },
  {
   "cell_type": "code",
   "execution_count": 10,
   "metadata": {},
   "outputs": [
    {
     "name": "stdout",
     "output_type": "stream",
     "text": [
      "2019: 0.886815415821501\n",
      "2020: 0.9315363967533713\n"
     ]
    }
   ],
   "source": [
    "print('2019:', final.loc['outake_cats', '2019'] / final.loc['intake_cats', '2019'])\n",
    "print('2020:', final.loc['outake_cats', '2020'] / final.loc['intake_cats', '2020'])"
   ]
  }
 ],
 "metadata": {
  "kernelspec": {
   "display_name": "Python 3",
   "language": "python",
   "name": "python3"
  },
  "language_info": {
   "codemirror_mode": {
    "name": "ipython",
    "version": 3
   },
   "file_extension": ".py",
   "mimetype": "text/x-python",
   "name": "python",
   "nbconvert_exporter": "python",
   "pygments_lexer": "ipython3",
   "version": "3.8.11"
  }
 },
 "nbformat": 4,
 "nbformat_minor": 4
}
