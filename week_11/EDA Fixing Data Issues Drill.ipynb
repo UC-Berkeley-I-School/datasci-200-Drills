{
 "cells": [
  {
   "cell_type": "markdown",
   "metadata": {},
   "source": [
    "## EDA: Fixing Dataset Issues\n",
    "\n",
    "For this drill, we will using a modified dataset from the CO Animal Shelter info (named PACFA and can be found here: https://ag.colorado.gov/ics/pet-animal-care-facilities-act-pacfa/animal-shelter-and-rescue-individual-statistics )\n",
    "\n",
    "The data consists of two separate files - one for the 2019 statistics and one for the 2020 statistics.  \n",
    "\n",
    "Your boss wants you to answer a few of questions from the dataset:\n",
    "- Overall numbers for 2019 and 2020 in these categories:\n",
    "  - Intake for cats & dogs\n",
    "  - Outake for cats & dogs\n",
    "  - Comparison of 2020 vs 2019 both in numbers and a percent\n",
    "  - Make this a table so you can present it to your boss & other stakeholders\n",
    "- Did data quality improve from 2019 to 2020?\n",
    "- Anecdotally, during 2020 it seemed like everyone was adopting new pets - does this show in the data?\n",
    "\n",
    "\n",
    "Some considerations about the dataset:\n",
    "- In 2020, the collection requirements and process changed in an attempt to improve data quality. This also caused the column names to be slightly different between years. \n",
    "- You can combine the files into one but this isn't necessary; both approaches have different problems to solve!"
   ]
  },
  {
   "cell_type": "markdown",
   "metadata": {},
   "source": [
    "#### Fixing Dataset Issues\n",
    "\n",
    "In this drill go through your findings from the previous drill and correct the dataset errors. Use as many cells as needed below.\n",
    "\n",
    "The two files are: \n",
    "\n",
    "- 2019 Individual Shelter and Rescue Report.csv\n",
    "- 2020 Animal Shelter and Rescue Individual Report.csv"
   ]
  },
  {
   "cell_type": "code",
   "execution_count": null,
   "metadata": {},
   "outputs": [],
   "source": []
  }
 ],
 "metadata": {
  "kernelspec": {
   "display_name": "Python 3",
   "language": "python",
   "name": "python3"
  },
  "language_info": {
   "codemirror_mode": {
    "name": "ipython",
    "version": 3
   },
   "file_extension": ".py",
   "mimetype": "text/x-python",
   "name": "python",
   "nbconvert_exporter": "python",
   "pygments_lexer": "ipython3",
   "version": "3.8.11"
  }
 },
 "nbformat": 4,
 "nbformat_minor": 4
}
