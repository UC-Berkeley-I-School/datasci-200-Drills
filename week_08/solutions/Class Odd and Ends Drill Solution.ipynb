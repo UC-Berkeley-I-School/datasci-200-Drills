{
 "cells": [
  {
   "cell_type": "markdown",
   "metadata": {},
   "source": [
    "# Class Odds and Ends\n",
    "\n",
    "### Now use property decorators to experiment with another syntax to specify the getter and setter methods.\n",
    "\n",
    "- Note the syntax differences required to operate the @property getter and setter versus the custom getter and setter methods."
   ]
  },
  {
   "cell_type": "code",
   "execution_count": 1,
   "metadata": {},
   "outputs": [],
   "source": [
    "class Company():\n",
    "    \n",
    "    '''An entity that represents a startup company it contains employee and funding data\n",
    "    Attributes:\n",
    "    employee_list\n",
    "    employee_count\n",
    "    funding_list\n",
    "    \n",
    "    Methods:\n",
    "    add_employee_name()\n",
    "    add_funding()'''\n",
    "    \n",
    "    def __init__(self, employee_name, amount=0):\n",
    "        self.employee_list=[]\n",
    "        self.employee_count=0\n",
    "        self.funding_list=[]\n",
    "        if amount > 0:\n",
    "            self.funding_list.append(amount)\n",
    "        self.employee_list.append(employee_name)  \n",
    "        self.employee_count+=1\n",
    "        self.__client_list=[]\n",
    "    \n",
    "    def add_employee_name(self, employee_name=\"unnamed\"): \n",
    "        if employee_name != \"unnamed\":\n",
    "            self.employee_list.append(employee_name)  \n",
    "            self.employee_count+=1\n",
    "        else:\n",
    "            print (\"Don't forget to add an employee name!\")\n",
    "    \n",
    "    def add_funding(self, amount=0):\n",
    "        self.funding_list.append(amount)\n",
    "        print('Your funding addition was {}'.format(amount))\n",
    "        print('Total funding is {}'.format(sum(self.funding_list)))        \n",
    "    \n",
    "    @property\n",
    "    def clientlist(self):\n",
    "        return self.__client_list\n",
    "    \n",
    "    @clientlist.setter\n",
    "    def clientlist(self, new_client=\"None\"):\n",
    "        if new_client == \"None\":\n",
    "            return print(\"Please add a client when setting a client\")\n",
    "        self.__client_list.append(new_client)"
   ]
  },
  {
   "cell_type": "code",
   "execution_count": 2,
   "metadata": {},
   "outputs": [
    {
     "name": "stdout",
     "output_type": "stream",
     "text": [
      "[]\n",
      "['Nabisco', 'WunderBrush']\n"
     ]
    }
   ],
   "source": [
    "c4 = Company(\"Bill\")\n",
    "print(c4.clientlist)\n",
    "\n",
    "c4.clientlist = \"Nabisco\"\n",
    "c4.clientlist = \"WunderBrush\"\n",
    "print(c4.clientlist)"
   ]
  }
 ],
 "metadata": {
  "kernelspec": {
   "display_name": "Python 3",
   "language": "python",
   "name": "python3"
  },
  "language_info": {
   "codemirror_mode": {
    "name": "ipython",
    "version": 3
   },
   "file_extension": ".py",
   "mimetype": "text/x-python",
   "name": "python",
   "nbconvert_exporter": "python",
   "pygments_lexer": "ipython3",
   "version": "3.6.8"
  }
 },
 "nbformat": 4,
 "nbformat_minor": 2
}
