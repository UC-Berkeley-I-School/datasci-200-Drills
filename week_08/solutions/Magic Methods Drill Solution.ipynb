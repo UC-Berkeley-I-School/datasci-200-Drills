{
 "cells": [
  {
   "cell_type": "markdown",
   "metadata": {},
   "source": [
    "# Magic Methods\n",
    "\n",
    "Take the ```Company``` class as well as the ```Entertain_co``` and ```Finance_co``` from the previous unit. Let's add some magic methods for greater than, less than and equal to, to be able to compare companies: \n",
    "\n",
    "- The comparison will be a metric that will be the # of employees multiplied by the funding.  \n",
    "  - Hint: It might be easiest to add a new method to calculate the value and then call that whenever the value would be updated (like in init, and whenever an employee or funding changes!) \n",
    "- Add these methods to the ```Company``` class so they easily populate to the children classes!"
   ]
  },
  {
   "cell_type": "code",
   "execution_count": 15,
   "metadata": {},
   "outputs": [],
   "source": [
    "class Company():\n",
    "    \n",
    "    '''An entity that represents a startup company it contains employee and funding data\n",
    "    Attributes:\n",
    "    employee_list\n",
    "    employee_count\n",
    "    funding_list\n",
    "    \n",
    "    Methods:\n",
    "    add_employee_name()\n",
    "    add_funding()'''\n",
    "    \n",
    "    def __init__(self, employee_name, amount=0):\n",
    "        self.employee_list=[]\n",
    "        self.employee_count=0\n",
    "        self.funding_list=[]\n",
    "        if amount > 0:\n",
    "            self.funding_list.append(amount)\n",
    "        self.employee_list.append(employee_name)  \n",
    "        self.employee_count+=1\n",
    "        self.__client_list=[]\n",
    "        self.update_value()\n",
    "    \n",
    "    def add_employee_name(self, employee_name=\"unnamed\"): \n",
    "        if employee_name != \"unnamed\":\n",
    "            self.employee_list.append(employee_name)  \n",
    "            self.employee_count+=1\n",
    "            self.update_value()\n",
    "        else:\n",
    "            print (\"Don't forget to add an employee name!\")\n",
    "    \n",
    "    def add_funding(self, amount=0):\n",
    "        self.funding_list.append(amount)\n",
    "        self.update_value()\n",
    "        print('Your funding addition was {}'.format(amount))\n",
    "        print('Total funding is {}'.format(sum(self.funding_list)))        \n",
    "    \n",
    "    def __eq__(self, other):\n",
    "        if self.value == other.value:\n",
    "            return True\n",
    "        else:\n",
    "            return False\n",
    "        \n",
    "    def __lt__(self, other):\n",
    "        if self.value < other.value:\n",
    "            return True\n",
    "        else:\n",
    "            return False\n",
    "        \n",
    "    def __gt__(self, other):\n",
    "        if self.value > other.value:\n",
    "            return True\n",
    "        else:\n",
    "            return False\n",
    "        \n",
    "    def update_value(self):\n",
    "        self.value = self.employee_count * sum(self.funding_list)\n",
    "    \n",
    "    @property\n",
    "    def clientlist(self):\n",
    "        return self.__client_list\n",
    "    \n",
    "    @clientlist.setter\n",
    "    def clientlist(self, new_client=\"None\"):\n",
    "        if new_client == \"None\":\n",
    "            return print(\"Please add a client when setting a client\")\n",
    "        self.__client_list.append(new_client)"
   ]
  },
  {
   "cell_type": "code",
   "execution_count": 16,
   "metadata": {},
   "outputs": [],
   "source": [
    "# Add children classes here (copy/paste from the previous drill!)\n",
    "\n",
    "import random\n",
    "\n",
    "class Finance_co(Company):\n",
    "    \n",
    "    def __init__(self, employee_name, amount=0):\n",
    "        super().__init__(employee_name, amount)\n",
    "        \n",
    "    def invest_money(self, investment):\n",
    "        \n",
    "        # check for a valid input\n",
    "        if investment < 1:\n",
    "            print(\"Unable to invest less than 1 dollar\")\n",
    "        elif investment > sum(self.funding_list):\n",
    "             print(\"Unable to invest\", investment, \"due to insufficent funds!\")\n",
    "        else:\n",
    "            \n",
    "            # keep pulling money from funding until \n",
    "            total = investment\n",
    "            while total > 0:\n",
    "                total = total - self.funding_list.pop()\n",
    "            \n",
    "            invest_return = round(investment + (investment * (random.random() - 0.5)), 2)\n",
    "            \n",
    "            if total < 0:\n",
    "                self.funding_list.append(-total)\n",
    "            self.funding_list.append(invest_return)\n",
    "            self.update_value()\n",
    "            print(\"Your investment of\", investment, \"returned\", invest_return)\n",
    "\n",
    "            \n",
    "class Entertain_co(Company):\n",
    "    \n",
    "    def __init__(self, employee_name, amount=0):\n",
    "        super().__init__(employee_name, amount)\n",
    "        \n",
    "    def add_shows(self, name='?'):\n",
    "        if name != \"?\":\n",
    "            employees = random.randint(1,10)\n",
    "            for emp in range(0,employees):\n",
    "                new_name = name + str(emp)\n",
    "                self.add_employee_name(new_name)\n",
    "            self.update_value()\n",
    "            print(\"The new show\", name, \"is added with\", employees, \"new employees!\")\n",
    "        else:\n",
    "            print (\"Don't forget to add the show's name!\")"
   ]
  },
  {
   "cell_type": "code",
   "execution_count": 17,
   "metadata": {},
   "outputs": [
    {
     "name": "stdout",
     "output_type": "stream",
     "text": [
      "Finance_co:\n",
      "Your investment of 10000 returned 6653.64\n",
      "Employees: 1 \n",
      "Funding: 96653.64\n",
      "Value: 96653.64\n",
      "\n",
      "\n",
      "Entertain_co:\n",
      "The new show Python is added with 6 new employees!\n",
      "Employees: 7 \n",
      "Funding: 10000\n",
      "Value: 70000\n"
     ]
    }
   ],
   "source": [
    "# Debugging code\n",
    "\n",
    "print(\"Finance_co:\")\n",
    "f = Finance_co('Chris', 100000)\n",
    "f.invest_money(10000)\n",
    "print(\"Employees:\", f.employee_count, \"\\nFunding:\", sum(f.funding_list))\n",
    "print(\"Value:\", f.value)\n",
    "\n",
    "print(\"\\n\")\n",
    "print(\"Entertain_co:\")\n",
    "e = Entertain_co('Gunnar', 10000)\n",
    "e.add_shows('Python')\n",
    "print(\"Employees:\", e.employee_count, \"\\nFunding:\", sum(e.funding_list))\n",
    "print(\"Value:\", e.value)"
   ]
  },
  {
   "cell_type": "code",
   "execution_count": 18,
   "metadata": {},
   "outputs": [
    {
     "name": "stdout",
     "output_type": "stream",
     "text": [
      "True\n",
      "False\n",
      "True\n"
     ]
    }
   ],
   "source": [
    "# Test code\n",
    "\n",
    "print(e < f)\n",
    "print(e > f)\n",
    "print(f == f)"
   ]
  },
  {
   "cell_type": "markdown",
   "metadata": {},
   "source": [
    "### Polymorphism -  Make your companies interact\n",
    "- In the tech world, the top talent can drive company success by stealing workers and clients. \n",
    "- Start by adding 2 methods \"transfer_employees\" and \"transfer_clients\"  to your ```Company``` object so workers and clients can move between companies. Make sure your method outputs some informative output after the transfer so we know what happened.\n",
    "- For an additional challenge, replace \"transfer_employees\" and \"transfer_clients\" with method called 'transfer\". Make the method able to take either list without specifically needing to hard code it!"
   ]
  },
  {
   "cell_type": "code",
   "execution_count": 55,
   "metadata": {},
   "outputs": [],
   "source": [
    "class Company():\n",
    "    \n",
    "    '''An entity that represents a startup company it contains employee and funding data\n",
    "    Attributes:\n",
    "    employee_list\n",
    "    employee_count\n",
    "    funding_list\n",
    "    \n",
    "    Methods:\n",
    "    add_employee_name()\n",
    "    add_funding()'''\n",
    "    \n",
    "    def __init__(self, employee_name, amount=0):\n",
    "        self.employee_list=[]\n",
    "        self.employee_count=0\n",
    "        self.funding_list=[]\n",
    "        if amount > 0:\n",
    "            self.funding_list.append(amount)\n",
    "        self.employee_list.append(employee_name)  \n",
    "        self.employee_count+=1\n",
    "        self.__client_list=[]\n",
    "        self.update_value()\n",
    "    \n",
    "    def add_employee_name(self, employee_name=\"unnamed\"): \n",
    "        if employee_name != \"unnamed\":\n",
    "            self.employee_list.append(employee_name)  \n",
    "            self.employee_count+=1\n",
    "            self.update_value()\n",
    "        else:\n",
    "            print (\"Don't forget to add an employee name!\")\n",
    "    \n",
    "    def add_funding(self, amount=0):\n",
    "        self.funding_list.append(amount)\n",
    "        self.update_value()\n",
    "        print('Your funding addition was {}'.format(amount))\n",
    "        print('Total funding is {}'.format(sum(self.funding_list)))        \n",
    "    \n",
    "    def __eq__(self, other):\n",
    "        if self.value == other.value:\n",
    "            return True\n",
    "        else:\n",
    "            return False\n",
    "        \n",
    "    def __lt__(self, other):\n",
    "        if self.value < other.value:\n",
    "            return True\n",
    "        else:\n",
    "            return False\n",
    "        \n",
    "    def __gt__(self, other):\n",
    "        if self.value > other.value:\n",
    "            return True\n",
    "        else:\n",
    "            return False\n",
    "        \n",
    "    def update_value(self):\n",
    "        self.value = self.employee_count * sum(self.funding_list)\n",
    "    \n",
    "    def transfer(self, self_list, other_list, items=1):\n",
    "        for num in range(items):\n",
    "            \n",
    "            if len(other_list) == 0:\n",
    "                print(\"No more items to steal!\")\n",
    "            else:\n",
    "                self_list.append(other_list.pop())\n",
    "        self.employee_count = len(self.employee_list)\n",
    "        self.update_value()\n",
    "    \n",
    "    @property\n",
    "    def clientlist(self):\n",
    "        return self.__client_list\n",
    "    \n",
    "    @clientlist.setter\n",
    "    def clientlist(self, new_client=\"None\"):\n",
    "        if new_client == \"None\":\n",
    "            return print(\"Please add a client when setting a client\")\n",
    "        self.__client_list.append(new_client)"
   ]
  },
  {
   "cell_type": "code",
   "execution_count": 56,
   "metadata": {},
   "outputs": [],
   "source": [
    "# Add children classes here (copy/paste from the previous drill!)\n",
    "\n",
    "import random\n",
    "\n",
    "class Finance_co(Company):\n",
    "    \n",
    "    def __init__(self, employee_name, amount=0):\n",
    "        super().__init__(employee_name, amount)\n",
    "        \n",
    "    def invest_money(self, investment):\n",
    "        \n",
    "        # check for a valid input\n",
    "        if investment < 1:\n",
    "            print(\"Unable to invest less than 1 dollar\")\n",
    "        elif investment > sum(self.funding_list):\n",
    "             print(\"Unable to invest\", investment, \"due to insufficent funds!\")\n",
    "        else:\n",
    "            \n",
    "            # keep pulling money from funding until \n",
    "            total = investment\n",
    "            while total > 0:\n",
    "                total = total - self.funding_list.pop()\n",
    "            \n",
    "            invest_return = round(investment + (investment * (random.random() - 0.5)), 2)\n",
    "            \n",
    "            if total < 0:\n",
    "                self.funding_list.append(-total)\n",
    "            self.funding_list.append(invest_return)\n",
    "            self.update_value()\n",
    "            print(\"Your investment of\", investment, \"returned\", invest_return)\n",
    "\n",
    "            \n",
    "class Entertain_co(Company):\n",
    "    \n",
    "    def __init__(self, employee_name, amount=0):\n",
    "        super().__init__(employee_name, amount)\n",
    "        \n",
    "    def add_shows(self, name='?'):\n",
    "        if name != \"?\":\n",
    "            employees = random.randint(1,10)\n",
    "            for emp in range(0,employees):\n",
    "                new_name = name + str(emp)\n",
    "                self.add_employee_name(new_name)\n",
    "            self.update_value()\n",
    "            print(\"The new show\", name, \"is added with\", employees, \"new employees!\")\n",
    "        else:\n",
    "            print (\"Don't forget to add the show's name!\")"
   ]
  },
  {
   "cell_type": "code",
   "execution_count": 57,
   "metadata": {},
   "outputs": [
    {
     "name": "stdout",
     "output_type": "stream",
     "text": [
      "1st Finance_co:\n",
      "F1 Original Client list ['Police_Pension_Plan', 'Madoff_Investments']\n",
      "\n",
      "\n",
      "2nd Finance_co:\n",
      "F2 Original Client list ['Dollar_Store']\n"
     ]
    }
   ],
   "source": [
    "# Debugging code\n",
    "\n",
    "print(\"1st Finance_co:\")\n",
    "f1 = Finance_co('Chris', 100000)\n",
    "f1.clientlist = \"Police_Pension_Plan\"\n",
    "f1.clientlist = \"Madoff_Investments\"\n",
    "print(\"F1 Original Client list\", f1.clientlist)\n",
    "\n",
    "print(\"\\n\")\n",
    "print(\"2nd Finance_co:\")\n",
    "f2 = Finance_co('Gunnar', 10000)\n",
    "f2.clientlist = \"Dollar_Store\"\n",
    "print(\"F2 Original Client list\", f2.clientlist)"
   ]
  },
  {
   "cell_type": "code",
   "execution_count": 58,
   "metadata": {},
   "outputs": [
    {
     "name": "stdout",
     "output_type": "stream",
     "text": [
      "F1 New Client list ['Police_Pension_Plan', 'Madoff_Investments', 'Dollar_Store']\n",
      "F2 New Client list []\n"
     ]
    }
   ],
   "source": [
    "# Test code\n",
    "f1.transfer(f1.clientlist, f2.clientlist)\n",
    "\n",
    "print(\"F1 New Client list\", f1.clientlist)\n",
    "print(\"F2 New Client list\", f2.clientlist)"
   ]
  },
  {
   "cell_type": "code",
   "execution_count": 59,
   "metadata": {},
   "outputs": [
    {
     "name": "stdout",
     "output_type": "stream",
     "text": [
      "No more items to steal!\n",
      "F1 New Client list ['Police_Pension_Plan', 'Madoff_Investments', 'Dollar_Store']\n",
      "F2 New Client list []\n"
     ]
    }
   ],
   "source": [
    "f1.transfer(f1.clientlist, f2.clientlist)"
   ]
  },
  {
   "cell_type": "code",
   "execution_count": 61,
   "metadata": {},
   "outputs": [
    {
     "name": "stdout",
     "output_type": "stream",
     "text": [
      "F1 New Employee list []\n",
      "F2 New Employee list ['Gunnar', 'Chris']\n"
     ]
    }
   ],
   "source": [
    "f2.transfer(f2.employee_list, f1.employee_list)\n",
    "\n",
    "print(\"F1 New Employee list\", f1.employee_list)\n",
    "print(\"F2 New Employee list\", f2.employee_list)"
   ]
  }
 ],
 "metadata": {
  "kernelspec": {
   "display_name": "Python 3",
   "language": "python",
   "name": "python3"
  },
  "language_info": {
   "codemirror_mode": {
    "name": "ipython",
    "version": 3
   },
   "file_extension": ".py",
   "mimetype": "text/x-python",
   "name": "python",
   "nbconvert_exporter": "python",
   "pygments_lexer": "ipython3",
   "version": "3.6.8"
  }
 },
 "nbformat": 4,
 "nbformat_minor": 2
}
