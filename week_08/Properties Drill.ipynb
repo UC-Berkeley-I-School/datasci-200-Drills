{
 "cells": [
  {
   "cell_type": "markdown",
   "metadata": {},
   "source": [
    "# Class Odds and Ends\n",
    "\n",
    "### Now use property decorators to experiment with another syntax to specify the getter and setter methods.\n",
    "\n",
    "- Note the syntax differences required to operate the @property getter and setter versus the custom getter and setter methods."
   ]
  },
  {
   "cell_type": "code",
   "execution_count": 45,
   "metadata": {
    "collapsed": true
   },
   "outputs": [],
   "source": [
    "class Company():\n",
    "    \n",
    "  # use the previous code and modify it..."
   ]
  },
  {
   "cell_type": "code",
   "execution_count": 48,
   "metadata": {},
   "outputs": [
    {
     "name": "stdout",
     "output_type": "stream",
     "text": [
      "[]\n",
      "['Nabisco', 'WunderBrush']\n"
     ]
    }
   ],
   "source": [
    "c4 = Company(\"Bill\")\n",
    "print(c4.clientlist)\n",
    "\n",
    "c4.clientlist = \"Nabisco\"\n",
    "c4.clientlist = \"WunderBrush\"\n",
    "print(c4.clientlist)"
   ]
  }
 ],
 "metadata": {
  "kernelspec": {
   "display_name": "Python 3",
   "language": "python",
   "name": "python3"
  },
  "language_info": {
   "codemirror_mode": {
    "name": "ipython",
    "version": 3
   },
   "file_extension": ".py",
   "mimetype": "text/x-python",
   "name": "python",
   "nbconvert_exporter": "python",
   "pygments_lexer": "ipython3",
   "version": "3.6.8"
  }
 },
 "nbformat": 4,
 "nbformat_minor": 2
}
