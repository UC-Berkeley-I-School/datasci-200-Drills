{
 "cells": [
  {
   "cell_type": "markdown",
   "metadata": {},
   "source": [
    "# Magic Methods\n",
    "\n",
    "Take the ```Company``` class as well as the ```entertain_co``` and ```finance_co``` from the previous unit. Let's add some magic methods for greater than, less than and equal to, to be able to compare companies. \n",
    "\n",
    "- The comparison will be a metric that will be the # of employees multiplied by the funding.  \n",
    "- Add these methods to the ```Company``` class"
   ]
  },
  {
   "cell_type": "code",
   "execution_count": null,
   "metadata": {
    "collapsed": true
   },
   "outputs": [],
   "source": [
    "class Company():\n",
    "    \n",
    "    '''An entity that represents a startup company it contains employee and funding data\n",
    "    Attributes:\n",
    "    employee_list\n",
    "    employee_count\n",
    "    funding_list\n",
    "    \n",
    "    Methods:\n",
    "    add_employee_name()\n",
    "    add_funding()'''\n",
    "    \n",
    "    def __init__(self, employee_name, amount=0):\n",
    "        self.employee_list=[]\n",
    "        self.employee_count=0\n",
    "        self.funding_list=[]\n",
    "        if amount > 0:\n",
    "            self.funding_list.append(amount)\n",
    "        self.employee_list.append(employee_name)  \n",
    "        self.employee_count+=1\n",
    "        self.__client_list=[]\n",
    "    \n",
    "    def add_employee_name(self, employee_name=\"unnamed\"): \n",
    "        if employee_name != \"unnamed\":\n",
    "            self.employee_list.append(employee_name)  \n",
    "            self.employee_count+=1\n",
    "        else:\n",
    "            print (\"Don't forget to add an employee name!\")\n",
    "    \n",
    "    def add_funding(self, amount=0):\n",
    "        self.funding_list.append(amount)\n",
    "        print('Your funding addition was {}'.format(amount))\n",
    "        print('Total funding is {}'.format(sum(self.funding_list)))        \n",
    "    \n",
    "    @property\n",
    "    def clientlist(self):\n",
    "        return self.__client_list\n",
    "    \n",
    "    @clientlist.setter\n",
    "    def clientlist(self, new_client=\"None\"):\n",
    "        if new_client == \"None\":\n",
    "            return print(\"Please add a client when setting a client\")\n",
    "        self.__client_list.append(new_client)"
   ]
  },
  {
   "cell_type": "code",
   "execution_count": null,
   "metadata": {},
   "outputs": [],
   "source": [
    "# Add children classes here (copy/paste from the previous drill!)"
   ]
  },
  {
   "cell_type": "code",
   "execution_count": null,
   "metadata": {},
   "outputs": [],
   "source": [
    "# Debugging code\n",
    "\n",
    "print(\"Finance_co:\")\n",
    "f = Finance_co('Chris', 100000)\n",
    "f.invest_money(10000)\n",
    "print(\"Employees:\", f.employee_count, \"\\nFunding:\", sum(f.funding_list))\n",
    "print(\"Value:\", f.value)\n",
    "\n",
    "print(\"\\n\")\n",
    "print(\"Entertain_co:\")\n",
    "e = Entertain_co('Gunnar', 10000)\n",
    "e.add_shows('Python')\n",
    "print(\"Employees:\", e.employee_count, \"\\nFunding:\", sum(e.funding_list))\n",
    "print(\"Value:\", e.value)"
   ]
  },
  {
   "cell_type": "code",
   "execution_count": null,
   "metadata": {},
   "outputs": [],
   "source": [
    "# Test code\n",
    "print(e < f)\n",
    "print(e > f)\n",
    "print(f == f)"
   ]
  },
  {
   "cell_type": "markdown",
   "metadata": {},
   "source": [
    "### Polymorphism -  Make your companies interact\n",
    "- In the tech world, the top talent can drive company success by stealing workers and clients. \n",
    "- Start by adding 2 methods \"transfer_employees\" and \"transfer_clients\"  to your ```Company``` object so workers and clients can move between companies. Make sure your method outputs some informative output after the transfer so we know what happened.\n",
    "- For an additional challenge, replace \"transfer_employees\" and \"transfer_clients\" with method called 'transfer\". Make the method able to take either list without specifically needing to hard code it!"
   ]
  },
  {
   "cell_type": "code",
   "execution_count": null,
   "metadata": {},
   "outputs": [],
   "source": [
    "# you can add the code here or add the new method to the company code above"
   ]
  },
  {
   "cell_type": "code",
   "execution_count": null,
   "metadata": {},
   "outputs": [],
   "source": [
    "# Debug code setup\n",
    "print(\"1st Finance_co:\")\n",
    "f1 = Finance_co('Chris', 100000)\n",
    "f1.clientlist = \"Police_Pension_Plan\"\n",
    "f1.clientlist = \"Madoff_Investments\"\n",
    "print(\"F1 Original Client list\", f1.clientlist)\n",
    "\n",
    "print(\"\\n\")\n",
    "print(\"2nd Finance_co:\")\n",
    "f2 = Finance_co('Gunnar', 10000)\n",
    "f2.clientlist = \"Dollar_Store\"\n",
    "print(\"F2 Original Client list\", f2.clientlist)"
   ]
  },
  {
   "cell_type": "code",
   "execution_count": null,
   "metadata": {},
   "outputs": [],
   "source": [
    "# Test code\n",
    "f1.transfer(f1.clientlist, f2.clientlist)\n",
    "\n",
    "print(\"F1 New Client list\", f1.clientlist)\n",
    "print(\"F2 New Client list\", f2.clientlist)"
   ]
  },
  {
   "cell_type": "code",
   "execution_count": null,
   "metadata": {},
   "outputs": [],
   "source": [
    "f1.transfer(f1.clientlist, f2.clientlist)"
   ]
  },
  {
   "cell_type": "code",
   "execution_count": null,
   "metadata": {},
   "outputs": [],
   "source": [
    "f2.transfer(f2.employee_list, f1.employee_list)\n",
    "\n",
    "print(\"F1 New Employee list\", f1.employee_list)\n",
    "print(\"F2 New Employee list\", f2.employee_list)"
   ]
  }
 ],
 "metadata": {
  "kernelspec": {
   "display_name": "Python 3",
   "language": "python",
   "name": "python3"
  },
  "language_info": {
   "codemirror_mode": {
    "name": "ipython",
    "version": 3
   },
   "file_extension": ".py",
   "mimetype": "text/x-python",
   "name": "python",
   "nbconvert_exporter": "python",
   "pygments_lexer": "ipython3",
   "version": "3.8.11"
  }
 },
 "nbformat": 4,
 "nbformat_minor": 2
}
