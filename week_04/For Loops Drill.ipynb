{
 "cells": [
  {
   "cell_type": "markdown",
   "metadata": {},
   "source": [
    "## For Loops\n",
    "\n",
    "Each subsequent exercise ramps up in difficulty. Sample answers are in a separate folder with an explanation (there might be multiple ways to solve a problem though!) "
   ]
  },
  {
   "cell_type": "markdown",
   "metadata": {},
   "source": [
    "1) Code a ```for``` loop that counts all numbers from 1 to 10."
   ]
  },
  {
   "cell_type": "code",
   "execution_count": null,
   "metadata": {},
   "outputs": [],
   "source": [
    "# Your code here"
   ]
  },
  {
   "cell_type": "markdown",
   "metadata": {},
   "source": [
    "2) Code a ```for``` loop that loops through the following string (named sentence) and removes the spaces."
   ]
  },
  {
   "cell_type": "code",
   "execution_count": null,
   "metadata": {},
   "outputs": [],
   "source": [
    "sentence = \"E x  ce ll  ent !\"\n",
    "# Your code here"
   ]
  },
  {
   "cell_type": "markdown",
   "metadata": {},
   "source": [
    "3) Code a ```for``` loop that loops through the following list (named small_list) and sums up all of the numbers and finds the minimum and maximum (there are built in functions to do this but please do this with a for loop)."
   ]
  },
  {
   "cell_type": "code",
   "execution_count": null,
   "metadata": {},
   "outputs": [],
   "source": [
    "num_list = [1,2,3,10,12,13,22,44,6]\n",
    "# Your code here"
   ]
  },
  {
   "cell_type": "markdown",
   "metadata": {},
   "source": [
    "4) Code a ```for``` loop that loops through the following list (named small_list) and only prints out the numbers."
   ]
  },
  {
   "cell_type": "code",
   "execution_count": null,
   "metadata": {},
   "outputs": [],
   "source": [
    "small_list = ['The', 'number', 1, 'of', True, 'guesses', 'is', 10.0]\n",
    "# Your code here"
   ]
  },
  {
   "cell_type": "markdown",
   "metadata": {},
   "source": [
    "5) Code a ```for``` loop that finds the factorial of a number given below: "
   ]
  },
  {
   "cell_type": "code",
   "execution_count": null,
   "metadata": {},
   "outputs": [],
   "source": [
    "fact_num = 5"
   ]
  },
  {
   "cell_type": "markdown",
   "metadata": {},
   "source": [
    "6) Code ```for``` loops that loops through the list of lists below and prints out each character only doing a return (or line break) at the end of each sub-list."
   ]
  },
  {
   "cell_type": "code",
   "execution_count": null,
   "metadata": {},
   "outputs": [],
   "source": [
    "list_of_lists = [['E', 'n', 'c', 'h', 'a', 'n', 't', 'i', 'n', 'g'], ['p', 'r', 'o', 'c', 'e', 's', 's', ','], \n",
    "                 ['i', 'n', 'v', 'i', 't', 'i', 'n', 'g'], ['w', 'a', 'r', 'm'], ['s', 'c', 'e', 'n', 'e', 'r', 'y', ','],\n",
    "                 ['b', 'e', 'a', 'u', 't', 'i', 'f', 'u', 'l'], ['w', 'i', 's', 'd', 'o', 'm', '.']\n",
    "                ]\n",
    "\n",
    "# Your code here"
   ]
  },
  {
   "cell_type": "markdown",
   "metadata": {},
   "source": [
    "7) Code two ```for``` loops that makes a rectangle of ```#```s using the length and width given below. For example:\n",
    "```\n",
    "length = 3\n",
    "width = 2\n",
    "\n",
    "Answer:\n",
    "###\n",
    "###\n",
    "```"
   ]
  },
  {
   "cell_type": "code",
   "execution_count": null,
   "metadata": {},
   "outputs": [],
   "source": [
    "length = 4\n",
    "width = 5\n",
    "# Your code here"
   ]
  },
  {
   "cell_type": "markdown",
   "metadata": {},
   "source": [
    "8) A simple word count! Loop through the passage of text below and store each word in a dictionary that \n",
    "has a key:value pair of ```word: # of occurrences``` (for example if there are 10  occurrences of 'the' in the passage, one dictionary entry would be 'the': 10)"
   ]
  },
  {
   "cell_type": "code",
   "execution_count": null,
   "metadata": {},
   "outputs": [],
   "source": [
    "# This text adapted from the wikipedia entry on python\n",
    "\n",
    "text_list = ['Python', 'was', 'conceived', 'in', 'the', 'late', '1980s', 'and', 'its', 'implementation', 'began', 'in',\n",
    " 'December', '1989', 'by', 'Guido', 'van', 'Rossum', 'at', 'Centrum', 'Wiskunde', '&', 'Informatica', 'in', 'the',\n",
    " 'Netherlands', 'as', 'a', 'successor', 'to', 'the', 'ABC', 'language', 'itself', 'inspired', 'by', 'SETL', 'capable',\n",
    " 'of', 'exception', 'handling', 'and', 'interfacing', 'with', 'the', 'Amoeba', 'operating', 'system', '.', 'Van', 'Rossum',\n",
    " 'remains', \"Python's\", 'principal', 'author', '.', 'His', 'continuing', 'central', 'role', 'in', \"Python's\", 'development',\n",
    " 'is', 'reflected', 'in', 'the', 'title', 'given', 'to', 'him', 'by', 'the', 'Python', 'community', 'Benevolent', 'Dictator',\n",
    " 'For', 'Life', '.', 'On', 'the', 'origins', 'of', 'Python', 'Van', 'Rossum', 'wrote', 'in', '1996', 'In', 'December',\n",
    " '1989', 'I', 'was', 'looking', 'for', 'a', 'hobby', 'programming', 'project', 'that', 'would', 'keep', 'me', 'occupied',\n",
    " 'during', 'the', 'week', 'around', 'Christmas', '.', 'My', 'office', 'would', 'be', 'closed', 'but', 'I', 'had', 'a',\n",
    " 'home', 'computer', 'and', 'not', 'much', 'else', 'on', 'my', 'hands', '.', 'I', 'decided', 'to', 'write', 'an', 'interpreter',\n",
    " 'for', 'the', 'new', 'scripting', 'language', 'I', 'had', 'been', 'thinking', 'about', 'lately', 'a', 'descendant', 'of',\n",
    " 'ABC', 'that', 'would', 'appeal', 'to', 'Unix/C', 'hackers', '.', 'I', 'chose', 'Python', 'as', 'a', 'working', 'title',\n",
    " 'for', 'the', 'project', 'being', 'in', 'a', 'slightly', 'irreverent', 'mood', 'and', 'a', 'big', 'fan', 'of', 'Monty',\n",
    " \"Python's\", 'Flying', 'Circus', '.']\n",
    "\n",
    "# Your code here"
   ]
  },
  {
   "cell_type": "markdown",
   "metadata": {},
   "source": [
    "9) Loop through the dictionary you made above of {word: # of occurrences}, sum up the total number of words and divide each entry in the dictionary by that total sum and store it in a new dictionary (this will take 2 separate loops!) (In data science this is called Term-Frequency or TF) \n",
    "\n",
    "Extra challenge: Sort the output by the TF in descending order."
   ]
  },
  {
   "cell_type": "code",
   "execution_count": null,
   "metadata": {},
   "outputs": [],
   "source": [
    "# Your code here"
   ]
  }
 ],
 "metadata": {
  "kernelspec": {
   "display_name": "Python 3",
   "language": "python",
   "name": "python3"
  },
  "language_info": {
   "codemirror_mode": {
    "name": "ipython",
    "version": 3
   },
   "file_extension": ".py",
   "mimetype": "text/x-python",
   "name": "python",
   "nbconvert_exporter": "python",
   "pygments_lexer": "ipython3",
   "version": "3.8.11"
  }
 },
 "nbformat": 4,
 "nbformat_minor": 2
}
