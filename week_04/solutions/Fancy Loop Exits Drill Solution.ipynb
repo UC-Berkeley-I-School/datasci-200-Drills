{
 "cells": [
  {
   "cell_type": "markdown",
   "metadata": {},
   "source": [
    "## Fancy Loop Exits\n",
    "\n",
    "Sample answers are in a separate folder with an explanation (there might be multiple ways to solve a problem though!) "
   ]
  },
  {
   "cell_type": "markdown",
   "metadata": {},
   "source": [
    "1) Using a loop skip any lines that are comments in the file_contents list below.  Comment lines are denoted by the '#' as the first character.  If the line is not a comment line print out the date once until it changes.  Underneath that date print out each time entry and the reading for that time.  (format for non-comment lines are <'date time reading'>."
   ]
  },
  {
   "cell_type": "code",
   "execution_count": 14,
   "metadata": {},
   "outputs": [
    {
     "name": "stdout",
     "output_type": "stream",
     "text": [
      "\n",
      "Date:   5-20-2018\n",
      "\t 1000 \t 15\n",
      "\t 1015 \t 16\n",
      "\t 1030 \t 14\n",
      "\t 1045 \t -\n",
      "\t 1100 \t 12\n",
      "\t 1115 \t 10\n",
      "\t 1130 \t 12\n",
      "\t 1145 \t 18\n",
      "\n",
      "Date:   5-21-2018\n",
      "\t 1200 \t 12\n",
      "\t 1215 \t 15\n"
     ]
    }
   ],
   "source": [
    "file_contents = ['# This is a file that records', '# Entries every 15 minutes from a meter', '# Property of p36'\n",
    "                 '# Next lines are from 10-11', '5-20-2018 1000 15', '5-20-2018 1015 16', '5-20-2018 1030 14', \n",
    "                 '5-20-2018 1045 -', '# Next lines are from 11-12', '5-20-2018 1100 12', '5-20-2018 1115 10', \n",
    "                 '5-20-2018 1130 12', '5-20-2018 1145 18', '# Next lines are from 12-1', \n",
    "                 '5-21-2018 1200 12', '5-21-2018 1215 15']\n",
    "\n",
    "# setting our date tracker \n",
    "date = ''\n",
    "\n",
    "# Reading each line from the file_contents\n",
    "for line in file_contents:\n",
    "    \n",
    "    # If the line is a comment we just want to skip it and not have to do all the calcs below\n",
    "    if line[0] == '#':\n",
    "        continue\n",
    "    \n",
    "    # This is a way to split the line on spaces and storing each of those as a separate variable\n",
    "    # This only works well when the data is ALWAYS the same way... if some lines had 4 entries this will crash\n",
    "    # could also store this as a list - that would be a more robust way of avoiding a crash\n",
    "    new_date, time, reading = line.split(' ')\n",
    "    \n",
    "    # Check to see if the date has changed\n",
    "    # If so update it and print it out\n",
    "    if date != new_date:\n",
    "        date = new_date\n",
    "        print('\\nDate:  ', date)\n",
    "    \n",
    "    # Always print out the time and reading\n",
    "    print('\\t', time, '\\t', reading)\n",
    "        "
   ]
  },
  {
   "cell_type": "markdown",
   "metadata": {},
   "source": [
    "2) Using a while loop keep adding items to a to-do list that a user inputs until the user types 'q'. At the end, print out that list."
   ]
  },
  {
   "cell_type": "code",
   "execution_count": 20,
   "metadata": {},
   "outputs": [
    {
     "name": "stdout",
     "output_type": "stream",
     "text": [
      "Please enter your next to-do item (type q to quit): Eat\n",
      "Please enter your next to-do item (type q to quit): Drink\n",
      "Please enter your next to-do item (type q to quit): Sleep\n",
      "Please enter your next to-do item (type q to quit): Do python homework!\n",
      "Please enter your next to-do item (type q to quit): q\n",
      "\n",
      "Your to-do list is: \n",
      "\n",
      "Eat\n",
      "Drink\n",
      "Sleep\n",
      "Do python homework!\n"
     ]
    }
   ],
   "source": [
    "\n",
    "# Initialize a blank to-do list\n",
    "todo_list = []\n",
    "\n",
    "# Keep adding items until the user breaks out\n",
    "# We could do this also by a flag but generally the 'pythonic' way is with a while True / break\n",
    "while True:\n",
    "    \n",
    "    # Get an item from the user - if its not a quit add it to the list.  \n",
    "    # If it is q or Q for quit exit the loop\n",
    "    item = input('Please enter your next to-do item (type q to quit): ')\n",
    "    if item == 'q' or item == 'Q':\n",
    "        break\n",
    "    todo_list.append(item)\n",
    "\n",
    "# Print out the end list :)\n",
    "print(\"\\nYour to-do list is: \\n\")\n",
    "for item in todo_list:\n",
    "    print(item)"
   ]
  },
  {
   "cell_type": "markdown",
   "metadata": {},
   "source": [
    "3) Using a while loop keep asking the user for a number between 1 and 5 until the user inputs a valid number."
   ]
  },
  {
   "cell_type": "code",
   "execution_count": 1,
   "metadata": {},
   "outputs": [
    {
     "name": "stdout",
     "output_type": "stream",
     "text": [
      "Enter a number between 1 and 5: 6\n",
      "Invalid input. Try again.\n",
      "Enter a number between 1 and 5: -1\n",
      "Invalid input. Try again.\n",
      "Enter a number between 1 and 5: 4\n"
     ]
    }
   ],
   "source": [
    "#again using a while True / break\n",
    "while True:\n",
    "    response = float(input(\"Enter a number between 1 and 5: \"))\n",
    "    if 1 < response < 5:\n",
    "        #exit the loop for valid response\n",
    "        break\n",
    "    print(\"Invalid input. Try again.\")"
   ]
  },
  {
   "cell_type": "markdown",
   "metadata": {},
   "source": [
    "4) Using 2 loops print out all of the numbers from 2-20 that are prime numbers."
   ]
  },
  {
   "cell_type": "code",
   "execution_count": 34,
   "metadata": {},
   "outputs": [
    {
     "name": "stdout",
     "output_type": "stream",
     "text": [
      "The prime numbers from 2-20 are:\n",
      "2 3 5 7 11 13 17 19\n"
     ]
    }
   ],
   "source": [
    "# Initialize a list to store the prime numbers\n",
    "prime_list = []\n",
    "\n",
    "# Go through the range of numbers \n",
    "for num in range(2,21):\n",
    "    \n",
    "    # 2 is prime and is an exception to our algorithm so append it and move on to the next number\n",
    "    if num == 2:\n",
    "        prime_list.append(num)\n",
    "        continue\n",
    "    \n",
    "    # Make another loop to see if the number divided by any number up to including that number can be \n",
    "    # evenly divided - if so break out of this loop and disregard that number\n",
    "    # If all those numbers do leave a remainder - go to the else of this loop and add the number to the prime_list\n",
    "    for n in range(2,num):\n",
    "        if num % n == 0:\n",
    "            break\n",
    "    else:\n",
    "        prime_list.append(num)\n",
    "\n",
    "# Print out the list - a shortcut from printing all the items in a list in a line is using the *\n",
    "print(\"The prime numbers from 2-20 are:\")\n",
    "print(*prime_list)"
   ]
  },
  {
   "cell_type": "markdown",
   "metadata": {},
   "source": [
    "5) Make a loop to go through a list of numbers - if that list only contains valid numbers then print valid, if the list has entries that are not numbers print out invalid and that (first) invalid entry."
   ]
  },
  {
   "cell_type": "code",
   "execution_count": 24,
   "metadata": {},
   "outputs": [
    {
     "name": "stdout",
     "output_type": "stream",
     "text": [
      "This list has an invalid entry!\n",
      "NaN\n"
     ]
    }
   ],
   "source": [
    "# Try your code with each list!\n",
    "list1 = [1,2.0,3,4,5,7,8,9,19,0,-10]\n",
    "list2 = [-1,2.0,0,3,45,6,7,'NaN',10,200]\n",
    "\n",
    "# Iterate through all items in the list\n",
    "# If the type is a number then go to the next item\n",
    "# Otherwise the entry is invalid - print out the error message and the invalid entry\n",
    "# If all the items are valid - the code goes to the else (with the for loop) and prints out the valid message\n",
    "for item in list2:\n",
    "    if type(item) in (int,float):\n",
    "        continue\n",
    "    else:\n",
    "        print('This list has an invalid entry!')\n",
    "        print(item)\n",
    "        break\n",
    "else:\n",
    "    print('This list contains all valid entries')\n",
    "    \n"
   ]
  },
  {
   "cell_type": "markdown",
   "metadata": {},
   "source": [
    "6) Make a loop to keep asking a user to guess a number between 1 & 10.  The user will have 3 guesses. If the user guesses the right number tell them they won the game.  If the user doesn't guess the right number in 3 guesses tell them they lost the game."
   ]
  },
  {
   "cell_type": "code",
   "execution_count": 31,
   "metadata": {},
   "outputs": [
    {
     "name": "stdout",
     "output_type": "stream",
     "text": [
      "Guess a number between 1 & 10: 1\n",
      "Incorrect guess. 2 guesses left!\n",
      "\n",
      "Guess a number between 1 & 10: 2\n",
      "You guessed correctly and win!\n"
     ]
    }
   ],
   "source": [
    "# Setting the number of guesses and picking a random number as the number to guess\n",
    "import random\n",
    "guesses = 3\n",
    "number = random.randint(1,10)\n",
    "\n",
    "# We want a range from 0 to # of guesses (so 0,3 = 3 guesses since the 3 isnt counted)\n",
    "# Get a guess from the user\n",
    "# check to see if it is the correct number (if it is the exit - they win!)\n",
    "# otherwise have them guess again\n",
    "for i in range(0,guesses):\n",
    "    guess = int(input('Guess a number between 1 & 10: '))\n",
    "    if guess == number:\n",
    "        print('You guessed correctly and win!')\n",
    "        break\n",
    "    \n",
    "    # This part was optional - I wanted to tell the user how many guesses were left\n",
    "    # And then did an if/then for the formatting of guesses vs guess (1 guesses wasn't right)\n",
    "    left = guesses-i-1\n",
    "    if left != 1:\n",
    "        print('Incorrect guess.', left, 'guesses left!\\n' )\n",
    "    else:\n",
    "        print('Incorrect guess.', left, 'guess left!\\n' )\n",
    "else:\n",
    "    print('You ran out of guesses... please try again')\n",
    "    "
   ]
  }
 ],
 "metadata": {
  "kernelspec": {
   "display_name": "Python 3",
   "language": "python",
   "name": "python3"
  },
  "language_info": {
   "codemirror_mode": {
    "name": "ipython",
    "version": 3
   },
   "file_extension": ".py",
   "mimetype": "text/x-python",
   "name": "python",
   "nbconvert_exporter": "python",
   "pygments_lexer": "ipython3",
   "version": "3.8.11"
  }
 },
 "nbformat": 4,
 "nbformat_minor": 2
}
