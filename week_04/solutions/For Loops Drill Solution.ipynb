{
 "cells": [
  {
   "cell_type": "markdown",
   "metadata": {
    "collapsed": true
   },
   "source": [
    "## For Loops\n",
    "\n",
    "Each subsequent exercise ramps up in difficulty. Sample answers are in a separate folder with an explanation (there might be multiple ways to solve a problem though!) "
   ]
  },
  {
   "cell_type": "markdown",
   "metadata": {},
   "source": [
    "1) Code a $for$ loop that counts all numbers from 1 to 10."
   ]
  },
  {
   "cell_type": "code",
   "execution_count": 1,
   "metadata": {},
   "outputs": [
    {
     "name": "stdout",
     "output_type": "stream",
     "text": [
      "1\n",
      "2\n",
      "3\n",
      "4\n",
      "5\n",
      "6\n",
      "7\n",
      "8\n",
      "9\n",
      "10\n"
     ]
    }
   ],
   "source": [
    "# The tricky thing here is range goes from the first number to 1 number below the 2nd number listed\n",
    "# You also can't do \"for i in range(11):\" as this will start from 0\n",
    "\n",
    "for i in range(1,11):\n",
    "    print(i)"
   ]
  },
  {
   "cell_type": "markdown",
   "metadata": {},
   "source": [
    "2) Code a $for$ loop that loops through the following string (named sentence) and removes the spaces."
   ]
  },
  {
   "cell_type": "code",
   "execution_count": 2,
   "metadata": {},
   "outputs": [
    {
     "name": "stdout",
     "output_type": "stream",
     "text": [
      "Excellent!\n",
      "Excellent!"
     ]
    }
   ],
   "source": [
    "# For this one we just want to skip all the spaces.  We could do this a couple of ways: \n",
    "# one way is to just print out all the characters that aren't spaces\n",
    " \n",
    "\n",
    "sentence = \"E x  ce ll  ent !\"\n",
    "for char in sentence:\n",
    "    if char != ' ':\n",
    "        print(char, end='')\n",
    "\n",
    "# Just to add a space between both solutions\n",
    "print('')  \n",
    "\n",
    "# another way is to just skip the spaces:\n",
    "for char in sentence:\n",
    "    if char == ' ':\n",
    "        pass\n",
    "    else:\n",
    "        print(char, end='')"
   ]
  },
  {
   "cell_type": "markdown",
   "metadata": {},
   "source": [
    "3) Code a $for$ loop that loops through the following list (named small_list) and sums up all of the numbers and finds the minimum and maximum (there are built in functions to do this but please do this with a for loop)."
   ]
  },
  {
   "cell_type": "code",
   "execution_count": 3,
   "metadata": {},
   "outputs": [
    {
     "name": "stdout",
     "output_type": "stream",
     "text": [
      "The total sum is: 113\n",
      "The maximum is: 44\n",
      "The minimum is: 1\n"
     ]
    }
   ],
   "source": [
    "num_list = [1,2,3,10,12,13,22,44,6]\n",
    "\n",
    "# start by setting our variables\n",
    "# Im setting max to reasonably low number out of the suspected range of our list\n",
    "# Im setting min to reasonably high number out of the suspected range of our list\n",
    "total = 0\n",
    "max_num = -1000000\n",
    "min_num = 10000000\n",
    "\n",
    "# Now loop through each number in the list\n",
    "# adding it to total and checking to see if it is the new max or new min\n",
    "for num in num_list:\n",
    "    total += num\n",
    "    if num < min_num:\n",
    "        min_num = num\n",
    "    if num > max_num:\n",
    "        max_num = num\n",
    "        \n",
    "# print out our results\n",
    "print(\"The total sum is:\", total)\n",
    "print(\"The maximum is:\", max_num)\n",
    "print(\"The minimum is:\", min_num)\n",
    "    "
   ]
  },
  {
   "cell_type": "markdown",
   "metadata": {},
   "source": [
    "4) Code a $for$ loop that loops through the following list (named small_list) and only prints out the numbers."
   ]
  },
  {
   "cell_type": "code",
   "execution_count": 4,
   "metadata": {
    "scrolled": true
   },
   "outputs": [
    {
     "name": "stdout",
     "output_type": "stream",
     "text": [
      "1\n",
      "10.0\n",
      "\n",
      "Incorrect:\n",
      "1\n",
      "True\n",
      "10.0\n"
     ]
    }
   ],
   "source": [
    "small_list = ['The', 'number', 1, 'of', True, 'guesses', 'is', 10.0]\n",
    "\n",
    "# Loop through the list and check if each item is a float or int using type\n",
    "# If isinstance() is used - the True will also come out\n",
    "\n",
    "for item in small_list:\n",
    "    if type(item) in (float,int):\n",
    "        print(item)\n",
    "\n",
    "print('\\nIncorrect:')\n",
    "# This is incorrect as it wont filter out the True - python treats True as a 1 sometimes (and False as a 0)\n",
    "for item in small_list:\n",
    "    if isinstance(item, float) or isinstance(item, int):\n",
    "        print(item)"
   ]
  },
  {
   "cell_type": "markdown",
   "metadata": {},
   "source": [
    "5) Code a $for$ loop that finds the factorial of a number given below "
   ]
  },
  {
   "cell_type": "code",
   "execution_count": 5,
   "metadata": {},
   "outputs": [
    {
     "name": "stdout",
     "output_type": "stream",
     "text": [
      "The factorial of 5 is: 120\n"
     ]
    }
   ],
   "source": [
    "fact_num = 5\n",
    "\n",
    "# Initialize the factorial to 1 so that on the first multiplication we just get that same number back\n",
    "total_fact = 1\n",
    "\n",
    "# Go through the numbers in reverse multiplying them together\n",
    "for i in range(5,1,-1):\n",
    "    total_fact = total_fact * i\n",
    "    \n",
    "# Display the results\n",
    "print('The factorial of', fact_num, 'is:', total_fact)"
   ]
  },
  {
   "cell_type": "markdown",
   "metadata": {},
   "source": [
    "6) Code $for$ loops that loops through the list of lists below and prints out each character."
   ]
  },
  {
   "cell_type": "code",
   "execution_count": 6,
   "metadata": {},
   "outputs": [
    {
     "name": "stdout",
     "output_type": "stream",
     "text": [
      "Enchanting process,\n",
      "Inviting warm scenery,\n",
      "Beautiful wisdom."
     ]
    }
   ],
   "source": [
    "list_of_lists = [['E', 'n', 'c', 'h', 'a', 'n', 't', 'i', 'n', 'g', ' '], ['p', 'r', 'o', 'c', 'e', 's', 's', ',', '\\n'], \n",
    "                 ['I', 'n', 'v', 'i', 't', 'i', 'n', 'g', ' '], ['w', 'a', 'r', 'm', ' '], ['s', 'c', 'e', 'n', 'e', 'r', 'y', ',', '\\n'],\n",
    "                 ['B', 'e', 'a', 'u', 't', 'i', 'f', 'u', 'l', ' '], ['w', 'i', 's', 'd', 'o', 'm', '.']\n",
    "                ]\n",
    "\n",
    "# Making nested loops to print out each character in the lists of lists\n",
    "for sm_list in list_of_lists:\n",
    "    for item in sm_list:\n",
    "        print(item, end='')\n",
    "    "
   ]
  },
  {
   "cell_type": "markdown",
   "metadata": {},
   "source": [
    "7) Code two $for$ loops that makes a rectangle of '#'s using the length and width given below. For example:\n",
    "```\n",
    "length = 3\n",
    "width = 2\n",
    "\n",
    "Answer:\n",
    "###\n",
    "###\n",
    "```"
   ]
  },
  {
   "cell_type": "code",
   "execution_count": 7,
   "metadata": {},
   "outputs": [
    {
     "name": "stdout",
     "output_type": "stream",
     "text": [
      "####\n",
      "####\n",
      "####\n",
      "####\n",
      "####\n"
     ]
    }
   ],
   "source": [
    "length = 4\n",
    "width = 5\n",
    "\n",
    "# Nested for loops - the outer one being the width (or height) of the box\n",
    "# The inner loop being how many #s to print out in that length/row\n",
    "# At the end of each length/row print a return to get to the next line\n",
    "# We need to add 1 to the ranges as the last number isn't counted\n",
    "\n",
    "for w in range(1, width+1):\n",
    "    for l in range(1, length+1):\n",
    "        print('#', end='')\n",
    "    print('')"
   ]
  },
  {
   "cell_type": "markdown",
   "metadata": {},
   "source": [
    "8) A simple word count! Loop through the passage of text below and store each word in a dictionary that has a key:value pair of word: # of occurrences (for example: there are 10 occurrences of 'the' in the passage, one dictionary entry would be 'the': 10)"
   ]
  },
  {
   "cell_type": "code",
   "execution_count": 8,
   "metadata": {},
   "outputs": [
    {
     "name": "stdout",
     "output_type": "stream",
     "text": [
      "The count of each word is:\n",
      " {'Python': 4, 'was': 2, 'conceived': 1, 'in': 7, 'the': 10, 'late': 1, '1980s': 1, 'and': 4, 'its': 1, 'implementation': 1, 'began': 1, 'December': 2, '1989': 2, 'by': 3, 'Guido': 1, 'van': 1, 'Rossum': 3, 'at': 1, 'Centrum': 1, 'Wiskunde': 1, '&': 1, 'Informatica': 1, 'Netherlands': 1, 'as': 2, 'a': 7, 'successor': 1, 'to': 4, 'ABC': 2, 'language': 2, 'itself': 1, 'inspired': 1, 'SETL': 1, 'capable': 1, 'of': 4, 'exception': 1, 'handling': 1, 'interfacing': 1, 'with': 1, 'Amoeba': 1, 'operating': 1, 'system': 1, '.': 7, 'Van': 2, 'remains': 1, \"Python's\": 3, 'principal': 1, 'author': 1, 'His': 1, 'continuing': 1, 'central': 1, 'role': 1, 'development': 1, 'is': 1, 'reflected': 1, 'title': 2, 'given': 1, 'him': 1, 'community': 1, 'Benevolent': 1, 'Dictator': 1, 'For': 1, 'Life': 1, 'On': 1, 'origins': 1, 'wrote': 1, '1996': 1, 'In': 1, 'I': 5, 'looking': 1, 'for': 3, 'hobby': 1, 'programming': 1, 'project': 2, 'that': 2, 'would': 3, 'keep': 1, 'me': 1, 'occupied': 1, 'during': 1, 'week': 1, 'around': 1, 'Christmas': 1, 'My': 1, 'office': 1, 'be': 1, 'closed': 1, 'but': 1, 'had': 2, 'home': 1, 'computer': 1, 'not': 1, 'much': 1, 'else': 1, 'on': 1, 'my': 1, 'hands': 1, 'decided': 1, 'write': 1, 'an': 1, 'interpreter': 1, 'new': 1, 'scripting': 1, 'been': 1, 'thinking': 1, 'about': 1, 'lately': 1, 'descendant': 1, 'appeal': 1, 'Unix/C': 1, 'hackers': 1, 'chose': 1, 'working': 1, 'being': 1, 'slightly': 1, 'irreverent': 1, 'mood': 1, 'big': 1, 'fan': 1, 'Monty': 1, 'Flying': 1, 'Circus': 1}\n"
     ]
    }
   ],
   "source": [
    "# This text adapted from the wikipedia entry on python\n",
    "\n",
    "text_list = ['Python', 'was', 'conceived', 'in', 'the', 'late', '1980s', 'and', 'its', 'implementation', 'began', 'in',\n",
    " 'December', '1989', 'by', 'Guido', 'van', 'Rossum', 'at', 'Centrum', 'Wiskunde', '&', 'Informatica', 'in', 'the',\n",
    " 'Netherlands', 'as', 'a', 'successor', 'to', 'the', 'ABC', 'language', 'itself', 'inspired', 'by', 'SETL', 'capable',\n",
    " 'of', 'exception', 'handling', 'and', 'interfacing', 'with', 'the', 'Amoeba', 'operating', 'system', '.', 'Van', 'Rossum',\n",
    " 'remains', \"Python's\", 'principal', 'author', '.', 'His', 'continuing', 'central', 'role', 'in', \"Python's\", 'development',\n",
    " 'is', 'reflected', 'in', 'the', 'title', 'given', 'to', 'him', 'by', 'the', 'Python', 'community', 'Benevolent', 'Dictator',\n",
    " 'For', 'Life', '.', 'On', 'the', 'origins', 'of', 'Python', 'Van', 'Rossum', 'wrote', 'in', '1996', 'In', 'December',\n",
    " '1989', 'I', 'was', 'looking', 'for', 'a', 'hobby', 'programming', 'project', 'that', 'would', 'keep', 'me', 'occupied',\n",
    " 'during', 'the', 'week', 'around', 'Christmas', '.', 'My', 'office', 'would', 'be', 'closed', 'but', 'I', 'had', 'a',\n",
    " 'home', 'computer', 'and', 'not', 'much', 'else', 'on', 'my', 'hands', '.', 'I', 'decided', 'to', 'write', 'an', 'interpreter',\n",
    " 'for', 'the', 'new', 'scripting', 'language', 'I', 'had', 'been', 'thinking', 'about', 'lately', 'a', 'descendant', 'of',\n",
    " 'ABC', 'that', 'would', 'appeal', 'to', 'Unix/C', 'hackers', '.', 'I', 'chose', 'Python', 'as', 'a', 'working', 'title',\n",
    " 'for', 'the', 'project', 'being', 'in', 'a', 'slightly', 'irreverent', 'mood', 'and', 'a', 'big', 'fan', 'of', 'Monty',\n",
    " \"Python's\", 'Flying', 'Circus', '.']\n",
    "\n",
    "# I'm using the standard python dict - an easier version would be to use the defaultdict from the collections library\n",
    "wc_dict = {}\n",
    "\n",
    "# Loop through each word\n",
    "# Remember you can't look up/update a key in a dictionary unless it is already there so the if/else fixes this problem\n",
    "# (This is the problem that defaultdict also fixes)\n",
    "# So check to see if the word is already a key in the dictionary - if so increase the count by 1\n",
    "# If the word (key) isn't in the dictionary put an entry in with the key as the word and an initial count of 1\n",
    "for word in text_list:\n",
    "    if word in wc_dict.keys():\n",
    "        wc_dict[word] += 1\n",
    "    else:\n",
    "        wc_dict[word] = 1\n",
    "        \n",
    "# Remember dictionaries have no order so the order might not be the same for your dictionary \n",
    "# (the word: values will be though!)\n",
    "print('The count of each word is:\\n', wc_dict)"
   ]
  },
  {
   "cell_type": "markdown",
   "metadata": {},
   "source": [
    "9) Loop through the dictionary you made above of {word: # of occurrences}, sum up the total number of words and divide each entry in the dictionary by that total sum and store it in a new dictionary (this will take 2 separate loops!) (In data science this is called Term-Frequency or TF)"
   ]
  },
  {
   "cell_type": "code",
   "execution_count": 10,
   "metadata": {},
   "outputs": [
    {
     "name": "stdout",
     "output_type": "stream",
     "text": [
      "The TF for this passage is:\n",
      " {'Python': 0.0216, 'was': 0.0108, 'conceived': 0.0054, 'in': 0.0378, 'the': 0.0541, 'late': 0.0054, '1980s': 0.0054, 'and': 0.0216, 'its': 0.0054, 'implementation': 0.0054, 'began': 0.0054, 'December': 0.0108, '1989': 0.0108, 'by': 0.0162, 'Guido': 0.0054, 'van': 0.0054, 'Rossum': 0.0162, 'at': 0.0054, 'Centrum': 0.0054, 'Wiskunde': 0.0054, '&': 0.0054, 'Informatica': 0.0054, 'Netherlands': 0.0054, 'as': 0.0108, 'a': 0.0378, 'successor': 0.0054, 'to': 0.0216, 'ABC': 0.0108, 'language': 0.0108, 'itself': 0.0054, 'inspired': 0.0054, 'SETL': 0.0054, 'capable': 0.0054, 'of': 0.0216, 'exception': 0.0054, 'handling': 0.0054, 'interfacing': 0.0054, 'with': 0.0054, 'Amoeba': 0.0054, 'operating': 0.0054, 'system': 0.0054, '.': 0.0378, 'Van': 0.0108, 'remains': 0.0054, \"Python's\": 0.0162, 'principal': 0.0054, 'author': 0.0054, 'His': 0.0054, 'continuing': 0.0054, 'central': 0.0054, 'role': 0.0054, 'development': 0.0054, 'is': 0.0054, 'reflected': 0.0054, 'title': 0.0108, 'given': 0.0054, 'him': 0.0054, 'community': 0.0054, 'Benevolent': 0.0054, 'Dictator': 0.0054, 'For': 0.0054, 'Life': 0.0054, 'On': 0.0054, 'origins': 0.0054, 'wrote': 0.0054, '1996': 0.0054, 'In': 0.0054, 'I': 0.027, 'looking': 0.0054, 'for': 0.0162, 'hobby': 0.0054, 'programming': 0.0054, 'project': 0.0108, 'that': 0.0108, 'would': 0.0162, 'keep': 0.0054, 'me': 0.0054, 'occupied': 0.0054, 'during': 0.0054, 'week': 0.0054, 'around': 0.0054, 'Christmas': 0.0054, 'My': 0.0054, 'office': 0.0054, 'be': 0.0054, 'closed': 0.0054, 'but': 0.0054, 'had': 0.0108, 'home': 0.0054, 'computer': 0.0054, 'not': 0.0054, 'much': 0.0054, 'else': 0.0054, 'on': 0.0054, 'my': 0.0054, 'hands': 0.0054, 'decided': 0.0054, 'write': 0.0054, 'an': 0.0054, 'interpreter': 0.0054, 'new': 0.0054, 'scripting': 0.0054, 'been': 0.0054, 'thinking': 0.0054, 'about': 0.0054, 'lately': 0.0054, 'descendant': 0.0054, 'appeal': 0.0054, 'Unix/C': 0.0054, 'hackers': 0.0054, 'chose': 0.0054, 'working': 0.0054, 'being': 0.0054, 'slightly': 0.0054, 'irreverent': 0.0054, 'mood': 0.0054, 'big': 0.0054, 'fan': 0.0054, 'Monty': 0.0054, 'Flying': 0.0054, 'Circus': 0.0054}\n"
     ]
    }
   ],
   "source": [
    "# Initializing a new dict and the total for the word count \n",
    "# (I know you could just do len(text_list) also but with huge documents this isnt a possibility!)\n",
    "tf_dict = {}\n",
    "total_words = 0.0\n",
    "\n",
    "# First loop does a total count of all the words in the document to use as our denominator \n",
    "for word in wc_dict.keys():\n",
    "    total_words += wc_dict[word]\n",
    "\n",
    "# Second loops goes through each word and comes up with the TF term (# of occurrences / total number of words)\n",
    "for word in wc_dict.keys():\n",
    "    tf_dict[word] = round(wc_dict[word] / total_words, 4)\n",
    "\n",
    "# Once again yours could be in a different order (see below for the EC)\n",
    "print(\"The TF for this passage is:\\n\", tf_dict)"
   ]
  },
  {
   "cell_type": "markdown",
   "metadata": {},
   "source": [
    "Extra challenge: Sort the output by the TF in descending order."
   ]
  },
  {
   "cell_type": "code",
   "execution_count": 15,
   "metadata": {},
   "outputs": [
    {
     "name": "stdout",
     "output_type": "stream",
     "text": [
      "Sorted by TF descending [('the', 0.0541), ('in', 0.0378), ('a', 0.0378), ('.', 0.0378), ('I', 0.027), ('Python', 0.0216), ('and', 0.0216), ('to', 0.0216), ('of', 0.0216), ('by', 0.0162), ('Rossum', 0.0162), (\"Python's\", 0.0162), ('for', 0.0162), ('would', 0.0162), ('was', 0.0108), ('December', 0.0108), ('1989', 0.0108), ('as', 0.0108), ('ABC', 0.0108), ('language', 0.0108), ('Van', 0.0108), ('title', 0.0108), ('project', 0.0108), ('that', 0.0108), ('had', 0.0108), ('conceived', 0.0054), ('late', 0.0054), ('1980s', 0.0054), ('its', 0.0054), ('implementation', 0.0054), ('began', 0.0054), ('Guido', 0.0054), ('van', 0.0054), ('at', 0.0054), ('Centrum', 0.0054), ('Wiskunde', 0.0054), ('&', 0.0054), ('Informatica', 0.0054), ('Netherlands', 0.0054), ('successor', 0.0054), ('itself', 0.0054), ('inspired', 0.0054), ('SETL', 0.0054), ('capable', 0.0054), ('exception', 0.0054), ('handling', 0.0054), ('interfacing', 0.0054), ('with', 0.0054), ('Amoeba', 0.0054), ('operating', 0.0054), ('system', 0.0054), ('remains', 0.0054), ('principal', 0.0054), ('author', 0.0054), ('His', 0.0054), ('continuing', 0.0054), ('central', 0.0054), ('role', 0.0054), ('development', 0.0054), ('is', 0.0054), ('reflected', 0.0054), ('given', 0.0054), ('him', 0.0054), ('community', 0.0054), ('Benevolent', 0.0054), ('Dictator', 0.0054), ('For', 0.0054), ('Life', 0.0054), ('On', 0.0054), ('origins', 0.0054), ('wrote', 0.0054), ('1996', 0.0054), ('In', 0.0054), ('looking', 0.0054), ('hobby', 0.0054), ('programming', 0.0054), ('keep', 0.0054), ('me', 0.0054), ('occupied', 0.0054), ('during', 0.0054), ('week', 0.0054), ('around', 0.0054), ('Christmas', 0.0054), ('My', 0.0054), ('office', 0.0054), ('be', 0.0054), ('closed', 0.0054), ('but', 0.0054), ('home', 0.0054), ('computer', 0.0054), ('not', 0.0054), ('much', 0.0054), ('else', 0.0054), ('on', 0.0054), ('my', 0.0054), ('hands', 0.0054), ('decided', 0.0054), ('write', 0.0054), ('an', 0.0054), ('interpreter', 0.0054), ('new', 0.0054), ('scripting', 0.0054), ('been', 0.0054), ('thinking', 0.0054), ('about', 0.0054), ('lately', 0.0054), ('descendant', 0.0054), ('appeal', 0.0054), ('Unix/C', 0.0054), ('hackers', 0.0054), ('chose', 0.0054), ('working', 0.0054), ('being', 0.0054), ('slightly', 0.0054), ('irreverent', 0.0054), ('mood', 0.0054), ('big', 0.0054), ('fan', 0.0054), ('Monty', 0.0054), ('Flying', 0.0054), ('Circus', 0.0054)]\n"
     ]
    }
   ],
   "source": [
    "# Since dictionaries are not stored in any order operator.itemgetter(1) is one solution to print them out in order\n",
    "# itemgetter(1) means to grab the values if you wanted keys you could do itemgetter(0)\n",
    "# There are other solutions possible also!\n",
    "\n",
    "import operator\n",
    "print('Sorted by TF descending', sorted(tf_dict.items(), key=operator.itemgetter(1), reverse=True))"
   ]
  }
 ],
 "metadata": {
  "kernelspec": {
   "display_name": "Python 3",
   "language": "python",
   "name": "python3"
  },
  "language_info": {
   "codemirror_mode": {
    "name": "ipython",
    "version": 3
   },
   "file_extension": ".py",
   "mimetype": "text/x-python",
   "name": "python",
   "nbconvert_exporter": "python",
   "pygments_lexer": "ipython3",
   "version": "3.8.11"
  }
 },
 "nbformat": 4,
 "nbformat_minor": 2
}
