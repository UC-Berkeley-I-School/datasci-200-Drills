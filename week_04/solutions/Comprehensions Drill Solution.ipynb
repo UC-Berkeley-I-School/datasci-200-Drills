{
 "cells": [
  {
   "cell_type": "markdown",
   "source": [
    "## Comprehensions\n",
    "\n",
    "Sample answers are in a separate folder with an explanation (there might be multiple ways to solve a problem though!) \n"
   ],
   "metadata": {}
  },
  {
   "cell_type": "markdown",
   "source": [
    "4.9.1 Code a list comprehension that finds the square root of all numbers 1-10."
   ],
   "metadata": {}
  },
  {
   "cell_type": "code",
   "execution_count": 4,
   "source": [
    "# Sometimes it's easier to do the list comprehension first as a loop and then convert it \n",
    "\n",
    "# Setup the range from 1-10 and then do a square root (power to 1/2) of each number\n",
    "# I put the round in there to make the output easier to read\n",
    "[round(i**0.5,3) for i in range(1,11)]"
   ],
   "outputs": [
    {
     "output_type": "execute_result",
     "data": {
      "text/plain": [
       "[1.0, 1.414, 1.732, 2.0, 2.236, 2.449, 2.646, 2.828, 3.0, 3.162]"
      ]
     },
     "metadata": {},
     "execution_count": 4
    }
   ],
   "metadata": {}
  },
  {
   "cell_type": "markdown",
   "source": [
    "4.9.2 Code a list comprehension that includes all numbers 1-20 that can be divisible by 3."
   ],
   "metadata": {}
  },
  {
   "cell_type": "code",
   "execution_count": 5,
   "source": [
    "[i for i in range(1,21) if i % 3 == 0]"
   ],
   "outputs": [
    {
     "output_type": "execute_result",
     "data": {
      "text/plain": [
       "[3, 6, 9, 12, 15, 18]"
      ]
     },
     "metadata": {},
     "execution_count": 5
    }
   ],
   "metadata": {}
  },
  {
   "cell_type": "markdown",
   "source": [
    "4.9.3 Code a list comprehension that goes through the following list and lower-cases each word other than the first word (keep it capitalized)."
   ],
   "metadata": {}
  },
  {
   "cell_type": "code",
   "execution_count": 8,
   "source": [
    "cap_list = ['I', 'REALLY', 'ENJOY', 'THESE', \"LIST\", 'COMPREHENSIONS.']\n",
    "\n",
    "[word.lower() if word != 'I' else word for word in cap_list]"
   ],
   "outputs": [
    {
     "output_type": "execute_result",
     "data": {
      "text/plain": [
       "['I', 'really', 'enjoy', 'these', 'list', 'comprehensions.']"
      ]
     },
     "metadata": {},
     "execution_count": 8
    }
   ],
   "metadata": {}
  },
  {
   "cell_type": "markdown",
   "source": [
    "4.9.4 Code a dictionary comprehension with the key being a number from 1-10 and the value being the cube of that number.\n",
    "(For example key:value of 2 would be 2:8)"
   ],
   "metadata": {}
  },
  {
   "cell_type": "code",
   "execution_count": 9,
   "source": [
    "{i: i**3 for i in range(1,11)}"
   ],
   "outputs": [
    {
     "output_type": "execute_result",
     "data": {
      "text/plain": [
       "{1: 1, 2: 8, 3: 27, 4: 64, 5: 125, 6: 216, 7: 343, 8: 512, 9: 729, 10: 1000}"
      ]
     },
     "metadata": {},
     "execution_count": 9
    }
   ],
   "metadata": {}
  },
  {
   "cell_type": "markdown",
   "source": [
    "4.9.5 Write a dictionary comprehension that merges the two dictionaries below."
   ],
   "metadata": {}
  },
  {
   "cell_type": "code",
   "execution_count": 10,
   "source": [
    "dict1 = {'a':2, 'b':5, 'c':1}\n",
    "dict2 = {'x':1, 'y':3, 'z':8}\n",
    "\n",
    "# Your code here\n",
    "{key: val for d in (dict1, dict2) for key, val in d.items()}"
   ],
   "outputs": [
    {
     "output_type": "execute_result",
     "data": {
      "text/plain": [
       "{'a': 2, 'b': 5, 'c': 1, 'x': 1, 'y': 3, 'z': 8}"
      ]
     },
     "metadata": {},
     "execution_count": 10
    }
   ],
   "metadata": {}
  },
  {
   "cell_type": "markdown",
   "source": [
    "4.9.6 Write a comprehension for a list of 0's and 1's of length 15, where 1's are placed at indicies which are multiples of 3 and 0 for all others. Sample output: \\[0,0,0,1,0,0,1 ... \\]"
   ],
   "metadata": {}
  },
  {
   "cell_type": "code",
   "execution_count": 6,
   "source": [
    "[1 if i != 0 and i%3 ==0 else 0 for i in range(15)]"
   ],
   "outputs": [
    {
     "output_type": "execute_result",
     "data": {
      "text/plain": [
       "[0, 0, 0, 1, 0, 0, 1, 0, 0, 1, 0, 0, 1, 0, 0]"
      ]
     },
     "metadata": {},
     "execution_count": 6
    }
   ],
   "metadata": {}
  }
 ],
 "metadata": {
  "kernelspec": {
   "display_name": "Python 3",
   "language": "python",
   "name": "python3"
  },
  "language_info": {
   "codemirror_mode": {
    "name": "ipython",
    "version": 3
   },
   "file_extension": ".py",
   "mimetype": "text/x-python",
   "name": "python",
   "nbconvert_exporter": "python",
   "pygments_lexer": "ipython3",
   "version": "3.8.5"
  }
 },
 "nbformat": 4,
 "nbformat_minor": 2
}