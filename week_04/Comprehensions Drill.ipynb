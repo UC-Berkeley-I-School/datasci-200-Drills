{
 "cells": [
  {
   "cell_type": "markdown",
   "source": [
    "## Comprehensions\n",
    "\n",
    "Sample answers are in a separate folder with an explanation (there might be multiple ways to solve a problem though!) \n"
   ],
   "metadata": {}
  },
  {
   "cell_type": "markdown",
   "source": [
    "4.9.1 Code a list comprehension that finds the square root of all numbers 1-10."
   ],
   "metadata": {}
  },
  {
   "cell_type": "code",
   "execution_count": null,
   "source": [
    "# Your code here"
   ],
   "outputs": [],
   "metadata": {
    "collapsed": true
   }
  },
  {
   "cell_type": "markdown",
   "source": [
    "4.9.2 Code a list comprehension that includes all numbers 1-20 that can be divisible by 3."
   ],
   "metadata": {}
  },
  {
   "cell_type": "code",
   "execution_count": null,
   "source": [
    "# Your code here"
   ],
   "outputs": [],
   "metadata": {
    "collapsed": true
   }
  },
  {
   "cell_type": "markdown",
   "source": [
    "4.9.3 Code a list comprehension that goes through the following list and lower-cases each word."
   ],
   "metadata": {}
  },
  {
   "cell_type": "code",
   "execution_count": null,
   "source": [
    "cap_list = ['I', 'REALLY', 'ENJOY', 'THESE', \"LIST\", 'COMPREHENSIONS']\n",
    "\n",
    "# Your code here"
   ],
   "outputs": [],
   "metadata": {
    "collapsed": true
   }
  },
  {
   "cell_type": "markdown",
   "source": [
    "4.9.4 Code a dictionary comprehension with the key being a number from 1-10 and the value being the cube of that number.\n",
    "(For example key:value of 2 would be 2:8)"
   ],
   "metadata": {}
  },
  {
   "cell_type": "code",
   "execution_count": null,
   "source": [
    "# Your code here"
   ],
   "outputs": [],
   "metadata": {
    "collapsed": true
   }
  },
  {
   "cell_type": "markdown",
   "source": [
    "4.9.5 Write a dictionary comprehension that merges the two dictionaries below."
   ],
   "metadata": {}
  },
  {
   "cell_type": "code",
   "execution_count": null,
   "source": [
    "dict1 = {'a':2, 'b':5, 'c':1}\n",
    "dict2 = {'x':1, 'y':3, 'z':8}\n",
    "\n",
    "# Your code here\n"
   ],
   "outputs": [],
   "metadata": {
    "collapsed": true
   }
  },
  {
   "cell_type": "markdown",
   "source": [
    "4.9.6 Write a comprehension for a list of 0's and 1's of length 15, where 1's are placed at indicies which are multiples of 3 and 0 for all others. Sample output: \\[0,0,0,1,0,0,1 ... \\]"
   ],
   "metadata": {}
  },
  {
   "cell_type": "code",
   "execution_count": null,
   "source": [
    "# Your code here"
   ],
   "outputs": [],
   "metadata": {}
  }
 ],
 "metadata": {
  "kernelspec": {
   "display_name": "Python 3",
   "language": "python",
   "name": "python3"
  },
  "language_info": {
   "codemirror_mode": {
    "name": "ipython",
    "version": 3
   },
   "file_extension": ".py",
   "mimetype": "text/x-python",
   "name": "python",
   "nbconvert_exporter": "python",
   "pygments_lexer": "ipython3",
   "version": "3.6.7"
  }
 },
 "nbformat": 4,
 "nbformat_minor": 2
}