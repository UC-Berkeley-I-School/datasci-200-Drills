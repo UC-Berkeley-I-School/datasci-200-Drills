{
 "cells": [
  {
   "cell_type": "markdown",
   "metadata": {},
   "source": [
    "## Getting a sense of speed differences ...\n",
    "Get a sense of measuring performance in terms of the time taken as well as the number of steps - called benchmarking. Using the notebook run this snippet to get a feeling of the time. This example uses the ```!``` to tell Jupyter to use the Operating System. May take a second or two to complete and then echo back an answer. The \"timeit\" is a python library used here to time the running of the command. In this example, notice a string is created using only \"x\", joined 10,000 or 100,000 times. How long did it take to run?"
   ]
  },
  {
   "cell_type": "code",
   "execution_count": null,
   "metadata": {},
   "outputs": [],
   "source": [
    "!python -m timeit \"'x'.join(str(n) for n in range(100))\""
   ]
  },
  {
   "cell_type": "code",
   "execution_count": null,
   "metadata": {},
   "outputs": [],
   "source": [
    "#In this example, we use \"timeit\" again to time the creation of a \n",
    "#list of dashes.  May take a few seconds to show!\n",
    "!python -m timeit \"'x'.join([str(n) for n in range(100)])\""
   ]
  },
  {
   "cell_type": "code",
   "execution_count": null,
   "metadata": {},
   "outputs": [],
   "source": [
    "# Now let's the use \"map\" function.  THe purpose of these three \n",
    "# statements is to demonstrate how our choice of algorithm or \n",
    "# functions we use affect the performance of the system.\n",
    "# The measurement is the number of times the same command runs recursively.\n",
    "!python -m timeit \"'x'.join(map(str, range(100)))\"\n",
    "\n",
    "# for some fun, print the string!  \n",
    "# Compare the number of \"seconds\" per loop."
   ]
  },
  {
   "cell_type": "code",
   "execution_count": null,
   "metadata": {},
   "outputs": [],
   "source": [
    "# We can see similar outputs using Python in the Jupyter notebook\n",
    "import timeit\n",
    "\n",
    "print(\"Test 1\")\n",
    "timeit.timeit('\"x\".join(str(n) for n in range(100))', number=10000)"
   ]
  },
  {
   "cell_type": "code",
   "execution_count": null,
   "metadata": {},
   "outputs": [],
   "source": [
    "print(\"Test 2\")\n",
    "timeit.timeit('\"x\".join([str(n) for n in range(100)])', number=10000)"
   ]
  },
  {
   "cell_type": "code",
   "execution_count": null,
   "metadata": {},
   "outputs": [],
   "source": [
    "print(\"Test 3\")\n",
    "timeit.timeit('\"x\".join(map(str, range(100)))', number=10000)"
   ]
  },
  {
   "cell_type": "code",
   "execution_count": null,
   "metadata": {},
   "outputs": [],
   "source": [
    "#In this example, how many operations are performed?\n",
    "x = ['tea','coffee','champagne']\n",
    "for i in x:\n",
    "    print(i)"
   ]
  },
  {
   "cell_type": "code",
   "execution_count": null,
   "metadata": {},
   "outputs": [],
   "source": [
    "# Get a feeling of the difference between performance by running this snippet.  \n",
    "# Don't worry about the import statements or the script itself nor the warning message that will appear \n",
    "# A chart will be created to show the difference of FLOPS between a bubble sort (On^2)\n",
    "# and a merge sort (O(nlogn)). \n",
    "# We'll cover this towards the end of the unit.\n",
    "\n",
    "import os\n",
    "import sys\n",
    "import glob\n",
    "import matplotlib.pyplot as plt\n",
    "import numpy as np\n",
    "import pandas as pd\n",
    "%matplotlib inline\n",
    "%precision 4\n",
    "plt.style.use('ggplot')\n",
    "\n",
    "\n",
    "def f1(n, k):\n",
    "    return k*n*n\n",
    "\n",
    "def f2(n, k):\n",
    "    return k*n*np.log(n)\n",
    "\n",
    "n = np.arange(0, 20001)\n",
    "\n",
    "plt.plot(n, f1(n, 1), c='blue')\n",
    "plt.plot(n, f2(n, 1000), c='red')\n",
    "plt.xlabel('Size of input (n)', fontsize=16)\n",
    "plt.ylabel('Number of operations', fontsize=16)\n",
    "plt.legend(['$\\mathcal{O}(n^2)$', '$\\mathcal{O}(n \\log n)$'], loc='best', fontsize=20);"
   ]
  },
  {
   "cell_type": "markdown",
   "metadata": {},
   "source": [
    "## Optional - more complex examples"
   ]
  },
  {
   "cell_type": "markdown",
   "metadata": {},
   "source": [
    "- Given this otherwise useless snippet, what's the most dominant influence on O(n)?\n",
    "\n",
    "```\n",
    "a = 5\n",
    "b = 6\n",
    "c = 7\n",
    "for i in range (n):\n",
    "\tfor j in range(n):\n",
    "\t\tx = i * j\n",
    "\t\ty = j * j\n",
    "\t\tz = i * j\n",
    "for k in range(n):\n",
    "\tw = a * k + 45\n",
    "\tv = b * b\n",
    "d = 33\n",
    "```"
   ]
  },
  {
   "cell_type": "code",
   "execution_count": null,
   "metadata": {},
   "outputs": [],
   "source": []
  },
  {
   "cell_type": "markdown",
   "metadata": {},
   "source": [
    "Compare these three statements: \n",
    "- Which might run faster?  Why?"
   ]
  },
  {
   "cell_type": "code",
   "execution_count": null,
   "metadata": {},
   "outputs": [],
   "source": [
    "x = sorted(['z','b','e','f','q','3','0'])\n",
    "y = sorted(['a','b','e','f','3','0','z'])\n",
    "z = sorted(['z','q','e','b','a','3','0'])"
   ]
  }
 ],
 "metadata": {
  "kernelspec": {
   "display_name": "Python 3",
   "language": "python",
   "name": "python3"
  },
  "language_info": {
   "codemirror_mode": {
    "name": "ipython",
    "version": 3
   },
   "file_extension": ".py",
   "mimetype": "text/x-python",
   "name": "python",
   "nbconvert_exporter": "python",
   "pygments_lexer": "ipython3",
   "version": "3.6.7"
  }
 },
 "nbformat": 4,
 "nbformat_minor": 2
}
