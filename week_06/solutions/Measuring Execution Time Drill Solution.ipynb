{
 "cells": [
  {
   "cell_type": "markdown",
   "metadata": {},
   "source": [
    "### Getting a sense of execution speed differences\n",
    "Get a sense of measuring performance in terms of the time taken as well as the number of steps - called benchmarking. Using the notebook run these snippet to get a feeling of how to measure execution time in Python.\n",
    "\n",
    "These first examples uses the ```!``` to tell Jupyter to use the Operating System. Executing a cell may take a second or two to complete and then echo back an answer. The \"timeit\" is a python library used here to time the running of the command. \n",
    "\n",
    "In this first example, notice a string is created using only \"x\", joined 10,000 or 100,000 times. How long did it take to run?"
   ]
  },
  {
   "cell_type": "code",
   "execution_count": 1,
   "metadata": {},
   "outputs": [
    {
     "name": "stdout",
     "output_type": "stream",
     "text": [
      "10000 loops, best of 3: 21.9 usec per loop\n"
     ]
    }
   ],
   "source": [
    "!python -m timeit \"'x'.join(str(n) for n in range(100))\""
   ]
  },
  {
   "cell_type": "code",
   "execution_count": 2,
   "metadata": {},
   "outputs": [
    {
     "name": "stdout",
     "output_type": "stream",
     "text": [
      "100000 loops, best of 3: 19.2 usec per loop\n"
     ]
    }
   ],
   "source": [
    "#In this example, we use \"timeit\" again to time the creation of a \n",
    "#list of numbers and x's.  May take a few seconds to show!\n",
    "!python -m timeit \"'x'.join([str(n) for n in range(100)])\""
   ]
  },
  {
   "cell_type": "code",
   "execution_count": 3,
   "metadata": {},
   "outputs": [
    {
     "name": "stdout",
     "output_type": "stream",
     "text": [
      "100000 loops, best of 3: 15.4 usec per loop\n"
     ]
    }
   ],
   "source": [
    "# Now let's the use \"map\" function.  THe purpose of these three \n",
    "# statements is to demonstrate how our choice of algorithm or \n",
    "# functions we use affect the performance of the system.\n",
    "# The measurement is the number of times the same command runs recursively.\n",
    "!python -m timeit \"'x'.join(map(str, range(100)))\"\n",
    "\n",
    "# for some fun, print the string!  \n",
    "# Compare the number of \"seconds\" per loop."
   ]
  },
  {
   "cell_type": "markdown",
   "metadata": {},
   "source": [
    "##### Timing calcs in jupyter notebook\n",
    "\n",
    "We can see similar outputs using Python in the Jupyter notebook"
   ]
  },
  {
   "cell_type": "code",
   "execution_count": 4,
   "metadata": {},
   "outputs": [
    {
     "name": "stdout",
     "output_type": "stream",
     "text": [
      "Test 1\n"
     ]
    },
    {
     "data": {
      "text/plain": [
       "0.23387357706313605"
      ]
     },
     "execution_count": 4,
     "metadata": {},
     "output_type": "execute_result"
    }
   ],
   "source": [
    "import timeit\n",
    "\n",
    "print(\"Test 1\")\n",
    "timeit.timeit('\"x\".join(str(n) for n in range(100))', number=10000)"
   ]
  },
  {
   "cell_type": "code",
   "execution_count": 5,
   "metadata": {},
   "outputs": [
    {
     "name": "stdout",
     "output_type": "stream",
     "text": [
      "Test 2\n"
     ]
    },
    {
     "data": {
      "text/plain": [
       "0.19873401109559746"
      ]
     },
     "execution_count": 5,
     "metadata": {},
     "output_type": "execute_result"
    }
   ],
   "source": [
    "print(\"Test 2\")\n",
    "timeit.timeit('\"x\".join([str(n) for n in range(100)])', number=10000)"
   ]
  },
  {
   "cell_type": "code",
   "execution_count": 6,
   "metadata": {},
   "outputs": [
    {
     "name": "stdout",
     "output_type": "stream",
     "text": [
      "Test 3\n"
     ]
    },
    {
     "data": {
      "text/plain": [
       "0.16057196019006498"
      ]
     },
     "execution_count": 6,
     "metadata": {},
     "output_type": "execute_result"
    }
   ],
   "source": [
    "print(\"Test 3\")\n",
    "timeit.timeit('\"x\".join(map(str, range(100)))', number=10000)"
   ]
  },
  {
   "cell_type": "markdown",
   "metadata": {},
   "source": [
    "##### Number of steps performed\n",
    "\n",
    "In this example, how many operations are performed?"
   ]
  },
  {
   "cell_type": "code",
   "execution_count": 7,
   "metadata": {},
   "outputs": [
    {
     "name": "stdout",
     "output_type": "stream",
     "text": [
      "tea\n",
      "coffee\n",
      "champagne\n"
     ]
    }
   ],
   "source": [
    "x = ['tea','coffee','champagne']\n",
    "for i in x:\n",
    "    print(i)"
   ]
  },
  {
   "cell_type": "markdown",
   "metadata": {},
   "source": [
    "##### Answer: 6 operations"
   ]
  },
  {
   "cell_type": "markdown",
   "metadata": {},
   "source": [
    "##### Charting performance\n",
    "\n",
    "Get a feeling of the difference between performance by running this snippet.  \n",
    "\n",
    "Don't worry about the import statements, the script itself (or the warning message that will appear) \n",
    "A chart will be created to show the difference of FLOPS in each sorting algorithm (between a bubble sort (On^2) and a merge sort (O(nlogn))"
   ]
  },
  {
   "cell_type": "code",
   "execution_count": 8,
   "metadata": {},
   "outputs": [
    {
     "data": {
      "image/png": "[encoded data removed]",
      "text/plain": [
       "<Figure size 432x288 with 1 Axes>"
      ]
     },
     "metadata": {},
     "output_type": "display_data"
    }
   ],
   "source": [
    "import os\n",
    "import sys\n",
    "import glob\n",
    "import matplotlib.pyplot as plt\n",
    "import numpy as np\n",
    "import pandas as pd\n",
    "%matplotlib inline\n",
    "%precision 4\n",
    "plt.style.use('ggplot')\n",
    "\n",
    "\n",
    "def f1(n, k):\n",
    "    return k*n*n\n",
    "\n",
    "def f2(n, k):\n",
    "    return k*n*np.log(n)\n",
    "\n",
    "n = np.arange(1, 20001)\n",
    "\n",
    "plt.plot(n, f1(n, 1), c='blue')\n",
    "plt.plot(n, f2(n, 1000), c='red')\n",
    "plt.xlabel('Size of input (n)', fontsize=16)\n",
    "plt.ylabel('Number of operations', fontsize=16)\n",
    "plt.legend(['$\\mathcal{O}(n^2)$', '$\\mathcal{O}(n \\log n)$'], loc='best', fontsize=20);"
   ]
  },
  {
   "cell_type": "markdown",
   "metadata": {},
   "source": [
    "## Optional - more complex examples"
   ]
  },
  {
   "cell_type": "markdown",
   "metadata": {},
   "source": [
    "Given this otherwise useless snippet, what's the most dominant influence on O(n)?\n",
    "```\n",
    "a = 5\n",
    "b = 6\n",
    "c = 7\n",
    "for i in range (n):\n",
    "\tfor j in range(n):\n",
    "\t\tx = i * j\n",
    "\t\ty = j * j\n",
    "\t\tz = i * j\n",
    "for k in range(n):\n",
    "\tw = a * k + 45\n",
    "\tv = b * b\n",
    "d = 33\n",
    "```"
   ]
  },
  {
   "cell_type": "code",
   "execution_count": 9,
   "metadata": {},
   "outputs": [],
   "source": [
    "a = 5\n",
    "b = 6\n",
    "c = 7\n",
    "n = 100\n",
    "for i in range(n):\n",
    "    for j in range(n):\n",
    "        x = i * j\n",
    "        y = j * j\n",
    "        z = i * j\n",
    "for k in range(n):\n",
    "    w = a * k + 45\n",
    "    v = b * b\n",
    "d = 33"
   ]
  },
  {
   "cell_type": "markdown",
   "metadata": {},
   "source": [
    "##### ANSWER:\n",
    "\n",
    "The nested loops (i & j) each have n times the operations as just one loop (k). One for loop (k) executes n times or 100 times; while the nest loop (i & j) is executed 100 x 100 times (10,000 times)."
   ]
  },
  {
   "cell_type": "markdown",
   "metadata": {},
   "source": [
    "Compare these three statements: \n",
    "- Which might run faster?  Why?"
   ]
  },
  {
   "cell_type": "code",
   "execution_count": 10,
   "metadata": {},
   "outputs": [],
   "source": [
    "x = sorted(['z','b','e','f','q','3','0'])\n",
    "y = sorted(['a','b','e','f','3','0','z'])\n",
    "z = sorted(['z','q','e','b','a','3','0'])"
   ]
  },
  {
   "cell_type": "markdown",
   "metadata": {},
   "source": [
    "##### ANSWER:\n",
    "\n",
    "y and z are faster than x because x is entirely unordered.  Each element would be compared to the one next to it to determine the order. y has elements a, b, e, and f in order already and so will be pretty quick at moving the rest of data. z could be fastest of all depending how the list is sorted - since it is already in a reverse order - using pop might add a step but might \n",
    "yield a faster overall time or its worse-case scenario won't be as slow as the others"
   ]
  }
 ],
 "metadata": {
  "kernelspec": {
   "display_name": "Python 3",
   "language": "python",
   "name": "python3"
  },
  "language_info": {
   "codemirror_mode": {
    "name": "ipython",
    "version": 3
   },
   "file_extension": ".py",
   "mimetype": "text/x-python",
   "name": "python",
   "nbconvert_exporter": "python",
   "pygments_lexer": "ipython3",
   "version": "3.8.11"
  }
 },
 "nbformat": 4,
 "nbformat_minor": 2
}
