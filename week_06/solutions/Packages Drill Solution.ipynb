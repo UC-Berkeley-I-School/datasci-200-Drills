{
 "cells": [
  {
   "cell_type": "markdown",
   "metadata": {},
   "source": [
    "## DateTime in Python\n",
    "Datetimes are important but not intuitively created.  We need to think about time zone, calendar style, formatting the time, and time delta.\n"
   ]
  },
  {
   "cell_type": "markdown",
   "metadata": {},
   "source": [
    "To use the datetime, we need to import the datetime library. This example is the most basic calling of the library.\n",
    "What happens here?"
   ]
  },
  {
   "cell_type": "code",
   "execution_count": 1,
   "metadata": {},
   "outputs": [
    {
     "name": "stdout",
     "output_type": "stream",
     "text": [
      "2019-02-10 17:42:58.627704\n"
     ]
    }
   ],
   "source": [
    "import datetime\n",
    "\n",
    "today = datetime.datetime.now()\n",
    "print(today)"
   ]
  },
  {
   "cell_type": "markdown",
   "metadata": {},
   "source": [
    "## Converting time to something people can read.\n",
    "\n",
    "Run this example, exchanging %B with %A, %Y, %Z, %c, and %x and see the differences. These codes for different aspects of the datetime can be found here: https://docs.python.org/3/library/datetime.html#strftime-and-strptime-behavior"
   ]
  },
  {
   "cell_type": "code",
   "execution_count": 4,
   "metadata": {},
   "outputs": [
    {
     "name": "stdout",
     "output_type": "stream",
     "text": [
      "B: February\n",
      "A: Sunday\n",
      "Y: 2019\n",
      "z: \n",
      "c: Sun Feb 10 17:44:01 2019\n",
      "x: 02/10/19\n"
     ]
    }
   ],
   "source": [
    "import datetime\n",
    "x = datetime.datetime.now()\n",
    "print('B:', x.strftime(\"%B\"))\n",
    "print('A:', x.strftime(\"%A\"))\n",
    "print('Y:', x.strftime(\"%Y\"))\n",
    "print('Z:', x.strftime(\"%Z\"))  #This only works if there is timezone information!\n",
    "print('c:', x.strftime(\"%c\"))\n",
    "print('x:', x.strftime(\"%x\"))"
   ]
  },
  {
   "cell_type": "markdown",
   "metadata": {},
   "source": [
    "Notice it's common to build a datetime string that humans understand.  Given the above, construct a string showing something like \"Today is Saturday, October 6, 2018.\" You'll need to lookup the code for the day from the link above!"
   ]
  },
  {
   "cell_type": "code",
   "execution_count": 10,
   "metadata": {},
   "outputs": [
    {
     "name": "stdout",
     "output_type": "stream",
     "text": [
      "Today is Sunday, February 10, 2019.\n"
     ]
    }
   ],
   "source": [
    "print(\"Today is \" + x.strftime(\"%A\") + ', ' + x.strftime(\"%B\") + ' ' + x.strftime(\"%d\") + ', ' + x.strftime(\"%Y\") + '.')"
   ]
  }
 ],
 "metadata": {
  "kernelspec": {
   "display_name": "Python 3",
   "language": "python",
   "name": "python3"
  },
  "language_info": {
   "codemirror_mode": {
    "name": "ipython",
    "version": 3
   },
   "file_extension": ".py",
   "mimetype": "text/x-python",
   "name": "python",
   "nbconvert_exporter": "python",
   "pygments_lexer": "ipython3",
   "version": "3.6.7"
  }
 },
 "nbformat": 4,
 "nbformat_minor": 2
}
