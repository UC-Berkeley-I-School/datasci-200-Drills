{
 "cells": [
  {
   "cell_type": "markdown",
   "metadata": {},
   "source": [
    "## Modules & Packages\n",
    "\n",
    "Loading and updating packages with Anaconda. You can use the Anaconda docs as a reference:\n",
    "https://docs.conda.io/projects/conda/en/latest/user-guide/tasks/manage-pkgs.html\n",
    "\n",
    "\n",
    "### Installing a package with Anaconda:\n",
    "To install packages in Anaconda use the ```conda install <package name>``` command from the command line or from jupyter notebooks as shown below. (the --yes is an option to automatically respond yes to installation prompts while the --prefix tells conda to install the package with the current kernel)\n",
    "\n",
    "For this example, we will install the package ```seaborn``` which is a graph/charting visualization tool."
   ]
  },
  {
   "cell_type": "code",
   "execution_count": null,
   "metadata": {},
   "outputs": [],
   "source": [
    "# Install a conda package in the current Jupyter kernel\n",
    "import sys\n",
    "\n",
    "!conda install --yes --prefix {sys.prefix} seaborn"
   ]
  },
  {
   "cell_type": "markdown",
   "metadata": {},
   "source": [
    "### Updating all installed packages with Anaconda\n",
    "\n",
    "Next let's update all of our installed Anaconda packages. To do this the command is ```conda update --all```.  Again we use the --yes in jupyter notebook to automatically fill in the yes during confirmation. (This might take awhile depending on how many packages need to be updated!!)"
   ]
  },
  {
   "cell_type": "code",
   "execution_count": null,
   "metadata": {},
   "outputs": [],
   "source": [
    "!conda update --all --yes "
   ]
  },
  {
   "cell_type": "markdown",
   "metadata": {},
   "source": [
    "### List currently installed Anaconda Packages\n",
    "\n",
    "To list all of your currently installed Anaconda Packages the command is ```conda list```.  You should have seaborn installed from above - please make sure you have numpy, pandas and matplotlib installed also!"
   ]
  },
  {
   "cell_type": "code",
   "execution_count": null,
   "metadata": {},
   "outputs": [],
   "source": [
    "!conda list"
   ]
  },
  {
   "cell_type": "markdown",
   "metadata": {},
   "source": [
    "## Getting arguments passed from the command line\n",
    "\n",
    "Here's a code snippet. Write a script that will print the three passed arguments to your script from the command line. The second shell shows how the script will be executed. (the 3 passed arguments are the 3 strings after the called file cmd_line.py)\n",
    "\n",
    "- The ```%%writefile``` command is a 'magic' command in jupyter to automatically write that block to a file in the same folder as this jupyter notebook. Running the block wont run the Python script - rather it outputs the content of the block to that filename."
   ]
  },
  {
   "cell_type": "code",
   "execution_count": null,
   "metadata": {},
   "outputs": [],
   "source": [
    "%%writefile cmd_line.py\n",
    "\n",
    "import sys\n",
    "\n",
    "print(\"This snippet prints the 3 arguments passed to the command.\")\n",
    "\n",
    "# finish the exercise here by printing out the 3 system arguments.\n"
   ]
  },
  {
   "cell_type": "code",
   "execution_count": null,
   "metadata": {},
   "outputs": [],
   "source": [
    "# Sometimes you need to put the system arguments in \"\" so \n",
    "# that special command line characters aren't interpreted as commands (but are interpreted as strings)\n",
    "\n",
    "!python cmd_line.py \"You\" \"did\" \"it!\""
   ]
  }
 ],
 "metadata": {
  "kernelspec": {
   "display_name": "Python 3",
   "language": "python",
   "name": "python3"
  },
  "language_info": {
   "codemirror_mode": {
    "name": "ipython",
    "version": 3
   },
   "file_extension": ".py",
   "mimetype": "text/x-python",
   "name": "python",
   "nbconvert_exporter": "python",
   "pygments_lexer": "ipython3",
   "version": "3.8.11"
  }
 },
 "nbformat": 4,
 "nbformat_minor": 2
}
