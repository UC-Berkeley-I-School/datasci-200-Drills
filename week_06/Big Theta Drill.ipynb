{
 "cells": [
  {
   "cell_type": "markdown",
   "metadata": {},
   "source": [
    "## Drill: Common Growth Rates.  Here are some common functions of BigO\n",
    "\n",
    "Check out http://bigocheatsheet.com and https://wiki.python.org/moin/TimeComplexity"
   ]
  },
  {
   "cell_type": "markdown",
   "metadata": {},
   "source": [
    "## O(1) and O(n)\n",
    "\n",
    "##### O(1)\n",
    "\n",
    "For O(1), we have a constant \"c\", such that the runtime is bounded by this c, independent of the input. If adding two numbers takes x time, and adding another integer takes x+1 time, then we get the sense of O(1) ... the addition of integers is constant for all inputs."
   ]
  },
  {
   "cell_type": "code",
   "execution_count": 17,
   "metadata": {},
   "outputs": [
    {
     "name": "stdout",
     "output_type": "stream",
     "text": [
      "10015\n"
     ]
    }
   ],
   "source": [
    "# This script adds a set of integers C(1), ignoring the time needed to declare and initialize the variable (x).  \n",
    "# This is not dependent upon the size of the input - it runs in constant time.\n",
    "\n",
    "x = [1, 2, 3, 4, 5, 10000]\n",
    "y = x[0] + x[1] + x[2] + x[3] + x[4] + x[5]\n",
    "print(y)"
   ]
  },
  {
   "cell_type": "markdown",
   "metadata": {},
   "source": [
    "##### O(n)\n",
    "\n",
    "For O(n) there's a constant c such that the run time is bounded by c*n, where n measures the size of the input. For example, finding the number of occurrences of a particular integer in an unsorted array of n integers by the following algorithm is O(n)."
   ]
  },
  {
   "cell_type": "code",
   "execution_count": 9,
   "metadata": {},
   "outputs": [
    {
     "name": "stdout",
     "output_type": "stream",
     "text": [
      "x =  1  compared to  5\n",
      "x =  3  compared to  5\n",
      "x =  6  compared to  5\n",
      "x =  2  compared to  5\n",
      "x =  77  compared to  5\n",
      "x =  5  compared to  5\n",
      "True\n"
     ]
    }
   ],
   "source": [
    "# O(N) describes an algorithm whose performance will grow linearly \n",
    "# and in direct proportion to the size of the input data set. \n",
    "# The example below also demonstrates how Big O favours the \n",
    "# worst-case performance scenario; a matching string could be \n",
    "# found during any iteration of the for loop and the function \n",
    "# would return early, but Big O notation will always assume \n",
    "# the upper limit where the algorithm will perform the maximum \n",
    "# number of iterations.  Here the upper limit is the length of the list.\n",
    "\n",
    "def containsValue(aList, findMe):\n",
    "    for x in aList:\n",
    "        print(\"x = \",x,\" compared to \",findMe)\n",
    "        if x == findMe:\n",
    "            return True\n",
    "    return False\n",
    "\n",
    "print(containsValue([1,3,6,2,77,5,4],5))"
   ]
  },
  {
   "cell_type": "code",
   "execution_count": 18,
   "metadata": {},
   "outputs": [
    {
     "name": "stdout",
     "output_type": "stream",
     "text": [
      "1\n"
     ]
    }
   ],
   "source": [
    "# The complexity of conditionals depends on what the condition is. \n",
    "# In this example, we have an if statement. The analysis of the \n",
    "# runtime of a conditional is highly dependent upon what the \n",
    "# conditional’s condition actually is; checking if one character \n",
    "# is equal to another is a constant-time operation, so this example \n",
    "# is linear with respect to the size of a str. \n",
    "# So, if we let n = |a str|, this function is O(n).\n",
    "\n",
    "def count_ts(a_str):\n",
    "    count = 0\n",
    "    for char in a_str:\n",
    "        if char == 't':\n",
    "            count += 1\n",
    "    return count\n",
    "\n",
    "print(count_ts(\"crazy cat\"))"
   ]
  },
  {
   "cell_type": "markdown",
   "metadata": {},
   "source": [
    "- From https://ocw.mit.edu/courses/electrical-engineering-and-computer-science/6-00sc-introduction-to-computer-science-and-programming-spring-2011/unit-1/lecture-8-efficiency-and-order-of-growth/MIT6_00SCS11_rec04.pdf\n",
    "- With nested loops we work from the inside out:\n",
    "- Figure out the complexity of the inner-most loop, then go up to the next level to determine its complexity and and multiply. e.g., if O(n) for inner, and O(m) for outer, then the algorithm's complexity is O(nm)."
   ]
  },
  {
   "cell_type": "markdown",
   "metadata": {},
   "source": [
    "## Optional more advanced drills"
   ]
  },
  {
   "cell_type": "markdown",
   "metadata": {},
   "source": [
    "### Quadratic time: O(n^2):  \n",
    "Often this is the bound when we have nested loops.\n",
    "\n",
    "Fix the code below so that it works correctly! (as you can see it returns a -1 even though 22 is in the list)"
   ]
  },
  {
   "cell_type": "code",
   "execution_count": 1,
   "metadata": {},
   "outputs": [
    {
     "data": {
      "text/plain": [
       "-1"
      ]
     },
     "execution_count": 1,
     "metadata": {},
     "output_type": "execute_result"
    }
   ],
   "source": [
    "# Find target 22 (i.e. return its index) in a sorted list\n",
    "\n",
    "def linearSearch(sortedList, targetList):\n",
    "    \n",
    "    for i in range(len(sortedList)):    \n",
    "        if sortedList[i] in targetList:\n",
    "            return i\n",
    "        \n",
    "    # If target is not in the list, return -1\n",
    "        return -1\n",
    "\n",
    "linearSearch([1,3,9,22], [22,8,6,101])"
   ]
  }
 ],
 "metadata": {
  "kernelspec": {
   "display_name": "Python 3",
   "language": "python",
   "name": "python3"
  },
  "language_info": {
   "codemirror_mode": {
    "name": "ipython",
    "version": 3
   },
   "file_extension": ".py",
   "mimetype": "text/x-python",
   "name": "python",
   "nbconvert_exporter": "python",
   "pygments_lexer": "ipython3",
   "version": "3.6.7"
  }
 },
 "nbformat": 4,
 "nbformat_minor": 2
}
