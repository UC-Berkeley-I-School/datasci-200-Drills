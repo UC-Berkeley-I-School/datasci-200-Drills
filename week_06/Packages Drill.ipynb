{
 "cells": [
  {
   "cell_type": "markdown",
   "metadata": {},
   "source": [
    "## Package Drill\n",
    "\n",
    "In this drill we will run through using the datetime package and some of its functionality. When using a new package it is important to read the documentation to understand how it works."
   ]
  },
  {
   "cell_type": "markdown",
   "metadata": {},
   "source": [
    "### DateTime in Python\n",
    "\n",
    "Datetimes are important but not intuitively created.  We need to think about time zone, calendar style, formatting the time, and time delta.\n",
    "\n",
    "To use the datetime, we need to import the datetime library. This example is the most basic calling of the library.\n",
    "What happens here?"
   ]
  },
  {
   "cell_type": "code",
   "execution_count": null,
   "metadata": {},
   "outputs": [],
   "source": [
    "import datetime\n",
    "\n",
    "today = datetime.datetime.now()\n",
    "print(today)"
   ]
  },
  {
   "cell_type": "markdown",
   "metadata": {},
   "source": [
    "#### Converting time to something people can read.\n",
    "\n",
    "Run this example, exchanging %B with %A, %Y, %Z, %c, and %x and see the differences. These codes for different aspects of the datetime can be found here: https://docs.python.org/3/library/datetime.html#strftime-and-strptime-behavior"
   ]
  },
  {
   "cell_type": "code",
   "execution_count": null,
   "metadata": {},
   "outputs": [],
   "source": [
    "import datetime\n",
    "x = datetime.datetime.now()\n",
    "print(x.strftime(\"%B\"))"
   ]
  },
  {
   "cell_type": "markdown",
   "metadata": {},
   "source": [
    "Notice it's common to build a datetime string that humans understand.  Given the above, construct a string showing something like: \"Today is Saturday, October 6, 2018.\" You'll need to lookup the code for the day from the link above!"
   ]
  },
  {
   "cell_type": "code",
   "execution_count": null,
   "metadata": {},
   "outputs": [],
   "source": [
    "# Your code here"
   ]
  }
 ],
 "metadata": {
  "kernelspec": {
   "display_name": "Python 3",
   "language": "python",
   "name": "python3"
  },
  "language_info": {
   "codemirror_mode": {
    "name": "ipython",
    "version": 3
   },
   "file_extension": ".py",
   "mimetype": "text/x-python",
   "name": "python",
   "nbconvert_exporter": "python",
   "pygments_lexer": "ipython3",
   "version": "3.8.11"
  }
 },
 "nbformat": 4,
 "nbformat_minor": 2
}
