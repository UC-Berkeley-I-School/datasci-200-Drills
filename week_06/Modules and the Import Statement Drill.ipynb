{
 "cells": [
  {
   "cell_type": "markdown",
   "metadata": {},
   "source": [
    "### Modules and the Import Statement"
   ]
  },
  {
   "cell_type": "markdown",
   "metadata": {},
   "source": [
    "In the progression from a single .py file to an entire program using modules and libraries, we think about grouping functionally-related code and storing the .py files in functionally-related folders. For instance, perhaps store all things related to staff and payroll in a staff_info folder and then convert that folder into a package. Let's take the first step by writing a python script, storing it in a .py file, and then creating another script that calls or imports that file. "
   ]
  },
  {
   "cell_type": "markdown",
   "metadata": {},
   "source": [
    "### Making a module\n",
    "\n",
    "Run the cell below to make the the file cur_date.py\n",
    "\n",
    "- The ```%%writefile``` command is a 'magic' command in jupyter to automatically write that file to the same folder as this jupyter notebook. Running the block wont run the Python script - rather it outputs the content of the block to that filename."
   ]
  },
  {
   "cell_type": "code",
   "execution_count": 3,
   "metadata": {},
   "outputs": [],
   "source": [
    "%%writefile cur_date.py\n",
    "import datetime\n",
    "\n",
    "current_date = datetime.datetime.now()"
   ]
  },
  {
   "cell_type": "markdown",
   "metadata": {},
   "source": [
    "Now create a script of your own that -imports- the cur_date.py.  Have your script print the variable \"current_date\"."
   ]
  },
  {
   "cell_type": "code",
   "execution_count": null,
   "metadata": {},
   "outputs": [],
   "source": [
    "import # add code here to import the script\n",
    "\n",
    "# Print the variable current_date from your script\n"
   ]
  },
  {
   "cell_type": "markdown",
   "metadata": {},
   "source": [
    "### Making a module into a package\n",
    "\n",
    "Now let's take the file we made above and put it into a package. A package is a collection of .py files (used as modules) and stored in a shared folder. To create this package use the following steps:\n",
    "\n",
    "- Create a folder named mymodule\n",
    "- Add the file cur_date.py that you made above into that folder\n",
    "- Turn this folder into a \"package\" by making the __init__.py file. [Remember to create an empty file...]\n",
    "- Load the package and print the variable like above!"
   ]
  },
  {
   "cell_type": "code",
   "execution_count": null,
   "metadata": {},
   "outputs": [],
   "source": [
    "from ? import ? # add code here to import the package (replace the ?s)\n",
    "\n",
    "# Print the variable current_date from your script"
   ]
  }
 ],
 "metadata": {
  "kernelspec": {
   "display_name": "Python 3",
   "language": "python",
   "name": "python3"
  },
  "language_info": {
   "codemirror_mode": {
    "name": "ipython",
    "version": 3
   },
   "file_extension": ".py",
   "mimetype": "text/x-python",
   "name": "python",
   "nbconvert_exporter": "python",
   "pygments_lexer": "ipython3",
   "version": "3.6.7"
  }
 },
 "nbformat": 4,
 "nbformat_minor": 2
}
