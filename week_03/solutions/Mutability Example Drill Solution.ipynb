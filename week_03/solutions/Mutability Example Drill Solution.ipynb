{
 "cells": [
  {
   "cell_type": "markdown",
   "metadata": {},
   "source": [
    "Predict what the following cell will print.  Try drawing a diagram on paper showing all references."
   ]
  },
  {
   "cell_type": "code",
   "execution_count": 7,
   "metadata": {},
   "outputs": [
    {
     "name": "stdout",
     "output_type": "stream",
     "text": [
      "[['e'], 'a']\n",
      "Object A is of type <class 'list'>, and is stored at: 140545086352704\n",
      "Object B[0] is of type <class 'list'>, and is stored at: 140545086352704\n",
      "Object B[1] is of type <class 'str'>, and is stored at: 140545024144304\n"
     ]
    }
   ],
   "source": [
    "A = ['a']\n",
    "B = [A]\n",
    "B.extend(A)\n",
    "A[0] = 'e'\n",
    "\n",
    "print(B)\n",
    "print(f\"Object A is of type {type(A)}, and is stored at: {id(A)}\")\n",
    "print(f\"Object B[0] is of type {type(B[0])}, and is stored at: {id(B[0])}\")\n",
    "print(f\"Object B[1] is of type {type(B[1])}, and is stored at: {id(B[1])}\")"
   ]
  },
  {
   "cell_type": "markdown",
   "metadata": {},
   "source": [
    "We create a list with 'a' as the first element and assign that list to the variable **A**. <br>\n",
    "We create a list with **A** as the first element and assign that list to the variable **B**. <br>\n",
    "Calling the function **B**.extend(**A**) on list **B**, tells python to copy each individual element stored in **A** and add it to the end of list **B**. <br>\n",
    "Note that by copying the values, **B**\\[1\\] is no longer linked to **A**\\[0\\] as it's just an immutable string.<br>\n",
    "When the value **A**\\[0\\] is changed, **B**\\[0\\] is still pointing to **A**, hence **B**\\[0\\] will also change, where as **B**\\[1\\] is just a string and is unchanged. "
   ]
  },
  {
   "cell_type": "markdown",
   "metadata": {},
   "source": [
    "Predict what the following cell will print."
   ]
  },
  {
   "cell_type": "code",
   "execution_count": 10,
   "metadata": {},
   "outputs": [
    {
     "name": "stdout",
     "output_type": "stream",
     "text": [
      "[['e'], ['e']]\n",
      "Object A is of type <class 'list'>, and is stored at: 140545086518528\n",
      "Object B[0] is of type <class 'list'>, and is stored at: 140545086518528\n",
      "Object B[1] is of type <class 'list'>, and is stored at: 140545086518528\n"
     ]
    }
   ],
   "source": [
    "A = ['a']\n",
    "B = [A]\n",
    "B.append(A)\n",
    "A[0] = 'e'\n",
    "\n",
    "print(B)\n",
    "print(f\"Object A is of type {type(A)}, and is stored at: {id(A)}\")\n",
    "print(f\"Object B[0] is of type {type(B[0])}, and is stored at: {id(B[0])}\")\n",
    "print(f\"Object B[1] is of type {type(B[1])}, and is stored at: {id(B[1])}\")"
   ]
  },
  {
   "cell_type": "markdown",
   "metadata": {},
   "source": [
    "The only difference between this cell and the cell above it is the function call **B**.append(**A**). The function append takes **A** as an object and adds it to **B** (as opposed to extend which added elements inside of **A** to **B**). We end up assigning the object **A** as the second element in list **B** (similar to what we did for **B**\\[0\\]). Hence, when we change **A**, both **B**\\[0\\] and **B**\\[1\\] change."
   ]
  },
  {
   "cell_type": "markdown",
   "metadata": {},
   "source": [
    "Predict what the following cell will print"
   ]
  },
  {
   "cell_type": "code",
   "execution_count": 12,
   "metadata": {},
   "outputs": [
    {
     "name": "stdout",
     "output_type": "stream",
     "text": [
      "[['nee', 'ner'], ['nee', 'ner']]\n",
      "Object A is of type <class 'list'>, and is stored at: 140545104614080\n",
      "Object B[0] is of type <class 'str'>, and is stored at: 140545104706992\n",
      "Object B[1] is of type <class 'str'>, and is stored at: 140545104706160\n",
      "Object C is of type <class 'list'>, and is stored at: 140545104586560\n",
      "Object D[0] is of type <class 'list'>, and is stored at: 140545104586560\n",
      "Object D[0] is of type <class 'list'>, and is stored at: 140545104586560\n"
     ]
    }
   ],
   "source": [
    "A = ['nah']\n",
    "B = [A,A]\n",
    "C = B\n",
    "D = [B,C]\n",
    "\n",
    "\n",
    "B[0] = 'nee'\n",
    "B[1] = 'ner'\n",
    "print(D)\n",
    "\n",
    "print(f\"Object A is of type {type(A)}, and is stored at: {id(A)}\")\n",
    "print(f\"Object B is of type {type(B)}, and is stored at: {id(B)}\")\n",
    "print(f\"Object B[0] is of type {type(B[0])}, and is stored at: {id(B[0])}\")\n",
    "print(f\"Object B[1] is of type {type(B[1])}, and is stored at: {id(B[1])}\")\n",
    "print(f\"Object C is of type {type(C)}, and is stored at: {id(C)}\")\n",
    "print(f\"Object D is of type {type(D)}, and is stored at: {id(D)}\")\n",
    "print(f\"Object D[0] is of type {type(D[0])}, and is stored at: {id(D[0])}\")\n",
    "print(f\"Object D[0] is of type {type(D[1])}, and is stored at: {id(D[1])}\")"
   ]
  },
  {
   "cell_type": "markdown",
   "metadata": {},
   "source": [
    "We create a list with 'nah' as the first element and assign that list to the variable **A** <br>\n",
    "We create a list with **A** as the first/second elements  and assign that list to the variable **B** <br>\n",
    "We assign variable **B** to variable **C** (which just means **C** is pointing to the same object, in this case a list, as **B**. You can check that by calling id(**B**) == id(**C**) <br>\n",
    "We create a list with **B** as the first element and **C** as the second element. But **C** is pointing to the same object as **B**, so we end up having the same object in **D**[0] and **D**[1]. You can check this by running id(**D**\\[0\\]) == id(**D**\\[1\\])<br>\n",
    "When the values of **B**\\[0\\] and **B**\\[1\\] are changed, they show up in **D**\\[0\\] because **D**\\[0\\] is pointing to **B**. They also show up **D**\\[1\\] as well because **D**\\[1\\] is pointing **C** and **C** is pointing to **B**. Notice that when **B**\\[0\\] and **B**\\[1\\] are reassigned, there is no longer a reference to **A** to in variable **B**."
   ]
  }
 ],
 "metadata": {
  "interpreter": {
   "hash": "3c4e55527cbca156f54dd732e09cf104899da0853f179778e68ed2f1f5349c9d"
  },
  "kernelspec": {
   "display_name": "Python 3",
   "language": "python",
   "name": "python3"
  },
  "language_info": {
   "codemirror_mode": {
    "name": "ipython",
    "version": 3
   },
   "file_extension": ".py",
   "mimetype": "text/x-python",
   "name": "python",
   "nbconvert_exporter": "python",
   "pygments_lexer": "ipython3",
   "version": "3.8.11"
  }
 },
 "nbformat": 4,
 "nbformat_minor": 2
}
