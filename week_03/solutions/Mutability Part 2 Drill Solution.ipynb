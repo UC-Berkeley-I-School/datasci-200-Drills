{
 "cells": [
  {
   "cell_type": "markdown",
   "metadata": {},
   "source": [
    "Predict what the following cell with print."
   ]
  },
  {
   "cell_type": "code",
   "execution_count": 2,
   "metadata": {},
   "outputs": [
    {
     "name": "stdout",
     "output_type": "stream",
     "text": [
      "[['meh'], ['meh'], 'black sheep']\n"
     ]
    }
   ],
   "source": [
    "A = ['bah']\n",
    "B = [A,A,'black sheep']\n",
    "C = B.copy()\n",
    "C[0][0] = 'meh'\n",
    "print(B)"
   ]
  },
  {
   "cell_type": "markdown",
   "metadata": {},
   "source": [
    "Copying a list creates a shallow copy, hence **C**\\[0\\] and **C**\\[1\\] are still pointing to the same object A which **B**\\[0\\] and **B**\\[1\\] are pointing to. See below:"
   ]
  },
  {
   "cell_type": "code",
   "execution_count": 3,
   "metadata": {},
   "outputs": [
    {
     "name": "stdout",
     "output_type": "stream",
     "text": [
      "True\n",
      "True\n"
     ]
    }
   ],
   "source": [
    "print(id(B[0]) == id(B[1]) == id(C[0]) == id(C[1]))\n",
    "print(id(B[0][0]) == id(B[1][0]) == id(C[0][0]) == id(C[1][0]))"
   ]
  },
  {
   "cell_type": "markdown",
   "metadata": {},
   "source": [
    "Fix the following cell so that the `list_b` isn't mutated"
   ]
  },
  {
   "cell_type": "code",
   "execution_count": 1,
   "metadata": {},
   "outputs": [
    {
     "data": {
      "text/plain": [
       "['a', 'b', 'c', [10, 2, 3, 4, 5]]"
      ]
     },
     "execution_count": 1,
     "metadata": {},
     "output_type": "execute_result"
    }
   ],
   "source": [
    "list_a = [1,2,3,4,5]\n",
    "list_b = ['a', 'b', 'c', list_a]\n",
    "\n",
    "list_a[0] = 10\n",
    "list_b"
   ]
  },
  {
   "cell_type": "markdown",
   "metadata": {},
   "source": [
    "There are a few ways to do this - first is to use copy() to copy the list_a as you make list_b:"
   ]
  },
  {
   "cell_type": "code",
   "execution_count": 4,
   "metadata": {},
   "outputs": [
    {
     "data": {
      "text/plain": [
       "['a', 'b', 'c', [1, 2, 3, 4, 5]]"
      ]
     },
     "execution_count": 4,
     "metadata": {},
     "output_type": "execute_result"
    }
   ],
   "source": [
    "import copy\n",
    "\n",
    "list_a = [1,2,3,4,5]\n",
    "list_b = ['a', 'b', 'c', copy.copy(list_a)]\n",
    "\n",
    "list_a[0] = 10\n",
    "list_b"
   ]
  },
  {
   "cell_type": "markdown",
   "metadata": {},
   "source": [
    "Another way is to use deepcopy() to make a deep copy of the list_b which will copy the embedded list_a also. I'm storing this as list_c but you could overwrite list_b with the deepcopy also."
   ]
  },
  {
   "cell_type": "code",
   "execution_count": 10,
   "metadata": {},
   "outputs": [
    {
     "name": "stdout",
     "output_type": "stream",
     "text": [
      "List_b: ['a', 'b', 'c', [10, 2, 3, 4, 5]]\n",
      "List_c: ['a', 'b', 'c', [1, 2, 3, 4, 5]]\n"
     ]
    }
   ],
   "source": [
    "list_a = [1,2,3,4,5]\n",
    "list_b = ['a', 'b', 'c', list_a]\n",
    "\n",
    "list_c = copy.deepcopy(list_b)\n",
    "\n",
    "list_a[0] = 10\n",
    "print(\"List_b:\", list_b)\n",
    "print(\"List_c:\", list_c)"
   ]
  },
  {
   "cell_type": "markdown",
   "metadata": {},
   "source": [
    "Note that just doing a 'shallow' copy() of list_b would not work as the list_a is embedded as does not get stored separately on the shallow copy()."
   ]
  },
  {
   "cell_type": "code",
   "execution_count": 11,
   "metadata": {},
   "outputs": [
    {
     "name": "stdout",
     "output_type": "stream",
     "text": [
      "List_b: ['a', 'b', 'c', [10, 2, 3, 4, 5]]\n",
      "List_c: ['a', 'b', 'c', [10, 2, 3, 4, 5]]\n"
     ]
    }
   ],
   "source": [
    "list_a = [1,2,3,4,5]\n",
    "list_b = ['a', 'b', 'c', list_a]\n",
    "\n",
    "list_c = copy.copy(list_b)\n",
    "\n",
    "list_a[0] = 10\n",
    "print(\"List_b:\", list_b)\n",
    "print(\"List_c:\", list_c)"
   ]
  },
  {
   "cell_type": "markdown",
   "metadata": {},
   "source": [
    "You can read more here: https://docs.python.org/3/library/copy.html"
   ]
  }
 ],
 "metadata": {
  "interpreter": {
   "hash": "3c4e55527cbca156f54dd732e09cf104899da0853f179778e68ed2f1f5349c9d"
  },
  "kernelspec": {
   "display_name": "Python 3",
   "language": "python",
   "name": "python3"
  },
  "language_info": {
   "codemirror_mode": {
    "name": "ipython",
    "version": 3
   },
   "file_extension": ".py",
   "mimetype": "text/x-python",
   "name": "python",
   "nbconvert_exporter": "python",
   "pygments_lexer": "ipython3",
   "version": "3.8.11"
  }
 },
 "nbformat": 4,
 "nbformat_minor": 2
}
