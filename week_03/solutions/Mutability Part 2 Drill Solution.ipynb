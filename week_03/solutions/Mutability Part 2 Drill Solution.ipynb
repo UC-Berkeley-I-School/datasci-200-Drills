{
 "cells": [
  {
   "cell_type": "markdown",
   "source": [
    "Predict what the following cell with print."
   ],
   "metadata": {}
  },
  {
   "cell_type": "code",
   "execution_count": 2,
   "source": [
    "A = ['bah']\n",
    "B = [A,A,'black sheep']\n",
    "C = B.copy()\n",
    "C[0][0] = 'meh'\n",
    "print(B)"
   ],
   "outputs": [
    {
     "output_type": "stream",
     "name": "stdout",
     "text": [
      "[['meh'], ['meh'], 'black sheep']\n"
     ]
    }
   ],
   "metadata": {}
  },
  {
   "cell_type": "markdown",
   "source": [
    "copying a list creates a shallow copy, hence **C**\\[0\\] and **C**\\[1\\] are still pointing to the same object A which **B**\\[0\\] and **B**\\[1\\] are pointing to. See below:"
   ],
   "metadata": {}
  },
  {
   "cell_type": "code",
   "execution_count": 3,
   "source": [
    "print(id(B[0]) == id(B[1]) == id(C[0]) == id(C[1]))\n",
    "print(id(B[0][0]) == id(B[1][0]) == id(C[0][0]) == id(C[1][0]))"
   ],
   "outputs": [
    {
     "output_type": "stream",
     "name": "stdout",
     "text": [
      "True\n",
      "True\n"
     ]
    }
   ],
   "metadata": {}
  }
 ],
 "metadata": {
  "kernelspec": {
   "name": "python3",
   "display_name": "Python 3.8.5 64-bit ('base': conda)"
  },
  "language_info": {
   "codemirror_mode": {
    "name": "ipython",
    "version": 3
   },
   "file_extension": ".py",
   "mimetype": "text/x-python",
   "name": "python",
   "nbconvert_exporter": "python",
   "pygments_lexer": "ipython3",
   "version": "3.8.5"
  },
  "interpreter": {
   "hash": "3c4e55527cbca156f54dd732e09cf104899da0853f179778e68ed2f1f5349c9d"
  }
 },
 "nbformat": 4,
 "nbformat_minor": 2
}