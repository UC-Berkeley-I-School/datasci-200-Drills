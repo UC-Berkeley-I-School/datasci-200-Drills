{
 "cells": [
  {
   "cell_type": "markdown",
   "metadata": {},
   "source": [
    "### Code Review\n",
    "\n",
    "In this exercise, we will talk about conducting code reviews. Sometimes you will have to review another programmers code to ensure readability & functionality. For Python style we use PEP-8 style guide in this course: https://www.python.org/dev/peps/pep-0008/\n",
    "\n",
    "Here are some things to check when conducting a code review:\n",
    "\n",
    "- Functionality: does the code work?\n",
    "- Syntax: is the code using correct syntax? that is, common ways of doing manipulations in Python; not overly complicated\n",
    "- Performance: can the code scale to a larger problem / data-set? Is the code optimized for time/space complexity?\n",
    "- Readability: is the code easy to digest and follow?\n",
    "- Style: does the code comply with PEP-8? \n",
    "- Documentation: does the code contain comments (and docstrings for functions)?\n",
    "- Organizational standards: does the code follow/adhere to your organization's standards? \n",
    "\n",
    "Some of these topics are covered in future lessons (for example, function docstrings are in Unit 05 and performance is covered in Unit 06). "
   ]
  },
  {
   "cell_type": "markdown",
   "metadata": {},
   "source": [
    "##### Example code review\n",
    "\n",
    "Below is a script we've been asked to review. The functionality of the script is to determine fees on a product. To encourage larger orders your company has decided on a fee structure that is the square root of the price. So the steps of the program are:\n",
    "\n",
    "- Inputs in a price (number)\n",
    "- If it is positive, it finds its square root - sum this with the price and return the total  \n",
    "- If it isn't positive, the fee is 0\n",
    "\n",
    "See how many items you can catch!"
   ]
  },
  {
   "cell_type": "code",
   "execution_count": 5,
   "metadata": {},
   "outputs": [],
   "source": [
    "price = input(\"Enter the price: \")\n",
    "price = int(price)\n",
    "if price < 0 or 0:\n",
    "  fee = 0\n",
    "else:\n",
    "  fee = price ** 0.5\n",
    "  sum = price + fee\n",
    "print(sum)"
   ]
  },
  {
   "cell_type": "markdown",
   "metadata": {},
   "source": [
    "Below are the items that we caught (there could be more!)\n",
    "\n",
    "- No comments in the code (should have a comment before every 'block' of code)\n",
    "- No white-space in the code (this is a little more subjective - generally blank lines before blocks of code)\n",
    "- Line 1 and 2 could be combined to: price = int(input(\"Enter the price: \"))\n",
    "- Line 1/2: should this be int? Are some prices inputted as floats (that is with dollars.cents like 7.50?)\n",
    "   - If so then line 1 would be: price = float(input(\"Enter the price: \"))\n",
    "- Line 3: this logic doesnt look correct and could be re-written to: if price <= 0:\n",
    "- Line 4/6/7: Python standard for identation is 4 spaces / 1 tab - these are only 2 spaces\n",
    "- Line 7: overwriting the python builtin function `sum`. You can see this in the notebook because the notebook highlights the 'keywords' in green. If we overwrite the keyword we can't use it in our program and this could cause errors later.\n",
    "- Line 4/8: It would be easier to understand for the user to only get a sum when the price is positive and get an error message when the price is negative. At the very least (if we want to allow negative prices) the sum needs to be defined in the else statement or we will hit an error when we try to print it later.\n",
    "- Line 8: not a very helpful message back to the user - could be better to print something that states the original price, the fee and the total price.\n"
   ]
  },
  {
   "cell_type": "code",
   "execution_count": 15,
   "metadata": {},
   "outputs": [
    {
     "name": "stdout",
     "output_type": "stream",
     "text": [
      "Enter the price: 10\n",
      "\n",
      "The price of: $10.00\n",
      "Plus fee of:  $3.16\n",
      "Equals a total of: $13.16\n"
     ]
    }
   ],
   "source": [
    "# Enter the price\n",
    "price = float(input(\"Enter the price: \"))\n",
    "\n",
    "# Check to see if the price is positive\n",
    "# If negative, print out a helpful error \n",
    "# Otherwise get the fee and print out a message \n",
    "if price <= 0:\n",
    "    print(f'The price: ${price:.2f} is zero or negative - please check if this is correct.')\n",
    "\n",
    "else: \n",
    "    fee = price ** 0.5\n",
    "    total = price + fee\n",
    "    print(f'\\nThe price of: ${price:.2f}\\nPlus fee of:  ${fee:.2f}\\nEquals a total of: ${total:.2f}')"
   ]
  }
 ],
 "metadata": {
  "kernelspec": {
   "display_name": "Python 3",
   "language": "python",
   "name": "python3"
  },
  "language_info": {
   "codemirror_mode": {
    "name": "ipython",
    "version": 3
   },
   "file_extension": ".py",
   "mimetype": "text/x-python",
   "name": "python",
   "nbconvert_exporter": "python",
   "pygments_lexer": "ipython3",
   "version": "3.8.11"
  }
 },
 "nbformat": 4,
 "nbformat_minor": 4
}
