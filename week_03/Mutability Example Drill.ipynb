{
 "cells": [
  {
   "cell_type": "markdown",
   "source": [
    "## Mutability Example"
   ],
   "metadata": {}
  },
  {
   "cell_type": "markdown",
   "source": [
    "Predict what the following cell will print.  Try drawing a diagram on paper showing all references."
   ],
   "metadata": {}
  },
  {
   "cell_type": "code",
   "execution_count": 5,
   "source": [
    "A = ['a']\n",
    "B = [A]\n",
    "B.extend(A)\n",
    "A[0] = 'e'\n",
    "\n",
    "print(B)"
   ],
   "outputs": [],
   "metadata": {}
  },
  {
   "cell_type": "markdown",
   "source": [
    "Predict what the following cell will print."
   ],
   "metadata": {}
  },
  {
   "cell_type": "code",
   "execution_count": 7,
   "source": [
    "A = ['a']\n",
    "B = [A]\n",
    "B.append(A)\n",
    "A[0] = 'e'\n",
    "\n",
    "print(B)"
   ],
   "outputs": [],
   "metadata": {}
  },
  {
   "cell_type": "markdown",
   "source": [
    "Predict what the following cell will print"
   ],
   "metadata": {}
  },
  {
   "cell_type": "code",
   "execution_count": null,
   "source": [
    "A = ['nah']\n",
    "B = [A,A]\n",
    "C = B\n",
    "D = [B,C]\n",
    "B[0] = 'nee'\n",
    "B[1] = 'ner'\n",
    "print(D)"
   ],
   "outputs": [],
   "metadata": {}
  }
 ],
 "metadata": {
  "kernelspec": {
   "display_name": "Python 3",
   "language": "python",
   "name": "python3"
  },
  "language_info": {
   "codemirror_mode": {
    "name": "ipython",
    "version": 3
   },
   "file_extension": ".py",
   "mimetype": "text/x-python",
   "name": "python",
   "nbconvert_exporter": "python",
   "pygments_lexer": "ipython3",
   "version": "3.8.5"
  }
 },
 "nbformat": 4,
 "nbformat_minor": 2
}