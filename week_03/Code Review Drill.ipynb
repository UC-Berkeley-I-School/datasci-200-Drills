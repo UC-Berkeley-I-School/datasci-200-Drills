{
 "cells": [
  {
   "cell_type": "markdown",
   "metadata": {},
   "source": [
    "### Code Review\n",
    "\n",
    "In this exercise, we will talk about conducting code reviews. Sometimes you will have to review another programmers code to ensure readability & functionality. For Python style we use PEP-8 style guide in this course: https://www.python.org/dev/peps/pep-0008/\n",
    "\n",
    "Here are some things to check when conducting a code review:\n",
    "\n",
    "- Functionality: does the code work?\n",
    "- Syntax: is the code using correct syntax? that is, common ways of doing manipulations in Python; not overly complicated\n",
    "- Performance: can the code scale to a larger problem / data-set? Is the code optimized for time/space complexity?\n",
    "- Readability: is the code easy to digest and follow?\n",
    "- Style: does the code comply with PEP-8? \n",
    "- Documentation: does the code contain comments (and docstrings for functions)?\n",
    "- Organizational standards: does the code follow/adhere to your organization's standards? \n",
    "\n",
    "Some of these topics are covered in future lessons (for example, function docstrings are in Unit 05 and performance is covered in Unit 06). "
   ]
  },
  {
   "cell_type": "markdown",
   "metadata": {},
   "source": [
    "##### Example code review\n",
    "\n",
    "Below is a script we've been asked to review. The functionality of the script is to determine fees on a product. To encourage larger orders your company has decided on a fee structure that is the square root of the price. So the steps of the program are:\n",
    "\n",
    "- Inputs in a price (number)\n",
    "- If it is positive, it finds its square root - sum this with the price and return the total  \n",
    "- If it isn't positive, the fee is 0\n",
    "\n",
    "See how many items you can catch!"
   ]
  },
  {
   "cell_type": "code",
   "execution_count": 5,
   "metadata": {},
   "outputs": [],
   "source": [
    "price = input(\"Enter the price: \")\n",
    "price = int(price)\n",
    "if price < 0 or 0:\n",
    "  fee = 0\n",
    "else:\n",
    "  fee = price ** 0.5\n",
    "  sum = price + fee\n",
    "print(sum)"
   ]
  },
  {
   "cell_type": "markdown",
   "metadata": {},
   "source": [
    "Check out the solution notebook in the solutions folder to see the items we caught."
   ]
  }
 ],
 "metadata": {
  "kernelspec": {
   "display_name": "Python 3",
   "language": "python",
   "name": "python3"
  },
  "language_info": {
   "codemirror_mode": {
    "name": "ipython",
    "version": 3
   },
   "file_extension": ".py",
   "mimetype": "text/x-python",
   "name": "python",
   "nbconvert_exporter": "python",
   "pygments_lexer": "ipython3",
   "version": "3.8.11"
  }
 },
 "nbformat": 4,
 "nbformat_minor": 4
}
