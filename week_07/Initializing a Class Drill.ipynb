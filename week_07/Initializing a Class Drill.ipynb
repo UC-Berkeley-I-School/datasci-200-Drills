{
 "cells": [
  {
   "cell_type": "markdown",
   "metadata": {
    "collapsed": true
   },
   "source": [
    "# Initializing a Class\n",
    "\n",
    "\n",
    "Add an __init__ magic method to initialize funding and employee data as instance (rather than class) attributes. \n",
    "\n",
    "- Require that one employee name is added at the opening of a company \n",
    "- Make the initial funding amount default to 0. \n",
    "- Don't forget your self arguments; instance attributes need self arguments!\n",
    "\n",
    "- Enhance your add employee method; if the method is called without an argument and the default value (employee_name == \"unnamed\") is used then do not add unnamed to the list and print a message to instruct the user to add a name. \n"
   ]
  },
  {
   "cell_type": "code",
   "execution_count": 13,
   "metadata": {
    "collapsed": true
   },
   "outputs": [],
   "source": [
    "class Company():\n",
    "    '''\n",
    "    You can copy over your class from the last exercise and add the __init__() part\n",
    "    '''\n",
    "    \n",
    "    def __init__():\n",
    "\n",
    "    \n",
    "    def add_employee_name(): \n",
    " \n",
    "            \n",
    "    def add_funding():\n",
    "                   \n"
   ]
  },
  {
   "cell_type": "code",
   "execution_count": 14,
   "metadata": {},
   "outputs": [
    {
     "name": "stdout",
     "output_type": "stream",
     "text": [
      "don't forget to add an employee name!\n",
      "your funding addition was 10000000\n",
      "Total funding is 10000000\n",
      "your funding addition was 50000\n",
      "Total funding is 10050000\n"
     ]
    }
   ],
   "source": [
    "# try out your class with this code\n",
    "c1 = Company(\"Gunnar\")\n",
    "c1.add_employee_name() # this should give an error message!\n",
    "\n",
    "c2 = Company(\"Chris\")\n",
    "c2.add_funding(10000000)\n",
    "c2.add_funding(50000)"
   ]
  },
  {
   "cell_type": "markdown",
   "metadata": {},
   "source": [
    "### Now the funding should correctly stay with the company that it was assigned!"
   ]
  },
  {
   "cell_type": "code",
   "execution_count": 15,
   "metadata": {},
   "outputs": [
    {
     "name": "stdout",
     "output_type": "stream",
     "text": [
      "False\n",
      "[]\n",
      "[10000000, 50000]\n"
     ]
    }
   ],
   "source": [
    "print(sum(c2.funding_list) == sum(c1.funding_list))\n",
    "print(c1.funding_list)\n",
    "print(c2.funding_list)"
   ]
  }
 ],
 "metadata": {
  "kernelspec": {
   "display_name": "Python 3",
   "language": "python",
   "name": "python3"
  },
  "language_info": {
   "codemirror_mode": {
    "name": "ipython",
    "version": 3
   },
   "file_extension": ".py",
   "mimetype": "text/x-python",
   "name": "python",
   "nbconvert_exporter": "python",
   "pygments_lexer": "ipython3",
   "version": "3.6.8"
  }
 },
 "nbformat": 4,
 "nbformat_minor": 2
}
