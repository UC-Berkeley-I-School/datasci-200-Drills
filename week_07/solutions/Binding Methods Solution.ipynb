{
 "cells": [
  {
   "cell_type": "markdown",
   "metadata": {},
   "source": [
    "## Binding Methods\n",
    "\n",
    "In this drill, we will build up a virtual startup company to practice the basic concepts in Object oriented programming (OOP). The drills will be progressive and follow the lecture material closely."
   ]
  },
  {
   "cell_type": "markdown",
   "metadata": {
    "collapsed": true
   },
   "source": [
    "Make a class \"company\"\n",
    "- Give it a docstring that describes the intent and fuction of the class\n",
    "- Make two methods to add some attributes on demand: ```add_employee_name     add_funding```\n",
    "- The methods should intake self and a default value (i.e. employee_name=\"unnamed\" or amount=0)\n",
    "- For the add employee method; append the new name to the list and add one to the employee count\n",
    "- For the funding amount append it to the list and increment the amount to the funding total\n",
    "- Don't bother with an __init__() method yet"
   ]
  },
  {
   "cell_type": "code",
   "execution_count": 1,
   "metadata": {},
   "outputs": [],
   "source": [
    "class Company():\n",
    "    '''An entity that represents a startup company\n",
    "    it is empty when you make it'''\n",
    "    employee_list=[]\n",
    "    employee_count=1\n",
    "    funding_list=[]\n",
    "    \n",
    "    def add_employee_name(self, employee_name=\"unnamed\"): \n",
    "        if employee_name != \"unnamed\":\n",
    "            self.employee_list.append(employee_name)  \n",
    "            self.employee_count+=1\n",
    "            \n",
    "    def add_funding(self, amount=0):\n",
    "        self.funding_list.append(amount)\n",
    "        print('Your funding addition was {}'.format(amount))\n",
    "        print('Total funding is {}'.format(sum(self.funding_list))) "
   ]
  },
  {
   "cell_type": "code",
   "execution_count": 2,
   "metadata": {},
   "outputs": [
    {
     "name": "stdout",
     "output_type": "stream",
     "text": [
      "Your funding addition was 10000000\n",
      "Total funding is 10000000\n",
      "Your funding addition was 50000\n",
      "Total funding is 10050000\n"
     ]
    }
   ],
   "source": [
    "# try out your class with this code\n",
    "\n",
    "c1 = Company()\n",
    "c1.add_employee_name(\"Gunnar\")\n",
    "\n",
    "c2 = Company()\n",
    "c2.add_funding(10000000)\n",
    "c2.add_funding(50000)"
   ]
  },
  {
   "cell_type": "markdown",
   "metadata": {},
   "source": [
    "### Note that only company 2 got funding but company 1 also shows the same funding amount. Why is this?"
   ]
  },
  {
   "cell_type": "code",
   "execution_count": 3,
   "metadata": {},
   "outputs": [
    {
     "name": "stdout",
     "output_type": "stream",
     "text": [
      "True\n",
      "[10000000, 50000]\n",
      "[10000000, 50000]\n"
     ]
    }
   ],
   "source": [
    "print(sum(c2.funding_list) == sum(c1.funding_list))\n",
    "print(c1.funding_list)\n",
    "print(c2.funding_list)"
   ]
  }
 ],
 "metadata": {
  "kernelspec": {
   "display_name": "Python 3",
   "language": "python",
   "name": "python3"
  },
  "language_info": {
   "codemirror_mode": {
    "name": "ipython",
    "version": 3
   },
   "file_extension": ".py",
   "mimetype": "text/x-python",
   "name": "python",
   "nbconvert_exporter": "python",
   "pygments_lexer": "ipython3",
   "version": "3.8.11"
  }
 },
 "nbformat": 4,
 "nbformat_minor": 2
}
