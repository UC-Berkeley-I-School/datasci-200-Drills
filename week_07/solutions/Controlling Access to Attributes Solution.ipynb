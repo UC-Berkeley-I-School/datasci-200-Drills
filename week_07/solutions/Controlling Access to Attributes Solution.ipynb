{
 "cells": [
  {
   "cell_type": "markdown",
   "metadata": {},
   "source": [
    "# Controlling Access to Attributes\n",
    "\n",
    "### Now that your company objects are working, let's add some SECRET company data!\n",
    "\n",
    "- Add a hidden attribute \"client_list\"\n",
    "- Since the attribute is hidden add special getter and setter methods for the client list. \n",
    "- This allows us to work on hidden attributes in a controlled way.\n",
    "- In the future we can add an authentication layer to control access to these methods."
   ]
  },
  {
   "cell_type": "code",
   "execution_count": 42,
   "metadata": {
    "collapsed": true
   },
   "outputs": [],
   "source": [
    "class Company():\n",
    "    \n",
    "    '''An entity that represents a startup company it contains employee and funding data\n",
    "    Attributes:\n",
    "    employee_list\n",
    "    employee_count\n",
    "    funding_list\n",
    "    \n",
    "    Methods:\n",
    "    add_employee_name()\n",
    "    add_funding()'''\n",
    "    \n",
    "    def __init__(self, employee_name, amount=0):\n",
    "        self.employee_list=[]\n",
    "        self.employee_count=0\n",
    "        self.funding_list=[]\n",
    "        self.employee_list.append(employee_name)  \n",
    "        self.employee_count+=1\n",
    "        self.__client_list=[]\n",
    "    \n",
    "    def add_employee_name(self, employee_name=\"unnamed\"): \n",
    "        if employee_name != \"unnamed\":\n",
    "            self.employee_list.append(employee_name)  \n",
    "            self.employee_count+=1\n",
    "        else:\n",
    "            print(\"Don't forget to add an employee name!\")\n",
    "    \n",
    "    def add_funding(self, amount=0):\n",
    "        self.funding_list.append(amount)\n",
    "        print('Your funding addition was {}'.format(amount))\n",
    "        print('Total funding is {}'.format(sum(self.funding_list)))        \n",
    "\n",
    "    def get_client_list(self):\n",
    "        return self.__client_list\n",
    "    \n",
    "    def set_client_list(self, new_client=\"None\"):\n",
    "        if new_client == \"None\":\n",
    "            #raise Exception(\"please add a client when setting a client\") # if we do this it will stop execution of the program\n",
    "            return print(\"Please add a client when setting a client\") # this is more gentle\n",
    "        self.__client_list.append(new_client)\n",
    "        "
   ]
  },
  {
   "cell_type": "markdown",
   "metadata": {},
   "source": [
    "### Note that we can't access this attribute directly"
   ]
  },
  {
   "cell_type": "code",
   "execution_count": 43,
   "metadata": {},
   "outputs": [
    {
     "ename": "AttributeError",
     "evalue": "'Company' object has no attribute '__client_list'",
     "output_type": "error",
     "traceback": [
      "\u001b[0;31m---------------------------------------------------------------------------\u001b[0m",
      "\u001b[0;31mAttributeError\u001b[0m                            Traceback (most recent call last)",
      "\u001b[0;32m<ipython-input-43-1bbe51a8ce5d>\u001b[0m in \u001b[0;36m<module>\u001b[0;34m()\u001b[0m\n\u001b[1;32m      1\u001b[0m \u001b[0mc3\u001b[0m\u001b[0;34m=\u001b[0m\u001b[0mCompany\u001b[0m\u001b[0;34m(\u001b[0m\u001b[0;34m\"Paul\"\u001b[0m\u001b[0;34m)\u001b[0m\u001b[0;34m\u001b[0m\u001b[0m\n\u001b[0;32m----> 2\u001b[0;31m \u001b[0mprint\u001b[0m\u001b[0;34m(\u001b[0m\u001b[0mc3\u001b[0m\u001b[0;34m.\u001b[0m\u001b[0m__client_list\u001b[0m\u001b[0;34m)\u001b[0m\u001b[0;34m\u001b[0m\u001b[0m\n\u001b[0m",
      "\u001b[0;31mAttributeError\u001b[0m: 'Company' object has no attribute '__client_list'"
     ]
    }
   ],
   "source": [
    "c3 = Company(\"Paul\")\n",
    "print(c3.__client_list)"
   ]
  },
  {
   "cell_type": "markdown",
   "metadata": {},
   "source": [
    "### If we use the specific getter and setter that you wrote we can access the secret data."
   ]
  },
  {
   "cell_type": "code",
   "execution_count": 44,
   "metadata": {},
   "outputs": [
    {
     "name": "stdout",
     "output_type": "stream",
     "text": [
      "[]\n",
      "please add a client when setting a client\n",
      "['Nabisco', 'WunderBrush']\n"
     ]
    }
   ],
   "source": [
    "c4 = Company(\"Bill\")\n",
    "print(c4.get_client_list())\n",
    "\n",
    "c4.set_client_list()\n",
    "c4.set_client_list(\"Nabisco\")\n",
    "c4.set_client_list(\"WunderBrush\")\n",
    "\n",
    "print(c4.get_client_list())"
   ]
  }
 ],
 "metadata": {
  "kernelspec": {
   "display_name": "Python 3",
   "language": "python",
   "name": "python3"
  },
  "language_info": {
   "codemirror_mode": {
    "name": "ipython",
    "version": 3
   },
   "file_extension": ".py",
   "mimetype": "text/x-python",
   "name": "python",
   "nbconvert_exporter": "python",
   "pygments_lexer": "ipython3",
   "version": "3.8.11"
  }
 },
 "nbformat": 4,
 "nbformat_minor": 2
}
