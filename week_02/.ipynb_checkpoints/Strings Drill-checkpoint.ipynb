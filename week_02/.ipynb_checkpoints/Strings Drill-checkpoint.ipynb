{
 "cells": [
  {
   "cell_type": "markdown",
   "metadata": {},
   "source": [
    "# Strings Drill"
   ]
  },
  {
   "cell_type": "markdown",
   "metadata": {},
   "source": [
    "#### String Operations\n",
    "\n",
    "- Use different string operations below as described in the comments"
   ]
  },
  {
   "cell_type": "code",
   "execution_count": null,
   "metadata": {},
   "outputs": [],
   "source": [
    "my_str = \"python\""
   ]
  },
  {
   "cell_type": "code",
   "execution_count": null,
   "metadata": {},
   "outputs": [],
   "source": [
    "# Make my_str all upper case\n",
    "\n"
   ]
  },
  {
   "cell_type": "code",
   "execution_count": null,
   "metadata": {},
   "outputs": [],
   "source": [
    "# Make my_str first letter capitalized\n",
    "\n"
   ]
  },
  {
   "cell_type": "code",
   "execution_count": null,
   "metadata": {},
   "outputs": [],
   "source": [
    "my_str2 = \"PYTHON\"\n",
    "\n",
    "# Make my_str2 lower case\n",
    "\n"
   ]
  },
  {
   "cell_type": "code",
   "execution_count": null,
   "metadata": {},
   "outputs": [],
   "source": [
    "# Make the first letter of each word in the `sentence` capitalized\n",
    "\n",
    "sentence = \"Learning python is so fun!\"\n",
    "\n"
   ]
  },
  {
   "cell_type": "markdown",
   "metadata": {},
   "source": [
    "#### String Concatenation\n",
    "\n",
    "Make the Nikola Tesla quote below into a single string using mathematical symbols as shown in the previous lecture:\n",
    "\n",
    "```\n",
    "\"The scientists of today\"\n",
    "\n",
    "\"think deeply instead of clearly.\"\n",
    "\n",
    "\"One must be sane to think clearly,\"\n",
    "\n",
    "\"but one can think deeply and be\"\n",
    "\n",
    "\"quite insane.\"\n",
    "```"
   ]
  },
  {
   "cell_type": "code",
   "execution_count": null,
   "metadata": {},
   "outputs": [],
   "source": [
    "a = \"The scientists of today\" \n",
    "s = \"think deeply instead of clearly.\" \n",
    "V = \"One must be sane to think clearly,\"\n",
    "w = \"but one can think deeply and be\"\n",
    "z = \"quite insane.\"\n",
    "\n",
    "######## your code here #######"
   ]
  },
  {
   "cell_type": "markdown",
   "metadata": {},
   "source": [
    "#### String Indexing\n",
    "\n",
    "- Use string indexing to accomplish the following tasks:"
   ]
  },
  {
   "cell_type": "code",
   "execution_count": null,
   "metadata": {},
   "outputs": [],
   "source": [
    "# output a new word that consists of the first letter and the last letter of old_str\n",
    "\n",
    "old_str = \"Data\""
   ]
  },
  {
   "cell_type": "code",
   "execution_count": null,
   "metadata": {},
   "outputs": [],
   "source": [
    "# output a new word that takes every other letter of old_str2 and capitilzes them\n",
    "\n",
    "old_str2 = \"datascience\""
   ]
  }
 ],
 "metadata": {
  "kernelspec": {
   "display_name": "Python 3",
   "language": "python",
   "name": "python3"
  },
  "language_info": {
   "codemirror_mode": {
    "name": "ipython",
    "version": 3
   },
   "file_extension": ".py",
   "mimetype": "text/x-python",
   "name": "python",
   "nbconvert_exporter": "python",
   "pygments_lexer": "ipython3",
   "version": "3.8.11"
  }
 },
 "nbformat": 4,
 "nbformat_minor": 4
}
