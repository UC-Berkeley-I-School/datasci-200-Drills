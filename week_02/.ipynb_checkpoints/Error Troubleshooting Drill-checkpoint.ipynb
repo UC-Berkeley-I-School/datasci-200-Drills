{
 "cells": [
  {
   "cell_type": "markdown",
   "metadata": {},
   "source": [
    "### Error Troubleshooting Drill\n",
    "\n",
    "In this exercise, we will walkthrough troubleshooting an error in a small program."
   ]
  },
  {
   "cell_type": "markdown",
   "metadata": {},
   "source": [
    "#### Program with logic errors\n",
    "\n",
    "The program below is suppose to check a U.S. zipcode to make sure it consists 5 numbers. As written it runs but doesnt provide the correct output.\n",
    "\n",
    "It should run and say if the zipcode is invalid or is valid. As seen below - I entered `abcde` which should be invalid but it doesn't print out anything. If you enter a valid zipcode like `12345` it also doesnt say that it is valid (or print out anything).\n",
    "\n",
    "Whats happening here?  How would we troubleshoot this?"
   ]
  },
  {
   "cell_type": "code",
   "execution_count": 11,
   "metadata": {},
   "outputs": [
    {
     "name": "stdout",
     "output_type": "stream",
     "text": [
      "Enter a zipcode to test: abcde\n"
     ]
    }
   ],
   "source": [
    "zipcode = input(\"Enter a zipcode to test: \")\n",
    "\n",
    "length = len(zipcode)\n",
    "valid = False\n",
    "\n",
    "# check to make sure the length is correct\n",
    "if length != 5:\n",
    "    print(f'The zipcode entered {zipcode} is not the required length. Please enter 5 digits.')\n",
    "\n",
    "else:\n",
    "    \n",
    "    # Set the index to 0 and then go through each character\n",
    "    # checking to make sure the characters are numeric\n",
    "    index = 0\n",
    "    while index != length:\n",
    "        \n",
    "        if zipcode[index] == 1 or 2 or 3 or 4 or 5 or 6  or 7 or 8 or 9 or 0:\n",
    "            index += 1\n",
    "            \n",
    "        else:\n",
    "            print(f'The zipcode is not valid because it contains the character \"{zipcode[index]}\"')\n",
    "            index = length\n",
    "            valid = False\n",
    "            \n",
    "if valid:\n",
    "    print(f'The zipcode {zipcode} is valid')"
   ]
  },
  {
   "cell_type": "markdown",
   "metadata": {},
   "source": [
    "### Troubleshoot the errors!\n",
    "\n",
    "Hints:\n",
    "- Use print statements to see what the variables contain\n",
    "- You wont need to add any lines; just need to fix the lines so that the logic is correct\n",
    "- There are (at least) two logic errors in the program to fix!"
   ]
  },
  {
   "cell_type": "code",
   "execution_count": null,
   "metadata": {},
   "outputs": [],
   "source": [
    "### Your code here"
   ]
  }
 ],
 "metadata": {
  "kernelspec": {
   "display_name": "Python 3",
   "language": "python",
   "name": "python3"
  },
  "language_info": {
   "codemirror_mode": {
    "name": "ipython",
    "version": 3
   },
   "file_extension": ".py",
   "mimetype": "text/x-python",
   "name": "python",
   "nbconvert_exporter": "python",
   "pygments_lexer": "ipython3",
   "version": "3.8.11"
  }
 },
 "nbformat": 4,
 "nbformat_minor": 4
}
