{
 "cells": [
  {
   "cell_type": "markdown",
   "metadata": {
    "collapsed": true
   },
   "source": [
    "# Variables \n",
    "    \n",
    "- Lets play some more with variables\n",
    "- We will get more deep into some of these issues when we talk about namespace and mutability\n",
    "- Below a is a preview:"
   ]
  },
  {
   "cell_type": "code",
   "execution_count": 1,
   "metadata": {},
   "outputs": [],
   "source": [
    "a = \"1\"\n",
    "b = \"10\""
   ]
  },
  {
   "cell_type": "code",
   "execution_count": 2,
   "metadata": {},
   "outputs": [
    {
     "data": {
      "text/plain": [
       "'110'"
      ]
     },
     "execution_count": 2,
     "metadata": {},
     "output_type": "execute_result"
    }
   ],
   "source": [
    "# what happens when we add these, is this what you expect\n",
    "a + b"
   ]
  },
  {
   "cell_type": "code",
   "execution_count": 3,
   "metadata": {},
   "outputs": [
    {
     "ename": "TypeError",
     "evalue": "unsupported operand type(s) for -: 'str' and 'str'",
     "output_type": "error",
     "traceback": [
      "\u001b[0;31m---------------------------------------------------------------------------\u001b[0m",
      "\u001b[0;31mTypeError\u001b[0m                                 Traceback (most recent call last)",
      "\u001b[0;32m<ipython-input-3-9d8e370aba66>\u001b[0m in \u001b[0;36m<module>\u001b[0;34m\u001b[0m\n\u001b[1;32m      1\u001b[0m \u001b[0;31m# does this work?\u001b[0m\u001b[0;34m\u001b[0m\u001b[0;34m\u001b[0m\u001b[0;34m\u001b[0m\u001b[0m\n\u001b[1;32m      2\u001b[0m \u001b[0;31m# aren't they numbers - why can't I subtract them?\u001b[0m\u001b[0;34m\u001b[0m\u001b[0;34m\u001b[0m\u001b[0;34m\u001b[0m\u001b[0m\n\u001b[0;32m----> 3\u001b[0;31m \u001b[0ma\u001b[0m \u001b[0;34m-\u001b[0m \u001b[0mb\u001b[0m\u001b[0;34m\u001b[0m\u001b[0;34m\u001b[0m\u001b[0m\n\u001b[0m",
      "\u001b[0;31mTypeError\u001b[0m: unsupported operand type(s) for -: 'str' and 'str'"
     ]
    }
   ],
   "source": [
    "# does this work?\n",
    "# aren't they numbers - why can't I subtract them?\n",
    "a - b"
   ]
  },
  {
   "cell_type": "code",
   "execution_count": 4,
   "metadata": {},
   "outputs": [],
   "source": [
    "# Python is adding the two 'numbers' as strings but cannot figure out how to subtract two strings"
   ]
  },
  {
   "cell_type": "markdown",
   "metadata": {
    "collapsed": true
   },
   "source": [
    "### Whats going on here? \n",
    "\n",
    "- Fix the variable types so we can do actual (& correct) math!"
   ]
  },
  {
   "cell_type": "code",
   "execution_count": 5,
   "metadata": {},
   "outputs": [
    {
     "data": {
      "text/plain": [
       "-9"
      ]
     },
     "execution_count": 5,
     "metadata": {},
     "output_type": "execute_result"
    }
   ],
   "source": [
    "# We can re-assign the variables to be integer versions of themselves\n",
    "\n",
    "a,b = int(a), int(b)\n",
    "\n",
    "a - b"
   ]
  },
  {
   "cell_type": "code",
   "execution_count": 6,
   "metadata": {},
   "outputs": [
    {
     "data": {
      "text/plain": [
       "11"
      ]
     },
     "execution_count": 6,
     "metadata": {},
     "output_type": "execute_result"
    }
   ],
   "source": [
    "a + b"
   ]
  },
  {
   "cell_type": "markdown",
   "metadata": {},
   "source": [
    "### Let look a little deeper on another example\n",
    "- Look up \"mutability in python\""
   ]
  },
  {
   "cell_type": "code",
   "execution_count": 7,
   "metadata": {},
   "outputs": [
    {
     "data": {
      "text/plain": [
       "-2000"
      ]
     },
     "execution_count": 7,
     "metadata": {},
     "output_type": "execute_result"
    }
   ],
   "source": [
    "# why does this work?\n",
    "x = 1000\n",
    "y = z = '3000'\n",
    "\n",
    "y = int(y)\n",
    "\n",
    "x - y"
   ]
  },
  {
   "cell_type": "code",
   "execution_count": 8,
   "metadata": {},
   "outputs": [
    {
     "ename": "TypeError",
     "evalue": "unsupported operand type(s) for -: 'int' and 'str'",
     "output_type": "error",
     "traceback": [
      "\u001b[0;31m---------------------------------------------------------------------------\u001b[0m",
      "\u001b[0;31mTypeError\u001b[0m                                 Traceback (most recent call last)",
      "\u001b[0;32m<ipython-input-8-10ac316b47b9>\u001b[0m in \u001b[0;36m<module>\u001b[0;34m\u001b[0m\n\u001b[1;32m      3\u001b[0m \u001b[0;31m# Eventhough we made y an integer version of itself the variable z points to the original string version\u001b[0m\u001b[0;34m\u001b[0m\u001b[0;34m\u001b[0m\u001b[0;34m\u001b[0m\u001b[0m\n\u001b[1;32m      4\u001b[0m \u001b[0;31m# and so the error still happens - you can see where the memory address where the variables are pointing in the cell below\u001b[0m\u001b[0;34m\u001b[0m\u001b[0;34m\u001b[0m\u001b[0;34m\u001b[0m\u001b[0m\n\u001b[0;32m----> 5\u001b[0;31m \u001b[0mx\u001b[0m \u001b[0;34m-\u001b[0m \u001b[0mz\u001b[0m\u001b[0;34m\u001b[0m\u001b[0;34m\u001b[0m\u001b[0m\n\u001b[0m",
      "\u001b[0;31mTypeError\u001b[0m: unsupported operand type(s) for -: 'int' and 'str'"
     ]
    }
   ],
   "source": [
    "# but not this?\n",
    "\n",
    "# Eventhough we made y an integer version of itself the variable z points to the original string version\n",
    "# and so the error still happens - you can see where the memory address where the variables are pointing in the cell below\n",
    "x - z"
   ]
  },
  {
   "cell_type": "code",
   "execution_count": 9,
   "metadata": {},
   "outputs": [
    {
     "name": "stdout",
     "output_type": "stream",
     "text": [
      "x has a value of 1000 is of type <class 'int'> and is sotred at 140291416028976\n",
      "y has a value of 3000 is of type <class 'str'> and is sotred at 140291416801008\n",
      "z has a value of 3000 is of type <class 'str'> and is sotred at 140291416801008\n"
     ]
    }
   ],
   "source": [
    "# let's dig deeper and find out what objects our variables are pointing to:\n",
    "x = 1000\n",
    "y = z = '3000'\n",
    "\n",
    "print('x has a value of', x, 'is of type',type(x),'and is sotred at',id(x))\n",
    "print('y has a value of', y, 'is of type',type(y),'and is sotred at',id(y))\n",
    "print('z has a value of', z, 'is of type',type(z),'and is sotred at',id(z))"
   ]
  },
  {
   "cell_type": "code",
   "execution_count": 10,
   "metadata": {},
   "outputs": [
    {
     "name": "stdout",
     "output_type": "stream",
     "text": [
      "x has a value of 1000 is of type <class 'int'> and is sotred at 140291416028976\n",
      "y has a value of 3000 is of type <class 'int'> and is sotred at 140291416029168\n",
      "z has a value of 3000 is of type <class 'str'> and is sotred at 140291416801008\n"
     ]
    },
    {
     "data": {
      "text/plain": [
       "-2000"
      ]
     },
     "execution_count": 10,
     "metadata": {},
     "output_type": "execute_result"
    }
   ],
   "source": [
    "#when we cast y to an integer\n",
    "y = int(y)\n",
    "print('x has a value of', x, 'is of type',type(x),'and is sotred at',id(x))\n",
    "print('y has a value of', y, 'is of type',type(y),'and is sotred at',id(y))\n",
    "print('z has a value of', z, 'is of type',type(z),'and is sotred at',id(z))\n",
    "#this operation works\n",
    "x - y"
   ]
  },
  {
   "cell_type": "markdown",
   "metadata": {},
   "source": [
    "notice though, that z is still pointing to it's origninal address where the string '3000' is stored, how do we make it work? we have to cast Z as well."
   ]
  },
  {
   "cell_type": "code",
   "execution_count": 11,
   "metadata": {},
   "outputs": [
    {
     "name": "stdout",
     "output_type": "stream",
     "text": [
      "x has a value of 1000 is of type <class 'int'> and is sotred at 140291416028976\n",
      "y has a value of 3000 is of type <class 'int'> and is sotred at 140291416029168\n",
      "z has a value of 3000 is of type <class 'int'> and is sotred at 140291416029392\n"
     ]
    }
   ],
   "source": [
    "#now cast z into an integer\n",
    "z = int(z)\n",
    "print('x has a value of', x, 'is of type',type(x),'and is sotred at',id(x))\n",
    "print('y has a value of', y, 'is of type',type(y),'and is sotred at',id(y))\n",
    "print('z has a value of', z, 'is of type',type(z),'and is sotred at',id(z))"
   ]
  },
  {
   "cell_type": "code",
   "execution_count": 14,
   "metadata": {},
   "outputs": [
    {
     "data": {
      "text/plain": [
       "-2000"
      ]
     },
     "execution_count": 14,
     "metadata": {},
     "output_type": "execute_result"
    }
   ],
   "source": [
    "# And the formula now will work\n",
    "x - z"
   ]
  },
  {
   "cell_type": "markdown",
   "metadata": {},
   "source": [
    "### Short Program\n",
    "\n",
    "Write a short program that determines the value of the variable `c` in the Pythagorean theorem:\n",
    "\n",
    "a<sup>2</sup> + b<sup>2</sup> = c<sup>2</sup>\n",
    "\n",
    "For example:\n",
    "```\n",
    "a = 3\n",
    "b = 4\n",
    "c = ?\n",
    "```"
   ]
  },
  {
   "cell_type": "code",
   "execution_count": 5,
   "metadata": {},
   "outputs": [
    {
     "name": "stdout",
     "output_type": "stream",
     "text": [
      "Input the value of 'a': 3\n",
      "Input the value of 'b': 4\n",
      "The value of 'c' is 5.0\n"
     ]
    }
   ],
   "source": [
    "a = float(input(\"Input the value of 'a': \"))\n",
    "b = float(input(\"Input the value of 'b': \"))\n",
    "\n",
    "c = (a ** 2 + b ** 2) ** 0.5\n",
    "\n",
    "print(f\"The value of 'c' is: {c}\")"
   ]
  }
 ],
 "metadata": {
  "kernelspec": {
   "display_name": "Python 3",
   "language": "python",
   "name": "python3"
  },
  "language_info": {
   "codemirror_mode": {
    "name": "ipython",
    "version": 3
   },
   "file_extension": ".py",
   "mimetype": "text/x-python",
   "name": "python",
   "nbconvert_exporter": "python",
   "pygments_lexer": "ipython3",
   "version": "3.8.11"
  }
 },
 "nbformat": 4,
 "nbformat_minor": 2
}
