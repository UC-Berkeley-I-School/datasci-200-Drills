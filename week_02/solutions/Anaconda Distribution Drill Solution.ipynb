{
 "cells": [
  {
   "cell_type": "markdown",
   "metadata": {},
   "source": [
    "## The Anaconda Installation "
   ]
  },
  {
   "cell_type": "markdown",
   "metadata": {},
   "source": [
    "### Drills Note:\n",
    "- These drills/exercises are designed to give you more practice with Python and to help bridge the difficulty between the async and the homework assignments. They are optional but highly encouraged as a lot of programming skill comes from a certain familiarity and repetition with the code!\n",
    "\n",
    "\n",
    "### This exercise notes:\n",
    "- To better understand what you have installed with the Anaconda distribution that you installed lets do some exploring. In order to run command line processes through this notebook we will preface the commands with \"!\". The \"!\" uses the IPython shortcut to launch command line processes. Because Jupyter notebooks use the IPython interpreters, we are able to do this, but it will not work with all python interpreters.\n",
    "- The following is the exploration and output on my machine. Run the same commands on your machine and modify them if necessary. \n",
    "- Since command line commands are different on Mac/Linux vs Windows, both commands are given (in separate blocks).\n",
    "  - If you are running this notebook from the link, it is hosted on the datahub servers. Use the Linux blocks to run code there!\n",
    "  - You can also download the notebook and run it from your local computer. If you do that, please use the cell with the commands of your computer's operating system.\n",
    "- In code cells comments are prefaced by \"#\""
   ]
  },
  {
   "cell_type": "markdown",
   "metadata": {},
   "source": [
    "### Getting the current working directory to see where you are"
   ]
  },
  {
   "cell_type": "code",
   "execution_count": 1,
   "metadata": {},
   "outputs": [
    {
     "ename": "NameError",
     "evalue": "name 'pwd' is not defined",
     "output_type": "error",
     "traceback": [
      "\u001b[0;31m---------------------------------------------------------------------------\u001b[0m",
      "\u001b[0;31mNameError\u001b[0m                                 Traceback (most recent call last)",
      "\u001b[0;32m<ipython-input-1-ab75501cfce6>\u001b[0m in \u001b[0;36m<module>\u001b[0;34m()\u001b[0m\n\u001b[1;32m      1\u001b[0m \u001b[0;31m# get the current working directory to see where you are\u001b[0m\u001b[0;34m\u001b[0m\u001b[0;34m\u001b[0m\u001b[0m\n\u001b[0;32m----> 2\u001b[0;31m \u001b[0mpwd\u001b[0m\u001b[0;34m\u001b[0m\u001b[0m\n\u001b[0m",
      "\u001b[0;31mNameError\u001b[0m: name 'pwd' is not defined"
     ]
    }
   ],
   "source": [
    "# whats wrong with this?\n",
    "pwd"
   ]
  },
  {
   "cell_type": "code",
   "execution_count": 6,
   "metadata": {},
   "outputs": [
    {
     "name": "stdout",
     "output_type": "stream",
     "text": [
      "/Users/GunnarK/Dropbox/coderepos/BerkeleyMIDS/W200/W18_python_Current/Drills/week_01_drills\r\n"
     ]
    }
   ],
   "source": [
    "# get the current working directory to see where you are, use !  to get to the command line\n",
    "\n",
    "# Mac/Linux\n",
    "!pwd"
   ]
  },
  {
   "cell_type": "code",
   "execution_count": null,
   "metadata": {},
   "outputs": [],
   "source": [
    "# Windows\n",
    "!echo %cd%"
   ]
  },
  {
   "cell_type": "markdown",
   "metadata": {},
   "source": [
    "### Find out which python version\n",
    "- Note how I am running Python 3.7"
   ]
  },
  {
   "cell_type": "code",
   "execution_count": 1,
   "metadata": {},
   "outputs": [
    {
     "name": "stdout",
     "output_type": "stream",
     "text": [
      "Python 3.7.2\n"
     ]
    }
   ],
   "source": [
    "!python --version"
   ]
  },
  {
   "cell_type": "markdown",
   "metadata": {},
   "source": [
    "### Find out which python version\n",
    "- Note what python version is running on the server\n",
    "- To look at your version, download the notebook and run from your local machine"
   ]
  },
  {
   "cell_type": "code",
   "execution_count": null,
   "metadata": {},
   "outputs": [],
   "source": [
    "# Will work for everything: Mac/Linux & Windows\n",
    "\n",
    "!python --version"
   ]
  },
  {
   "cell_type": "code",
   "execution_count": 8,
   "metadata": {},
   "outputs": [
    {
     "name": "stdout",
     "output_type": "stream",
     "text": [
      "/Users/GunnarK/miniconda/bin/python\r\n"
     ]
    }
   ],
   "source": [
    "# Mac/Linux\n",
    "!which python"
   ]
  },
  {
   "cell_type": "code",
   "execution_count": null,
   "metadata": {},
   "outputs": [],
   "source": [
    "# Windows\n",
    "!where python"
   ]
  },
  {
   "cell_type": "code",
   "execution_count": 10,
   "metadata": {},
   "outputs": [
    {
     "name": "stdout",
     "output_type": "stream",
     "text": [
      "total 488520\r\n",
      "drwxr-xr-x  277 GunnarK  staff       9418 May 10 22:17 \u001b[34m.\u001b[m\u001b[m\r\n",
      "drwxr-xr-x   25 GunnarK  staff        850 Feb 19 21:53 \u001b[34m..\u001b[m\u001b[m\r\n",
      "-rwxrwxr-x    2 GunnarK  staff        536 May 26  2017 \u001b[31m.anaconda-navigator-post-link.sh\u001b[m\u001b[m\r\n",
      "-rwxrwxr-x    2 GunnarK  staff        142 May 26  2017 \u001b[31m.anaconda-navigator-pre-unlink.sh\u001b[m\u001b[m\r\n",
      "-rwxr-xr-x    1 GunnarK  staff       9272 May 25  2017 \u001b[31m.openssl-libcrypto-fix\u001b[m\u001b[m\r\n",
      "-rw-r--r--    1 GunnarK  staff        237 May 25  2017 .openssl-post-link.sh\r\n",
      "-rwxrwxr-x    2 GunnarK  staff        130 Dec 23  2016 \u001b[31m.python.app-post-link.sh\u001b[m\u001b[m\r\n",
      "-rwxrwxr-x    2 GunnarK  staff         38 Dec 23  2016 \u001b[31m.python.app-pre-unlink.sh\u001b[m\u001b[m\r\n",
      "-rwxrwxr-x    2 GunnarK  staff        280 May 17  2017 \u001b[31m.qt-post-link.sh\u001b[m\u001b[m\r\n",
      "-rwxrwxr-x    2 GunnarK  staff        113 May 17  2017 \u001b[31m.qt-pre-unlink.sh\u001b[m\u001b[m\r\n",
      "-rwxrwxr-x    2 GunnarK  staff         97 Mar  2  2017 \u001b[31m.widgetsnbextension-post-link.sh\u001b[m\u001b[m\r\n",
      "-rwxrwxr-x    2 GunnarK  staff         98 Mar  2  2017 \u001b[31m.widgetsnbextension-pre-unlink.sh\u001b[m\u001b[m\r\n",
      "lrwxr-xr-x    1 GunnarK  staff          8 Aug  3  2017 \u001b[35m2to3\u001b[m\u001b[m -> 2to3-3.6\r\n",
      "-rwxr-xr-x    1 GunnarK  staff        112 Aug  3  2017 \u001b[31m2to3-3.6\u001b[m\u001b[m\r\n",
      "drwxr-xr-x    3 GunnarK  staff        102 Aug  5  2017 \u001b[34mAssistant.app\u001b[m\u001b[m\r\n",
      "drwxr-xr-x    3 GunnarK  staff        102 Aug  5  2017 \u001b[34mDesigner.app\u001b[m\u001b[m\r\n",
      "drwxr-xr-x    3 GunnarK  staff        102 Aug  5  2017 \u001b[34mLinguist.app\u001b[m\u001b[m\r\n",
      "-rwxrwxr-x    2 GunnarK  staff       3802 Feb  9 14:45 \u001b[31mactivate\u001b[m\u001b[m\r\n",
      "-rwxrwxr-x    1 GunnarK  staff        167 Aug  5  2017 \u001b[31manaconda\u001b[m\u001b[m\r\n",
      "-rwxrwxr-x    1 GunnarK  staff        169 Aug  5  2017 \u001b[31manaconda-navigator\u001b[m\u001b[m\r\n",
      "-rwxrwxr-x    1 GunnarK  staff        155 Aug  5  2017 \u001b[31manaconda-project\u001b[m\u001b[m\r\n",
      "-rwxrwxr-x    1 GunnarK  staff      12005 Aug  5  2017 \u001b[31masadmin\u001b[m\u001b[m\r\n",
      "-rwxrwxr-x    1 GunnarK  staff        167 Aug  5  2017 \u001b[31mbinstar\u001b[m\u001b[m\r\n",
      "-rwxrwxr-x    1 GunnarK  staff        154 Aug  5  2017 \u001b[31mblaze-server\u001b[m\u001b[m\r\n",
      "-rwxrwxr-x    1 GunnarK  staff        143 Aug  5  2017 \u001b[31mbokeh\u001b[m\u001b[m\r\n",
      "-rwxrwxr-x    1 GunnarK  staff       1571 Aug  5  2017 \u001b[31mbundle_image\u001b[m\u001b[m\r\n",
      "-rwxrwxr-x    3 GunnarK  staff     111396 Mar 31  2017 \u001b[31mbunzip2\u001b[m\u001b[m\r\n",
      "-rwxrwxr-x    3 GunnarK  staff     111396 Mar 31  2017 \u001b[31mbzcat\u001b[m\u001b[m\r\n",
      "lrwxr-xr-x    1 GunnarK  staff          6 Aug  5  2017 \u001b[35mbzcmp\u001b[m\u001b[m -> bzdiff\r\n",
      "-rwxrwxr-x    3 GunnarK  staff       2128 Mar 31  2017 \u001b[31mbzdiff\u001b[m\u001b[m\r\n",
      "lrwxr-xr-x    1 GunnarK  staff          6 Aug  5  2017 \u001b[35mbzegrep\u001b[m\u001b[m -> bzgrep\r\n",
      "lrwxr-xr-x    1 GunnarK  staff          6 Aug  5  2017 \u001b[35mbzfgrep\u001b[m\u001b[m -> bzgrep\r\n",
      "-rwxrwxr-x    3 GunnarK  staff       1677 Mar 31  2017 \u001b[31mbzgrep\u001b[m\u001b[m\r\n",
      "-rwxrwxr-x    3 GunnarK  staff     111396 Mar 31  2017 \u001b[31mbzip2\u001b[m\u001b[m\r\n",
      "-rwxrwxr-x    3 GunnarK  staff      14788 Mar 31  2017 \u001b[31mbzip2recover\u001b[m\u001b[m\r\n",
      "lrwxr-xr-x    1 GunnarK  staff          6 Aug  5  2017 \u001b[35mbzless\u001b[m\u001b[m -> bzmore\r\n",
      "-rwxrwxr-x    3 GunnarK  staff       1259 Mar 31  2017 \u001b[31mbzmore\u001b[m\u001b[m\r\n",
      "-rwxr-xr-x    1 GunnarK  staff       5128 Aug  3  2017 \u001b[31mc_rehash\u001b[m\u001b[m\r\n",
      "-rwxrwxr-x    1 GunnarK  staff       3461 Aug  5  2017 \u001b[31mcfadmin\u001b[m\u001b[m\r\n",
      "-rwxrwxr-x    1 GunnarK  staff        159 Aug  5  2017 \u001b[31mchardetect\u001b[m\u001b[m\r\n",
      "-rwxr-xr-x    4 GunnarK  staff      41296 Apr 15  2016 \u001b[31mcjpeg\u001b[m\u001b[m\r\n",
      "-rwxrwxr-x    1 GunnarK  staff        133 Feb 19 21:53 \u001b[31mconda\u001b[m\u001b[m\r\n",
      "-rwxrwxr-x    1 GunnarK  staff        151 Feb 19 21:53 \u001b[31mconda-env\u001b[m\u001b[m\r\n",
      "-rwxrwxr-x    1 GunnarK  staff        167 Aug  5  2017 \u001b[31mconda-server\u001b[m\u001b[m\r\n",
      "-rwxrwxr-x    1 GunnarK  staff       3070 Aug  5  2017 \u001b[31mcq\u001b[m\u001b[m\r\n",
      "-rwxrwxr-x    1 GunnarK  staff        561 Aug  5  2017 \u001b[31mcreatefontdatachunk.py\u001b[m\u001b[m\r\n",
      "-rwxrwxr-x    2 GunnarK  staff     189428 Jan 17  2017 \u001b[31mcurl\u001b[m\u001b[m\r\n",
      "-rwxrwxr-x    1 GunnarK  staff       5256 Aug  5  2017 \u001b[31mcurl-config\u001b[m\u001b[m\r\n",
      "-rwxrwxr-x    1 GunnarK  staff       5062 Aug  5  2017 \u001b[31mcwutil\u001b[m\u001b[m\r\n",
      "-rwxrwxr-x    1 GunnarK  staff        157 Aug  5  2017 \u001b[31mcygdb\u001b[m\u001b[m\r\n",
      "-rwxrwxr-x    1 GunnarK  staff        166 Aug  5  2017 \u001b[31mcython\u001b[m\u001b[m\r\n",
      "-rwxrwxr-x    1 GunnarK  staff        159 Aug  5  2017 \u001b[31mcythonize\u001b[m\u001b[m\r\n",
      "-rwxrwxr-x    1 GunnarK  staff        167 Aug  5  2017 \u001b[31mdask-remote\u001b[m\u001b[m\r\n",
      "-rwxrwxr-x    1 GunnarK  staff        173 Aug  5  2017 \u001b[31mdask-scheduler\u001b[m\u001b[m\r\n",
      "-rwxrwxr-x    1 GunnarK  staff        161 Aug  5  2017 \u001b[31mdask-ssh\u001b[m\u001b[m\r\n",
      "-rwxrwxr-x    1 GunnarK  staff        167 Aug  5  2017 \u001b[31mdask-submit\u001b[m\u001b[m\r\n",
      "-rwxrwxr-x    1 GunnarK  staff        167 Aug  5  2017 \u001b[31mdask-worker\u001b[m\u001b[m\r\n",
      "-rwxrwxr-x    2 GunnarK  staff       3040 Feb  9 14:45 \u001b[31mdeactivate\u001b[m\u001b[m\r\n",
      "-rwxrwxr-x    2 GunnarK  staff      19464 May 20  2015 \u001b[31mderb\u001b[m\u001b[m\r\n",
      "-rwxr-xr-x    4 GunnarK  staff      36728 Apr 15  2016 \u001b[31mdjpeg\u001b[m\u001b[m\r\n",
      "-rwxrwxr-x    2 GunnarK  staff      40196 Mar  4  2017 \u001b[31mdltest\u001b[m\u001b[m\r\n",
      "-rwxrwxr-x    1 GunnarK  staff       2150 Aug  5  2017 \u001b[31mdynamodb_dump\u001b[m\u001b[m\r\n",
      "-rwxrwxr-x    1 GunnarK  staff       3520 Aug  5  2017 \u001b[31mdynamodb_load\u001b[m\u001b[m\r\n",
      "-rwxr-xr-x    1 GunnarK  staff        177 Aug  3  2017 \u001b[31measy_install\u001b[m\u001b[m\r\n",
      "lrwxr-xr-x    1 GunnarK  staff         12 Aug  3  2017 \u001b[35measy_install-3.6\u001b[m\u001b[m -> easy_install\r\n",
      "-rwxrwxr-x    1 GunnarK  staff       9710 Aug  5  2017 \u001b[31melbadmin\u001b[m\u001b[m\r\n",
      "-rwxrwxr-x    1 GunnarK  staff       1592 Aug  5  2017 \u001b[31menhancer.py\u001b[m\u001b[m\r\n",
      "-rwxrwxr-x    1 GunnarK  staff        134 Aug  5  2017 \u001b[31mepylint\u001b[m\u001b[m\r\n",
      "-rwxrwxr-x    1 GunnarK  staff       2457 Aug  5  2017 \u001b[31mexplode.py\u001b[m\u001b[m\r\n",
      "-rwxrwxr-x    1 GunnarK  staff        777 Aug  5  2017 \u001b[31mf2py\u001b[m\u001b[m\r\n",
      "-rwxrwxr-x    1 GunnarK  staff       1890 Aug  5  2017 \u001b[31mfetch_file\u001b[m\u001b[m\r\n",
      "-rwxrwxr-x    1 GunnarK  staff        197 Aug  5  2017 \u001b[31mfits2bitmap\u001b[m\u001b[m\r\n",
      "-rwxrwxr-x    1 GunnarK  staff        181 Aug  5  2017 \u001b[31mfitscheck\u001b[m\u001b[m\r\n",
      "-rwxrwxr-x    1 GunnarK  staff        179 Aug  5  2017 \u001b[31mfitsdiff\u001b[m\u001b[m\r\n",
      "-rwxrwxr-x    1 GunnarK  staff        183 Aug  5  2017 \u001b[31mfitsheader\u001b[m\u001b[m\r\n",
      "-rwxrwxr-x    1 GunnarK  staff        179 Aug  5  2017 \u001b[31mfitsinfo\u001b[m\u001b[m\r\n",
      "-rwxrwxr-x    2 GunnarK  staff       6004 Nov 17  2016 \u001b[31mfixqt4headers.pl\u001b[m\u001b[m\r\n",
      "-rwxrwxr-x    1 GunnarK  staff        133 Aug  5  2017 \u001b[31mflask\u001b[m\u001b[m\r\n",
      "-rwxrwxr-x    1 GunnarK  staff       3860 Aug  5  2017 \u001b[31mfreetype-config\u001b[m\u001b[m\r\n",
      "-rwxrwxr-x    2 GunnarK  staff      14008 May 20  2015 \u001b[31mgenbrk\u001b[m\u001b[m\r\n",
      "-rwxrwxr-x    2 GunnarK  staff      13648 May 20  2015 \u001b[31mgencfu\u001b[m\u001b[m\r\n",
      "-rwxrwxr-x    2 GunnarK  staff      22768 May 20  2015 \u001b[31mgencnval\u001b[m\u001b[m\r\n",
      "-rwxrwxr-x    2 GunnarK  staff      19480 May 20  2015 \u001b[31mgendict\u001b[m\u001b[m\r\n",
      "-rwxrwxr-x    2 GunnarK  staff     108560 May 20  2015 \u001b[31mgenrb\u001b[m\u001b[m\r\n",
      "-rwxrwxr-x    1 GunnarK  staff     180456 Aug  5  2017 \u001b[31mgif2h5\u001b[m\u001b[m\r\n",
      "-rwxrwxr-x    1 GunnarK  staff        660 Aug  5  2017 \u001b[31mgifmaker.py\u001b[m\u001b[m\r\n",
      "-rwxrwxr-x    1 GunnarK  staff       5263 Aug  5  2017 \u001b[31mglacier\u001b[m\u001b[m\r\n",
      "-rwxrwxr-x    1 GunnarK  staff     174848 Aug  5  2017 \u001b[31mh52gif\u001b[m\u001b[m\r\n",
      "-rwxrwxr-x    1 GunnarK  staff      13407 Aug  5  2017 \u001b[31mh5c++\u001b[m\u001b[m\r\n",
      "-rwxrwxr-x    1 GunnarK  staff      13567 Aug  5  2017 \u001b[31mh5cc\u001b[m\u001b[m\r\n",
      "-rwxrwxr-x    1 GunnarK  staff     170208 Aug  5  2017 \u001b[31mh5copy\u001b[m\u001b[m\r\n",
      "-rwxrwxr-x    1 GunnarK  staff      23824 Aug  5  2017 \u001b[31mh5debug\u001b[m\u001b[m\r\n",
      "-rwxrwxr-x    1 GunnarK  staff     328852 Aug  5  2017 \u001b[31mh5diff\u001b[m\u001b[m\r\n",
      "-rwxrwxr-x    1 GunnarK  staff     311068 Aug  5  2017 \u001b[31mh5dump\u001b[m\u001b[m\r\n",
      "-rwxrwxr-x    1 GunnarK  staff      12941 Aug  5  2017 \u001b[31mh5fc\u001b[m\u001b[m\r\n",
      "-rwxrwxr-x    1 GunnarK  staff     242004 Aug  5  2017 \u001b[31mh5import\u001b[m\u001b[m\r\n",
      "-rwxrwxr-x    1 GunnarK  staff     170464 Aug  5  2017 \u001b[31mh5jam\u001b[m\u001b[m\r\n",
      "-rwxrwxr-x    1 GunnarK  staff     207268 Aug  5  2017 \u001b[31mh5ls\u001b[m\u001b[m\r\n",
      "-rwxrwxr-x    1 GunnarK  staff     165916 Aug  5  2017 \u001b[31mh5mkgrp\u001b[m\u001b[m\r\n",
      "-rwxrwxr-x    1 GunnarK  staff     210152 Aug  5  2017 \u001b[31mh5perf_serial\u001b[m\u001b[m\r\n",
      "-rwxrwxr-x    3 GunnarK  staff       6109 May 31  2017 \u001b[31mh5redeploy\u001b[m\u001b[m\r\n",
      "-rwxrwxr-x    1 GunnarK  staff     274008 Aug  5  2017 \u001b[31mh5repack\u001b[m\u001b[m\r\n",
      "-rwxrwxr-x    1 GunnarK  staff      22836 Aug  5  2017 \u001b[31mh5repart\u001b[m\u001b[m\r\n",
      "-rwxrwxr-x    1 GunnarK  staff     187640 Aug  5  2017 \u001b[31mh5stat\u001b[m\u001b[m\r\n",
      "-rwxrwxr-x    1 GunnarK  staff     170280 Aug  5  2017 \u001b[31mh5unjam\u001b[m\u001b[m\r\n",
      "-rwxr-xr-x    1 GunnarK  staff      33744 Mar 16  2016 \u001b[31miconv\u001b[m\u001b[m\r\n",
      "-rwxrwxr-x    1 GunnarK  staff      22667 Aug  5  2017 \u001b[31micu-config\u001b[m\u001b[m\r\n",
      "-rwxrwxr-x    2 GunnarK  staff      13840 May 20  2015 \u001b[31micuinfo\u001b[m\u001b[m\r\n",
      "lrwxr-xr-x    1 GunnarK  staff          7 Aug  3  2017 \u001b[35midle3\u001b[m\u001b[m -> idle3.6\r\n",
      "-rwxr-xr-x    1 GunnarK  staff        110 Aug  3  2017 \u001b[31midle3.6\u001b[m\u001b[m\r\n",
      "-rwxrwxr-x    1 GunnarK  staff       5795 Aug  5  2017 \u001b[31minstance_events\u001b[m\u001b[m\r\n",
      "-rwxrwxr-x    1 GunnarK  staff        254 Aug  5  2017 \u001b[31miptest\u001b[m\u001b[m\r\n",
      "-rwxrwxr-x    1 GunnarK  staff        254 Aug  5  2017 \u001b[31miptest3\u001b[m\u001b[m\r\n",
      "-rwxrwxr-x    1 GunnarK  staff        138 Aug  5  2017 \u001b[31mipython\u001b[m\u001b[m\r\n",
      "-rwxrwxr-x    1 GunnarK  staff        138 Aug  5  2017 \u001b[31mipython3\u001b[m\u001b[m\r\n",
      "-rwxrwxr-x    1 GunnarK  staff        391 Aug  5  2017 \u001b[31misort\u001b[m\u001b[m\r\n",
      "-rwxrwxr-x    2 GunnarK  staff      37736 Mar  4  2017 \u001b[31misql\u001b[m\u001b[m\r\n",
      "-rwxrwxr-x    1 GunnarK  staff      11725 Aug  5  2017 \u001b[31misympy\u001b[m\u001b[m\r\n",
      "-rwxrwxr-x    2 GunnarK  staff      32384 Mar  4  2017 \u001b[31miusql\u001b[m\u001b[m\r\n",
      "-rwxrwxr-x    1 GunnarK  staff       1694 Aug  5  2017 \u001b[31mjp.py\u001b[m\u001b[m\r\n",
      "-rwxr-xr-x    4 GunnarK  staff      45864 Apr 15  2016 \u001b[31mjpegtran\u001b[m\u001b[m\r\n",
      "-rwxrwxr-x    1 GunnarK  staff        143 Aug  5  2017 \u001b[31mjsonschema\u001b[m\u001b[m\r\n",
      "-rwxrwxr-x    1 GunnarK  staff        155 Aug  5  2017 \u001b[31mjupyter\u001b[m\u001b[m\r\n",
      "-rwxrwxr-x    1 GunnarK  staff        256 Aug  5  2017 \u001b[31mjupyter-bundlerextension\u001b[m\u001b[m\r\n",
      "-rwxrwxr-x    1 GunnarK  staff        153 Aug  5  2017 \u001b[31mjupyter-console\u001b[m\u001b[m\r\n",
      "-rwxrwxr-x    1 GunnarK  staff        196 Aug  5  2017 \u001b[31mjupyter-kernelspec\u001b[m\u001b[m\r\n",
      "-rwxrwxr-x    1 GunnarK  staff        155 Aug  5  2017 \u001b[31mjupyter-migrate\u001b[m\u001b[m\r\n",
      "-rwxrwxr-x    1 GunnarK  staff        159 Aug  5  2017 \u001b[31mjupyter-nbconvert\u001b[m\u001b[m\r\n",
      "-rwxrwxr-x    1 GunnarK  staff        157 Aug  5  2017 \u001b[31mjupyter-nbextension\u001b[m\u001b[m\r\n",
      "-rwxrwxr-x    1 GunnarK  staff        155 Aug  5  2017 \u001b[31mjupyter-notebook\u001b[m\u001b[m\r\n",
      "-rwxrwxr-x    1 GunnarK  staff        117 Aug  5  2017 \u001b[31mjupyter-qtconsole\u001b[m\u001b[m\r\n",
      "-rwxrwxr-x    1 GunnarK  staff        157 Aug  5  2017 \u001b[31mjupyter-run\u001b[m\u001b[m\r\n",
      "-rwxrwxr-x    1 GunnarK  staff        165 Aug  5  2017 \u001b[31mjupyter-serverextension\u001b[m\u001b[m\r\n",
      "-rwxrwxr-x    1 GunnarK  staff        165 Aug  5  2017 \u001b[31mjupyter-troubleshoot\u001b[m\u001b[m\r\n",
      "-rwxrwxr-x    1 GunnarK  staff        169 Aug  5  2017 \u001b[31mjupyter-trust\u001b[m\u001b[m\r\n",
      "-rwxrwxr-x    1 GunnarK  staff        941 Aug  5  2017 \u001b[31mkill_instance\u001b[m\u001b[m\r\n",
      "-rwxrwxr-x    1 GunnarK  staff      10622 Aug  5  2017 \u001b[31mlaunch_instance\u001b[m\u001b[m\r\n",
      "-rwxrwxr-x    2 GunnarK  staff     269316 Nov 17  2016 \u001b[31mlconvert\u001b[m\u001b[m\r\n",
      "lrwxr-xr-x    1 GunnarK  staff         15 Aug  5  2017 \u001b[35mlibpng-config\u001b[m\u001b[m -> libpng16-config\r\n",
      "-rwxrwxr-x    1 GunnarK  staff       2333 Aug  5  2017 \u001b[31mlibpng16-config\u001b[m\u001b[m\r\n",
      "-rwxrwxr-x    1 GunnarK  staff       3115 Aug  5  2017 \u001b[31mlist_instances\u001b[m\u001b[m\r\n",
      "-rwxrwxr-x    2 GunnarK  staff     526920 Nov 17  2016 \u001b[31mlrelease\u001b[m\u001b[m\r\n",
      "-rwxrwxr-x    1 GunnarK  staff       3461 Aug  5  2017 \u001b[31mlss3\u001b[m\u001b[m\r\n",
      "-rwxrwxr-x    2 GunnarK  staff     977940 Nov 17  2016 \u001b[31mlupdate\u001b[m\u001b[m\r\n",
      "-rwxrwxr-x    2 GunnarK  staff      81532 Nov 17  2016 \u001b[31mmacchangeqt\u001b[m\u001b[m\r\n",
      "-rwxrwxr-x    2 GunnarK  staff     208124 Nov 17  2016 \u001b[31mmacdeployqt\u001b[m\u001b[m\r\n",
      "-rwxrwxr-x    2 GunnarK  staff      44552 May 20  2015 \u001b[31mmakeconv\u001b[m\u001b[m\r\n",
      "-rwxrwxr-x    2 GunnarK  staff     969372 Nov 17  2016 \u001b[31mmoc\u001b[m\u001b[m\r\n",
      "-rwxrwxr-x    1 GunnarK  staff      19165 Aug  5  2017 \u001b[31mmturk\u001b[m\u001b[m\r\n",
      "-rwxrwxr-x    1 GunnarK  staff        181 Aug  5  2017 \u001b[31mnavigator-updater\u001b[m\u001b[m\r\n",
      "-rwxrwxr-x    1 GunnarK  staff        127 Aug  5  2017 \u001b[31mnosetests\u001b[m\u001b[m\r\n",
      "-rwxrwxr-x    1 GunnarK  staff        149 Aug  5  2017 \u001b[31mnumba\u001b[m\u001b[m\r\n",
      "-rwxrwxr-x    1 GunnarK  staff      12916 Aug  5  2017 \u001b[31modbc_config\u001b[m\u001b[m\r\n",
      "-rwxrwxr-x    2 GunnarK  staff      29028 Mar  4  2017 \u001b[31modbcinst\u001b[m\u001b[m\r\n",
      "-rwxrwxr-x    1 GunnarK  staff        786 Aug  5  2017 \u001b[31modo\u001b[m\u001b[m\r\n",
      "-rwxr-xr-x    1 GunnarK  staff     573232 May 25  2017 \u001b[31mopenssl\u001b[m\u001b[m\r\n",
      "-rwxrwxr-x    1 GunnarK  staff       2172 Aug  5  2017 \u001b[31mpainter.py\u001b[m\u001b[m\r\n",
      "-rwxrwxr-x    6 GunnarK  staff  117964524 Jan 30  2017 \u001b[31mpandoc\u001b[m\u001b[m\r\n",
      "-rwxrwxr-x    6 GunnarK  staff  111275172 Jan 30  2017 \u001b[31mpandoc-citeproc\u001b[m\u001b[m\r\n",
      "-rwxrwxr-x    1 GunnarK  staff        139 Aug  5  2017 \u001b[31mpbr\u001b[m\u001b[m\r\n",
      "-rwxrwxr-x    1 GunnarK  staff        124 Aug  5  2017 \u001b[31mpep8\u001b[m\u001b[m\r\n",
      "-rwxrwxr-x    1 GunnarK  staff       2377 Aug  5  2017 \u001b[31mpilconvert.py\u001b[m\u001b[m\r\n",
      "-rwxrwxr-x    1 GunnarK  staff      15529 Aug  5  2017 \u001b[31mpildriver.py\u001b[m\u001b[m\r\n",
      "-rwxrwxr-x    1 GunnarK  staff       2685 Aug  5  2017 \u001b[31mpilfile.py\u001b[m\u001b[m\r\n",
      "-rwxrwxr-x    1 GunnarK  staff       1046 Aug  5  2017 \u001b[31mpilfont.py\u001b[m\u001b[m\r\n",
      "-rwxrwxr-x    1 GunnarK  staff       2616 Aug  5  2017 \u001b[31mpilprint.py\u001b[m\u001b[m\r\n",
      "-rwxr-xr-x    1 GunnarK  staff        121 Aug  3  2017 \u001b[31mpip\u001b[m\u001b[m\r\n",
      "drwxr-xr-x    3 GunnarK  staff        102 Aug  5  2017 \u001b[34mpixeltool.app\u001b[m\u001b[m\r\n",
      "-rwxrwxr-x    2 GunnarK  staff      40088 May 20  2015 \u001b[31mpkgdata\u001b[m\u001b[m\r\n",
      "-rwxrwxr-x    1 GunnarK  staff       2103 Aug  5  2017 \u001b[31mplayer.py\u001b[m\u001b[m\r\n",
      "-rwxrwxr-x    7 GunnarK  staff       8740 Jul 21  2017 \u001b[31mpng-fix-itxt\u001b[m\u001b[m\r\n",
      "-rwxrwxr-x    7 GunnarK  staff      54972 Jul 21  2017 \u001b[31mpngfix\u001b[m\u001b[m\r\n",
      "-rwxrwxr-x    2 GunnarK  staff      16780 Jul 21  2017 \u001b[31mprotoc\u001b[m\u001b[m\r\n",
      "-rwxrwxr-x    1 GunnarK  staff        157 Aug  5  2017 \u001b[31mpt2to3\u001b[m\u001b[m\r\n",
      "-rwxrwxr-x    1 GunnarK  staff        157 Aug  5  2017 \u001b[31mptdump\u001b[m\u001b[m\r\n",
      "-rwxrwxr-x    1 GunnarK  staff        161 Aug  5  2017 \u001b[31mptrepack\u001b[m\u001b[m\r\n",
      "-rwxrwxr-x    1 GunnarK  staff        157 Aug  5  2017 \u001b[31mpttree\u001b[m\u001b[m\r\n",
      "-rwxrwxr-x    1 GunnarK  staff        129 Aug  5  2017 \u001b[31mpy.test\u001b[m\u001b[m\r\n",
      "-rwxrwxr-x    1 GunnarK  staff       2634 Aug  5  2017 \u001b[31mpyami_sendmail\u001b[m\u001b[m\r\n",
      "-rwxrwxr-x    1 GunnarK  staff        161 Aug  5  2017 \u001b[31mpybabel\u001b[m\u001b[m\r\n",
      "-rwxrwxr-x    1 GunnarK  staff        135 Aug  5  2017 \u001b[31mpycc\u001b[m\u001b[m\r\n",
      "-rwxrwxr-x    1 GunnarK  staff        138 Feb 19 21:53 \u001b[31mpycodestyle\u001b[m\u001b[m\r\n",
      "lrwxr-xr-x    1 GunnarK  staff          8 Aug  3  2017 \u001b[35mpydoc\u001b[m\u001b[m -> pydoc3.6\r\n",
      "lrwxr-xr-x    1 GunnarK  staff          8 Aug  3  2017 \u001b[35mpydoc3\u001b[m\u001b[m -> pydoc3.6\r\n",
      "-rwxr-xr-x    1 GunnarK  staff         95 Aug  3  2017 \u001b[31mpydoc3.6\u001b[m\u001b[m\r\n",
      "-rwxr-xr-x    1 GunnarK  staff        230 Dec 31 02:19 \u001b[31mpyfiglet\u001b[m\u001b[m\r\n",
      "-rwxrwxr-x    1 GunnarK  staff        406 Aug  5  2017 \u001b[31mpyflakes\u001b[m\u001b[m\r\n",
      "-rwxrwxr-x    1 GunnarK  staff        147 Aug  5  2017 \u001b[31mpygmentize\u001b[m\u001b[m\r\n",
      "-rwxrwxr-x    1 GunnarK  staff        133 Aug  5  2017 \u001b[31mpylint\u001b[m\u001b[m\r\n",
      "-rwxrwxr-x    1 GunnarK  staff        137 Aug  5  2017 \u001b[31mpylint-gui\u001b[m\u001b[m\r\n",
      "-rwxrwxr-x    1 GunnarK  staff     224376 Aug  5  2017 \u001b[31mpylupdate5\u001b[m\u001b[m\r\n",
      "-rwxrwxr-x    1 GunnarK  staff      66880 Aug  5  2017 \u001b[31mpyrcc5\u001b[m\u001b[m\r\n",
      "-rwxrwxr-x    1 GunnarK  staff        136 Aug  5  2017 \u001b[31mpyreverse\u001b[m\u001b[m\r\n",
      "-rwxrwxr-x    1 GunnarK  staff        396 Aug  5  2017 \u001b[31mpytest\u001b[m\u001b[m\r\n",
      "lrwxr-xr-x    1 GunnarK  staff          9 Aug  3  2017 \u001b[35mpython\u001b[m\u001b[m -> python3.6\r\n",
      "-rwxrwxr-x    1 GunnarK  staff        135 Aug  5  2017 \u001b[31mpython.app\u001b[m\u001b[m\r\n",
      "lrwxr-xr-x    1 GunnarK  staff          9 Aug  3  2017 \u001b[35mpython3\u001b[m\u001b[m -> python3.6\r\n",
      "lrwxr-xr-x    1 GunnarK  staff         17 Aug  3  2017 \u001b[35mpython3-config\u001b[m\u001b[m -> python3.6m-config\r\n",
      "-rwxr-xr-x    1 GunnarK  staff       9500 May 11  2017 \u001b[31mpython3.6\u001b[m\u001b[m\r\n",
      "lrwxr-xr-x    1 GunnarK  staff         17 Aug  3  2017 \u001b[35mpython3.6-config\u001b[m\u001b[m -> python3.6m-config\r\n",
      "-rwxr-xr-x    2 GunnarK  staff       9500 May 11  2017 \u001b[31mpython3.6m\u001b[m\u001b[m\r\n",
      "-rwxr-xr-x    1 GunnarK  staff       2052 Aug  3  2017 \u001b[31mpython3.6m-config\u001b[m\u001b[m\r\n",
      "-rwxrwxr-x    1 GunnarK  staff        135 Aug  5  2017 \u001b[31mpythonw\u001b[m\u001b[m\r\n",
      "-rwxrwxr-x    5 GunnarK  staff         54 Jun  7  2017 \u001b[31mpyuic5\u001b[m\u001b[m\r\n",
      "lrwxr-xr-x    1 GunnarK  staff         10 Aug  3  2017 \u001b[35mpyvenv\u001b[m\u001b[m -> pyvenv-3.6\r\n",
      "-rwxr-xr-x    1 GunnarK  staff        452 Aug  3  2017 \u001b[31mpyvenv-3.6\u001b[m\u001b[m\r\n",
      "-rwxrwxr-x    2 GunnarK  staff      73952 Nov 17  2016 \u001b[31mqcollectiongenerator\u001b[m\u001b[m\r\n",
      "-rwxrwxr-x    2 GunnarK  staff    1640088 Nov 17  2016 \u001b[31mqdoc\u001b[m\u001b[m\r\n",
      "-rwxrwxr-x    2 GunnarK  staff     187332 Nov 17  2016 \u001b[31mqhelpconverter\u001b[m\u001b[m\r\n",
      "-rwxrwxr-x    2 GunnarK  staff      35908 Nov 17  2016 \u001b[31mqhelpgenerator\u001b[m\u001b[m\r\n",
      "-rwxrwxr-x    2 GunnarK  staff     146160 Nov 17  2016 \u001b[31mqlalr\u001b[m\u001b[m\r\n",
      "-rwxrwxr-x    1 GunnarK  staff    4767228 Aug  5  2017 \u001b[31mqmake\u001b[m\u001b[m\r\n",
      "drwxr-xr-x    3 GunnarK  staff        102 Aug  5  2017 \u001b[34mqml.app\u001b[m\u001b[m\r\n",
      "-rwxrwxr-x    2 GunnarK  staff     119592 Nov 17  2016 \u001b[31mqmleasing\u001b[m\u001b[m\r\n",
      "-rwxrwxr-x    2 GunnarK  staff     269476 Nov 17  2016 \u001b[31mqmlimportscanner\u001b[m\u001b[m\r\n",
      "-rwxrwxr-x    2 GunnarK  staff     204044 Nov 17  2016 \u001b[31mqmllint\u001b[m\u001b[m\r\n",
      "-rwxrwxr-x    2 GunnarK  staff     117092 Nov 17  2016 \u001b[31mqmlmin\u001b[m\u001b[m\r\n",
      "-rwxrwxr-x    2 GunnarK  staff     166740 Nov 17  2016 \u001b[31mqmlplugindump\u001b[m\u001b[m\r\n",
      "-rwxrwxr-x    2 GunnarK  staff     195892 Nov 17  2016 \u001b[31mqmlprofiler\u001b[m\u001b[m\r\n",
      "-rwxrwxr-x    2 GunnarK  staff      65324 Nov 17  2016 \u001b[31mqmlscene\u001b[m\u001b[m\r\n",
      "-rwxrwxr-x    2 GunnarK  staff      29088 Nov 17  2016 \u001b[31mqmltestrunner\u001b[m\u001b[m\r\n",
      "-rw-rw-r--    1 GunnarK  staff        172 Aug  5  2017 qt.conf\r\n",
      "-rwxrwxr-x    2 GunnarK  staff      74840 Nov 17  2016 \u001b[31mqtdiag\u001b[m\u001b[m\r\n",
      "-rwxrwxr-x    2 GunnarK  staff      38732 Nov 17  2016 \u001b[31mqtpaths\u001b[m\u001b[m\r\n",
      "-rwxrwxr-x    2 GunnarK  staff      32540 Nov 17  2016 \u001b[31mqtplugininfo\u001b[m\u001b[m\r\n",
      "-rwxrwxr-x    2 GunnarK  staff     856020 Nov 17  2016 \u001b[31mrcc\u001b[m\u001b[m\r\n",
      "-rwxr-xr-x    4 GunnarK  staff      13652 Apr 15  2016 \u001b[31mrdjpgcom\u001b[m\u001b[m\r\n",
      "-rwxrwxr-x    1 GunnarK  staff       9051 Aug  5  2017 \u001b[31mroute53\u001b[m\u001b[m\r\n",
      "-rwxrwxr-x    1 GunnarK  staff        613 Aug  5  2017 \u001b[31mrst2html.py\u001b[m\u001b[m\r\n",
      "-rwxrwxr-x    1 GunnarK  staff       1159 Aug  5  2017 \u001b[31mrst2html5.py\u001b[m\u001b[m\r\n",
      "-rwxrwxr-x    1 GunnarK  staff        810 Aug  5  2017 \u001b[31mrst2latex.py\u001b[m\u001b[m\r\n",
      "-rwxrwxr-x    1 GunnarK  staff        619 Aug  5  2017 \u001b[31mrst2man.py\u001b[m\u001b[m\r\n",
      "-rwxrwxr-x    1 GunnarK  staff        783 Aug  5  2017 \u001b[31mrst2odt.py\u001b[m\u001b[m\r\n",
      "-rwxrwxr-x    1 GunnarK  staff       1717 Aug  5  2017 \u001b[31mrst2odt_prepstyles.py\u001b[m\u001b[m\r\n",
      "-rwxrwxr-x    1 GunnarK  staff        620 Aug  5  2017 \u001b[31mrst2pseudoxml.py\u001b[m\u001b[m\r\n",
      "-rwxrwxr-x    1 GunnarK  staff        656 Aug  5  2017 \u001b[31mrst2s5.py\u001b[m\u001b[m\r\n",
      "-rwxrwxr-x    1 GunnarK  staff        890 Aug  5  2017 \u001b[31mrst2xetex.py\u001b[m\u001b[m\r\n",
      "-rwxrwxr-x    1 GunnarK  staff        621 Aug  5  2017 \u001b[31mrst2xml.py\u001b[m\u001b[m\r\n",
      "-rwxrwxr-x    1 GunnarK  staff        689 Aug  5  2017 \u001b[31mrstpep2html.py\u001b[m\u001b[m\r\n",
      "-rwxrwxr-x    1 GunnarK  staff      16320 Aug  5  2017 \u001b[31mrunxlrd.py\u001b[m\u001b[m\r\n",
      "-rwxrwxr-x    1 GunnarK  staff      16856 Aug  5  2017 \u001b[31ms3put\u001b[m\u001b[m\r\n",
      "-rwxrwxr-x    1 GunnarK  staff        167 Aug  5  2017 \u001b[31msamp_hub\u001b[m\u001b[m\r\n",
      "-rwxrwxr-x    1 GunnarK  staff       7012 Aug  5  2017 \u001b[31msdbadmin\u001b[m\u001b[m\r\n",
      "-rwxrwxr-x    2 GunnarK  staff     350076 Jan 17  2017 \u001b[31msip\u001b[m\u001b[m\r\n",
      "-rwxrwxr-x    1 GunnarK  staff        157 Aug  5  2017 \u001b[31mskivi\u001b[m\u001b[m\r\n",
      "-rwxrwxr-x    2 GunnarK  staff      17752 Mar  4  2017 \u001b[31mslencheck\u001b[m\u001b[m\r\n",
      "-rwxrwxr-x    1 GunnarK  staff        410 Aug  5  2017 \u001b[31msphinx-apidoc\u001b[m\u001b[m\r\n",
      "-rwxrwxr-x    1 GunnarK  staff        412 Aug  5  2017 \u001b[31msphinx-autogen\u001b[m\u001b[m\r\n",
      "-rwxrwxr-x    1 GunnarK  staff        408 Aug  5  2017 \u001b[31msphinx-build\u001b[m\u001b[m\r\n",
      "-rwxrwxr-x    1 GunnarK  staff        418 Aug  5  2017 \u001b[31msphinx-quickstart\u001b[m\u001b[m\r\n",
      "-rwxrwxr-x    1 GunnarK  staff        158 Feb 19 21:53 \u001b[31mspyder\u001b[m\u001b[m\r\n",
      "-rwxr-xr-x    2 GunnarK  staff    1432944 May 25  2016 \u001b[31msqlite3\u001b[m\u001b[m\r\n",
      "-rwxrwxr-x    1 GunnarK  staff        134 Aug  5  2017 \u001b[31msymilar\u001b[m\u001b[m\r\n",
      "-rwxrwxr-x    2 GunnarK  staff      47182 Nov 17  2016 \u001b[31msyncqt.pl\u001b[m\u001b[m\r\n",
      "-rwxrwxr-x    1 GunnarK  staff       3786 Aug  5  2017 \u001b[31mtaskadmin\u001b[m\u001b[m\r\n",
      "-rwxr-xr-x    2 GunnarK  staff      12712 Mar 16  2015 \u001b[31mtclsh8.5\u001b[m\u001b[m\r\n",
      "-rwxrwxr-x    1 GunnarK  staff        183 Aug  5  2017 \u001b[31mtensorboard\u001b[m\u001b[m\r\n",
      "-rwxrwxr-x    1 GunnarK  staff       2000 Aug  5  2017 \u001b[31mthresholder.py\u001b[m\u001b[m\r\n",
      "-rwxrwxr-x    2 GunnarK  staff      46584 May 20  2015 \u001b[31muconv\u001b[m\u001b[m\r\n",
      "-rwxrwxr-x    2 GunnarK  staff     472568 Nov 17  2016 \u001b[31muic\u001b[m\u001b[m\r\n",
      "lrwxr-xr-x    1 GunnarK  staff          2 Aug  3  2017 \u001b[35munxz\u001b[m\u001b[m -> xz\r\n",
      "-rwxrwxr-x    1 GunnarK  staff       1972 Aug  5  2017 \u001b[31mvba_extract.py\u001b[m\u001b[m\r\n",
      "-rwxrwxr-x    1 GunnarK  staff       1039 Aug  5  2017 \u001b[31mviewer.py\u001b[m\u001b[m\r\n",
      "-rwxrwxr-x    1 GunnarK  staff        165 Aug  5  2017 \u001b[31mvolint\u001b[m\u001b[m\r\n",
      "-rwxrwxr-x    1 GunnarK  staff        153 Aug  5  2017 \u001b[31mwcslint\u001b[m\u001b[m\r\n",
      "-rwxr-xr-x    1 GunnarK  staff        135 Aug  3  2017 \u001b[31mwheel\u001b[m\u001b[m\r\n",
      "-rwxr-xr-x    2 GunnarK  staff      25160 Mar 16  2015 \u001b[31mwish8.5\u001b[m\u001b[m\r\n",
      "-rwxr-xr-x    4 GunnarK  staff      13892 Apr 15  2016 \u001b[31mwrjpgcom\u001b[m\u001b[m\r\n",
      "-rwxrwxr-x    1 GunnarK  staff        155 Aug  5  2017 \u001b[31mxlwings\u001b[m\u001b[m\r\n",
      "-rwxrwxr-x    1 GunnarK  staff       1799 Aug  5  2017 \u001b[31mxml2-config\u001b[m\u001b[m\r\n",
      "-rwxrwxr-x    1 GunnarK  staff      23620 Dec  8  2016 \u001b[31mxmlcatalog\u001b[m\u001b[m\r\n",
      "-rwxrwxr-x    1 GunnarK  staff      82836 Dec  8  2016 \u001b[31mxmllint\u001b[m\u001b[m\r\n",
      "-rwxrwxr-x    2 GunnarK  staff      84392 Nov 17  2016 \u001b[31mxmlpatterns\u001b[m\u001b[m\r\n",
      "-rwxrwxr-x    2 GunnarK  staff      19168 Nov 17  2016 \u001b[31mxmlpatternsvalidator\u001b[m\u001b[m\r\n",
      "-rwxr-xr-x    1 GunnarK  staff       2630 Aug  5  2017 \u001b[31mxslt-config\u001b[m\u001b[m\r\n",
      "-rwxr-xr-x    1 GunnarK  staff      30200 Sep  1  2016 \u001b[31mxsltproc\u001b[m\u001b[m\r\n",
      "-rwxr-xr-x    2 GunnarK  staff      96556 Dec 28  2016 \u001b[31mxz\u001b[m\u001b[m\r\n"
     ]
    }
   ],
   "source": [
    "# Mac/Linux\n",
    "\n",
    "#binaries (/bin) are the packages and modules that are installed for the \n",
    "#current binaries, look into your binaries folder\n",
    "\n",
    "### DO THIS FOR YOUR SETUP ####\n",
    "!ls -al '/Users/GunnarK/miniconda/bin/'\n",
    "\n",
    "\n",
    "\n",
    "\n",
    "#Look at some of these folders also note in my folder, some packages have \n",
    "#\"symbolic links\" noted by \"->\" to the actual package that will be used.\n"
   ]
  },
  {
   "cell_type": "code",
   "execution_count": null,
   "metadata": {},
   "outputs": [],
   "source": [
    "# Windows\n",
    "\n",
    "### DO THIS FOR YOUR SETUP ####\n",
    "!dir \"/Users/GunnarK/miniconda/bin/\""
   ]
  },
  {
   "cell_type": "markdown",
   "metadata": {
    "collapsed": true
   },
   "source": [
    "### The interpreter finds the packages by traversing the system path file\n",
    "\n",
    "This is why you had to append the path of the Anaconda code to the search path when you installed Anaconda\n",
    "\n",
    "Can you find the anaconda specific paths below? \n",
    "\n",
    "Can you find them in your workspace?"
   ]
  },
  {
   "cell_type": "code",
   "execution_count": 15,
   "metadata": {},
   "outputs": [
    {
     "name": "stdout",
     "output_type": "stream",
     "text": [
      "/Users/GunnarK/miniconda/bin:/Users/GunnarK/miniconda/bin:/Library/Frameworks/R.framework/Resources/bin/R:/Users/GunnarK/anaconda/envs/plotbio35/bin:/Library/Frameworks/Python.framework/Versions/2.7/bin:/Users/GunnarK/anaconda/bin:/usr/local/bin:/usr/bin:/bin:/usr/sbin:/sbin:/opt/X11/bin:/Library/TeX/texbin:/usr/lpp/mmfs/bin:/usr/bin/java\r\n"
     ]
    }
   ],
   "source": [
    "# Mac/linux:\n",
    "!echo $PATH"
   ]
  },
  {
   "cell_type": "code",
   "execution_count": null,
   "metadata": {},
   "outputs": [],
   "source": [
    "# Windows\n",
    "!echo %Path%"
   ]
  },
  {
   "cell_type": "markdown",
   "metadata": {
    "collapsed": true
   },
   "source": [
    "### Finally, my system has separate conda environments built to have better control over dependencies.\n",
    "- Note the path to each environment. The ```*``` denotes the current environment\n",
    "\n",
    "Look at this on your system. Do you have any environments other then 'base'? \n",
    "\n",
    "If you want to try to make one: \n",
    "https://conda.io/docs/user-guide/tasks/manage-environments.html\n"
   ]
  },
  {
   "cell_type": "code",
   "execution_count": 14,
   "metadata": {},
   "outputs": [
    {
     "name": "stdout",
     "output_type": "stream",
     "text": [
      "# conda environments:\r\n",
      "#\r\n",
      "AsuragenVPN              /Users/GunnarK/miniconda/envs/AsuragenVPN\r\n",
      "BioInf12_15              /Users/GunnarK/miniconda/envs/BioInf12_15\r\n",
      "Cytof                    /Users/GunnarK/miniconda/envs/Cytof\r\n",
      "Cytof2.7                 /Users/GunnarK/miniconda/envs/Cytof2.7\r\n",
      "NetWAS_2                 /Users/GunnarK/miniconda/envs/NetWAS_2\r\n",
      "Netwaspy2                /Users/GunnarK/miniconda/envs/Netwaspy2\r\n",
      "RBio12_15                /Users/GunnarK/miniconda/envs/RBio12_15\r\n",
      "biorevs                  /Users/GunnarK/miniconda/envs/biorevs\r\n",
      "grader35                 /Users/GunnarK/miniconda/envs/grader35\r\n",
      "opencvenv                /Users/GunnarK/miniconda/envs/opencvenv\r\n",
      "plotbio35                /Users/GunnarK/miniconda/envs/plotbio35\r\n",
      "py35jp                   /Users/GunnarK/miniconda/envs/py35jp\r\n",
      "py36                     /Users/GunnarK/miniconda/envs/py36\r\n",
      "py36jp                   /Users/GunnarK/miniconda/envs/py36jp\r\n",
      "pyNetWAS                 /Users/GunnarK/miniconda/envs/pyNetWAS\r\n",
      "tkinterenv               /Users/GunnarK/miniconda/envs/tkinterenv\r\n",
      "root                  *  /Users/GunnarK/miniconda\r\n",
      "\r\n"
     ]
    }
   ],
   "source": [
    "# Will work for everything: Mac/Linux & Windows\n",
    "\n",
    "!conda info --envs"
   ]
  }
 ],
 "metadata": {
  "kernelspec": {
   "display_name": "Python 3",
   "language": "python",
   "name": "python3"
  },
  "language_info": {
   "codemirror_mode": {
    "name": "ipython",
    "version": 3
   },
   "file_extension": ".py",
   "mimetype": "text/x-python",
   "name": "python",
   "nbconvert_exporter": "python",
   "pygments_lexer": "ipython3",
   "version": "3.8.11"
  }
 },
 "nbformat": 4,
 "nbformat_minor": 2
}
