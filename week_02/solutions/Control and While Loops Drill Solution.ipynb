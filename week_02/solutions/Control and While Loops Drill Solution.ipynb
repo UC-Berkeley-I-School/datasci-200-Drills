{
 "cells": [
  {
   "cell_type": "markdown",
   "metadata": {},
   "source": [
    "## Control (if & while) statements"
   ]
  },
  {
   "cell_type": "markdown",
   "metadata": {
    "collapsed": true
   },
   "source": [
    "### Lets say you are searching for odd numbers in a dataset, write code that gives a reinforcing signal when you find an odd number but nothing when you find an even number\n",
    "\n",
    "- Have the program ask for a number using ```input``` \n",
    "- Test whether it is even or odd using the modulus ```%``` as show in the async\n",
    "- If it is even print ```__```\n",
    "- If it is odd print ``$$```\n",
    "- Hint: make sure your ```input``` has the correct type"
   ]
  },
  {
   "cell_type": "code",
   "execution_count": 1,
   "metadata": {},
   "outputs": [
    {
     "name": "stdout",
     "output_type": "stream",
     "text": [
      "Please enter an integer: 5\n",
      "$$\n"
     ]
    }
   ],
   "source": [
    "x = int(input(\"Please enter an integer: \"))\n",
    "\n",
    "if x % 2 == 0:\n",
    "    print('__')\n",
    "else:\n",
    "    print('$$')"
   ]
  },
  {
   "cell_type": "markdown",
   "metadata": {},
   "source": [
    "###  As shown in the async, use input() and a while loop to print a column of numbers starting at the number inputted and counting down to 0.\n",
    "\n",
    "Example:\n",
    "```\n",
    ">> Please enter an integer: 5\n",
    "\n",
    "5 \n",
    "4 \n",
    "3 \n",
    "2 \n",
    "1 \n",
    "0 \n",
    "```\n",
    "\n",
    "\n"
   ]
  },
  {
   "cell_type": "code",
   "execution_count": 2,
   "metadata": {},
   "outputs": [
    {
     "name": "stdout",
     "output_type": "stream",
     "text": [
      "Please enter an integer: 5\n",
      "\n",
      "5\n",
      "4\n",
      "3\n",
      "2\n",
      "1\n",
      "0\n"
     ]
    }
   ],
   "source": [
    "x = int(input(\"Please enter an integer: \"))\n",
    "\n",
    "print(\"\")\n",
    "\n",
    "while x >= 0:\n",
    "    print(x)\n",
    "    x -= 1                     # this is the same as x = x - 1"
   ]
  },
  {
   "cell_type": "markdown",
   "metadata": {
    "collapsed": true
   },
   "source": [
    "### Modify the code to be a rocket launch count down!\n",
    "\n",
    "```\n",
    ">> Please enter an integer: 5\n",
    "\n",
    "T-Minus\n",
    "5\n",
    "T-Minus\n",
    "4\n",
    "T-Minus\n",
    "3\n",
    "T-Minus\n",
    "2\n",
    "T-Minus\n",
    "1\n",
    "T-Minus\n",
    "0\n",
    "Blast Off!\n",
    "```"
   ]
  },
  {
   "cell_type": "code",
   "execution_count": 3,
   "metadata": {},
   "outputs": [
    {
     "name": "stdout",
     "output_type": "stream",
     "text": [
      "Please enter an integer: 5\n",
      "\n",
      "T-Minus\n",
      "5\n",
      "T-Minus\n",
      "4\n",
      "T-Minus\n",
      "3\n",
      "T-Minus\n",
      "2\n",
      "T-Minus\n",
      "1\n",
      "T-Minus\n",
      "0\n",
      "Blast Off!\n"
     ]
    }
   ],
   "source": [
    "x = int(input(\"Please enter an integer: \"))\n",
    "\n",
    "print(\"\")\n",
    "\n",
    "while x >= 0:\n",
    "    print('T-Minus')\n",
    "    print(x)\n",
    "    x -= 1                     # this is the same as x = x - 1\n",
    "    \n",
    "print(\"Blast Off!\")"
   ]
  },
  {
   "cell_type": "markdown",
   "metadata": {
    "collapsed": true
   },
   "source": [
    "### Modify the code with a nested loop to make a square of the size that you specify in the beginning\n",
    "\n",
    "- Print the row number as many times as there are rows then count down to 0\n",
    "- So if I put in 5, i will get 5 rows from the outer loop and 6 columns from the inner loop\n",
    "- Hint it might make it easier to pseudocode this \n",
    "    * this means use comment to write \"# row loop\" and \"#column loop\" before you start\n",
    "    * you can also change variables to have informative names like \"row\" and \"col\" \n",
    "- Hint You can use print(\"\") to force a new line\n",
    "\n",
    "```\n",
    ">> Please enter an integer: 5\n",
    "\n",
    "5 4 3 2 1 0\n",
    "5 4 3 2 1 0 \n",
    "5 4 3 2 1 0\n",
    "5 4 3 2 1 0\n",
    "5 4 3 2 1 0\n",
    "```"
   ]
  },
  {
   "cell_type": "code",
   "execution_count": 1,
   "metadata": {},
   "outputs": [
    {
     "name": "stdout",
     "output_type": "stream",
     "text": [
      "Please enter an integer: 5\n",
      "\n",
      "5 4 3 2 1 0 \n",
      "\n",
      "5 4 3 2 1 0 \n",
      "\n",
      "5 4 3 2 1 0 \n",
      "\n",
      "5 4 3 2 1 0 \n",
      "\n",
      "5 4 3 2 1 0 \n",
      "\n"
     ]
    }
   ],
   "source": [
    "########################\n",
    "###### PSEUDOCODE ######\n",
    "########################\n",
    "# write your code under each comment\n",
    "\n",
    "# input size as x\n",
    "x = int(input(\"Please enter an integer: \"))\n",
    "\n",
    "print(\"\")\n",
    "\n",
    "# assign row=x\n",
    "row = x\n",
    "\n",
    "#row loop\n",
    "while row > 0:\n",
    "    row -= 1\n",
    "    \n",
    "    #assign col=x\n",
    "    col = x\n",
    "    \n",
    "    #column loop\n",
    "    while col > -1:\n",
    "        print(col, end=\" \")  # with the end= we are forcing print to end with a space rather than the normal return\n",
    "        col -= 1   \n",
    " \n",
    "    # '\\n' is the special character for a return. Here we are doing 2 returns: \n",
    "    # one with the \\n and one that is the normal ending for the print statement)\n",
    "    print(\"\\n\")  \n",
    "    \n",
    "# study question: why do we assign row outside the row loop but the col inside the row loop?"
   ]
  },
  {
   "cell_type": "markdown",
   "metadata": {
    "collapsed": true
   },
   "source": [
    "### Now combine the code to overlay ```$$``` on even number locations and ```__``` on odd number locations\n",
    "\n",
    "- You might think of this as a map of where a bot found some payoff on a square plot of land!\n",
    "\n",
    "The output would look something like this: \n",
    "\n",
    "```\n",
    ">> Please enter an integer: 5\n",
    "\n",
    "$$__$$__$$__\n",
    "$$__$$__$$__\n",
    "$$__$$__$$__\n",
    "$$__$$__$$__\n",
    "$$__$$__$$__\n",
    "```"
   ]
  },
  {
   "cell_type": "code",
   "execution_count": 5,
   "metadata": {},
   "outputs": [
    {
     "name": "stdout",
     "output_type": "stream",
     "text": [
      "Please enter an integer: 5\n",
      "\n",
      "$$__$$__$$__\n",
      "$$__$$__$$__\n",
      "$$__$$__$$__\n",
      "$$__$$__$$__\n",
      "$$__$$__$$__\n",
      "$$__$$__$$__\n"
     ]
    }
   ],
   "source": [
    "x = int(input(\"Please enter an integer: \"))\n",
    "\n",
    "print(\"\")\n",
    "\n",
    "# assign row=x\n",
    "row = x\n",
    "\n",
    "#row loop\n",
    "while row > -1:\n",
    "    row -= 1\n",
    "    \n",
    "    #assign col=x\n",
    "    col = x\n",
    "    \n",
    "    #column loop\n",
    "    while col > -1:\n",
    "        if col%2==0: \n",
    "            print ('__', end=\"\")\n",
    "        else:\n",
    "            print (\"$$\", end=\"\")\n",
    "        col -= 1   \n",
    " \n",
    "    print(\"\") "
   ]
  }
 ],
 "metadata": {
  "kernelspec": {
   "display_name": "Python 3",
   "language": "python",
   "name": "python3"
  },
  "language_info": {
   "codemirror_mode": {
    "name": "ipython",
    "version": 3
   },
   "file_extension": ".py",
   "mimetype": "text/x-python",
   "name": "python",
   "nbconvert_exporter": "python",
   "pygments_lexer": "ipython3",
   "version": "3.6.9"
  }
 },
 "nbformat": 4,
 "nbformat_minor": 2
}
