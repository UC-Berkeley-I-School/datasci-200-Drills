{
 "cells": [
  {
   "cell_type": "markdown",
   "metadata": {},
   "source": [
    "### Error Troubleshooting Drill\n",
    "\n",
    "In this exercise, we will walkthrough troubleshooting an error in a small program."
   ]
  },
  {
   "cell_type": "markdown",
   "metadata": {},
   "source": [
    "#### Program with logic errors\n",
    "\n",
    "The program below is suppose to check a U.S. zipcode to make sure it consists 5 numbers. As written it runs but doesnt provide the correct output.\n",
    "\n",
    "It should run and say if the zipcode is invalid or is valid. As seen below - I entered `abcde` which should be invalid but it doesn't print out anything. If you enter a valid zipcode like `12345` it also doesnt say that it is valid (or print out anything).\n",
    "\n",
    "Whats happening here?  How would we troubleshoot this?"
   ]
  },
  {
   "cell_type": "code",
   "execution_count": 11,
   "metadata": {},
   "outputs": [
    {
     "name": "stdout",
     "output_type": "stream",
     "text": [
      "Enter a zipcode to test: abcde\n"
     ]
    }
   ],
   "source": [
    "zipcode = input(\"Enter a zipcode to test: \")\n",
    "\n",
    "length = len(zipcode)\n",
    "valid = False\n",
    "\n",
    "# check to make sure the length is correct\n",
    "if length != 5:\n",
    "    print(f'The zipcode entered {zipcode} is not the required length. Please enter 5 digits.')\n",
    "\n",
    "else:\n",
    "    \n",
    "    # Set the index to 0 and then go through each character\n",
    "    # checking to make sure the characters are numeric\n",
    "    index = 0\n",
    "    while index != length:\n",
    "        \n",
    "        if zipcode[index] == 1 or 2 or 3 or 4 or 5 or 6  or 7 or 8 or 9 or 0:\n",
    "            index += 1\n",
    "            \n",
    "        else:\n",
    "            print(f'The zipcode is not valid because it contains the character \"{zipcode[index]}\"')\n",
    "            index = length\n",
    "            valid = False\n",
    "            \n",
    "if valid:\n",
    "    print(f'The zipcode {zipcode} is valid')"
   ]
  },
  {
   "cell_type": "markdown",
   "metadata": {},
   "source": [
    "### Troubleshoot the errors!\n",
    "\n",
    "Hints:\n",
    "- Use print statements to see what the variables contain\n",
    "- You wont need to add any lines; just need to fix the lines so that the logic is correct\n",
    "- There are (at least) two logic errors in the program to fix!"
   ]
  },
  {
   "cell_type": "code",
   "execution_count": 3,
   "metadata": {},
   "outputs": [
    {
     "name": "stdout",
     "output_type": "stream",
     "text": [
      "Enter a zipcode to test: abcde\n",
      "--------------------------------------------------\n",
      "Valid: False\n",
      "Index: 0\n",
      "length: 5\n",
      "zipcode[index]: a\n",
      "2\n",
      "Inside if statement\n",
      "--------------------------------------------------\n",
      "Valid: False\n",
      "Index: 1\n",
      "length: 5\n",
      "zipcode[index]: b\n",
      "2\n",
      "Inside if statement\n",
      "--------------------------------------------------\n",
      "Valid: False\n",
      "Index: 2\n",
      "length: 5\n",
      "zipcode[index]: c\n",
      "2\n",
      "Inside if statement\n",
      "--------------------------------------------------\n",
      "Valid: False\n",
      "Index: 3\n",
      "length: 5\n",
      "zipcode[index]: d\n",
      "2\n",
      "Inside if statement\n",
      "--------------------------------------------------\n",
      "Valid: False\n",
      "Index: 4\n",
      "length: 5\n",
      "zipcode[index]: e\n",
      "2\n",
      "Inside if statement\n"
     ]
    }
   ],
   "source": [
    "### Step 1 - adding print statements\n",
    "\n",
    "zipcode = input(\"Enter a zipcode to test: \")\n",
    "\n",
    "length = len(zipcode)\n",
    "valid = False\n",
    "\n",
    "# check to make sure the length is correct\n",
    "if length != 5:\n",
    "    print(f'The zipcode entered {zipcode} is not the required length. Please enter 5 digits.')\n",
    "\n",
    "else:\n",
    "    \n",
    "    # Set the index to 0 and then go through each character\n",
    "    # checking to make sure the characters are numeric\n",
    "    index = 0\n",
    "    while index != length:\n",
    "        print(\"-\"*50)\n",
    "        print(\"Valid:\", valid)\n",
    "        print(\"Index:\", index)\n",
    "        print(\"length:\", length)\n",
    "        print(\"zipcode[index]:\", zipcode[index])\n",
    "        print(zipcode[index] == 1 or 2 or 3 or 4 or 5 or 6  or 7 or 8 or 9 or 0)\n",
    "             \n",
    "        if zipcode[index] == 1 or 2 or 3 or 4 or 5 or 6  or 7 or 8 or 9 or 0:\n",
    "            print(\"Inside if statement\")\n",
    "            index += 1\n",
    "            \n",
    "        else:\n",
    "            print(\"Inside else statement\")\n",
    "            print(f'The zipcode is not valid because it contains the character \"{zipcode[index]}\"')\n",
    "            index = length\n",
    "            valid = False\n",
    "            \n",
    "if valid:\n",
    "    print(f'The zipcode {zipcode} is valid')"
   ]
  },
  {
   "cell_type": "markdown",
   "metadata": {},
   "source": [
    "#### Step 1 conclusions\n",
    "\n",
    "Conclusions from the debug printing statements:\n",
    "- Valid is False to start so the bottom part isn't going to print even on a valid zipcode\n",
    "- Indexing and length both seem to be working ok\n",
    "- The zipcode[index] also is iterating through the zipcode positions fine (its getting every positions and not going over)\n",
    "- The if statement is equating to a number - 2; this doesnt seem right and not as intended so maybe something with the if statement is wrong\n",
    "- The program also always goes inside the if statement no matter if the zip digit it a number or not. This also points the if statement if incorrect"
   ]
  },
  {
   "cell_type": "code",
   "execution_count": 5,
   "metadata": {},
   "outputs": [
    {
     "name": "stdout",
     "output_type": "stream",
     "text": [
      "Enter a zipcode to test: 12345\n",
      "--------------------------------------------------\n",
      "Valid: True\n",
      "Index: 0\n",
      "length: 5\n",
      "zipcode[index]: 1\n",
      "False\n",
      "Inside else statement\n",
      "The zipcode is not valid because it contains the character \"1\"\n"
     ]
    }
   ],
   "source": [
    "### Step 2 - code fixes\n",
    "\n",
    "zipcode = input(\"Enter a zipcode to test: \")\n",
    "\n",
    "length = len(zipcode)\n",
    "valid = True\n",
    "\n",
    "# check to make sure the length is correct\n",
    "if length != 5:\n",
    "    print(f'The zipcode entered {zipcode} is not the required length. Please enter 5 digits.')\n",
    "\n",
    "else:\n",
    "    \n",
    "    # Set the index to 0 and then go through each character\n",
    "    # checking to make sure the characters are numeric\n",
    "    index = 0\n",
    "    while index != length:\n",
    "        print(\"-\"*50)\n",
    "        print(\"Valid:\", valid)\n",
    "        print(\"Index:\", index)\n",
    "        print(\"length:\", length)\n",
    "        print(\"zipcode[index]:\", zipcode[index])\n",
    "        print(zipcode[index] in (1,2,3,4,5,6,7,8,9,0))\n",
    "             \n",
    "        if zipcode[index] in (1,2,3,4,5,6,7,8,9,0):\n",
    "            print(\"Inside if statement\")\n",
    "            index += 1\n",
    "            \n",
    "        else:\n",
    "            print(\"Inside else statement\")\n",
    "            print(f'The zipcode is not valid because it contains the character \"{zipcode[index]}\"')\n",
    "            index = length\n",
    "            valid = False\n",
    "            \n",
    "if valid:\n",
    "    print(f'The zipcode {zipcode} is valid')"
   ]
  },
  {
   "cell_type": "markdown",
   "metadata": {},
   "source": [
    "#### Step 2 conclusions\n",
    "\n",
    "I change the program in two locations:\n",
    "- Line 6: changed valid to default of True\n",
    "- Line 25: changed the if statement to check if the character is in the set of numbers. \n",
    "\n",
    "The code still isnt working - with a valid zip it goes to the else statement and stops"
   ]
  },
  {
   "cell_type": "code",
   "execution_count": 6,
   "metadata": {},
   "outputs": [
    {
     "name": "stdout",
     "output_type": "stream",
     "text": [
      "Enter a zipcode to test: 12345\n",
      "--------------------------------------------------\n",
      "Valid: True\n",
      "Index: 0\n",
      "length: 5\n",
      "zipcode[index]: 1\n",
      "<class 'str'>\n",
      "False\n",
      "Inside else statement\n",
      "The zipcode is not valid because it contains the character \"1\"\n"
     ]
    }
   ],
   "source": [
    "### Step 3 - adding additional print statements\n",
    "\n",
    "zipcode = input(\"Enter a zipcode to test: \")\n",
    "\n",
    "length = len(zipcode)\n",
    "valid = True\n",
    "\n",
    "# check to make sure the length is correct\n",
    "if length != 5:\n",
    "    print(f'The zipcode entered {zipcode} is not the required length. Please enter 5 digits.')\n",
    "\n",
    "else:\n",
    "    \n",
    "    # Set the index to 0 and then go through each character\n",
    "    # checking to make sure the characters are numeric\n",
    "    index = 0\n",
    "    while index != length:\n",
    "        print(\"-\"*50)\n",
    "        print(\"Valid:\", valid)\n",
    "        print(\"Index:\", index)\n",
    "        print(\"length:\", length)\n",
    "        print(\"zipcode[index]:\", zipcode[index])\n",
    "        print(type(zipcode[index]))\n",
    "        print(zipcode[index] in (1,2,3,4,5,6,7,8,9,0))\n",
    "             \n",
    "        if zipcode[index] in (1,2,3,4,5,6,7,8,9,0):\n",
    "            print(\"Inside if statement\")\n",
    "            index += 1\n",
    "            \n",
    "        else:\n",
    "            print(\"Inside else statement\")\n",
    "            print(f'The zipcode is not valid because it contains the character \"{zipcode[index]}\"')\n",
    "            index = length\n",
    "            valid = False\n",
    "            \n",
    "if valid:\n",
    "    print(f'The zipcode {zipcode} is valid')"
   ]
  },
  {
   "cell_type": "markdown",
   "metadata": {},
   "source": [
    "#### Step 3 conclusions\n",
    "\n",
    "I added one more print statement on line 23:\n",
    "`print(type(zipcode[index]))`\n",
    "\n",
    "This prints out the type of the zipcode[index] which turns out is a str - we are comparing it to ints so thats probably why it isn't working."
   ]
  },
  {
   "cell_type": "code",
   "execution_count": 7,
   "metadata": {},
   "outputs": [
    {
     "name": "stdout",
     "output_type": "stream",
     "text": [
      "Enter a zipcode to test: 12345\n",
      "--------------------------------------------------\n",
      "Valid: True\n",
      "Index: 0\n",
      "length: 5\n",
      "zipcode[index]: 1\n",
      "<class 'str'>\n",
      "False\n",
      "Inside if statement\n",
      "--------------------------------------------------\n",
      "Valid: True\n",
      "Index: 1\n",
      "length: 5\n",
      "zipcode[index]: 2\n",
      "<class 'str'>\n",
      "False\n",
      "Inside if statement\n",
      "--------------------------------------------------\n",
      "Valid: True\n",
      "Index: 2\n",
      "length: 5\n",
      "zipcode[index]: 3\n",
      "<class 'str'>\n",
      "False\n",
      "Inside if statement\n",
      "--------------------------------------------------\n",
      "Valid: True\n",
      "Index: 3\n",
      "length: 5\n",
      "zipcode[index]: 4\n",
      "<class 'str'>\n",
      "False\n",
      "Inside if statement\n",
      "--------------------------------------------------\n",
      "Valid: True\n",
      "Index: 4\n",
      "length: 5\n",
      "zipcode[index]: 5\n",
      "<class 'str'>\n",
      "False\n",
      "Inside if statement\n",
      "The zipcode 12345 is valid\n"
     ]
    }
   ],
   "source": [
    "### Step 4 - fix to if statement on line 26\n",
    "\n",
    "zipcode = input(\"Enter a zipcode to test: \")\n",
    "\n",
    "length = len(zipcode)\n",
    "valid = True\n",
    "\n",
    "# check to make sure the length is correct\n",
    "if length != 5:\n",
    "    print(f'The zipcode entered {zipcode} is not the required length. Please enter 5 digits.')\n",
    "\n",
    "else:\n",
    "    \n",
    "    # Set the index to 0 and then go through each character\n",
    "    # checking to make sure the characters are numeric\n",
    "    index = 0\n",
    "    while index != length:\n",
    "        print(\"-\"*50)\n",
    "        print(\"Valid:\", valid)\n",
    "        print(\"Index:\", index)\n",
    "        print(\"length:\", length)\n",
    "        print(\"zipcode[index]:\", zipcode[index])\n",
    "        print(type(zipcode[index]))\n",
    "        print(zipcode[index] in (1,2,3,4,5,6,7,8,9,0))\n",
    "             \n",
    "        if zipcode[index] in '1234567890':\n",
    "            print(\"Inside if statement\")\n",
    "            index += 1\n",
    "            \n",
    "        else:\n",
    "            print(\"Inside else statement\")\n",
    "            print(f'The zipcode is not valid because it contains the character \"{zipcode[index]}\"')\n",
    "            index = length\n",
    "            valid = False\n",
    "            \n",
    "if valid:\n",
    "    print(f'The zipcode {zipcode} is valid')"
   ]
  },
  {
   "cell_type": "markdown",
   "metadata": {},
   "source": [
    "#### Step 4 conclusions\n",
    "\n",
    "It looks like the code is now working!  Before we 'finalize' the program I'm going to delete the debug print statements. Please remember to delete your debug statements and commented out code before turning in your HW. "
   ]
  },
  {
   "cell_type": "code",
   "execution_count": 9,
   "metadata": {},
   "outputs": [
    {
     "name": "stdout",
     "output_type": "stream",
     "text": [
      "Enter a zipcode to test: abcde\n",
      "The zipcode is not valid because it contains the character \"a\"\n"
     ]
    }
   ],
   "source": [
    "# Final code\n",
    "\n",
    "zipcode = input(\"Enter a zipcode to test: \")\n",
    "\n",
    "length = len(zipcode)\n",
    "valid = True\n",
    "\n",
    "# check to make sure the length is correct\n",
    "if length != 5:\n",
    "    print(f'The zipcode entered {zipcode} is not the required length. Please enter 5 digits.')\n",
    "\n",
    "else:\n",
    "    \n",
    "    # Set the index to 0 and then go through each character\n",
    "    # checking to make sure the characters are numeric\n",
    "    index = 0\n",
    "    while index != length:\n",
    "             \n",
    "        if zipcode[index] in '1234567890':\n",
    "            index += 1\n",
    "            \n",
    "        else:\n",
    "            print(f'The zipcode is not valid because it contains the character \"{zipcode[index]}\"')\n",
    "            index = length\n",
    "            valid = False           \n",
    "\n",
    "if valid:\n",
    "    print(f'The zipcode {zipcode} is valid')"
   ]
  }
 ],
 "metadata": {
  "kernelspec": {
   "display_name": "Python 3",
   "language": "python",
   "name": "python3"
  },
  "language_info": {
   "codemirror_mode": {
    "name": "ipython",
    "version": 3
   },
   "file_extension": ".py",
   "mimetype": "text/x-python",
   "name": "python",
   "nbconvert_exporter": "python",
   "pygments_lexer": "ipython3",
   "version": "3.8.11"
  }
 },
 "nbformat": 4,
 "nbformat_minor": 4
}
