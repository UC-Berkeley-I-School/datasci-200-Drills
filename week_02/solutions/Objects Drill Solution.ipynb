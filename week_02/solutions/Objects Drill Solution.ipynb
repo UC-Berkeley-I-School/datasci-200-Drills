{
 "cells": [
  {
   "cell_type": "markdown",
   "metadata": {
    "collapsed": true
   },
   "source": [
    "# Starting Python and objects"
   ]
  },
  {
   "cell_type": "markdown",
   "metadata": {
    "collapsed": true
   },
   "source": [
    "###  Make the Nikola Tesla quote below into a single string using a mathematical symbols as shown in the async\n",
    "\n",
    "\n",
    "> \"The scientists of today\" \n",
    "\n",
    "> \"think deeply instead of clearly.\" \n",
    "\n",
    "> \"One must be sane to think clearly,\"\n",
    "\n",
    "> \"but one can think deeply and be\"\n",
    "\n",
    "> \"quite insane.\"\n",
    "\n",
    "\n",
    "- Why does python let us do math on strings?\n",
    "- Do all mathematical symbols operate on strings in python?"
   ]
  },
  {
   "cell_type": "code",
   "execution_count": 2,
   "metadata": {},
   "outputs": [
    {
     "data": {
      "text/plain": [
       "'The scientists of today think deeply instead of clearly. One must be sane to think clearly, but one can think deeply and be quite insane.'"
      ]
     },
     "execution_count": 2,
     "metadata": {},
     "output_type": "execute_result"
    }
   ],
   "source": [
    "a = \"The scientists of today\" \n",
    "s = \"think deeply instead of clearly.\" \n",
    "V = \"One must be sane to think clearly,\"\n",
    "w = \"but one can think deeply and be\"\n",
    "z = \"quite insane.\"\n",
    "\n",
    "######## your code here #######\n",
    "quote = a + \" \" + s + \" \" + V + \" \" + w + \" \" + z\n",
    "quote"
   ]
  },
  {
   "cell_type": "markdown",
   "metadata": {
    "collapsed": true
   },
   "source": [
    "### We will talk more about the Python name-space later but, for now, let's look at the \"local\" and \"global\" object space to see which objects are present\n",
    "\n",
    "Do you see the variables that you just put into the object space?\n",
    "\n",
    "Do you notice other objects?"
   ]
  },
  {
   "cell_type": "code",
   "execution_count": 3,
   "metadata": {},
   "outputs": [
    {
     "data": {
      "text/plain": [
       "{'__name__': '__main__',\n",
       " '__doc__': 'Automatically created module for IPython interactive environment',\n",
       " '__package__': None,\n",
       " '__loader__': None,\n",
       " '__spec__': None,\n",
       " '__builtin__': <module 'builtins' (built-in)>,\n",
       " '__builtins__': <module 'builtins' (built-in)>,\n",
       " '_ih': ['',\n",
       "  'a = \"The scientists of today\" \\ns = \"think deeply instead of clearly.\" \\nV = \"One must be sane to think clearly,\"\\nw = \"but one can think deeply and be\"\\nz = \"quite insane.\"\\n\\n######## your code here #######\\nquote = a + s + V + w + z\\nquote',\n",
       "  'a = \"The scientists of today\" \\ns = \"think deeply instead of clearly.\" \\nV = \"One must be sane to think clearly,\"\\nw = \"but one can think deeply and be\"\\nz = \"quite insane.\"\\n\\n######## your code here #######\\nquote = a + \" \" + s + \" \" + V + \" \" + w + \" \" + z\\nquote',\n",
       "  'locals()'],\n",
       " '_oh': {1: 'The scientists of todaythink deeply instead of clearly.One must be sane to think clearly,but one can think deeply and bequite insane.',\n",
       "  2: 'The scientists of today think deeply instead of clearly. One must be sane to think clearly, but one can think deeply and be quite insane.'},\n",
       " '_dh': ['C:\\\\Users\\\\cla\\\\Documents\\\\GitHub\\\\Drills\\\\week_02_drills_solutions'],\n",
       " 'In': ['',\n",
       "  'a = \"The scientists of today\" \\ns = \"think deeply instead of clearly.\" \\nV = \"One must be sane to think clearly,\"\\nw = \"but one can think deeply and be\"\\nz = \"quite insane.\"\\n\\n######## your code here #######\\nquote = a + s + V + w + z\\nquote',\n",
       "  'a = \"The scientists of today\" \\ns = \"think deeply instead of clearly.\" \\nV = \"One must be sane to think clearly,\"\\nw = \"but one can think deeply and be\"\\nz = \"quite insane.\"\\n\\n######## your code here #######\\nquote = a + \" \" + s + \" \" + V + \" \" + w + \" \" + z\\nquote',\n",
       "  'locals()'],\n",
       " 'Out': {1: 'The scientists of todaythink deeply instead of clearly.One must be sane to think clearly,but one can think deeply and bequite insane.',\n",
       "  2: 'The scientists of today think deeply instead of clearly. One must be sane to think clearly, but one can think deeply and be quite insane.'},\n",
       " 'get_ipython': <bound method InteractiveShell.get_ipython of <ipykernel.zmqshell.ZMQInteractiveShell object at 0x0000000004CDC470>>,\n",
       " 'exit': <IPython.core.autocall.ZMQExitAutocall at 0x4cfd828>,\n",
       " 'quit': <IPython.core.autocall.ZMQExitAutocall at 0x4cfd828>,\n",
       " '_': 'The scientists of today think deeply instead of clearly. One must be sane to think clearly, but one can think deeply and be quite insane.',\n",
       " '__': 'The scientists of todaythink deeply instead of clearly.One must be sane to think clearly,but one can think deeply and bequite insane.',\n",
       " '___': '',\n",
       " '_i': 'a = \"The scientists of today\" \\ns = \"think deeply instead of clearly.\" \\nV = \"One must be sane to think clearly,\"\\nw = \"but one can think deeply and be\"\\nz = \"quite insane.\"\\n\\n######## your code here #######\\nquote = a + \" \" + s + \" \" + V + \" \" + w + \" \" + z\\nquote',\n",
       " '_ii': 'a = \"The scientists of today\" \\ns = \"think deeply instead of clearly.\" \\nV = \"One must be sane to think clearly,\"\\nw = \"but one can think deeply and be\"\\nz = \"quite insane.\"\\n\\n######## your code here #######\\nquote = a + s + V + w + z\\nquote',\n",
       " '_iii': '',\n",
       " '_i1': 'a = \"The scientists of today\" \\ns = \"think deeply instead of clearly.\" \\nV = \"One must be sane to think clearly,\"\\nw = \"but one can think deeply and be\"\\nz = \"quite insane.\"\\n\\n######## your code here #######\\nquote = a + s + V + w + z\\nquote',\n",
       " 'a': 'The scientists of today',\n",
       " 's': 'think deeply instead of clearly.',\n",
       " 'V': 'One must be sane to think clearly,',\n",
       " 'w': 'but one can think deeply and be',\n",
       " 'z': 'quite insane.',\n",
       " 'quote': 'The scientists of today think deeply instead of clearly. One must be sane to think clearly, but one can think deeply and be quite insane.',\n",
       " '_1': 'The scientists of todaythink deeply instead of clearly.One must be sane to think clearly,but one can think deeply and bequite insane.',\n",
       " '_i2': 'a = \"The scientists of today\" \\ns = \"think deeply instead of clearly.\" \\nV = \"One must be sane to think clearly,\"\\nw = \"but one can think deeply and be\"\\nz = \"quite insane.\"\\n\\n######## your code here #######\\nquote = a + \" \" + s + \" \" + V + \" \" + w + \" \" + z\\nquote',\n",
       " '_2': 'The scientists of today think deeply instead of clearly. One must be sane to think clearly, but one can think deeply and be quite insane.',\n",
       " '_i3': 'locals()'}"
      ]
     },
     "execution_count": 3,
     "metadata": {},
     "output_type": "execute_result"
    }
   ],
   "source": [
    "locals()"
   ]
  },
  {
   "cell_type": "code",
   "execution_count": 4,
   "metadata": {},
   "outputs": [
    {
     "data": {
      "text/plain": [
       "{'__name__': '__main__',\n",
       " '__doc__': 'Automatically created module for IPython interactive environment',\n",
       " '__package__': None,\n",
       " '__loader__': None,\n",
       " '__spec__': None,\n",
       " '__builtin__': <module 'builtins' (built-in)>,\n",
       " '__builtins__': <module 'builtins' (built-in)>,\n",
       " '_ih': ['',\n",
       "  'a = \"The scientists of today\" \\ns = \"think deeply instead of clearly.\" \\nV = \"One must be sane to think clearly,\"\\nw = \"but one can think deeply and be\"\\nz = \"quite insane.\"\\n\\n######## your code here #######\\nquote = a + s + V + w + z\\nquote',\n",
       "  'a = \"The scientists of today\" \\ns = \"think deeply instead of clearly.\" \\nV = \"One must be sane to think clearly,\"\\nw = \"but one can think deeply and be\"\\nz = \"quite insane.\"\\n\\n######## your code here #######\\nquote = a + \" \" + s + \" \" + V + \" \" + w + \" \" + z\\nquote',\n",
       "  'locals()',\n",
       "  'globals()'],\n",
       " '_oh': {1: 'The scientists of todaythink deeply instead of clearly.One must be sane to think clearly,but one can think deeply and bequite insane.',\n",
       "  2: 'The scientists of today think deeply instead of clearly. One must be sane to think clearly, but one can think deeply and be quite insane.',\n",
       "  3: {...}},\n",
       " '_dh': ['C:\\\\Users\\\\cla\\\\Documents\\\\GitHub\\\\Drills\\\\week_02_drills_solutions'],\n",
       " 'In': ['',\n",
       "  'a = \"The scientists of today\" \\ns = \"think deeply instead of clearly.\" \\nV = \"One must be sane to think clearly,\"\\nw = \"but one can think deeply and be\"\\nz = \"quite insane.\"\\n\\n######## your code here #######\\nquote = a + s + V + w + z\\nquote',\n",
       "  'a = \"The scientists of today\" \\ns = \"think deeply instead of clearly.\" \\nV = \"One must be sane to think clearly,\"\\nw = \"but one can think deeply and be\"\\nz = \"quite insane.\"\\n\\n######## your code here #######\\nquote = a + \" \" + s + \" \" + V + \" \" + w + \" \" + z\\nquote',\n",
       "  'locals()',\n",
       "  'globals()'],\n",
       " 'Out': {1: 'The scientists of todaythink deeply instead of clearly.One must be sane to think clearly,but one can think deeply and bequite insane.',\n",
       "  2: 'The scientists of today think deeply instead of clearly. One must be sane to think clearly, but one can think deeply and be quite insane.',\n",
       "  3: {...}},\n",
       " 'get_ipython': <bound method InteractiveShell.get_ipython of <ipykernel.zmqshell.ZMQInteractiveShell object at 0x0000000004CDC470>>,\n",
       " 'exit': <IPython.core.autocall.ZMQExitAutocall at 0x4cfd828>,\n",
       " 'quit': <IPython.core.autocall.ZMQExitAutocall at 0x4cfd828>,\n",
       " '_': {...},\n",
       " '__': 'The scientists of today think deeply instead of clearly. One must be sane to think clearly, but one can think deeply and be quite insane.',\n",
       " '___': 'The scientists of todaythink deeply instead of clearly.One must be sane to think clearly,but one can think deeply and bequite insane.',\n",
       " '_i': 'locals()',\n",
       " '_ii': 'a = \"The scientists of today\" \\ns = \"think deeply instead of clearly.\" \\nV = \"One must be sane to think clearly,\"\\nw = \"but one can think deeply and be\"\\nz = \"quite insane.\"\\n\\n######## your code here #######\\nquote = a + \" \" + s + \" \" + V + \" \" + w + \" \" + z\\nquote',\n",
       " '_iii': 'a = \"The scientists of today\" \\ns = \"think deeply instead of clearly.\" \\nV = \"One must be sane to think clearly,\"\\nw = \"but one can think deeply and be\"\\nz = \"quite insane.\"\\n\\n######## your code here #######\\nquote = a + s + V + w + z\\nquote',\n",
       " '_i1': 'a = \"The scientists of today\" \\ns = \"think deeply instead of clearly.\" \\nV = \"One must be sane to think clearly,\"\\nw = \"but one can think deeply and be\"\\nz = \"quite insane.\"\\n\\n######## your code here #######\\nquote = a + s + V + w + z\\nquote',\n",
       " 'a': 'The scientists of today',\n",
       " 's': 'think deeply instead of clearly.',\n",
       " 'V': 'One must be sane to think clearly,',\n",
       " 'w': 'but one can think deeply and be',\n",
       " 'z': 'quite insane.',\n",
       " 'quote': 'The scientists of today think deeply instead of clearly. One must be sane to think clearly, but one can think deeply and be quite insane.',\n",
       " '_1': 'The scientists of todaythink deeply instead of clearly.One must be sane to think clearly,but one can think deeply and bequite insane.',\n",
       " '_i2': 'a = \"The scientists of today\" \\ns = \"think deeply instead of clearly.\" \\nV = \"One must be sane to think clearly,\"\\nw = \"but one can think deeply and be\"\\nz = \"quite insane.\"\\n\\n######## your code here #######\\nquote = a + \" \" + s + \" \" + V + \" \" + w + \" \" + z\\nquote',\n",
       " '_2': 'The scientists of today think deeply instead of clearly. One must be sane to think clearly, but one can think deeply and be quite insane.',\n",
       " '_i3': 'locals()',\n",
       " '_3': {...},\n",
       " '_i4': 'globals()'}"
      ]
     },
     "execution_count": 4,
     "metadata": {},
     "output_type": "execute_result"
    }
   ],
   "source": [
    "globals()"
   ]
  },
  {
   "cell_type": "markdown",
   "metadata": {},
   "source": [
    "There are some objects listed that you did not add. These are dunder (double underscore __) objects that come in when you load Python\n",
    "\n",
    "You can check the type of the __builtin__ by using type() like below:"
   ]
  },
  {
   "cell_type": "code",
   "execution_count": 5,
   "metadata": {},
   "outputs": [
    {
     "data": {
      "text/plain": [
       "module"
      ]
     },
     "execution_count": 5,
     "metadata": {},
     "output_type": "execute_result"
    }
   ],
   "source": [
    "type(__builtin__)"
   ]
  },
  {
   "cell_type": "markdown",
   "metadata": {},
   "source": [
    "```print``` is a built in function in Python - how would you get the type of ```print```?"
   ]
  },
  {
   "cell_type": "code",
   "execution_count": 6,
   "metadata": {},
   "outputs": [
    {
     "data": {
      "text/plain": [
       "builtin_function_or_method"
      ]
     },
     "execution_count": 6,
     "metadata": {},
     "output_type": "execute_result"
    }
   ],
   "source": [
    "type(print)"
   ]
  }
 ],
 "metadata": {
  "kernelspec": {
   "display_name": "Python 3",
   "language": "python",
   "name": "python3"
  },
  "language_info": {
   "codemirror_mode": {
    "name": "ipython",
    "version": 3
   },
   "file_extension": ".py",
   "mimetype": "text/x-python",
   "name": "python",
   "nbconvert_exporter": "python",
   "pygments_lexer": "ipython3",
   "version": "3.6.7"
  }
 },
 "nbformat": 4,
 "nbformat_minor": 2
}
