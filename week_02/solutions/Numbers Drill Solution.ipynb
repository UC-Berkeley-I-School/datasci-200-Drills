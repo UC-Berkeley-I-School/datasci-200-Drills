{
 "cells": [
  {
   "cell_type": "markdown",
   "metadata": {},
   "source": [
    "## Numbers \n",
    "- Lets take a long Float number and manipulate it"
   ]
  },
  {
   "cell_type": "code",
   "execution_count": 1,
   "metadata": {},
   "outputs": [],
   "source": [
    "# assign a long number to a variable\n",
    "\n",
    "LongNum = 1.0002312325310934384902321"
   ]
  },
  {
   "cell_type": "code",
   "execution_count": 2,
   "metadata": {},
   "outputs": [
    {
     "name": "stdout",
     "output_type": "stream",
     "text": [
      "1.000231e+00\n"
     ]
    }
   ],
   "source": [
    "# print it in scientfic notation; \n",
    "# - this uses string formatting which we cover later, for now this is how you do it:\n",
    "\n",
    "print('%e' % LongNum)"
   ]
  },
  {
   "cell_type": "markdown",
   "metadata": {},
   "source": [
    "### round LongNum to 5 decimal places; use round()\n",
    "\n",
    "- Python docs for round: https://docs.python.org/3/library/functions.html#round\n",
    "- Can also look up short tutorials online like this one: https://www.programiz.com/python-programming/methods/built-in/round\n"
   ]
  },
  {
   "cell_type": "code",
   "execution_count": 3,
   "metadata": {},
   "outputs": [
    {
     "data": {
      "text/plain": [
       "1.00023"
      ]
     },
     "execution_count": 3,
     "metadata": {},
     "output_type": "execute_result"
    }
   ],
   "source": [
    "round(LongNum, 5)"
   ]
  },
  {
   "cell_type": "markdown",
   "metadata": {},
   "source": [
    "### Typecast LongNum as an integer"
   ]
  },
  {
   "cell_type": "code",
   "execution_count": 4,
   "metadata": {},
   "outputs": [
    {
     "data": {
      "text/plain": [
       "1"
      ]
     },
     "execution_count": 4,
     "metadata": {},
     "output_type": "execute_result"
    }
   ],
   "source": [
    "int(LongNum)"
   ]
  },
  {
   "cell_type": "markdown",
   "metadata": {},
   "source": [
    "### Express LongNum as a binary; use bin() and you will need to typecast it also!\n",
    "- note the '0b' for binary"
   ]
  },
  {
   "cell_type": "code",
   "execution_count": 5,
   "metadata": {},
   "outputs": [
    {
     "data": {
      "text/plain": [
       "'0b1'"
      ]
     },
     "execution_count": 5,
     "metadata": {},
     "output_type": "execute_result"
    }
   ],
   "source": [
    "bin(int(LongNum))"
   ]
  },
  {
   "cell_type": "markdown",
   "metadata": {},
   "source": [
    "### Express LongNum as hexidecimal; use hex ()\n",
    "- note the '0x' for hexadecimal"
   ]
  },
  {
   "cell_type": "code",
   "execution_count": 6,
   "metadata": {},
   "outputs": [
    {
     "data": {
      "text/plain": [
       "'0x1'"
      ]
     },
     "execution_count": 6,
     "metadata": {},
     "output_type": "execute_result"
    }
   ],
   "source": [
    "hex(int(LongNum))"
   ]
  },
  {
   "cell_type": "markdown",
   "metadata": {},
   "source": [
    "### From the async this does not work as expected:\n",
    "\n",
    "```\n",
    "> 1.1 + 1.1 + 1.1 == 3.3\n",
    "> False\n",
    "```\n",
    "\n",
    "- Why? Can you think of a way to fix this?\n",
    "- Hint: using round() in various ways and check the output"
   ]
  },
  {
   "cell_type": "code",
   "execution_count": 7,
   "metadata": {},
   "outputs": [
    {
     "data": {
      "text/plain": [
       "False"
      ]
     },
     "execution_count": 7,
     "metadata": {},
     "output_type": "execute_result"
    }
   ],
   "source": [
    "1.1 + 1.1 + 1.1 == 3.3"
   ]
  },
  {
   "cell_type": "code",
   "execution_count": 8,
   "metadata": {},
   "outputs": [
    {
     "data": {
      "text/plain": [
       "False"
      ]
     },
     "execution_count": 8,
     "metadata": {},
     "output_type": "execute_result"
    }
   ],
   "source": [
    "# Cant round each one - as the output still has a floating point error!\n",
    "\n",
    "round(1.1, 2) + round(1.1, 2) + round(1.1, 2) == 3.3 "
   ]
  },
  {
   "cell_type": "code",
   "execution_count": 9,
   "metadata": {},
   "outputs": [
    {
     "data": {
      "text/plain": [
       "True"
      ]
     },
     "execution_count": 9,
     "metadata": {},
     "output_type": "execute_result"
    }
   ],
   "source": [
    "# Can round each one and then round the output though\n",
    "\n",
    "round(round(1.1, 2) + round(1.1, 2) + round(1.1, 2),2) == 3.3"
   ]
  },
  {
   "cell_type": "code",
   "execution_count": 10,
   "metadata": {},
   "outputs": [
    {
     "data": {
      "text/plain": [
       "True"
      ]
     },
     "execution_count": 10,
     "metadata": {},
     "output_type": "execute_result"
    }
   ],
   "source": [
    "# Or preferrably just round the output!\n",
    "\n",
    "round((1.1 + 1.1 + 1.1),2) == 3.3 "
   ]
  },
  {
   "cell_type": "markdown",
   "metadata": {},
   "source": [
    "### Short Program\n",
    "\n",
    "Make a short program to calculate the circumference and area of a circle.\n",
    "- Circumference formula: 2$\\pi$r\n",
    "- Area formula: $\\pi$r<sup>2</sup>"
   ]
  },
  {
   "cell_type": "code",
   "execution_count": 3,
   "metadata": {},
   "outputs": [
    {
     "name": "stdout",
     "output_type": "stream",
     "text": [
      "Enter the radius of the circle: 4\n",
      "The radius of the circle is: 4.0\n",
      "The circumference of the circle is: 25.13\n",
      "The area of the circle is: 25.13\n"
     ]
    }
   ],
   "source": [
    "# Add whatever value of `r` that you want to demonstrate\n",
    "r = float(input(\"Enter the radius of the circle: \"))\n",
    "\n",
    "pi = 3.14159265\n",
    "# Add the circumference formula here:\n",
    "circ = 2 * pi * r\n",
    "\n",
    "# Add the area of circle formula here:\n",
    "area = pi * (r ** 2)\n",
    "\n",
    "# The following will print out the answers!\n",
    "print(f'The radius of the circle is: {r}')\n",
    "print(f'The circumference of the circle is: {circ:0.2f}')\n",
    "print(f'The area of the circle is: {area:.2f}')"
   ]
  }
 ],
 "metadata": {
  "kernelspec": {
   "display_name": "Python 3",
   "language": "python",
   "name": "python3"
  },
  "language_info": {
   "codemirror_mode": {
    "name": "ipython",
    "version": 3
   },
   "file_extension": ".py",
   "mimetype": "text/x-python",
   "name": "python",
   "nbconvert_exporter": "python",
   "pygments_lexer": "ipython3",
   "version": "3.8.11"
  }
 },
 "nbformat": 4,
 "nbformat_minor": 2
}
