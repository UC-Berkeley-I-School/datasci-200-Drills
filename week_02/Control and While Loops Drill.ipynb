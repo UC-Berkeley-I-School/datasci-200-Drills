{
 "cells": [
  {
   "cell_type": "markdown",
   "metadata": {},
   "source": [
    "## Control (if & while) statements"
   ]
  },
  {
   "cell_type": "markdown",
   "metadata": {
    "collapsed": true
   },
   "source": [
    "### Lets say you are searching for odd numbers in a dataset, write code that gives a reinforcing signal when you find an odd number but nothing when you find an even number\n",
    "\n",
    "- Have the program ask for a number using ```input``` \n",
    "- Test whether it is even or odd using the modulus ```%``` as show in the async\n",
    "- If it is even print ```__```\n",
    "- If it is odd print ```$$```\n",
    "- Hint: make sure your ```input``` has the correct type"
   ]
  },
  {
   "cell_type": "code",
   "execution_count": null,
   "metadata": {},
   "outputs": [],
   "source": [
    "# your code here"
   ]
  },
  {
   "cell_type": "markdown",
   "metadata": {},
   "source": [
    "###  As shown in the async, use input() and a while loop to print a column of numbers starting at the number inputted and counting down to 0.\n",
    "\n",
    "Example:\n",
    "```\n",
    ">> Please enter an integer: 5\n",
    "\n",
    "5 \n",
    "4 \n",
    "3 \n",
    "2 \n",
    "1 \n",
    "0 \n",
    "```\n",
    "\n",
    "\n"
   ]
  },
  {
   "cell_type": "code",
   "execution_count": null,
   "metadata": {},
   "outputs": [],
   "source": [
    "#your code here"
   ]
  },
  {
   "cell_type": "markdown",
   "metadata": {
    "collapsed": true
   },
   "source": [
    "### Modify the code to be a rocket launch count down!\n",
    "\n",
    "```\n",
    ">> Please enter an integer: 5\n",
    "\n",
    "T-Minus\n",
    "5\n",
    "T-Minus\n",
    "4\n",
    "T-Minus\n",
    "3\n",
    "T-Minus\n",
    "2\n",
    "T-Minus\n",
    "1\n",
    "T-Minus\n",
    "0\n",
    "Blast Off!\n",
    "```"
   ]
  },
  {
   "cell_type": "code",
   "execution_count": null,
   "metadata": {},
   "outputs": [],
   "source": [
    "# your code here"
   ]
  },
  {
   "cell_type": "markdown",
   "metadata": {
    "collapsed": true
   },
   "source": [
    "### Modify the code with a nested loop to make a square of the size that you specify in the beginning\n",
    "\n",
    "- Print the row number as many times as there are rows then count down to 0\n",
    "- So if I put in 5, i will get 5 rows from the outer loop and 6 columns from the inner loop\n",
    "- Hint it might make it easier to pseudocode this \n",
    "    * this means use comment to write \"# row loop\" and \"#column loop\" before you start\n",
    "    * you can also change variables to have informative names like \"row\" and \"col\" \n",
    "- Hint You can use print(\"\") to force a new line\n",
    "\n",
    "```\n",
    ">> Please enter an integer: 5\n",
    "\n",
    "5 4 3 2 1 0\n",
    "5 4 3 2 1 0 \n",
    "5 4 3 2 1 0\n",
    "5 4 3 2 1 0\n",
    "5 4 3 2 1 0\n",
    "```"
   ]
  },
  {
   "cell_type": "code",
   "execution_count": null,
   "metadata": {},
   "outputs": [],
   "source": [
    "########################\n",
    "###### PSEUDOCODE ######\n",
    "########################\n",
    "# write your code under each comment\n",
    "\n",
    "# input size as x\n",
    "# assign row=x\n",
    "\n",
    "#row loop\n",
    "    #assign col=x\n",
    "    #column loop\n",
    "\n",
    "# study question: why do we assign row outside the row loop but the col inside the row loop?"
   ]
  },
  {
   "cell_type": "markdown",
   "metadata": {
    "collapsed": true
   },
   "source": [
    "### Now combine the code to overlay ```$$``` on odd number locations and ```__``` on even number locations\n",
    "\n",
    "- You might think of this as a map of where a bot found some payoff on a square plot of land!\n",
    "\n",
    "The output would look something like this: \n",
    "\n",
    "```\n",
    ">> Please enter an integer: 5\n",
    "\n",
    "$$__$$__$$__\n",
    "$$__$$__$$__\n",
    "$$__$$__$$__\n",
    "$$__$$__$$__\n",
    "$$__$$__$$__\n",
    "```"
   ]
  },
  {
   "cell_type": "code",
   "execution_count": null,
   "metadata": {},
   "outputs": [],
   "source": [
    "# your code here"
   ]
  }
 ],
 "metadata": {
  "kernelspec": {
   "display_name": "Python 3",
   "language": "python",
   "name": "python3"
  },
  "language_info": {
   "codemirror_mode": {
    "name": "ipython",
    "version": 3
   },
   "file_extension": ".py",
   "mimetype": "text/x-python",
   "name": "python",
   "nbconvert_exporter": "python",
   "pygments_lexer": "ipython3",
   "version": "3.6.9"
  }
 },
 "nbformat": 4,
 "nbformat_minor": 2
}
