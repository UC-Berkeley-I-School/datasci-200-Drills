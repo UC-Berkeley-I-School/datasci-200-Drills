{
 "cells": [
  {
   "cell_type": "markdown",
   "metadata": {},
   "source": [
    "### Regular Expressions\n",
    "\n",
    "Sample answers are in a separate folder with an explanation (there might be multiple ways to solve a problem though!)"
   ]
  },
  {
   "cell_type": "markdown",
   "metadata": {},
   "source": [
    "1. Using the sample text below and regular expressions find the place where the world 'involuntarily' appears (find the string slice)."
   ]
  },
  {
   "cell_type": "code",
   "execution_count": 1,
   "metadata": {},
   "outputs": [],
   "source": [
    "text = \"\"\"Call me Ishmael. Some years ago - never mind how long precisely - having little or no money in my purse, \n",
    "and nothing particular to interest me on shore, I thought I would sail about a little and see the watery \n",
    "part of the world. It is a way I have of driving off the spleen and regulating the circulation. \n",
    "Whenever I find myself growing grim about the mouth; whenever it is a damp, drizzly November in my soul; \n",
    "whenever I find myself involuntarily pausing before coffin warehouses, and bringing up the rear of every funeral I meet; \n",
    "and especially whenever my hypos get such an upper hand of me, that it requires a strong moral principle to prevent me \n",
    "from deliberately stepping into the street, and methodically knocking people's hats off - then, \n",
    "I account it high time to get to sea as soon as I can. This is my substitute for pistol and ball. \n",
    "With a philosophical flourish Cato throws himself upon his sword; I quietly take to the ship. \n",
    "There is nothing surprising in this. If they but knew it, almost all men in their degree, some time or other, \n",
    "cherish very nearly the same feelings towards the ocean with me.\"\"\"\n",
    "\n"
   ]
  },
  {
   "cell_type": "code",
   "execution_count": null,
   "metadata": {},
   "outputs": [],
   "source": []
  },
  {
   "cell_type": "markdown",
   "metadata": {},
   "source": [
    "2. Using the text from 9.7.1 above find how many times the word 'I' is used."
   ]
  },
  {
   "cell_type": "code",
   "execution_count": null,
   "metadata": {},
   "outputs": [],
   "source": []
  },
  {
   "cell_type": "markdown",
   "metadata": {},
   "source": [
    "3. Using regular expressions and the pay_list below, find the counts of how people paid. That is, get the count of each of  these codes: \n",
    "\n",
    "```O = Online, P = Phone, Cash = Cash, CC = Credit Card ```"
   ]
  },
  {
   "cell_type": "code",
   "execution_count": 2,
   "metadata": {
    "scrolled": true
   },
   "outputs": [],
   "source": [
    "pay_list = ['O[SGC] Paid $123.34', 'Cash - $150.00 - ABC', 'O[ABC] Paid $230.23', 'P[rjf@abc.net] paid 321.12', \n",
    "            'O[CGR] Paid $967.21', 'CC[ajk] 245.34', 'P[abc@rjf.net] paid 161.13', 'Cash - $100.00 - rjf', \n",
    "            'Cash - $100.00 - gun', 'O[DYTC] Paid $199.99', 'O[ABC] Paid $123.93', 'P[dtc@dtc.com]  paid 109.56',\n",
    "            'CC[ABC] 186.70', 'CC[CGC] 995.95', 'Cash - $125.00 - pal']\n",
    "            "
   ]
  },
  {
   "cell_type": "code",
   "execution_count": null,
   "metadata": {},
   "outputs": [],
   "source": []
  },
  {
   "cell_type": "markdown",
   "metadata": {
    "collapsed": true
   },
   "source": [
    "4. Using regular expressions and the pay_list from above, find the total amount of money that was paid. "
   ]
  },
  {
   "cell_type": "code",
   "execution_count": null,
   "metadata": {},
   "outputs": [],
   "source": []
  }
 ],
 "metadata": {
  "kernelspec": {
   "display_name": "Python 3",
   "language": "python",
   "name": "python3"
  },
  "language_info": {
   "codemirror_mode": {
    "name": "ipython",
    "version": 3
   },
   "file_extension": ".py",
   "mimetype": "text/x-python",
   "name": "python",
   "nbconvert_exporter": "python",
   "pygments_lexer": "ipython3",
   "version": "3.8.11"
  }
 },
 "nbformat": 4,
 "nbformat_minor": 2
}
