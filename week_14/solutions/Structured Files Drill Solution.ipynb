{
 "cells": [
  {
   "cell_type": "markdown",
   "metadata": {},
   "source": [
    "### Structured Files Drill\n",
    "\n",
    "Sample answers are in a separate folder with an explanation (there might be multiple ways to solve a problem though!)"
   ]
  },
  {
   "cell_type": "markdown",
   "metadata": {},
   "source": [
    "1. Open the file 'File_910.txt' and print the contents."
   ]
  },
  {
   "cell_type": "code",
   "execution_count": 1,
   "metadata": {},
   "outputs": [
    {
     "name": "stdout",
     "output_type": "stream",
     "text": [
      "It was the best of times, \n",
      "it was the worst of times, \n",
      "it was the age of wisdom, \n",
      "it was the age of foolishness, \n",
      "it was the epoch of belief, \n",
      "it was the epoch of incredulity, \n",
      "it was the season of Light, \n",
      "it was the season of Darkness, \n",
      "it was the spring of hope, \n",
      "it was the winter of despair, \n",
      "we had everything before us, \n",
      "we had nothing before us, \n",
      "we were all going direct to Heaven, \n",
      "we were all going direct the other way – in short, \n",
      "the period was so far like the present period, \n",
      "that some of its noisiest authorities insisted on its being received, \n",
      "for good or for evil, \n",
      "in the superlative degree of comparison only.\n",
      "A Tale of Two Cities by Charles Dickens\n"
     ]
    }
   ],
   "source": [
    "file_read = open('File_910.txt', 'rt')\n",
    "contents = file_read.read()\n",
    "file_read.close()\n",
    "print(contents)    "
   ]
  },
  {
   "cell_type": "markdown",
   "metadata": {},
   "source": [
    "2. Append the line below to the file."
   ]
  },
  {
   "cell_type": "code",
   "execution_count": 2,
   "metadata": {},
   "outputs": [],
   "source": [
    "new_line = '''\\nA Tale of Two Cities by Charles Dickens'''"
   ]
  },
  {
   "cell_type": "code",
   "execution_count": 3,
   "metadata": {},
   "outputs": [],
   "source": [
    "file = open('File_910.txt', 'at')\n",
    "file.write(new_line)\n",
    "file_read.close()"
   ]
  },
  {
   "cell_type": "markdown",
   "metadata": {},
   "source": [
    "3. From your newly created file, open it and count how many commas the file contains."
   ]
  },
  {
   "cell_type": "code",
   "execution_count": 4,
   "metadata": {
    "scrolled": true
   },
   "outputs": [
    {
     "name": "stdout",
     "output_type": "stream",
     "text": [
      "# of commas: 17\n"
     ]
    }
   ],
   "source": [
    "import re\n",
    "\n",
    "# Open the file and grab the contents\n",
    "file_read = open('File_910.txt', 'rt')\n",
    "contents = file_read.read()\n",
    "file_read.close()\n",
    "\n",
    "# I used the RE library from the last lecture but you could also \n",
    "# loop through the characters to find the commas\n",
    "comp = re.compile(',')\n",
    "result = comp.findall(contents)\n",
    "print('# of commas:',len(result))"
   ]
  },
  {
   "cell_type": "markdown",
   "metadata": {
    "collapsed": true
   },
   "source": [
    "4. Open the file 'spills.csv' which shows the numbers of Oil and Gas Spills in Colorado per year.  What are the total number of spills recorded?"
   ]
  },
  {
   "cell_type": "code",
   "execution_count": 5,
   "metadata": {},
   "outputs": [
    {
     "name": "stdout",
     "output_type": "stream",
     "text": [
      "Total # of spills: 7819\n"
     ]
    }
   ],
   "source": [
    "import csv\n",
    "\n",
    "# open the csv and read in the contents\n",
    "spills_csv = open('spills.csv', 'rt')\n",
    "spills = csv.reader(spills_csv)\n",
    "\n",
    "# This is a bit of a hacky way to skip the headers\n",
    "\n",
    "total = -1\n",
    "for row in spills:\n",
    "    \n",
    "    # We know the first line is a header so we can skip it like this \n",
    "    # or use a try:except \n",
    "    # there are more elegant ways of skipping the first line\n",
    "    if total == -1:\n",
    "        total = 0\n",
    "        continue\n",
    "    total += int(row[1])\n",
    "\n",
    "print('Total # of spills:', total)"
   ]
  },
  {
   "cell_type": "markdown",
   "metadata": {},
   "source": [
    "5. From the spills.csv file what company appears the most as the company with the most number of spills in a year?"
   ]
  },
  {
   "cell_type": "code",
   "execution_count": 6,
   "metadata": {},
   "outputs": [
    {
     "name": "stdout",
     "output_type": "stream",
     "text": [
      "('KERR MCGEE OIL & GAS', 9)\n"
     ]
    }
   ],
   "source": [
    "import csv\n",
    "from collections import defaultdict\n",
    "\n",
    "\n",
    "# open the csv and read in the contents\n",
    "spills_csv = open('spills.csv', 'rt')\n",
    "spills = csv.reader(spills_csv)\n",
    "\n",
    "# Skip the first line of headers\n",
    "# Using a defaultdict to count each instance of a company\n",
    "company_dict = defaultdict(int)\n",
    "header = True\n",
    "\n",
    "for row in spills:\n",
    "    \n",
    "    # skip the header again\n",
    "    if header:\n",
    "        header = False\n",
    "        continue\n",
    "    \n",
    "    # Add each to a count each instance of the company name\n",
    "    company_dict[row[2]] += 1\n",
    "\n",
    "# sort the company names by count - print off the last one \n",
    "\n",
    "sorted_dict = sorted(company_dict.items(), key=lambda kv: kv[1])\n",
    "print(sorted_dict.pop())"
   ]
  },
  {
   "cell_type": "markdown",
   "metadata": {},
   "source": [
    "6. Add the following 2018 data: \n",
    "\n",
    "```2018 301 NOBLE ENERGY 87```"
   ]
  },
  {
   "cell_type": "code",
   "execution_count": 7,
   "metadata": {},
   "outputs": [],
   "source": [
    "# Slightly different format using the with open and then writing the line\n",
    "\n",
    "with open('spills.csv','at') as spills:\n",
    "    spills.write('2018, 301, NOBLE ENERGY, 87')"
   ]
  },
  {
   "cell_type": "markdown",
   "metadata": {},
   "source": [
    "7. Save the file in .json format."
   ]
  },
  {
   "cell_type": "code",
   "execution_count": 9,
   "metadata": {},
   "outputs": [
    {
     "name": "stdout",
     "output_type": "stream",
     "text": [
      "[{\"Year\": 1999,\"Total_Spills\": 188,\"Top_Company\": \"CHEVRON USA \",\"Spills_By_Top_Company\": 87},{\"Year\": 2000,\"Total_Spills\": 274,\"Top_Company\": \"HS RESOURCES \",\"Spills_By_Top_Company\": 78},{\"Year\": 2001,\"Total_Spills\": 203,\"Top_Company\": \"HS RESOURCES \",\"Spills_By_Top_Company\": 39},{\"Year\": 2002,\"Total_Spills\": 212,\"Top_Company\": \"KERR MCGEE OIL & GAS\",\"Spills_By_Top_Company\": 36},{\"Year\": 2003,\"Total_Spills\": 227,\"Top_Company\": \"KERR MCGEE OIL & GAS\",\"Spills_By_Top_Company\": 36},{\"Year\": 2004,\"Total_Spills\": 227,\"Top_Company\": \"KERR MCGEE OIL & GAS\",\"Spills_By_Top_Company\": 43},{\"Year\": 2005,\"Total_Spills\": 324,\"Top_Company\": \"KERR MCGEE OIL & GAS\",\"Spills_By_Top_Company\": 50},{\"Year\": 2006,\"Total_Spills\": 342,\"Top_Company\": \"CHEVRON USA \",\"Spills_By_Top_Company\": 57},{\"Year\": 2007,\"Total_Spills\": 333,\"Top_Company\": \"KERR MCGEE OIL & GAS\",\"Spills_By_Top_Company\": 52},{\"Year\": 2008,\"Total_Spills\": 426,\"Top_Company\": \"KERR MCGEE OIL & GAS\",\"Spills_By_Top_Company\": 60},{\"Year\": 2009,\"Total_Spills\": 384,\"Top_Company\": \"KERR MCGEE OIL & GAS\",\"Spills_By_Top_Company\": 54},{\"Year\": 2010,\"Total_Spills\": 497,\"Top_Company\": \"NOBLE ENERGY\",\"Spills_By_Top_Company\": 79},{\"Year\": 2011,\"Total_Spills\": 526,\"Top_Company\": \"ENCANA OIL & GAS (USA) \",\"Spills_By_Top_Company\": 73},{\"Year\": 2012,\"Total_Spills\": 408,\"Top_Company\": \"NOBLE ENERGY\",\"Spills_By_Top_Company\": 72},{\"Year\": 2013,\"Total_Spills\": 594,\"Top_Company\": \"NOBLE ENERGY\",\"Spills_By_Top_Company\": 108},{\"Year\": 2014,\"Total_Spills\": 845,\"Top_Company\": \"NOBLE ENERGY\",\"Spills_By_Top_Company\": 137},{\"Year\": 2015,\"Total_Spills\": 656,\"Top_Company\": \"KERR MCGEE OIL & GAS\",\"Spills_By_Top_Company\": 88},{\"Year\": 2016,\"Total_Spills\": 535,\"Top_Company\": \"NOBLE ENERGY\",\"Spills_By_Top_Company\": 83},{\"Year\": 2017,\"Total_Spills\": 618,\"Top_Company\": \"KERR MCGEE OIL & GAS\",\"Spills_By_Top_Company\": 98},{\"Year\": 2018,\"Total_Spills\": 301,\"Top_Company\": \" NOBLE ENERGY\",\"Spills_By_Top_Company\": 87}]\n"
     ]
    }
   ],
   "source": [
    "import json\n",
    "import csv\n",
    "\n",
    "# open the csv and read in the contents\n",
    "spills_csv = open('spills.csv', 'rt')\n",
    "spills = csv.reader(spills_csv)\n",
    "\n",
    "\n",
    "# The hard part is to get the format correct to a json style\n",
    "# I'm doing this the very manual way of making a large string of all the values\n",
    "\n",
    "json_str = '['\n",
    "header = False\n",
    "for row in spills:\n",
    "    if not header:\n",
    "        header = row\n",
    "        continue\n",
    "    json_str += '{\"' + str(header[0][3:]) + '\": ' + str(row[0]) + ',' \n",
    "    json_str += '\"' + str(header[1]) + '\": ' + str(row[1]) + ',' \n",
    "    json_str += '\"' + str(header[2]) + '\": \"' + str(row[2]) + '\",' \n",
    "    json_str += '\"' + str(header[3]) + '\": ' + str(row[3]) + '},' \n",
    "    \n",
    "json_str = json_str[:-1]\n",
    "json_str += ']'\n",
    "print(json_str)\n",
    "json_file = open('spills.json', 'wt')\n",
    "json_file.write(json_str)\n",
    "json_file.close()"
   ]
  }
 ],
 "metadata": {
  "kernelspec": {
   "display_name": "Python 3",
   "language": "python",
   "name": "python3"
  },
  "language_info": {
   "codemirror_mode": {
    "name": "ipython",
    "version": 3
   },
   "file_extension": ".py",
   "mimetype": "text/x-python",
   "name": "python",
   "nbconvert_exporter": "python",
   "pygments_lexer": "ipython3",
   "version": "3.8.11"
  }
 },
 "nbformat": 4,
 "nbformat_minor": 2
}
