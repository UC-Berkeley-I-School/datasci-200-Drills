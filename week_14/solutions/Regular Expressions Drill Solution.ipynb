{
 "cells": [
  {
   "cell_type": "markdown",
   "metadata": {},
   "source": [
    "### Regular Expressions\n",
    "\n",
    "Sample answers are in a separate folder with an explanation (there might be multiple ways to solve a problem though!)"
   ]
  },
  {
   "cell_type": "markdown",
   "metadata": {},
   "source": [
    "1. Using the sample text below and regular expressions find the place where the world 'involuntarily' appears (find the string slice)."
   ]
  },
  {
   "cell_type": "code",
   "execution_count": 1,
   "metadata": {},
   "outputs": [],
   "source": [
    "text = \"\"\"Call me Ishmael. Some years ago - never mind how long precisely - having little or no money in my purse, \n",
    "and nothing particular to interest me on shore, I thought I would sail about a little and see the watery \n",
    "part of the world. It is a way I have of driving off the spleen and regulating the circulation. \n",
    "Whenever I find myself growing grim about the mouth; whenever it is a damp, drizzly November in my soul; \n",
    "whenever I find myself involuntarily pausing before coffin warehouses, and bringing up the rear of every funeral I meet; \n",
    "and especially whenever my hypos get such an upper hand of me, that it requires a strong moral principle to prevent me \n",
    "from deliberately stepping into the street, and methodically knocking people's hats off - then, \n",
    "I account it high time to get to sea as soon as I can. This is my substitute for pistol and ball. \n",
    "With a philosophical flourish Cato throws himself upon his sword; I quietly take to the ship. \n",
    "There is nothing surprising in this. If they but knew it, almost all men in their degree, some time or other, \n",
    "cherish very nearly the same feelings towards the ocean with me.\"\"\"\n",
    "\n"
   ]
  },
  {
   "cell_type": "code",
   "execution_count": 2,
   "metadata": {},
   "outputs": [
    {
     "name": "stdout",
     "output_type": "stream",
     "text": [
      "<_sre.SRE_Match object; span=(438, 451), match='involuntarily'>\n"
     ]
    }
   ],
   "source": [
    "import re\n",
    "comp = re.compile(\"involuntarily\")\n",
    "result = comp.search(text)\n",
    "print(result)"
   ]
  },
  {
   "cell_type": "markdown",
   "metadata": {},
   "source": [
    "2. Using the text from 9.7.1 above find how many times the word 'I' is used."
   ]
  },
  {
   "cell_type": "code",
   "execution_count": 3,
   "metadata": {},
   "outputs": [
    {
     "name": "stdout",
     "output_type": "stream",
     "text": [
      "9\n"
     ]
    }
   ],
   "source": [
    "# If you do just 'I' it gets all the words that start with a capital 'I' like the 'It' and 'Ishmael'.\n",
    "comp = re.compile('I ')\n",
    "result = comp.findall(text)\n",
    "print(len(result))"
   ]
  },
  {
   "cell_type": "markdown",
   "metadata": {},
   "source": [
    "3. Using regular expressions and the pay_list below, find the counts of how people paid. That is, get the count of each of  these codes: \n",
    "\n",
    "```O = Online, P = Phone, Cash = Cash, CC = Credit Card ```"
   ]
  },
  {
   "cell_type": "code",
   "execution_count": 4,
   "metadata": {
    "scrolled": true
   },
   "outputs": [],
   "source": [
    "pay_list = ['O[SGC] Paid $123.34', 'Cash - $150.00 - ABC', 'O[ABC] Paid $230.23', 'P[rjf@abc.net] paid 321.12', \n",
    "            'O[CGR] Paid $967.21', 'CC[ajk] 245.34', 'P[abc@rjf.net] paid 161.13', 'Cash - $100.00 - rjf', \n",
    "            'Cash - $100.00 - gun', 'O[DYTC] Paid $199.99', 'O[ABC] Paid $123.93', 'P[dtc@dtc.com]  paid 109.56',\n",
    "            'CC[ABC] 186.70', 'CC[CGC] 995.95', 'Cash - $125.00 - pal']\n",
    "            "
   ]
  },
  {
   "cell_type": "code",
   "execution_count": 5,
   "metadata": {},
   "outputs": [
    {
     "name": "stdout",
     "output_type": "stream",
     "text": [
      "defaultdict(<class 'int'>, {'O': 5, 'Cash': 4, 'P': 3, 'CC': 3})\n"
     ]
    }
   ],
   "source": [
    "# Using defaultdict to setup a dictionary - it doesnt give an error if there isnt a key (just makes a new key)\n",
    "from collections import defaultdict\n",
    "pay_dict = defaultdict(int)\n",
    "\n",
    "# You could also setup your dict like the one below (with the assumption you know the types to start)\n",
    "# pay_dict = {'O':0, 'P':0, 'Cash': 0, 'CC': 0}\n",
    "\n",
    "# I put this outside the loop since it doesnt need to be re-computed each time\n",
    "# The [ has to be escape because it is a 'special' character\n",
    "pattern = re.compile('\\[')\n",
    "\n",
    "# Iterate through all the items\n",
    "# If the item has the word cash in it - count it as cash\n",
    "# Else split out the first item before the '[' character and thats the payment method\n",
    "for item in pay_list:\n",
    "    if re.search(\"cash\", item.lower()):\n",
    "        pay_dict['Cash'] += 1\n",
    "    else:       \n",
    "        pay = pattern.split(item)[0]\n",
    "        pay_dict[pay] += 1\n",
    "        \n",
    "print(pay_dict)\n",
    "    \n",
    "    "
   ]
  },
  {
   "cell_type": "markdown",
   "metadata": {
    "collapsed": true
   },
   "source": [
    "4. Using regular expressions and the pay_list from above, find the total amount of money that was paid. "
   ]
  },
  {
   "cell_type": "code",
   "execution_count": 6,
   "metadata": {},
   "outputs": [
    {
     "name": "stdout",
     "output_type": "stream",
     "text": [
      "The total is: 4139.50\n"
     ]
    }
   ],
   "source": [
    "# Init the total to 0 and the pattern of 3 digits decimal 2 digits\n",
    "# This would be a harder problem if there was a variant # of digits in the payments\n",
    "total = 0\n",
    "number_pattern = re.compile(r'\\d{3}.\\d{2}')\n",
    "\n",
    "# Find the payment - convert to float - add to the total\n",
    "# We know there is only one payment per item so the digits item we want is always in the [0] position\n",
    "# If it wasn't (or there were multiple payments), we could add another for loop to go through\n",
    "# each item in digits list and add them to the total\n",
    "for item in pay_list:\n",
    "    digits = number_pattern.findall(item)\n",
    "    num = float(digits[0])\n",
    "    total += num\n",
    "    \n",
    "print(\"The total is: {:.2f}\".format(total))"
   ]
  }
 ],
 "metadata": {
  "kernelspec": {
   "display_name": "Python 3",
   "language": "python",
   "name": "python3"
  },
  "language_info": {
   "codemirror_mode": {
    "name": "ipython",
    "version": 3
   },
   "file_extension": ".py",
   "mimetype": "text/x-python",
   "name": "python",
   "nbconvert_exporter": "python",
   "pygments_lexer": "ipython3",
   "version": "3.6.8"
  }
 },
 "nbformat": 4,
 "nbformat_minor": 2
}
